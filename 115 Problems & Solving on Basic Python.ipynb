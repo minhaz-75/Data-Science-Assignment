{
 "cells": [
  {
   "cell_type": "code",
   "execution_count": null,
   "id": "1b134398",
   "metadata": {},
   "outputs": [],
   "source": [
    "'''1. Variable Swap: Write a Python program to swap the values of two variables without using a temporary variable.'''"
   ]
  },
  {
   "cell_type": "code",
   "execution_count": 1,
   "id": "a29b0644",
   "metadata": {},
   "outputs": [
    {
     "name": "stdout",
     "output_type": "stream",
     "text": [
      "Before Swapping\n",
      "Enter the first variable:\n",
      "45\n",
      "Enter the second varible:\n",
      "78\n",
      "After Swapping\n",
      "Variable1:  78\n",
      "Varible2:  45\n"
     ]
    }
   ],
   "source": [
    "def swap_variables(a,b):\n",
    "    a = a + b\n",
    "    b = a - b\n",
    "    a = a - b\n",
    "    return a, b\n",
    "\n",
    "print('Before Swapping')\n",
    "print('Enter the first variable:')\n",
    "x = int(input())\n",
    "print('Enter the second varible:')\n",
    "y = int(input())\n",
    "\n",
    "#calling function here\n",
    "x, y = swap_variables(x,y)\n",
    "\n",
    "print('After Swapping')\n",
    "print('Variable1: ',x)\n",
    "print('Varible2: ',y)\n"
   ]
  },
  {
   "cell_type": "raw",
   "id": "f356f9fc",
   "metadata": {},
   "source": [
    "'''2. Even or Odd: Write a Python program that takes an integer as input and prints whether it is even or odd.'''"
   ]
  },
  {
   "cell_type": "code",
   "execution_count": 2,
   "id": "8114a1fb",
   "metadata": {},
   "outputs": [
    {
     "name": "stdout",
     "output_type": "stream",
     "text": [
      "Enter an integer number:\n",
      "56\n",
      "The given number is even\n"
     ]
    }
   ],
   "source": [
    "print('Enter an integer number:')\n",
    "x = int(input())\n",
    "\n",
    "if x % 2 == 0:\n",
    "    print('The given number is even')\n",
    "else:\n",
    "    print('The ginven number is odd')"
   ]
  },
  {
   "cell_type": "code",
   "execution_count": null,
   "id": "d9ef50d4",
   "metadata": {},
   "outputs": [],
   "source": [
    "'''3. String Reverse: Write a Python function to reverse a given string and return the reversed string.'''\n",
    "\n"
   ]
  },
  {
   "cell_type": "code",
   "execution_count": 3,
   "id": "83402d0c",
   "metadata": {},
   "outputs": [
    {
     "data": {
      "text/plain": [
       "'bikasH'"
      ]
     },
     "execution_count": 3,
     "metadata": {},
     "output_type": "execute_result"
    }
   ],
   "source": [
    "def reverse(input_string):\n",
    "    return input_string[::-1]\n",
    "\n",
    "string = 'Hsakib'\n",
    "reverse(string)"
   ]
  },
  {
   "cell_type": "code",
   "execution_count": null,
   "id": "3966a554",
   "metadata": {},
   "outputs": [],
   "source": [
    "'''4. Type Conversion: Given a list of integers, write a Python program to convert each element of the list to a string.'''"
   ]
  },
  {
   "cell_type": "code",
   "execution_count": 4,
   "id": "df6b7f7e",
   "metadata": {},
   "outputs": [
    {
     "data": {
      "text/plain": [
       "['1', '2', '3', '4', '5']"
      ]
     },
     "execution_count": 4,
     "metadata": {},
     "output_type": "execute_result"
    }
   ],
   "source": [
    "def convert_to_string(int_list):\n",
    "    string_list = [str(i) for i in int_list]\n",
    "    return string_list\n",
    "\n",
    "integer_list = [1, 2, 3, 4, 5]\n",
    "\n",
    "\n",
    "string_list = convert_to_string(integer_list)\n",
    "\n",
    "string_list\n"
   ]
  },
  {
   "cell_type": "code",
   "execution_count": null,
   "id": "5861aa8a",
   "metadata": {},
   "outputs": [],
   "source": [
    "'''5. Temperature Converter: Write a Python program that converts a temperature in Celsius to Fahrenheit. Take the Celsius temperature as input from the user.'''"
   ]
  },
  {
   "cell_type": "code",
   "execution_count": 5,
   "id": "834d5e64",
   "metadata": {},
   "outputs": [
    {
     "name": "stdout",
     "output_type": "stream",
     "text": [
      "Enter the temperature in Celsius:78\n",
      "78.00 Celsius is equal to 172.40 Farenheit\n"
     ]
    }
   ],
   "source": [
    "def calculas_to_fahrenheit(celsius):\n",
    "    return (celsius * 9 / 5) + 32\n",
    "\n",
    "celsius_temp = float(input('Enter the temperature in Celsius:'))\n",
    "\n",
    "farenheit_temp = calculas_to_fahrenheit(celsius_temp)\n",
    "\n",
    "print(f'{celsius_temp:.2f} Celsius is equal to {farenheit_temp:.2f} Farenheit')"
   ]
  },
  {
   "cell_type": "raw",
   "id": "7bd96526",
   "metadata": {},
   "source": [
    "'''6. Data Type Checker: Write a Python function that takes a variable as input and returns the data type of the variable as a string (e.g., “int”, “float”, “str”, “list”, etc.).'''"
   ]
  },
  {
   "cell_type": "code",
   "execution_count": 6,
   "id": "23d2969e",
   "metadata": {},
   "outputs": [
    {
     "name": "stdout",
     "output_type": "stream",
     "text": [
      "int\n",
      "float\n",
      "str\n",
      "list\n"
     ]
    }
   ],
   "source": [
    "def data_type_checker(variable):\n",
    "    data_type = type(variable).__name__\n",
    "    return data_type\n",
    "\n",
    "var1 = 42\n",
    "var2 = 23.24\n",
    "var3 = 'Minhaz'\n",
    "var4 = [1,2,3]\n",
    "\n",
    "print(data_type_checker(var1))\n",
    "print(data_type_checker(var2))\n",
    "print(data_type_checker(var3))\n",
    "print(data_type_checker(var4))"
   ]
  },
  {
   "cell_type": "code",
   "execution_count": null,
   "id": "5145ce16",
   "metadata": {},
   "outputs": [],
   "source": [
    "'''7. String Palindrome: Write a Python function to check if a given string is a palindrome or not.'''"
   ]
  },
  {
   "cell_type": "code",
   "execution_count": 7,
   "id": "1f79c978",
   "metadata": {},
   "outputs": [
    {
     "name": "stdout",
     "output_type": "stream",
     "text": [
      "Eneter a string: radar\n",
      "It is a palindrome\n"
     ]
    }
   ],
   "source": [
    "def is_palindrome(input_string):\n",
    "    return input_string[::-1]\n",
    "\n",
    "string = str(input('Eneter a string: '))\n",
    "reverse_string = is_palindrome(string)\n",
    "\n",
    "if string == reverse_string:\n",
    "    print('It is a palindrome')\n",
    "else:\n",
    "    print(\"It's not a palindrom\")"
   ]
  },
  {
   "cell_type": "raw",
   "id": "7b746092",
   "metadata": {},
   "source": [
    "'''8. String Reversal with Slicing: Write a Python function to reverse a given string using slicing.'''"
   ]
  },
  {
   "cell_type": "code",
   "execution_count": 8,
   "id": "81f83264",
   "metadata": {},
   "outputs": [
    {
     "data": {
      "text/plain": [
       "'ottaT'"
      ]
     },
     "execution_count": 8,
     "metadata": {},
     "output_type": "execute_result"
    }
   ],
   "source": [
    "def string_reversal(input_string):\n",
    "    return input_string[::-1]\n",
    "\n",
    "string = 'Tatto'\n",
    "string_reversal(string)"
   ]
  },
  {
   "cell_type": "code",
   "execution_count": null,
   "id": "a15e240c",
   "metadata": {},
   "outputs": [],
   "source": [
    "'''9. String Concatenation: Write a Python program that takes two strings as input and concatenates them into a single string without using the `+` operator.'''"
   ]
  },
  {
   "cell_type": "code",
   "execution_count": 9,
   "id": "4de7ce9c",
   "metadata": {},
   "outputs": [
    {
     "name": "stdout",
     "output_type": "stream",
     "text": [
      "Enter the first string: Minhaz\n",
      "Enter the second string: ul Islam\n",
      "Concatenated string: Minhazul Islam\n"
     ]
    }
   ],
   "source": [
    "def concatenate_strings(str1, str2):\n",
    "    concatenated_string = ''.join([str1, str2])\n",
    "    return concatenated_string\n",
    "\n",
    "\n",
    "input_str1 = input(\"Enter the first string: \")\n",
    "input_str2 = input(\"Enter the second string: \")\n",
    "\n",
    "result = concatenate_strings(input_str1, input_str2)\n",
    "print(\"Concatenated string:\", result)\n"
   ]
  },
  {
   "cell_type": "code",
   "execution_count": null,
   "id": "1866936b",
   "metadata": {},
   "outputs": [],
   "source": [
    "'''10. Typecasting Challenge: Given three variables: `a = ‘100’`, `b = 25`, and `c = ‘10.5’`, write a Python program to perform the following operations and print the results:\n",
    "– Convert `a` to an integer and add it to `b`.\n",
    "– Convert `c` to a float and subtract it from the result of the first operation.\n",
    "– Convert the final result to a string and concatenate it with the string ” is the answer. '''"
   ]
  },
  {
   "cell_type": "code",
   "execution_count": 10,
   "id": "6eba1ca1",
   "metadata": {},
   "outputs": [
    {
     "data": {
      "text/plain": [
       "'114.5 is the answer.'"
      ]
     },
     "execution_count": 10,
     "metadata": {},
     "output_type": "execute_result"
    }
   ],
   "source": [
    "a = '100'\n",
    "b = 25\n",
    "c = '10.5'\n",
    "\n",
    "result1 = int(a) + b\n",
    "\n",
    "\n",
    "result2 = result1 - float(c)\n",
    "\n",
    "\n",
    "final_result = str(result2) + \" is the answer.\"\n",
    "\n",
    "final_result\n"
   ]
  },
  {
   "cell_type": "markdown",
   "id": "a6d4eda6",
   "metadata": {},
   "source": [
    "# Python Conditional Statements:"
   ]
  },
  {
   "cell_type": "code",
   "execution_count": null,
   "id": "7f708e85",
   "metadata": {},
   "outputs": [],
   "source": [
    "''' 11. Positive, Negative, or Zero: Write a Python program that takes a number as input and prints whether it is positive, negative, or zero.'''"
   ]
  },
  {
   "cell_type": "code",
   "execution_count": 11,
   "id": "2e950c41",
   "metadata": {},
   "outputs": [
    {
     "name": "stdout",
     "output_type": "stream",
     "text": [
      "Enter a number: 0\n",
      "The number is zero.\n"
     ]
    }
   ],
   "source": [
    "\n",
    "num = float(input(\"Enter a number: \"))\n",
    "\n",
    "if num > 0:\n",
    "    print(\"The number is positive.\")\n",
    "elif num < 0:\n",
    "    print(\"The number is negative.\")\n",
    "else:\n",
    "    print(\"The number is zero.\")\n"
   ]
  },
  {
   "cell_type": "code",
   "execution_count": null,
   "id": "9e75fe90",
   "metadata": {},
   "outputs": [],
   "source": [
    "'''12. Largest of Three Numbers: Write a Python program that takes three numbers as input and prints the largest among them.'''"
   ]
  },
  {
   "cell_type": "code",
   "execution_count": 12,
   "id": "c2782128",
   "metadata": {},
   "outputs": [
    {
     "name": "stdout",
     "output_type": "stream",
     "text": [
      "Enter the first number: 12\n",
      "Enter the second number: 56\n",
      "Enter the third number: 34\n",
      "The largest number is: 56.0\n"
     ]
    }
   ],
   "source": [
    "\n",
    "num1 = float(input(\"Enter the first number: \"))\n",
    "num2 = float(input(\"Enter the second number: \"))\n",
    "num3 = float(input(\"Enter the third number: \"))\n",
    "\n",
    "\n",
    "largest = max(num1, num2, num3)\n",
    "\n",
    "print(\"The largest number is:\", largest)\n"
   ]
  },
  {
   "cell_type": "code",
   "execution_count": null,
   "id": "82516025",
   "metadata": {},
   "outputs": [],
   "source": [
    "'''13. Leap Year Checker: Write a Python program that takes a year as input and determines if it is a leap year or not.'''"
   ]
  },
  {
   "cell_type": "code",
   "execution_count": 13,
   "id": "2d564f41",
   "metadata": {},
   "outputs": [
    {
     "name": "stdout",
     "output_type": "stream",
     "text": [
      "Enter a year: 2023\n",
      "2023 is not a leap year.\n"
     ]
    }
   ],
   "source": [
    "\n",
    "year = int(input(\"Enter a year: \"))\n",
    "\n",
    "\n",
    "if (year % 4 == 0 and year % 100 != 0) or (year % 400 == 0):\n",
    "    print(year, \"is a leap year.\")\n",
    "else:\n",
    "    print(year, \"is not a leap year.\")\n"
   ]
  },
  {
   "cell_type": "code",
   "execution_count": null,
   "id": "b92d6a99",
   "metadata": {},
   "outputs": [],
   "source": [
    "'''14. Grades Classification: Write a Python program that takes a student’s percentage as input and prints their corresponding grade according to the following criteria:\n",
    "– 90% or above: A+\n",
    "– 80-89%: A\n",
    "– 70-79%: B\n",
    "– 60-69%: C\n",
    "– Below 60%: Fail '''"
   ]
  },
  {
   "cell_type": "code",
   "execution_count": 14,
   "id": "6adb0421",
   "metadata": {},
   "outputs": [
    {
     "name": "stdout",
     "output_type": "stream",
     "text": [
      "Enter the student's percentage: 90\n",
      "The student's grade is: A+\n"
     ]
    }
   ],
   "source": [
    "while True:\n",
    "    percentage = float(input(\"Enter the student's percentage: \"))\n",
    "    \n",
    "    if percentage < 0 or percentage > 100:\n",
    "        print('Invalid number. Please enter a valid percentage between 0 and 100.')\n",
    "    else:\n",
    "        break\n",
    "\n",
    "if percentage >= 90:\n",
    "    grade = \"A+\"\n",
    "elif percentage >= 80:\n",
    "    grade = \"A\"\n",
    "elif percentage >= 70:\n",
    "    grade = \"B\"\n",
    "elif percentage >= 60:\n",
    "    grade = \"C\"\n",
    "else:\n",
    "    grade = \"Fail\"\n",
    "\n",
    "# Print the corresponding grade\n",
    "print(\"The student's grade is:\", grade)\n"
   ]
  },
  {
   "cell_type": "code",
   "execution_count": null,
   "id": "c9667b82",
   "metadata": {},
   "outputs": [],
   "source": [
    "'''15. Vowel or Consonant: Write a Python program that takes a single character as input and determines whether it is a vowel or a consonant.'''"
   ]
  },
  {
   "cell_type": "code",
   "execution_count": 15,
   "id": "39804ba8",
   "metadata": {},
   "outputs": [
    {
     "name": "stdout",
     "output_type": "stream",
     "text": [
      "Enter a single character: e\n",
      "It's a vowel.\n"
     ]
    }
   ],
   "source": [
    "\n",
    "character = input(\"Enter a single character: \")\n",
    "\n",
    "# Convert the character to lowercase for case-insensitive comparison\n",
    "character = character.lower()\n",
    "\n",
    "\n",
    "if len(character) == 1 and character.isalpha():\n",
    "    if character in 'aeiou':\n",
    "        print(\"It's a vowel.\")\n",
    "    else:\n",
    "        print(\"It's a consonant.\")\n",
    "else:\n",
    "    print(\"Invalid input. Please enter a single alphabetical character.\")\n"
   ]
  },
  {
   "cell_type": "code",
   "execution_count": null,
   "id": "97871911",
   "metadata": {},
   "outputs": [],
   "source": [
    "'''16. Time Classification: Write a Python program that takes the time in hours (24-hour format) as input and prints “Good Morning”, “Good Afternoon”, “Good Evening”, or “Good Night” based on the time.'''"
   ]
  },
  {
   "cell_type": "code",
   "execution_count": 16,
   "id": "f3b28aa8",
   "metadata": {},
   "outputs": [
    {
     "name": "stdout",
     "output_type": "stream",
     "text": [
      "Enter the time in hours (24-hour format): 18\n",
      "Good Evening\n"
     ]
    }
   ],
   "source": [
    "\n",
    "time = int(input(\"Enter the time in hours (24-hour format): \"))\n",
    "\n",
    "\n",
    "if 0 <= time < 12:\n",
    "    print(\"Good Morning\")\n",
    "elif 12 <= time < 17:\n",
    "    print(\"Good Afternoon\")\n",
    "elif 17 <= time < 20:\n",
    "    print(\"Good Evening\")\n",
    "else:\n",
    "    print(\"Good Night\")\n"
   ]
  },
  {
   "cell_type": "code",
   "execution_count": null,
   "id": "14b0cade",
   "metadata": {},
   "outputs": [],
   "source": [
    "'''17. Triangle Type Checker: Write a Python program that takes three sides of a triangle as input and determines whether it forms an equilateral, isosceles, or scalene triangle.'''"
   ]
  },
  {
   "cell_type": "code",
   "execution_count": 17,
   "id": "e8c17fd8",
   "metadata": {},
   "outputs": [
    {
     "name": "stdout",
     "output_type": "stream",
     "text": [
      "Enter the length of the first side: 34\n",
      "Enter the length of the second side: 78\n",
      "Enter the length of the third side: 12\n",
      "The triangle is: Scalene\n"
     ]
    }
   ],
   "source": [
    "side1 = float(input(\"Enter the length of the first side: \"))\n",
    "side2 = float(input(\"Enter the length of the second side: \"))\n",
    "side3 = float(input(\"Enter the length of the third side: \"))\n",
    "\n",
    "if side1 == side2 == side3:\n",
    "    triangle_type = \"Equilateral\"\n",
    "elif side1 == side2 or side1 == side3 or side2 == side3:\n",
    "    triangle_type = \"Isosceles\"\n",
    "else:\n",
    "    triangle_type = \"Scalene\"\n",
    "\n",
    "print(\"The triangle is:\", triangle_type)\n"
   ]
  },
  {
   "cell_type": "code",
   "execution_count": null,
   "id": "ccae100d",
   "metadata": {},
   "outputs": [],
   "source": [
    "'''18. Quadratic Equation Solver: Write a Python program that takes the coefficients (a, b, c) of a quadratic equation as input and calculates and prints the real roots (if they exist) or a message indicating the complex roots.'''"
   ]
  },
  {
   "cell_type": "code",
   "execution_count": 18,
   "id": "ee3980f5",
   "metadata": {},
   "outputs": [
    {
     "name": "stdout",
     "output_type": "stream",
     "text": [
      "Enter coefficient a: 12\n",
      "Enter coefficient b: 45\n",
      "Enter coefficient c: 11\n",
      "Real roots: -0.26287148982057484, -3.4871285101794256\n"
     ]
    }
   ],
   "source": [
    "import math\n",
    "\n",
    "def quadratic_solver(a, b, c):\n",
    "\n",
    "    discriminant = b**2 - 4*a*c\n",
    "\n",
    "    # Check if the discriminant is positive, negative, or zero\n",
    "    if discriminant > 0:\n",
    "        root1 = (-b + math.sqrt(discriminant)) / (2*a)\n",
    "        root2 = (-b - math.sqrt(discriminant)) / (2*a)\n",
    "        return root1, root2\n",
    "    elif discriminant == 0:\n",
    "        root = -b / (2*a)\n",
    "        return root, None\n",
    "    else:\n",
    "        return None, None\n",
    "\n",
    "\n",
    "a = float(input(\"Enter coefficient a: \"))\n",
    "b = float(input(\"Enter coefficient b: \"))\n",
    "c = float(input(\"Enter coefficient c: \"))\n",
    "\n",
    "root1, root2 = quadratic_solver(a, b, c)\n",
    "\n",
    "if root1 is not None and root2 is not None:\n",
    "    print(f\"Real roots: {root1}, {root2}\")\n",
    "elif root1 is not None:\n",
    "    print(f\"Real root: {root1}\")\n",
    "else:\n",
    "    print(\"Complex roots\")\n"
   ]
  },
  {
   "cell_type": "code",
   "execution_count": null,
   "id": "13c47197",
   "metadata": {},
   "outputs": [],
   "source": [
    "'''19. Number Ranges: Write a Python program that takes an integer as input and prints whether the number falls within the ranges: 0-50, 51-100, 101-150, or above 150.'''"
   ]
  },
  {
   "cell_type": "code",
   "execution_count": 19,
   "id": "c9e31a88",
   "metadata": {},
   "outputs": [
    {
     "name": "stdout",
     "output_type": "stream",
     "text": [
      "Enter an integer: 89\n",
      "The number falls within the range: 51-100\n"
     ]
    }
   ],
   "source": [
    "def check_number_range(number):\n",
    "    if number >= 0 and number <= 50:\n",
    "        return \"0-50\"\n",
    "    elif number >= 51 and number <= 100:\n",
    "        return \"51-100\"\n",
    "    elif number >= 101 and number <= 150:\n",
    "        return \"101-150\"\n",
    "    else:\n",
    "        return \"Above 150\"\n",
    "\n",
    "\n",
    "number = int(input(\"Enter an integer: \"))\n",
    "\n",
    "range_result = check_number_range(number)\n",
    "\n",
    "\n",
    "print(f\"The number falls within the range: {range_result}\")\n"
   ]
  },
  {
   "cell_type": "markdown",
   "id": "5803bdfd",
   "metadata": {},
   "source": [
    "# For & While Loops:"
   ]
  },
  {
   "cell_type": "code",
   "execution_count": null,
   "id": "caf8420b",
   "metadata": {},
   "outputs": [],
   "source": [
    "'''20. Sum of N Numbers: Write a Python program using a for loop to calculate the sum of the first N natural numbers, where N is taken as input from the user.'''"
   ]
  },
  {
   "cell_type": "code",
   "execution_count": 20,
   "id": "b102455e",
   "metadata": {},
   "outputs": [
    {
     "name": "stdout",
     "output_type": "stream",
     "text": [
      "Enter a positive integer N: 45\n",
      "The sum of the first 45 natural numbers is: 1035\n"
     ]
    }
   ],
   "source": [
    "\n",
    "n = int(input(\"Enter a positive integer N: \"))\n",
    "\n",
    "\n",
    "sum  = 0\n",
    "\n",
    "for i in range(1, n + 1):\n",
    "    sum += i\n",
    "\n",
    "print(f\"The sum of the first {n} natural numbers is: {sum}\")\n"
   ]
  },
  {
   "cell_type": "code",
   "execution_count": null,
   "id": "e093ddee",
   "metadata": {},
   "outputs": [],
   "source": [
    "'''21. Factorial Calculator: Write a Python program using a while loop to calculate the factorial of a given number N.'''\n",
    "\n"
   ]
  },
  {
   "cell_type": "code",
   "execution_count": 21,
   "id": "6aff9d46",
   "metadata": {},
   "outputs": [
    {
     "name": "stdout",
     "output_type": "stream",
     "text": [
      "Enter a non-negative integer N: 20\n",
      "The factorial of the given number is: 2432902008176640000\n"
     ]
    }
   ],
   "source": [
    "\n",
    "N = int(input(\"Enter a non-negative integer N: \"))\n",
    "\n",
    "factorial = 1\n",
    "\n",
    "while N > 0:\n",
    "    factorial *= N\n",
    "    N -= 1\n",
    "\n",
    "print(f\"The factorial of the given number is: {factorial}\")\n"
   ]
  },
  {
   "cell_type": "code",
   "execution_count": null,
   "id": "16346e6a",
   "metadata": {},
   "outputs": [],
   "source": [
    "'''22. Table of a Number: Write a Python program using a for loop to print the multiplication table of a given number N.'''"
   ]
  },
  {
   "cell_type": "code",
   "execution_count": 22,
   "id": "8d3f107f",
   "metadata": {},
   "outputs": [
    {
     "name": "stdout",
     "output_type": "stream",
     "text": [
      "Enter a number to display its multiplication table: 21\n",
      "Multiplication table of 21:\n",
      "21 x 1 = 21\n",
      "21 x 2 = 42\n",
      "21 x 3 = 63\n",
      "21 x 4 = 84\n",
      "21 x 5 = 105\n",
      "21 x 6 = 126\n",
      "21 x 7 = 147\n",
      "21 x 8 = 168\n",
      "21 x 9 = 189\n",
      "21 x 10 = 210\n"
     ]
    }
   ],
   "source": [
    "\n",
    "N = int(input(\"Enter a number to display its multiplication table: \"))\n",
    "\n",
    "print(f\"Multiplication table of {N}:\")\n",
    "for i in range(1, 11):\n",
    "    print(f\"{N} x {i} = {N * i}\")\n"
   ]
  },
  {
   "cell_type": "code",
   "execution_count": null,
   "id": "020a0c77",
   "metadata": {},
   "outputs": [],
   "source": [
    "'''23. Count Digits in a Number: Write a Python program using a while loop to count the number of digits in a given integer N.'''"
   ]
  },
  {
   "cell_type": "code",
   "execution_count": 23,
   "id": "778c926d",
   "metadata": {},
   "outputs": [
    {
     "name": "stdout",
     "output_type": "stream",
     "text": [
      "Enter an integer: 7567\n",
      "The number of digits in the given integer is: 4\n"
     ]
    }
   ],
   "source": [
    "\n",
    "N = int(input(\"Enter an integer: \"))\n",
    "\n",
    "count = 0\n",
    "\n",
    "# Handle the case of 0 separately\n",
    "if N == 0:\n",
    "    count = 1\n",
    "else:\n",
    "    # Count digits using a while loop\n",
    "    while N != 0:\n",
    "        N //= 10  # Remove the last digit\n",
    "        count += 1\n",
    "\n",
    "print(f\"The number of digits in the given integer is: {count}\")\n"
   ]
  },
  {
   "cell_type": "code",
   "execution_count": null,
   "id": "14c664ce",
   "metadata": {},
   "outputs": [],
   "source": [
    "'''24. Fibonacci Sequence: Write a Python program using a for loop to generate the Fibonacci sequence up to a given limit N.'''"
   ]
  },
  {
   "cell_type": "code",
   "execution_count": 24,
   "id": "4dc157e9",
   "metadata": {},
   "outputs": [
    {
     "name": "stdout",
     "output_type": "stream",
     "text": [
      "Enter the limit for the Fibonacci sequence: 67\n",
      "Fibonacci sequence:\n",
      "0 1 1 2 3 5 8 13 21 34 55 "
     ]
    }
   ],
   "source": [
    "\n",
    "N = int(input(\"Enter the limit for the Fibonacci sequence: \"))\n",
    "\n",
    "\n",
    "fibonacci_sequence = [0, 1]\n",
    "\n",
    "for i in range(2, N):\n",
    "    next_number = fibonacci_sequence[i - 1] + fibonacci_sequence[i - 2]\n",
    "    if next_number <= N:\n",
    "        fibonacci_sequence.append(next_number)\n",
    "    else:\n",
    "        break\n",
    "\n",
    "print(\"Fibonacci sequence:\")\n",
    "for number in fibonacci_sequence:\n",
    "    print(number, end=\" \")\n"
   ]
  },
  {
   "cell_type": "code",
   "execution_count": null,
   "id": "ded4d421",
   "metadata": {},
   "outputs": [],
   "source": [
    "'''25. Sum of Even Numbers: Write a Python program using a while loop to calculate the sum of all even numbers between 1 and N, where N is taken as input from the user.'''"
   ]
  },
  {
   "cell_type": "code",
   "execution_count": 25,
   "id": "6ac0613a",
   "metadata": {},
   "outputs": [
    {
     "name": "stdout",
     "output_type": "stream",
     "text": [
      "Enter a value for N: 45\n",
      "The sum of even numbers between 1 and 45 is: 506\n"
     ]
    }
   ],
   "source": [
    "\n",
    "N = int(input(\"Enter a value for N: \"))\n",
    "\n",
    "\n",
    "sum_of_evens = 0\n",
    "i = 2  # We start from the first even number, which is 2\n",
    "\n",
    "while i <= N:\n",
    "    sum_of_evens += i\n",
    "    i += 2  \n",
    "\n",
    "print(f\"The sum of even numbers between 1 and {N} is: {sum_of_evens}\")\n"
   ]
  },
  {
   "cell_type": "code",
   "execution_count": null,
   "id": "aa256b6b",
   "metadata": {},
   "outputs": [],
   "source": [
    "'''26. Print Patterns: Write a Python program using nested for loops to print various patterns, such as a right-angled triangle, an inverted right-angled triangle, and so on.'''"
   ]
  },
  {
   "cell_type": "code",
   "execution_count": 26,
   "id": "f5b3e1e4",
   "metadata": {},
   "outputs": [
    {
     "name": "stdout",
     "output_type": "stream",
     "text": [
      "Enter the number of rows: 5\n",
      "Right-Angled Triangle:\n",
      "* \n",
      "* * \n",
      "* * * \n",
      "* * * * \n",
      "* * * * * \n",
      "\n",
      "Inverted Right-Angled Triangle:\n",
      "* * * * * \n",
      "* * * * \n",
      "* * * \n",
      "* * \n",
      "* \n"
     ]
    }
   ],
   "source": [
    "def print_right_angle_triangle(n):\n",
    "    for i in range(n):\n",
    "        for j in range(i + 1):\n",
    "            print(\"*\", end=\" \")\n",
    "        print()\n",
    "\n",
    "def print_inverted_right_angle_triangle(n):\n",
    "    for i in range(n, 0, -1):\n",
    "        for j in range(i):\n",
    "            print(\"*\", end=\" \")\n",
    "        print()\n",
    "\n",
    "\n",
    "rows = int(input(\"Enter the number of rows: \"))\n",
    "\n",
    "print(\"Right-Angled Triangle:\")\n",
    "print_right_angle_triangle(rows)\n",
    "\n",
    "print(\"\\nInverted Right-Angled Triangle:\")\n",
    "print_inverted_right_angle_triangle(rows)\n"
   ]
  },
  {
   "cell_type": "code",
   "execution_count": null,
   "id": "dfe12b2c",
   "metadata": {},
   "outputs": [],
   "source": [
    "'''27. Prime Number Checker: Write a Python program using a while loop to check if a given number N is prime or not'''"
   ]
  },
  {
   "cell_type": "code",
   "execution_count": 27,
   "id": "b93a5754",
   "metadata": {},
   "outputs": [
    {
     "name": "stdout",
     "output_type": "stream",
     "text": [
      "Enter a number: 67\n",
      "67 is a prime number.\n"
     ]
    }
   ],
   "source": [
    "\n",
    "def is_prime(number):\n",
    "    if number <= 1:\n",
    "        return False\n",
    "    if number <= 3:\n",
    "        return True\n",
    "    \n",
    "    # Check divisibility up to the square root of the number\n",
    "    i = 2\n",
    "    while i * i <= number:\n",
    "        if number % i == 0:\n",
    "            return False\n",
    "        i += 1\n",
    "    return True\n",
    "\n",
    "N = int(input(\"Enter a number: \"))\n",
    "\n",
    "if is_prime(N):\n",
    "    print(f\"{N} is a prime number.\")\n",
    "else:\n",
    "    print(f\"{N} is not a prime number.\")\n"
   ]
  },
  {
   "cell_type": "code",
   "execution_count": null,
   "id": "9ccd0951",
   "metadata": {},
   "outputs": [],
   "source": [
    "'''28. List Manipulation: Given a list of integers, write a Python program using a for loop to find the sum, average, maximum, and minimum values in the list.'''"
   ]
  },
  {
   "cell_type": "code",
   "execution_count": 1,
   "id": "b8a945a9",
   "metadata": {},
   "outputs": [
    {
     "name": "stdout",
     "output_type": "stream",
     "text": [
      "Enter a list of integers separated by spaces: 34 56 67 78 89 99\n",
      "Sum: 423\n",
      "Average: 70.5\n",
      "Maximum: 99\n",
      "Minimum: 34\n"
     ]
    }
   ],
   "source": [
    "def list_statistics(numbers):\n",
    "    total = sum(numbers)\n",
    "    count = len(numbers)\n",
    "    average = total / count\n",
    "    maximum = max(numbers)\n",
    "    minimum = min(numbers)\n",
    "    return total, average, maximum, minimum\n",
    "\n",
    "\n",
    "input_str = input(\"Enter a list of integers separated by spaces: \")\n",
    "numbers = [int(x) for x in input_str.split()]\n",
    "\n",
    "total_sum, avg, max_value, min_value = list_statistics(numbers)\n",
    "\n",
    "print(f\"Sum: {total_sum}\")\n",
    "print(f\"Average: {avg}\")\n",
    "print(f\"Maximum: {max_value}\")\n",
    "print(f\"Minimum: {min_value}\")\n"
   ]
  },
  {
   "cell_type": "code",
   "execution_count": null,
   "id": "7236b5c3",
   "metadata": {},
   "outputs": [],
   "source": [
    "'''29. Reverse String: Write a Python program using a while loop to reverse a given string.'''\n",
    "\n"
   ]
  },
  {
   "cell_type": "code",
   "execution_count": 29,
   "id": "189d87ee",
   "metadata": {},
   "outputs": [
    {
     "name": "stdout",
     "output_type": "stream",
     "text": [
      "Enter a string: Shakib\n",
      "Reversed string: bikahS\n"
     ]
    }
   ],
   "source": [
    "\n",
    "def reverse_string(input_str):\n",
    "    reversed_str = \"\"\n",
    "    length = len(input_str)\n",
    "    index = length - 1\n",
    "    \n",
    "    while index >= 0:\n",
    "        reversed_str += input_str[index]\n",
    "        index -= 1\n",
    "        \n",
    "    return reversed_str\n",
    "\n",
    "\n",
    "input_str = input(\"Enter a string: \")\n",
    "\n",
    "reversed_str = reverse_string(input_str)\n",
    "\n",
    "print(f\"Reversed string: {reversed_str}\")\n"
   ]
  },
  {
   "cell_type": "code",
   "execution_count": null,
   "id": "86b793e8",
   "metadata": {},
   "outputs": [],
   "source": [
    "'''30. Multiplication Table: Write a Python program using nested loops to print the multiplication table from 1 to 10.'''"
   ]
  },
  {
   "cell_type": "code",
   "execution_count": 30,
   "id": "8906714c",
   "metadata": {},
   "outputs": [
    {
     "name": "stdout",
     "output_type": "stream",
     "text": [
      "1 * 1 = 1\n",
      "1 * 2 = 2\n",
      "1 * 3 = 3\n",
      "1 * 4 = 4\n",
      "1 * 5 = 5\n",
      "1 * 6 = 6\n",
      "1 * 7 = 7\n",
      "1 * 8 = 8\n",
      "1 * 9 = 9\n",
      "1 * 10 = 10\n",
      "\n",
      "2 * 1 = 2\n",
      "2 * 2 = 4\n",
      "2 * 3 = 6\n",
      "2 * 4 = 8\n",
      "2 * 5 = 10\n",
      "2 * 6 = 12\n",
      "2 * 7 = 14\n",
      "2 * 8 = 16\n",
      "2 * 9 = 18\n",
      "2 * 10 = 20\n",
      "\n",
      "3 * 1 = 3\n",
      "3 * 2 = 6\n",
      "3 * 3 = 9\n",
      "3 * 4 = 12\n",
      "3 * 5 = 15\n",
      "3 * 6 = 18\n",
      "3 * 7 = 21\n",
      "3 * 8 = 24\n",
      "3 * 9 = 27\n",
      "3 * 10 = 30\n",
      "\n",
      "4 * 1 = 4\n",
      "4 * 2 = 8\n",
      "4 * 3 = 12\n",
      "4 * 4 = 16\n",
      "4 * 5 = 20\n",
      "4 * 6 = 24\n",
      "4 * 7 = 28\n",
      "4 * 8 = 32\n",
      "4 * 9 = 36\n",
      "4 * 10 = 40\n",
      "\n",
      "5 * 1 = 5\n",
      "5 * 2 = 10\n",
      "5 * 3 = 15\n",
      "5 * 4 = 20\n",
      "5 * 5 = 25\n",
      "5 * 6 = 30\n",
      "5 * 7 = 35\n",
      "5 * 8 = 40\n",
      "5 * 9 = 45\n",
      "5 * 10 = 50\n",
      "\n",
      "6 * 1 = 6\n",
      "6 * 2 = 12\n",
      "6 * 3 = 18\n",
      "6 * 4 = 24\n",
      "6 * 5 = 30\n",
      "6 * 6 = 36\n",
      "6 * 7 = 42\n",
      "6 * 8 = 48\n",
      "6 * 9 = 54\n",
      "6 * 10 = 60\n",
      "\n",
      "7 * 1 = 7\n",
      "7 * 2 = 14\n",
      "7 * 3 = 21\n",
      "7 * 4 = 28\n",
      "7 * 5 = 35\n",
      "7 * 6 = 42\n",
      "7 * 7 = 49\n",
      "7 * 8 = 56\n",
      "7 * 9 = 63\n",
      "7 * 10 = 70\n",
      "\n",
      "8 * 1 = 8\n",
      "8 * 2 = 16\n",
      "8 * 3 = 24\n",
      "8 * 4 = 32\n",
      "8 * 5 = 40\n",
      "8 * 6 = 48\n",
      "8 * 7 = 56\n",
      "8 * 8 = 64\n",
      "8 * 9 = 72\n",
      "8 * 10 = 80\n",
      "\n",
      "9 * 1 = 9\n",
      "9 * 2 = 18\n",
      "9 * 3 = 27\n",
      "9 * 4 = 36\n",
      "9 * 5 = 45\n",
      "9 * 6 = 54\n",
      "9 * 7 = 63\n",
      "9 * 8 = 72\n",
      "9 * 9 = 81\n",
      "9 * 10 = 90\n",
      "\n",
      "10 * 1 = 10\n",
      "10 * 2 = 20\n",
      "10 * 3 = 30\n",
      "10 * 4 = 40\n",
      "10 * 5 = 50\n",
      "10 * 6 = 60\n",
      "10 * 7 = 70\n",
      "10 * 8 = 80\n",
      "10 * 9 = 90\n",
      "10 * 10 = 100\n",
      "\n"
     ]
    }
   ],
   "source": [
    "\n",
    "for i in range(1, 11):\n",
    "    for j in range(1, 11):\n",
    "        result = i * j\n",
    "        print(f\"{i} * {j} = {result}\")\n",
    "    print() \n"
   ]
  },
  {
   "cell_type": "code",
   "execution_count": null,
   "id": "dcb8e98a",
   "metadata": {},
   "outputs": [],
   "source": [
    "'''31. Print Patterns: Write a Python program using nested loops to print the following pattern:\n",
    "*\n",
    "**\n",
    "***\n",
    "****\n",
    "*****'''"
   ]
  },
  {
   "cell_type": "code",
   "execution_count": 31,
   "id": "7f6b6bf7",
   "metadata": {},
   "outputs": [
    {
     "name": "stdout",
     "output_type": "stream",
     "text": [
      "*\n",
      "**\n",
      "***\n",
      "****\n",
      "*****\n"
     ]
    }
   ],
   "source": [
    "for i in range(1, 6):\n",
    "    for j in range(i):\n",
    "        print(\"*\", end=\"\")\n",
    "    print()\n"
   ]
  },
  {
   "cell_type": "code",
   "execution_count": null,
   "id": "65393579",
   "metadata": {},
   "outputs": [],
   "source": [
    "'''32. Matrix Multiplication: Write a Python program using nested loops to multiply two matrices.'''\n",
    "\n"
   ]
  },
  {
   "cell_type": "code",
   "execution_count": 32,
   "id": "faad2c8d",
   "metadata": {},
   "outputs": [
    {
     "name": "stdout",
     "output_type": "stream",
     "text": [
      "[30, 24, 18]\n",
      "[84, 69, 54]\n",
      "[138, 114, 90]\n"
     ]
    }
   ],
   "source": [
    "matrix1 = [\n",
    "    [1, 2, 3],\n",
    "    [4, 5, 6],\n",
    "    [7, 8, 9]\n",
    "]\n",
    "\n",
    "matrix2 = [\n",
    "    [9, 8, 7],\n",
    "    [6, 5, 4],\n",
    "    [3, 2, 1]\n",
    "]\n",
    "\n",
    "# Initialize the result matrix with zeros\n",
    "result = [\n",
    "    [0, 0, 0],\n",
    "    [0, 0, 0],\n",
    "    [0, 0, 0]\n",
    "]\n",
    "\n",
    "\n",
    "for i in range(len(matrix1)):\n",
    "    for j in range(len(matrix2[0])):\n",
    "        for k in range(len(matrix2)):\n",
    "            result[i][j] += matrix1[i][k] * matrix2[k][j]\n",
    "\n",
    "\n",
    "for row in result:\n",
    "    print(row)\n"
   ]
  },
  {
   "cell_type": "code",
   "execution_count": null,
   "id": "6384b2a3",
   "metadata": {},
   "outputs": [],
   "source": [
    "'''33. Chessboard Pattern: Write a Python program using nested loops to print a chessboard pattern (alternating “X” and “O” characters) of size 8×8.'''"
   ]
  },
  {
   "cell_type": "code",
   "execution_count": 33,
   "id": "e02af678",
   "metadata": {},
   "outputs": [
    {
     "name": "stdout",
     "output_type": "stream",
     "text": [
      "X O X O X O X O \n",
      "O X O X O X O X \n",
      "X O X O X O X O \n",
      "O X O X O X O X \n",
      "X O X O X O X O \n",
      "O X O X O X O X \n",
      "X O X O X O X O \n",
      "O X O X O X O X \n"
     ]
    }
   ],
   "source": [
    "size = 8\n",
    "\n",
    "for i in range(size):\n",
    "    for j in range(size):\n",
    "        if (i + j) % 2 == 0:\n",
    "            print(\"X\", end=\" \")\n",
    "        else:\n",
    "            print(\"O\", end=\" \")\n",
    "    print()\n"
   ]
  },
  {
   "cell_type": "code",
   "execution_count": null,
   "id": "00c39000",
   "metadata": {},
   "outputs": [],
   "source": [
    "'''34. Number Pyramid: Write a Python program using nested loops to print a number pyramid like the following:\n",
    "\n",
    "1\n",
    "22\n",
    "333\n",
    "4444\n",
    "55555'''"
   ]
  },
  {
   "cell_type": "code",
   "execution_count": 34,
   "id": "aa0bfcc8",
   "metadata": {},
   "outputs": [
    {
     "name": "stdout",
     "output_type": "stream",
     "text": [
      "1\n",
      "22\n",
      "333\n",
      "4444\n",
      "55555\n"
     ]
    }
   ],
   "source": [
    "rows = 5\n",
    "\n",
    "for i in range(1, rows + 1):\n",
    "    for j in range(i):\n",
    "        print(i, end=\"\")\n",
    "    print()\n"
   ]
  },
  {
   "cell_type": "markdown",
   "id": "1526ebe0",
   "metadata": {},
   "source": [
    "# List Problems:"
   ]
  },
  {
   "cell_type": "code",
   "execution_count": null,
   "id": "be71ded2",
   "metadata": {},
   "outputs": [],
   "source": [
    "'''34. List Sum: Write a Python program to find the sum of all elements in a given list of integers.'''"
   ]
  },
  {
   "cell_type": "code",
   "execution_count": 1,
   "id": "ddf6f5b3",
   "metadata": {},
   "outputs": [
    {
     "name": "stdout",
     "output_type": "stream",
     "text": [
      "Sum of elements: 150\n"
     ]
    }
   ],
   "source": [
    "num_list = [10, 20, 30, 40, 50]\n",
    "\n",
    "total_sum = sum(num_list)\n",
    "\n",
    "print(\"Sum of elements:\", total_sum)"
   ]
  },
  {
   "cell_type": "code",
   "execution_count": null,
   "id": "afa59d11",
   "metadata": {},
   "outputs": [],
   "source": [
    "'''35. List Average: Write a Python program to calculate the average of all elements in a given list of integers.'''"
   ]
  },
  {
   "cell_type": "code",
   "execution_count": 2,
   "id": "b70243f1",
   "metadata": {},
   "outputs": [
    {
     "name": "stdout",
     "output_type": "stream",
     "text": [
      "Average of elements: 30.0\n"
     ]
    }
   ],
   "source": [
    "\n",
    "num_list = [10, 20, 30, 40, 50]\n",
    "\n",
    "total_sum = sum(num_list)\n",
    "\n",
    "num_elements = len(num_list)\n",
    "\n",
    "average = total_sum / num_elements\n",
    "\n",
    "print(\"Average of elements:\", average)\n"
   ]
  },
  {
   "cell_type": "code",
   "execution_count": null,
   "id": "9158a894",
   "metadata": {},
   "outputs": [],
   "source": [
    "'''36. List Max and Min: Write a Python program to find the maximum and minimum values in a given list of integers.'''"
   ]
  },
  {
   "cell_type": "code",
   "execution_count": 3,
   "id": "0920a27b",
   "metadata": {},
   "outputs": [
    {
     "name": "stdout",
     "output_type": "stream",
     "text": [
      "Maximum value: 40\n",
      "Minimum value: 5\n"
     ]
    }
   ],
   "source": [
    "\n",
    "num_list = [10, 20, 5, 40, 30]\n",
    "\n",
    "max_value = max(num_list)\n",
    "\n",
    "min_value = min(num_list)\n",
    "\n",
    "print(\"Maximum value:\", max_value)\n",
    "print(\"Minimum value:\", min_value)\n"
   ]
  },
  {
   "cell_type": "code",
   "execution_count": null,
   "id": "557fdc57",
   "metadata": {},
   "outputs": [],
   "source": [
    "'''37. List Sorting: Write a Python program to sort a list of integers in ascending order.'''"
   ]
  },
  {
   "cell_type": "code",
   "execution_count": 4,
   "id": "7d67252d",
   "metadata": {},
   "outputs": [
    {
     "name": "stdout",
     "output_type": "stream",
     "text": [
      "Sorted list: [5, 10, 20, 30, 40]\n"
     ]
    }
   ],
   "source": [
    "\n",
    "num_list = [10, 5, 20, 40, 30]\n",
    "\n",
    "num_list.sort()\n",
    "\n",
    "print(\"Sorted list:\", num_list)\n"
   ]
  },
  {
   "cell_type": "code",
   "execution_count": null,
   "id": "60108945",
   "metadata": {},
   "outputs": [],
   "source": [
    "'''38. List Filtering: Given a list of integers, write a Python program to create a new list that contains only the even numbers from the original list.'''\n",
    "\n"
   ]
  },
  {
   "cell_type": "code",
   "execution_count": 5,
   "id": "7fc4ff77",
   "metadata": {},
   "outputs": [
    {
     "name": "stdout",
     "output_type": "stream",
     "text": [
      "Even numbers: [10, 20, 40, 30]\n"
     ]
    }
   ],
   "source": [
    "\n",
    "num_list = [10, 5, 20, 7, 40, 15, 30]\n",
    "\n",
    "even_list = [num for num in num_list if num % 2 == 0]\n",
    "\n",
    "print(\"Even numbers:\", even_list)\n"
   ]
  },
  {
   "cell_type": "code",
   "execution_count": null,
   "id": "4287c43c",
   "metadata": {},
   "outputs": [],
   "source": [
    "'''39. List Reversal: Write a Python program to reverse a given list without using any built-in functions.'''\n",
    "\n"
   ]
  },
  {
   "cell_type": "code",
   "execution_count": 6,
   "id": "fddcc880",
   "metadata": {},
   "outputs": [
    {
     "name": "stdout",
     "output_type": "stream",
     "text": [
      "Reverse list: [5, 4, 3, 2, 1]\n"
     ]
    }
   ],
   "source": [
    "def reversal_list(list):\n",
    "    print('Reverse list:',list[::-1])\n",
    "\n",
    "original_list = [1, 2, 3, 4, 5]\n",
    "\n",
    "reversal_list(original_list)\n"
   ]
  },
  {
   "cell_type": "code",
   "execution_count": null,
   "id": "f2e1705b",
   "metadata": {},
   "outputs": [],
   "source": [
    "'''40. List Manipulation: Given two lists of integers, write a Python program to create a new list that contains elements common to both lists.'''"
   ]
  },
  {
   "cell_type": "code",
   "execution_count": 7,
   "id": "25ba54d6",
   "metadata": {},
   "outputs": [
    {
     "name": "stdout",
     "output_type": "stream",
     "text": [
      "Common elements: [3, 4, 5]\n"
     ]
    }
   ],
   "source": [
    "\n",
    "list1 = [1, 2, 3, 4, 5]\n",
    "list2 = [3, 4, 5, 6, 7]\n",
    "\n",
    "common_list = [num for num in list1 if num in list2]\n",
    "\n",
    "print(\"Common elements:\", common_list)\n"
   ]
  },
  {
   "cell_type": "code",
   "execution_count": null,
   "id": "a93d6793",
   "metadata": {},
   "outputs": [],
   "source": [
    "'''41. List Element Count: Write a Python program to count the occurrences of a specific element in a given list.'''"
   ]
  },
  {
   "cell_type": "code",
   "execution_count": 8,
   "id": "0137e6db",
   "metadata": {},
   "outputs": [
    {
     "name": "stdout",
     "output_type": "stream",
     "text": [
      "Count of 7: 1\n"
     ]
    }
   ],
   "source": [
    "\n",
    "num_list = [2, 3, 4, 5, 3, 6, 3, 7]\n",
    "\n",
    "element_to_count = 7\n",
    "\n",
    "count = num_list.count(element_to_count)\n",
    "\n",
    "print(f\"Count of {element_to_count}: {count}\")\n"
   ]
  },
  {
   "cell_type": "code",
   "execution_count": null,
   "id": "66c6ca64",
   "metadata": {},
   "outputs": [],
   "source": [
    "'''42. List Duplicates Removal: Write a Python program to remove duplicates from a given list while preserving the order of the elements'''"
   ]
  },
  {
   "cell_type": "code",
   "execution_count": 9,
   "id": "273dced3",
   "metadata": {},
   "outputs": [
    {
     "name": "stdout",
     "output_type": "stream",
     "text": [
      "List with duplicates removed: [3, 2, 1, 4, 5, 6, 7]\n"
     ]
    }
   ],
   "source": [
    "\n",
    "original_list = [3, 2, 1, 2, 4, 3, 5, 4, 6, 7, 5]\n",
    "\n",
    "unique_list = []\n",
    "\n",
    "for item in original_list:\n",
    "    if item not in unique_list:\n",
    "        unique_list.append(item)\n",
    "\n",
    "print(\"List with duplicates removed:\", unique_list)\n"
   ]
  },
  {
   "cell_type": "code",
   "execution_count": null,
   "id": "9acb383b",
   "metadata": {},
   "outputs": [],
   "source": [
    "'''43. List Comprehension: Given a list of integers, write a Python program to create a new list that contains the squares of the elements using list comprehension.'''"
   ]
  },
  {
   "cell_type": "code",
   "execution_count": 10,
   "id": "52c48829",
   "metadata": {},
   "outputs": [
    {
     "name": "stdout",
     "output_type": "stream",
     "text": [
      "Squared list: [1, 4, 9, 16, 25]\n"
     ]
    }
   ],
   "source": [
    "\n",
    "num_list = [1, 2, 3, 4, 5]\n",
    "\n",
    "squared_list = [num ** 2 for num in num_list]\n",
    "\n",
    "print(\"Squared list:\", squared_list)\n"
   ]
  },
  {
   "cell_type": "markdown",
   "id": "47ee2163",
   "metadata": {},
   "source": [
    "# Nested List Problems:"
   ]
  },
  {
   "cell_type": "code",
   "execution_count": null,
   "id": "f0d20854",
   "metadata": {},
   "outputs": [],
   "source": [
    "'''44. Matrix Addition: Write a Python program to add two matrices represented as nested lists.'''"
   ]
  },
  {
   "cell_type": "code",
   "execution_count": 11,
   "id": "89620798",
   "metadata": {},
   "outputs": [
    {
     "name": "stdout",
     "output_type": "stream",
     "text": [
      "[10, 10, 10]\n",
      "[10, 10, 10]\n",
      "[10, 10, 10]\n"
     ]
    }
   ],
   "source": [
    "\n",
    "matrix1 = [\n",
    "    [1, 2, 3],\n",
    "    [4, 5, 6],\n",
    "    [7, 8, 9]\n",
    "]\n",
    "\n",
    "matrix2 = [\n",
    "    [9, 8, 7],\n",
    "    [6, 5, 4],\n",
    "    [3, 2, 1]\n",
    "]\n",
    "\n",
    "\n",
    "result = [\n",
    "    [0, 0, 0],\n",
    "    [0, 0, 0],\n",
    "    [0, 0, 0]\n",
    "]\n",
    "\n",
    "\n",
    "for i in range(len(matrix1)):\n",
    "    for j in range(len(matrix1[0])):\n",
    "        result[i][j] = matrix1[i][j] + matrix2[i][j]\n",
    "\n",
    "for row in result:\n",
    "    print(row)\n"
   ]
  },
  {
   "cell_type": "code",
   "execution_count": null,
   "id": "08f31b6c",
   "metadata": {},
   "outputs": [],
   "source": [
    "'''45. Flatten Nested List: Write a Python program to flatten a given nested list and convert it into \n",
    "a single-dimensional list.'''"
   ]
  },
  {
   "cell_type": "code",
   "execution_count": 12,
   "id": "c78a5477",
   "metadata": {},
   "outputs": [
    {
     "name": "stdout",
     "output_type": "stream",
     "text": [
      "Flattened list: [1, 2, 3, 4, 5, 6, 7]\n"
     ]
    }
   ],
   "source": [
    "\n",
    "nested_list = [1, [2, 3], [4, [5, 6]], 7]\n",
    "\n",
    "def flatten(lst):\n",
    "    flattened = []\n",
    "    for item in lst:\n",
    "        if isinstance(item, list):\n",
    "            flattened.extend(flatten(item))\n",
    "        else:\n",
    "            flattened.append(item)\n",
    "    return flattened\n",
    "\n",
    "\n",
    "flat_list = flatten(nested_list)\n",
    "\n",
    "print(\"Flattened list:\", flat_list)\n"
   ]
  },
  {
   "cell_type": "code",
   "execution_count": null,
   "id": "c345dca2",
   "metadata": {},
   "outputs": [],
   "source": [
    "'''46. List Element Frequency: Given a nested list containing lists of integers, write a Python program to count the frequency of each element in the entire nested list.'''"
   ]
  },
  {
   "cell_type": "code",
   "execution_count": 13,
   "id": "593dfda9",
   "metadata": {},
   "outputs": [
    {
     "name": "stdout",
     "output_type": "stream",
     "text": [
      "Element 1: Frequency 3\n",
      "Element 2: Frequency 3\n",
      "Element 3: Frequency 3\n",
      "Element 4: Frequency 2\n",
      "Element 5: Frequency 2\n"
     ]
    }
   ],
   "source": [
    "nested_list = [[1, 2, 3], [2, 3, 4, 5], [1, 3, 2, 4, 5, 1]]\n",
    "\n",
    "\n",
    "flat_list = [item for sublist in nested_list for item in sublist]\n",
    "\n",
    "# Create a dictionary to store element frequencies\n",
    "element_freq = {}\n",
    "\n",
    "for num in flat_list:\n",
    "    if num in element_freq:\n",
    "        element_freq[num] += 1\n",
    "    else:\n",
    "        element_freq[num] = 1\n",
    "\n",
    "for num, freq in element_freq.items():\n",
    "    print(f\"Element {num}: Frequency {freq}\")\n"
   ]
  },
  {
   "cell_type": "code",
   "execution_count": null,
   "id": "a8c87742",
   "metadata": {},
   "outputs": [],
   "source": [
    "'''47. Transpose Matrix: Write a Python program to transpose a given matrix represented as a nested list.'''"
   ]
  },
  {
   "cell_type": "code",
   "execution_count": 14,
   "id": "9ea15f28",
   "metadata": {},
   "outputs": [
    {
     "name": "stdout",
     "output_type": "stream",
     "text": [
      "[1, 4, 7]\n",
      "[2, 5, 8]\n",
      "[3, 6, 9]\n"
     ]
    }
   ],
   "source": [
    "matrix = [\n",
    "    [1, 2, 3],\n",
    "    [4, 5, 6],\n",
    "    [7, 8, 9]\n",
    "]\n",
    "\n",
    "\n",
    "num_rows = len(matrix)\n",
    "num_cols = len(matrix[0])\n",
    "\n",
    "\n",
    "transpose = [[0 for _ in range(num_rows)] for _ in range(num_cols)]\n",
    "\n",
    "for i in range(num_rows):\n",
    "    for j in range(num_cols):\n",
    "        transpose[j][i] = matrix[i][j]\n",
    "\n",
    "for row in transpose:\n",
    "    print(row)\n"
   ]
  },
  {
   "cell_type": "code",
   "execution_count": null,
   "id": "5bc5f726",
   "metadata": {},
   "outputs": [],
   "source": [
    "'''48. List of Lists Concatenation: Given a list of nested lists, write a Python program to concatenate all the sublists into a single flat list.'''\n",
    "\n"
   ]
  },
  {
   "cell_type": "code",
   "execution_count": 15,
   "id": "4a69fcca",
   "metadata": {},
   "outputs": [
    {
     "name": "stdout",
     "output_type": "stream",
     "text": [
      "Concatenated flat list: [1, 2, 3, 4, 5, 6, 7, 8, 9]\n"
     ]
    }
   ],
   "source": [
    "nested_list = [[1, 2, 3], [4, 5], [6, 7, 8, 9]]\n",
    "\n",
    "flat_list = [item for sublist in nested_list for item in sublist]\n",
    "\n",
    "print(\"Concatenated flat list:\", flat_list)\n"
   ]
  },
  {
   "cell_type": "markdown",
   "id": "e7b5424f",
   "metadata": {},
   "source": [
    "# Tuple Problems:"
   ]
  },
  {
   "cell_type": "code",
   "execution_count": null,
   "id": "79a37a06",
   "metadata": {},
   "outputs": [],
   "source": [
    "'''49. Tuple Concatenation: Write a Python program to concatenate two tuples and create a new tuple.'''"
   ]
  },
  {
   "cell_type": "code",
   "execution_count": 16,
   "id": "3da1f38a",
   "metadata": {},
   "outputs": [
    {
     "name": "stdout",
     "output_type": "stream",
     "text": [
      "Tuple 1: (1, 2, 3)\n",
      "Tuple 2: (4, 5, 6)\n",
      "Concatenated Tuple: (1, 2, 3, 4, 5, 6)\n"
     ]
    }
   ],
   "source": [
    "def concatenate_tuples(tuple1, tuple2):\n",
    "    new_tuple = tuple1 + tuple2\n",
    "    return new_tuple\n",
    "\n",
    "tuple1 = (1, 2, 3)\n",
    "tuple2 = (4, 5, 6)\n",
    "\n",
    "\n",
    "result_tuple = concatenate_tuples(tuple1, tuple2)\n",
    "\n",
    "print(\"Tuple 1:\", tuple1)\n",
    "print(\"Tuple 2:\", tuple2)\n",
    "print(\"Concatenated Tuple:\", result_tuple)\n"
   ]
  },
  {
   "cell_type": "code",
   "execution_count": null,
   "id": "6302218f",
   "metadata": {},
   "outputs": [],
   "source": [
    "'''50. Tuple Unpacking: Given a tuple with three elements (x, y, z), write a Python program to unpack the tuple and assign the values to three variables.'''"
   ]
  },
  {
   "cell_type": "code",
   "execution_count": 17,
   "id": "19ece10f",
   "metadata": {},
   "outputs": [
    {
     "name": "stdout",
     "output_type": "stream",
     "text": [
      "x: 10\n",
      "y: 20\n",
      "z: 30\n"
     ]
    }
   ],
   "source": [
    "my_tuple = (10, 20, 30)\n",
    "\n",
    "x, y, z = my_tuple\n",
    "\n",
    "print(\"x:\", x)\n",
    "print(\"y:\", y)\n",
    "print(\"z:\", z)"
   ]
  },
  {
   "cell_type": "code",
   "execution_count": null,
   "id": "4c1da6a6",
   "metadata": {},
   "outputs": [],
   "source": [
    "'''51. Tuple Sorting: Write a Python program to sort a tuple of integers in ascending order.'''"
   ]
  },
  {
   "cell_type": "code",
   "execution_count": 18,
   "id": "dae2bf2c",
   "metadata": {},
   "outputs": [
    {
     "name": "stdout",
     "output_type": "stream",
     "text": [
      "Original Tuple: (5, 2, 8, 1, 3)\n",
      "Sorted Tuple: (1, 2, 3, 5, 8)\n"
     ]
    }
   ],
   "source": [
    "my_tuple = (5, 2, 8, 1, 3)\n",
    "\n",
    "sorted_list = sorted(my_tuple)\n",
    "\n",
    "sorted_tuple = tuple(sorted_list)\n",
    "\n",
    "print(\"Original Tuple:\", my_tuple)\n",
    "print(\"Sorted Tuple:\", sorted_tuple)\n"
   ]
  },
  {
   "cell_type": "code",
   "execution_count": null,
   "id": "39aa181d",
   "metadata": {},
   "outputs": [],
   "source": [
    "'''52. Tuple Frequency Count: Given a tuple containing various elements, write a Python program to count the frequency of a specific element in the tuple.'''"
   ]
  },
  {
   "cell_type": "code",
   "execution_count": 19,
   "id": "e63c5a51",
   "metadata": {},
   "outputs": [
    {
     "name": "stdout",
     "output_type": "stream",
     "text": [
      "Tuple: (1, 2, 3, 2, 4, 2, 5, 2)\n",
      "Frequency of 2: 4\n"
     ]
    }
   ],
   "source": [
    "def count_frequency(my_tuple, element):\n",
    "    frequency = my_tuple.count(element)\n",
    "    return frequency\n",
    "\n",
    "my_tuple = (1, 2, 3, 2, 4, 2, 5, 2)\n",
    "\n",
    "element_to_count = 2\n",
    "\n",
    "frequency = count_frequency(my_tuple, element_to_count)\n",
    "\n",
    "print(\"Tuple:\", my_tuple)\n",
    "print(f\"Frequency of {element_to_count}: {frequency}\")\n"
   ]
  },
  {
   "cell_type": "code",
   "execution_count": null,
   "id": "43831c78",
   "metadata": {},
   "outputs": [],
   "source": [
    "'''53. Tuple to List: Write a Python program to convert a tuple into a list.'''"
   ]
  },
  {
   "cell_type": "code",
   "execution_count": 20,
   "id": "fda09625",
   "metadata": {},
   "outputs": [
    {
     "name": "stdout",
     "output_type": "stream",
     "text": [
      "Original Tuple: (1, 2, 3, 4, 5)\n",
      "Converted List: [1, 2, 3, 4, 5]\n"
     ]
    }
   ],
   "source": [
    "\n",
    "my_tuple = (1, 2, 3, 4, 5)\n",
    "\n",
    "my_list = list(my_tuple)\n",
    "\n",
    "print(\"Original Tuple:\", my_tuple)\n",
    "print(\"Converted List:\", my_list)\n"
   ]
  },
  {
   "cell_type": "code",
   "execution_count": null,
   "id": "9d8f2a1f",
   "metadata": {},
   "outputs": [],
   "source": [
    "'''54. Tuple Reversal: Write a Python program to reverse a tuple without using any built-in functions.'''"
   ]
  },
  {
   "cell_type": "code",
   "execution_count": 21,
   "id": "1bad4e17",
   "metadata": {},
   "outputs": [
    {
     "name": "stdout",
     "output_type": "stream",
     "text": [
      "Original Tuple: (1, 2, 3, 4, 5)\n",
      "Reversed Tuple: (5, 4, 3, 2, 1)\n"
     ]
    }
   ],
   "source": [
    "def reverse_tuple(input_tuple):\n",
    "    reversed_tuple = input_tuple[::-1]\n",
    "    return reversed_tuple\n",
    "\n",
    "\n",
    "original_tuple = (1, 2, 3, 4, 5)\n",
    "reversed_tuple = reverse_tuple(original_tuple)\n",
    "print(\"Original Tuple:\", original_tuple)\n",
    "print(\"Reversed Tuple:\", reversed_tuple)\n"
   ]
  },
  {
   "cell_type": "code",
   "execution_count": null,
   "id": "02380629",
   "metadata": {},
   "outputs": [],
   "source": [
    "'''55. Tuple Slicing: Given a tuple, write a Python program to extract a slice of elements from it.'''"
   ]
  },
  {
   "cell_type": "code",
   "execution_count": 22,
   "id": "2295ba54",
   "metadata": {},
   "outputs": [
    {
     "name": "stdout",
     "output_type": "stream",
     "text": [
      "Original Tuple: (1, 2, 3, 4, 5, 6, 7, 8, 9)\n",
      "Sliced Tuple: (3, 4, 5, 6)\n"
     ]
    }
   ],
   "source": [
    "def extract_slice(input_tuple, start, end):\n",
    "    sliced_tuple = input_tuple[start:end]\n",
    "    return sliced_tuple\n",
    "\n",
    "original_tuple = (1, 2, 3, 4, 5, 6, 7, 8, 9)\n",
    "start_index = 2\n",
    "end_index = 6\n",
    "sliced_tuple = extract_slice(original_tuple, start_index, end_index)\n",
    "print(\"Original Tuple:\", original_tuple)\n",
    "print(\"Sliced Tuple:\", sliced_tuple)\n"
   ]
  },
  {
   "cell_type": "code",
   "execution_count": null,
   "id": "0e5e5d8f",
   "metadata": {},
   "outputs": [],
   "source": [
    "'''56. Tuple Operations: Given two tuples of integers, write a Python program to perform element-wise addition, subtraction, and multiplication and create new tuples for each operation.'''"
   ]
  },
  {
   "cell_type": "code",
   "execution_count": 23,
   "id": "410d9121",
   "metadata": {},
   "outputs": [
    {
     "name": "stdout",
     "output_type": "stream",
     "text": [
      "Tuple 1: (1, 2, 3, 4, 5)\n",
      "Tuple 2: (5, 4, 3, 2, 1)\n",
      "Element-wise Addition: (6, 6, 6, 6, 6)\n",
      "Element-wise Subtraction: (-4, -2, 0, 2, 4)\n",
      "Element-wise Multiplication: (5, 8, 9, 8, 5)\n"
     ]
    }
   ],
   "source": [
    "def tuple_operations(tuple1, tuple2):\n",
    "    addition_result = tuple(map(lambda x, y: x + y, tuple1, tuple2))\n",
    "    subtraction_result = tuple(map(lambda x, y: x - y, tuple1, tuple2))\n",
    "    multiplication_result = tuple(map(lambda x, y: x * y, tuple1, tuple2))\n",
    "    \n",
    "    return addition_result, subtraction_result, multiplication_result\n",
    "\n",
    "\n",
    "tuple1 = (1, 2, 3, 4, 5)\n",
    "tuple2 = (5, 4, 3, 2, 1)\n",
    "\n",
    "addition, subtraction, multiplication = tuple_operations(tuple1, tuple2)\n",
    "\n",
    "print(\"Tuple 1:\", tuple1)\n",
    "print(\"Tuple 2:\", tuple2)\n",
    "print(\"Element-wise Addition:\", addition)\n",
    "print(\"Element-wise Subtraction:\", subtraction)\n",
    "print(\"Element-wise Multiplication:\", multiplication)\n"
   ]
  },
  {
   "cell_type": "code",
   "execution_count": null,
   "id": "35acca9f",
   "metadata": {},
   "outputs": [],
   "source": [
    "'''57. Tuple Membership Test: Write a Python program that takes an element as input and checks if it exists in a given tuple.'''"
   ]
  },
  {
   "cell_type": "code",
   "execution_count": 24,
   "id": "6b61f4bd",
   "metadata": {},
   "outputs": [
    {
     "name": "stdout",
     "output_type": "stream",
     "text": [
      "Enter an element to check for membership: 3\n",
      "3 exists in the tuple.\n"
     ]
    }
   ],
   "source": [
    "def check_membership(input_tuple, element):\n",
    "    if element in input_tuple:\n",
    "        return True\n",
    "    else:\n",
    "        return False\n",
    "\n",
    "my_tuple = (1, 2, 3, 4, 5)\n",
    "element_to_check = int(input(\"Enter an element to check for membership: \"))\n",
    "\n",
    "if check_membership(my_tuple, element_to_check):\n",
    "    print(f\"{element_to_check} exists in the tuple.\")\n",
    "else:\n",
    "    print(f\"{element_to_check} does not exist in the tuple.\")\n"
   ]
  },
  {
   "cell_type": "code",
   "execution_count": null,
   "id": "2dd4e943",
   "metadata": {},
   "outputs": [],
   "source": [
    "'''58. Tuple Packing: Write a Python program to pack three variables into a single tuple and print the tuple.'''"
   ]
  },
  {
   "cell_type": "code",
   "execution_count": 25,
   "id": "5eb0b3cc",
   "metadata": {},
   "outputs": [
    {
     "name": "stdout",
     "output_type": "stream",
     "text": [
      "Packed Tuple: (10, 'Hello', [1, 2, 3])\n"
     ]
    }
   ],
   "source": [
    "def pack_variables(var1, var2, var3):\n",
    "    packed_tuple = (var1, var2, var3)\n",
    "    return packed_tuple\n",
    "\n",
    "variable1 = 10\n",
    "variable2 = \"Hello\"\n",
    "variable3 = [1, 2, 3]\n",
    "\n",
    "packed_tuple = pack_variables(variable1, variable2, variable3)\n",
    "print(\"Packed Tuple:\", packed_tuple)\n"
   ]
  },
  {
   "cell_type": "markdown",
   "id": "2df3e8ef",
   "metadata": {},
   "source": [
    "# Nested List Problems:"
   ]
  },
  {
   "cell_type": "code",
   "execution_count": null,
   "id": "49d6ab16",
   "metadata": {},
   "outputs": [],
   "source": [
    "'''59. Nested List Element Access: Given a nested list, write a Python program to access and print specific elements from it.'''"
   ]
  },
  {
   "cell_type": "code",
   "execution_count": 26,
   "id": "9f6611e5",
   "metadata": {},
   "outputs": [
    {
     "name": "stdout",
     "output_type": "stream",
     "text": [
      "Element at row 1, column 2: 6\n",
      "1 2 3 \n",
      "4 5 6 \n",
      "7 8 9 \n"
     ]
    }
   ],
   "source": [
    "nested_list = [\n",
    "    [1, 2, 3],\n",
    "    [4, 5, 6],\n",
    "    [7, 8, 9]\n",
    "]\n",
    "\n",
    "# Access and print a specific element\n",
    "element = nested_list[1][2]  \n",
    "print(\"Element at row 1, column 2:\", element)\n",
    "\n",
    "for row in nested_list:\n",
    "    for item in row:\n",
    "        print(item, end=\" \")\n",
    "    print()"
   ]
  },
  {
   "cell_type": "code",
   "execution_count": null,
   "id": "c008ef17",
   "metadata": {},
   "outputs": [],
   "source": [
    "'''60. Nested List Flattening: Write a Python program to flatten a nested list and convert it into a single-dimensional list.'''"
   ]
  },
  {
   "cell_type": "code",
   "execution_count": 27,
   "id": "2dff5b6f",
   "metadata": {},
   "outputs": [
    {
     "name": "stdout",
     "output_type": "stream",
     "text": [
      "Original nested list: [1, [2, 3, [4, 5]], 6, [7, 8]]\n",
      "Flattened list: [1, 2, 3, 4, 5, 6, 7, 8]\n"
     ]
    }
   ],
   "source": [
    "def flatten_list(nested_list):\n",
    "    flattened = []\n",
    "    for item in nested_list:\n",
    "        if isinstance(item, list):\n",
    "            flattened.extend(flatten_list(item))\n",
    "        else:\n",
    "            flattened.append(item)\n",
    "    return flattened\n",
    "\n",
    "nested_list = [1, [2, 3, [4, 5]], 6, [7, 8]]\n",
    "flattened_list = flatten_list(nested_list)\n",
    "\n",
    "print(\"Original nested list:\", nested_list)\n",
    "print(\"Flattened list:\", flattened_list)\n"
   ]
  },
  {
   "cell_type": "code",
   "execution_count": null,
   "id": "c9adc919",
   "metadata": {},
   "outputs": [],
   "source": [
    "'''61. Nested List Sorting: Given a nested list containing lists of integers, write a Python program to sort the sublists based on their lengths.'''"
   ]
  },
  {
   "cell_type": "code",
   "execution_count": 28,
   "id": "bc88ed28",
   "metadata": {},
   "outputs": [
    {
     "name": "stdout",
     "output_type": "stream",
     "text": [
      "Original nested list: [[1, 2, 3], [4, 5], [6, 7, 8, 9], [10], [11, 12, 13, 14]]\n",
      "Sorted nested list: [[10], [4, 5], [1, 2, 3], [6, 7, 8, 9], [11, 12, 13, 14]]\n"
     ]
    }
   ],
   "source": [
    "nested_list = [[1, 2, 3], [4, 5], [6, 7, 8, 9], [10], [11, 12, 13, 14]]\n",
    "\n",
    "\n",
    "sorted_nested_list = sorted(nested_list, key=len)\n",
    "\n",
    "print(\"Original nested list:\", nested_list)\n",
    "print(\"Sorted nested list:\", sorted_nested_list)\n"
   ]
  },
  {
   "cell_type": "code",
   "execution_count": null,
   "id": "bddc7270",
   "metadata": {},
   "outputs": [],
   "source": [
    "'''62. List of Tuples Conversion: Given a nested list containing tuples of (x, y) coordinates, write a Python program to convert it into a list of x-coordinates and a list of y-coordinates.'''\n",
    "\n"
   ]
  },
  {
   "cell_type": "code",
   "execution_count": 29,
   "id": "91ed3f05",
   "metadata": {},
   "outputs": [
    {
     "name": "stdout",
     "output_type": "stream",
     "text": [
      "Nested list of tuples: [(1, 2), (3, 4), (5, 6), (7, 8)]\n",
      "X-coordinates: [1, 3, 5, 7]\n",
      "Y-coordinates: [2, 4, 6, 8]\n"
     ]
    }
   ],
   "source": [
    "nested_list = [(1, 2), (3, 4), (5, 6), (7, 8)]\n",
    "\n",
    "x_coordinates = [x for x, y in nested_list]\n",
    "y_coordinates = [y for x, y in nested_list]\n",
    "\n",
    "print(\"Nested list of tuples:\", nested_list)\n",
    "print(\"X-coordinates:\", x_coordinates)\n",
    "print(\"Y-coordinates:\", y_coordinates)\n"
   ]
  },
  {
   "cell_type": "code",
   "execution_count": null,
   "id": "8bff423b",
   "metadata": {},
   "outputs": [],
   "source": [
    "'''63. Matrix Transpose: Write a Python program to transpose a given matrix represented as a nested list.'''\n",
    "\n"
   ]
  },
  {
   "cell_type": "code",
   "execution_count": 30,
   "id": "912e388a",
   "metadata": {},
   "outputs": [
    {
     "name": "stdout",
     "output_type": "stream",
     "text": [
      "Original matrix:\n",
      "[1, 2, 3]\n",
      "[4, 5, 6]\n",
      "[7, 8, 9]\n",
      "\n",
      "Transposed matrix:\n",
      "[1, 4, 7]\n",
      "[2, 5, 8]\n",
      "[3, 6, 9]\n"
     ]
    }
   ],
   "source": [
    "def transpose_matrix(matrix):\n",
    "    num_rows = len(matrix)\n",
    "    num_cols = len(matrix[0])\n",
    "    transposed = [[0 for _ in range(num_rows)] for _ in range(num_cols)]\n",
    "    \n",
    "    for i in range(num_rows):\n",
    "        for j in range(num_cols):\n",
    "            transposed[j][i] = matrix[i][j]\n",
    "    \n",
    "    return transposed\n",
    "\n",
    "\n",
    "matrix = [\n",
    "    [1, 2, 3],\n",
    "    [4, 5, 6],\n",
    "    [7, 8, 9]\n",
    "]\n",
    "\n",
    "transposed_matrix = transpose_matrix(matrix)\n",
    "\n",
    "print(\"Original matrix:\")\n",
    "for row in matrix:\n",
    "    print(row)\n",
    "\n",
    "print(\"\\nTransposed matrix:\")\n",
    "for row in transposed_matrix:\n",
    "    print(row)\n"
   ]
  },
  {
   "cell_type": "code",
   "execution_count": null,
   "id": "21e84ec9",
   "metadata": {},
   "outputs": [],
   "source": [
    "'''64. Nested List Concatenation: Given a list of nested lists, write a Python program to concatenate all the sublists into a single flat list'''"
   ]
  },
  {
   "cell_type": "code",
   "execution_count": 31,
   "id": "bf4712dc",
   "metadata": {},
   "outputs": [
    {
     "name": "stdout",
     "output_type": "stream",
     "text": [
      "Original nested lists: [[1, 2, 3], [4, 5], [6, 7, 8, 9], [10]]\n",
      "Flat list: [1, 2, 3, 4, 5, 6, 7, 8, 9, 10]\n"
     ]
    }
   ],
   "source": [
    "nested_lists = [[1, 2, 3], [4, 5], [6, 7, 8, 9], [10]]\n",
    "\n",
    "# Concatenate all sublists into a single flat list\n",
    "flat_list = [item for sublist in nested_lists for item in sublist]\n",
    "\n",
    "print(\"Original nested lists:\", nested_lists)\n",
    "print(\"Flat list:\", flat_list)\n"
   ]
  },
  {
   "cell_type": "code",
   "execution_count": null,
   "id": "24c4252e",
   "metadata": {},
   "outputs": [],
   "source": [
    "'''65. Count Even Numbers: Write a Python program to count the number of even numbers in a nested list.'''"
   ]
  },
  {
   "cell_type": "code",
   "execution_count": 32,
   "id": "edc84c18",
   "metadata": {},
   "outputs": [
    {
     "name": "stdout",
     "output_type": "stream",
     "text": [
      "Number of even numbers: 4\n"
     ]
    }
   ],
   "source": [
    "def count_even_numbers(nested_list):\n",
    "    count = 0\n",
    "    for sublist in nested_list:\n",
    "        for num in sublist:\n",
    "            if num % 2 == 0:\n",
    "                count += 1\n",
    "    return count\n",
    "\n",
    "nested_list = [\n",
    "    [1, 2, 3],\n",
    "    [4, 5, 6],\n",
    "    [7, 8, 9]\n",
    "]\n",
    "\n",
    "even_count = count_even_numbers(nested_list)\n",
    "print(\"Number of even numbers:\", even_count)\n"
   ]
  },
  {
   "cell_type": "code",
   "execution_count": null,
   "id": "fdee3aae",
   "metadata": {},
   "outputs": [],
   "source": [
    "'''66. Maximum Element in Nested List: Write a Python program to find the maximum element in a nested list of integers.'''"
   ]
  },
  {
   "cell_type": "code",
   "execution_count": 33,
   "id": "90c47d7d",
   "metadata": {},
   "outputs": [
    {
     "name": "stdout",
     "output_type": "stream",
     "text": [
      "Maximum element: 15\n"
     ]
    }
   ],
   "source": [
    "nested_list = [\n",
    "    [10, 2, 8],\n",
    "    [4, 15, 6],\n",
    "    [7, 12, 9]\n",
    "]\n",
    "\n",
    "max_element = max(num for sublist in nested_list for num in sublist)\n",
    "print(\"Maximum element:\", max_element)\n"
   ]
  },
  {
   "cell_type": "code",
   "execution_count": null,
   "id": "f235dd0a",
   "metadata": {},
   "outputs": [],
   "source": [
    "'''67. Diagonal Sum of Matrix: Given a square matrix represented as a nested list, write a Python program to calculate the sum of the elements in the main diagonal.'''"
   ]
  },
  {
   "cell_type": "code",
   "execution_count": 34,
   "id": "b6373aa3",
   "metadata": {},
   "outputs": [
    {
     "name": "stdout",
     "output_type": "stream",
     "text": [
      "Matrix:\n",
      "[1, 2, 3]\n",
      "[4, 5, 6]\n",
      "[7, 8, 9]\n",
      "\n",
      "Sum of main diagonal: 15\n"
     ]
    }
   ],
   "source": [
    "def diagonal_sum(matrix):\n",
    "    mat_size = len(matrix)\n",
    "    diagonal_sum = 0\n",
    "    \n",
    "    for i in range(mat_size):\n",
    "        diagonal_sum += matrix[i][i]\n",
    "        \n",
    "    return diagonal_sum\n",
    "\n",
    "# Example square matrix represented as a nested list\n",
    "matrix = [\n",
    "    [1, 2, 3],\n",
    "    [4, 5, 6],\n",
    "    [7, 8, 9]\n",
    "]\n",
    "\n",
    "sum_of_diagonal = diagonal_sum(matrix)\n",
    "print(\"Matrix:\")\n",
    "for row in matrix:\n",
    "    print(row)\n",
    "print(\"\\nSum of main diagonal:\", sum_of_diagonal)\n"
   ]
  },
  {
   "cell_type": "code",
   "execution_count": null,
   "id": "1537d26b",
   "metadata": {},
   "outputs": [],
   "source": [
    "'''68. Nested List Element Search: Write a Python program to search for a specific element in a nested list and return its position (row and column indices).'''"
   ]
  },
  {
   "cell_type": "code",
   "execution_count": 35,
   "id": "003e47ee",
   "metadata": {},
   "outputs": [
    {
     "name": "stdout",
     "output_type": "stream",
     "text": [
      "Enter an integer number 1-9 for target element: \n",
      "7\n",
      "Element 7 found at position (row 2, col 0)\n"
     ]
    }
   ],
   "source": [
    "def find_element_position(nested_list, target):\n",
    "    for row_idx, row in enumerate(nested_list):\n",
    "        if target in row:\n",
    "            col_idx = row.index(target)\n",
    "            return row_idx, col_idx\n",
    "    return None\n",
    "\n",
    "nested_list = [\n",
    "    [1, 2, 3],\n",
    "    [4, 5, 6],\n",
    "    [7, 8, 9]\n",
    "]\n",
    "\n",
    "print('Enter an integer number 1-9 for target element: ')\n",
    "target_element = int(input())\n",
    "position = find_element_position(nested_list, target_element)\n",
    "\n",
    "if position is not None:\n",
    "    row, col = position\n",
    "    print(f\"Element {target_element} found at position (row {row}, col {col})\")\n",
    "else:\n",
    "    print(f\"Element {target_element} not found in the nested list.\")\n"
   ]
  },
  {
   "cell_type": "markdown",
   "id": "aa2b5091",
   "metadata": {},
   "source": [
    "# Set Problems:"
   ]
  },
  {
   "cell_type": "code",
   "execution_count": null,
   "id": "179d510d",
   "metadata": {},
   "outputs": [],
   "source": [
    "'''69. Duplicate Removal: Write a Python program that takes a list of elements as input and creates a new set containing only the unique elements from the list.'''"
   ]
  },
  {
   "cell_type": "code",
   "execution_count": 36,
   "id": "ceb82e2b",
   "metadata": {},
   "outputs": [
    {
     "name": "stdout",
     "output_type": "stream",
     "text": [
      "Original list: [1, 2, 2, 3, 4, 4, 5, 5, 6]\n",
      "Unique elements: {1, 2, 3, 4, 5, 6}\n"
     ]
    }
   ],
   "source": [
    "def remove_duplicates(input_list):\n",
    "    unique_set = set(input_list)\n",
    "    return unique_set\n",
    "\n",
    "input_list = [1, 2, 2, 3, 4, 4, 5, 5, 6]\n",
    "unique_elements = remove_duplicates(input_list)\n",
    "\n",
    "print(\"Original list:\", input_list)\n",
    "print(\"Unique elements:\", unique_elements)\n"
   ]
  },
  {
   "cell_type": "code",
   "execution_count": null,
   "id": "00a1493c",
   "metadata": {},
   "outputs": [],
   "source": [
    "'''70. Set Intersection: Given two sets A and B, write a Python program to find their intersection and print the common elements.'''"
   ]
  },
  {
   "cell_type": "code",
   "execution_count": 37,
   "id": "484a06ba",
   "metadata": {},
   "outputs": [
    {
     "name": "stdout",
     "output_type": "stream",
     "text": [
      "Set A: {1, 2, 3, 4, 5}\n",
      "Set B: {3, 4, 5, 6, 7}\n",
      "Intersection: {3, 4, 5}\n"
     ]
    }
   ],
   "source": [
    "set_a = {1, 2, 3, 4, 5}\n",
    "set_b = {3, 4, 5, 6, 7}\n",
    "\n",
    "intersection = set_a.intersection(set_b)\n",
    "\n",
    "print(\"Set A:\", set_a)\n",
    "print(\"Set B:\", set_b)\n",
    "print(\"Intersection:\", intersection)\n"
   ]
  },
  {
   "cell_type": "code",
   "execution_count": null,
   "id": "b8147341",
   "metadata": {},
   "outputs": [],
   "source": [
    "'''71. Set Union: Given two sets A and B, write a Python program to find their union and print all the distinct elements from both sets.'''"
   ]
  },
  {
   "cell_type": "code",
   "execution_count": 38,
   "id": "084d4608",
   "metadata": {},
   "outputs": [
    {
     "name": "stdout",
     "output_type": "stream",
     "text": [
      "Set A: {1, 2, 3, 4, 5}\n",
      "Set B: {3, 4, 5, 6, 7}\n",
      "Union: {1, 2, 3, 4, 5, 6, 7}\n"
     ]
    }
   ],
   "source": [
    "set_a = {1, 2, 3, 4, 5}\n",
    "set_b = {3, 4, 5, 6, 7}\n",
    "\n",
    "union = set_a.union(set_b)\n",
    "\n",
    "print(\"Set A:\", set_a)\n",
    "print(\"Set B:\", set_b)\n",
    "print(\"Union:\", union)\n"
   ]
  },
  {
   "cell_type": "code",
   "execution_count": null,
   "id": "0520515b",
   "metadata": {},
   "outputs": [],
   "source": [
    "'''72. Set Difference: Given two sets A and B, write a Python program to find the difference between set A and set B (i.e., elements present in A but not in B) and print the result.'''"
   ]
  },
  {
   "cell_type": "code",
   "execution_count": 39,
   "id": "72076560",
   "metadata": {},
   "outputs": [
    {
     "name": "stdout",
     "output_type": "stream",
     "text": [
      "Set A: {1, 2, 3, 4, 5}\n",
      "Set B: {3, 4, 5, 6, 7}\n",
      "Difference (A - B): {1, 2}\n"
     ]
    }
   ],
   "source": [
    "set_a = {1, 2, 3, 4, 5}\n",
    "set_b = {3, 4, 5, 6, 7}\n",
    "\n",
    "difference = set_a.difference(set_b)\n",
    "\n",
    "print(\"Set A:\", set_a)\n",
    "print(\"Set B:\", set_b)\n",
    "print(\"Difference (A - B):\", difference)\n"
   ]
  },
  {
   "cell_type": "code",
   "execution_count": null,
   "id": "1b689db2",
   "metadata": {},
   "outputs": [],
   "source": [
    "'''73. Set Symmetric Difference: Given two sets A and B, write a Python program to find the symmetric difference between the two sets (i.e., elements that are present in either set A or set B, but not in both) and print the result.'''"
   ]
  },
  {
   "cell_type": "code",
   "execution_count": 40,
   "id": "0a0ed44f",
   "metadata": {},
   "outputs": [
    {
     "name": "stdout",
     "output_type": "stream",
     "text": [
      "Set A: {1, 2, 3, 4, 5}\n",
      "Set B: {3, 4, 5, 6, 7}\n",
      "Symmetric Difference: {1, 2, 6, 7}\n"
     ]
    }
   ],
   "source": [
    "set_a = {1, 2, 3, 4, 5}\n",
    "set_b = {3, 4, 5, 6, 7}\n",
    "\n",
    "symmetric_difference = set_a.symmetric_difference(set_b)\n",
    "\n",
    "print(\"Set A:\", set_a)\n",
    "print(\"Set B:\", set_b)\n",
    "print(\"Symmetric Difference:\", symmetric_difference)\n"
   ]
  },
  {
   "cell_type": "code",
   "execution_count": null,
   "id": "21ce3ece",
   "metadata": {},
   "outputs": [],
   "source": [
    "'''74. Set Operations: Given three sets A, B, and C, write a Python program to find and print the intersection of A and B, the union of B and C, and the difference between C and A'''"
   ]
  },
  {
   "cell_type": "code",
   "execution_count": 41,
   "id": "a9e9a692",
   "metadata": {},
   "outputs": [
    {
     "name": "stdout",
     "output_type": "stream",
     "text": [
      "Set A: {1, 2, 3, 4, 5}\n",
      "Set B: {3, 4, 5, 6, 7}\n",
      "Set C: {5, 6, 7, 8, 9}\n",
      "Intersection of A and B: {3, 4, 5}\n",
      "Union of B and C: {3, 4, 5, 6, 7, 8, 9}\n",
      "Difference of C and A: {8, 9, 6, 7}\n"
     ]
    }
   ],
   "source": [
    "set_a = {1, 2, 3, 4, 5}\n",
    "set_b = {3, 4, 5, 6, 7}\n",
    "set_c = {5, 6, 7, 8, 9}\n",
    "\n",
    "intersection_ab = set_a.intersection(set_b)\n",
    "union_bc = set_b.union(set_c)\n",
    "difference_ca = set_c.difference(set_a)\n",
    "\n",
    "print(\"Set A:\", set_a)\n",
    "print(\"Set B:\", set_b)\n",
    "print(\"Set C:\", set_c)\n",
    "print(\"Intersection of A and B:\", intersection_ab)\n",
    "print(\"Union of B and C:\", union_bc)\n",
    "print(\"Difference of C and A:\", difference_ca)\n"
   ]
  },
  {
   "cell_type": "code",
   "execution_count": null,
   "id": "6ad626e4",
   "metadata": {},
   "outputs": [],
   "source": [
    "'''75. Set Subset Check: Given two sets A and B, write a Python program to check if set A is a subset of set B and print the result.'''"
   ]
  },
  {
   "cell_type": "code",
   "execution_count": 42,
   "id": "40a7d116",
   "metadata": {},
   "outputs": [
    {
     "name": "stdout",
     "output_type": "stream",
     "text": [
      "Set A: {1, 2, 3}\n",
      "Set B: {1, 2, 3, 4, 5}\n",
      "Set A is a subset of set B.\n"
     ]
    }
   ],
   "source": [
    "set_a = {1, 2, 3}\n",
    "set_b = {1, 2, 3, 4, 5}\n",
    "\n",
    "is_subset = set_a.issubset(set_b)\n",
    "\n",
    "print(\"Set A:\", set_a)\n",
    "print(\"Set B:\", set_b)\n",
    "\n",
    "if is_subset:\n",
    "    print(\"Set A is a subset of set B.\")\n",
    "else:\n",
    "    print(\"Set A is not a subset of set B.\")\n"
   ]
  },
  {
   "cell_type": "code",
   "execution_count": null,
   "id": "86b341a9",
   "metadata": {},
   "outputs": [],
   "source": [
    "'''76. Set Superset Check: Given two sets A and B, write a Python program to check if set A is a superset of set B and print the result.'''"
   ]
  },
  {
   "cell_type": "code",
   "execution_count": 43,
   "id": "a2f8d5e8",
   "metadata": {},
   "outputs": [
    {
     "name": "stdout",
     "output_type": "stream",
     "text": [
      "Set A: {1, 2, 3, 4, 5}\n",
      "Set B: {1, 2, 3}\n",
      "Set A is a superset of set B.\n"
     ]
    }
   ],
   "source": [
    "set_a = {1, 2, 3, 4, 5}\n",
    "set_b = {1, 2, 3}\n",
    "\n",
    "is_superset = set_a.issuperset(set_b)\n",
    "\n",
    "print(\"Set A:\", set_a)\n",
    "print(\"Set B:\", set_b)\n",
    "\n",
    "if is_superset:\n",
    "    print(\"Set A is a superset of set B.\")\n",
    "else:\n",
    "    print(\"Set A is not a superset of set B.\")\n"
   ]
  },
  {
   "cell_type": "code",
   "execution_count": null,
   "id": "28bdea87",
   "metadata": {},
   "outputs": [],
   "source": [
    "'''77. Set Length Check: Write a Python program that takes a set as input and prints the number of elements in the set.'''"
   ]
  },
  {
   "cell_type": "code",
   "execution_count": 44,
   "id": "f03fbee7",
   "metadata": {},
   "outputs": [
    {
     "name": "stdout",
     "output_type": "stream",
     "text": [
      "Input set: {1, 2, 3, 4, 5}\n",
      "Number of elements in the set: 5\n"
     ]
    }
   ],
   "source": [
    "input_set = {1, 2, 3, 4, 5}\n",
    "\n",
    "set_length = len(input_set)\n",
    "\n",
    "print(\"Input set:\", input_set)\n",
    "print(\"Number of elements in the set:\", set_length)\n"
   ]
  },
  {
   "cell_type": "code",
   "execution_count": null,
   "id": "7914c38b",
   "metadata": {},
   "outputs": [],
   "source": [
    "'''76. Set Membership Test: Write a Python program that takes an element as input and checks if it exists in a given set. Print “Found” if the element is present and “Not Found” otherwise.'''"
   ]
  },
  {
   "cell_type": "code",
   "execution_count": 45,
   "id": "9cfe0823",
   "metadata": {},
   "outputs": [
    {
     "name": "stdout",
     "output_type": "stream",
     "text": [
      "Enter an element to check: 4\n",
      "Found\n"
     ]
    }
   ],
   "source": [
    "input_set = {1, 2, 3, 4, 5}\n",
    "\n",
    "element_to_check = int(input(\"Enter an element to check: \"))\n",
    "\n",
    "if element_to_check in input_set:\n",
    "    print(\"Found\")\n",
    "else:\n",
    "    print(\"Not Found\")\n"
   ]
  },
  {
   "cell_type": "markdown",
   "id": "f42950bf",
   "metadata": {},
   "source": [
    "# Dictionary Problems:"
   ]
  },
  {
   "cell_type": "code",
   "execution_count": null,
   "id": "7bffd12b",
   "metadata": {},
   "outputs": [],
   "source": [
    "'''77. Dictionary Manipulation: Given a dictionary with student names as keys and their corresponding scores as values, write a Python program to add a new student to the dictionary and update the score of an existing student.'''"
   ]
  },
  {
   "cell_type": "code",
   "execution_count": 46,
   "id": "1cf42137",
   "metadata": {},
   "outputs": [
    {
     "name": "stdout",
     "output_type": "stream",
     "text": [
      "Updated student scores: {'Alice': 85, 'Bob': 92, 'Charlie': 82, 'David': 65, 'Eve': 95}\n"
     ]
    }
   ],
   "source": [
    "student_scores = {\n",
    "    \"Alice\": 85,\n",
    "    \"Bob\": 92,\n",
    "    \"Charlie\": 78,\n",
    "    \"David\": 65\n",
    "}\n",
    "\n",
    " # Add a new student\n",
    "student_scores[\"Eve\"] = 95  \n",
    "\n",
    "\n",
    "# Update an existing student's score\n",
    "student_scores[\"Charlie\"] = 82  \n",
    "\n",
    "\n",
    "print(\"Updated student scores:\", student_scores)"
   ]
  },
  {
   "cell_type": "code",
   "execution_count": null,
   "id": "1ac55d47",
   "metadata": {},
   "outputs": [],
   "source": [
    "'''78. Dictionary Keys and Values: Write a Python program that takes a dictionary as input and prints all the keys and values in separate lines.'''"
   ]
  },
  {
   "cell_type": "code",
   "execution_count": 47,
   "id": "9aabed38",
   "metadata": {},
   "outputs": [
    {
     "name": "stdout",
     "output_type": "stream",
     "text": [
      "Keys and Values in the Dictionary:\n",
      "Key: name\n",
      "Value: John\n",
      "\n",
      "Key: age\n",
      "Value: 30\n",
      "\n",
      "Key: city\n",
      "Value: New York\n",
      "\n"
     ]
    }
   ],
   "source": [
    "def print_keys_values(dictionary):\n",
    "    for key, value in dictionary.items():\n",
    "        print(\"Key:\", key)\n",
    "        print(\"Value:\", value)\n",
    "        print() \n",
    "\n",
    "input_dict = {\n",
    "    \"name\": \"John\",\n",
    "    \"age\": 30,\n",
    "    \"city\": \"New York\"\n",
    "}\n",
    "\n",
    "print(\"Keys and Values in the Dictionary:\")\n",
    "print_keys_values(input_dict)\n"
   ]
  },
  {
   "cell_type": "code",
   "execution_count": null,
   "id": "7f408a10",
   "metadata": {},
   "outputs": [],
   "source": [
    "'''79. Dictionary Length: Write a Python program to calculate and print the number of key-value pairs in a given dictionary'''"
   ]
  },
  {
   "cell_type": "code",
   "execution_count": 48,
   "id": "903a3e54",
   "metadata": {},
   "outputs": [
    {
     "name": "stdout",
     "output_type": "stream",
     "text": [
      "Number of key-value pairs in the dictionary: 3\n"
     ]
    }
   ],
   "source": [
    "def count_key_value_pairs(dictionary):\n",
    "    return len(dictionary)\n",
    "\n",
    "input_dict = {\n",
    "    \"name\": \"John\",\n",
    "    \"age\": 30,\n",
    "    \"city\": \"New York\"\n",
    "}\n",
    "\n",
    "num_pairs = count_key_value_pairs(input_dict)\n",
    "print(\"Number of key-value pairs in the dictionary:\", num_pairs)\n"
   ]
  },
  {
   "cell_type": "code",
   "execution_count": null,
   "id": "831ea245",
   "metadata": {},
   "outputs": [],
   "source": [
    "'''80. Dictionary Value Search: Given a dictionary of items and their prices, write a Python program to search for an item based on its price and print the item’s name.'''"
   ]
  },
  {
   "cell_type": "code",
   "execution_count": 2,
   "id": "1bf285e4",
   "metadata": {},
   "outputs": [
    {
     "name": "stdout",
     "output_type": "stream",
     "text": [
      "Enter the price to search for: grapes\n",
      "Invalid input. Please enter a valid price.\n",
      "Enter the price to search for: 2.50\n",
      "Item with price 2.5 is: grapes\n"
     ]
    }
   ],
   "source": [
    "def search_item_by_price(item_dict, target_price):\n",
    "    for item, price in item_dict.items():\n",
    "        if price == target_price:\n",
    "            return item\n",
    "    return \"Item not found\"\n",
    "\n",
    "items_prices = {\n",
    "    \"apple\": 0.75,\n",
    "    \"banana\": 0.50,\n",
    "    \"orange\": 1.00,\n",
    "    \"grapes\": 2.50\n",
    "}\n",
    "\n",
    "while True:\n",
    "    try:\n",
    "        target_price = float(input(\"Enter the price to search for: \"))\n",
    "        break  # Exit the loop if a valid float is entered\n",
    "    except ValueError:\n",
    "        print(\"Invalid input. Please enter a valid price.\")\n",
    "\n",
    "found_item = search_item_by_price(items_prices, target_price)\n",
    "print(\"Item with price\", target_price, \"is:\", found_item)\n"
   ]
  },
  {
   "cell_type": "code",
   "execution_count": null,
   "id": "f990b9cd",
   "metadata": {},
   "outputs": [],
   "source": [
    "'''81. Dictionary Merging: Given two dictionaries, write a Python program to merge them into a single dictionary and print the result.'''"
   ]
  },
  {
   "cell_type": "code",
   "execution_count": 3,
   "id": "da6e1dbd",
   "metadata": {},
   "outputs": [
    {
     "name": "stdout",
     "output_type": "stream",
     "text": [
      "Merged Dictionary: {'name': 'John', 'age': 30, 'city': 'New York', 'occupation': 'Engineer'}\n"
     ]
    }
   ],
   "source": [
    "def merge_dicts(dict1, dict2):\n",
    "    merged_dict = dict1.copy()  \n",
    "    merged_dict.update(dict2)  \n",
    "    return merged_dict\n",
    "\n",
    "\n",
    "dict1 = {\n",
    "    \"name\": \"John\",\n",
    "    \"age\": 30\n",
    "}\n",
    "\n",
    "dict2 = {\n",
    "    \"city\": \"New York\",\n",
    "    \"occupation\": \"Engineer\"\n",
    "}\n",
    "\n",
    "merged_dict = merge_dicts(dict1, dict2)\n",
    "print(\"Merged Dictionary:\", merged_dict)\n"
   ]
  },
  {
   "cell_type": "code",
   "execution_count": null,
   "id": "af2446b6",
   "metadata": {},
   "outputs": [],
   "source": [
    "'''82. Dictionary Key Removal: Given a dictionary of items and their quantities, write a Python program to remove a specific item from the dictionary based on user input.'''"
   ]
  },
  {
   "cell_type": "code",
   "execution_count": 4,
   "id": "6e28e16a",
   "metadata": {},
   "outputs": [
    {
     "name": "stdout",
     "output_type": "stream",
     "text": [
      "Enter the item to remove: 10\n",
      "10 not found in the dictionary.\n",
      "Updated Dictionary: {'apple': 10, 'banana': 5, 'orange': 8, 'grapes': 15}\n"
     ]
    }
   ],
   "source": [
    "def remove_item(dictionary, item_to_remove):\n",
    "    if item_to_remove in dictionary:\n",
    "        del dictionary[item_to_remove]\n",
    "        print(f\"{item_to_remove} removed from the dictionary.\")\n",
    "    else:\n",
    "        print(f\"{item_to_remove} not found in the dictionary.\")\n",
    "\n",
    "\n",
    "items_quantities = {\n",
    "    \"apple\": 10,\n",
    "    \"banana\": 5,\n",
    "    \"orange\": 8,\n",
    "    \"grapes\": 15\n",
    "}\n",
    "\n",
    "item_to_remove = input(\"Enter the item to remove: \")\n",
    "\n",
    "remove_item(items_quantities, item_to_remove)\n",
    "print(\"Updated Dictionary:\", items_quantities)\n"
   ]
  },
  {
   "cell_type": "code",
   "execution_count": null,
   "id": "e279ef3d",
   "metadata": {},
   "outputs": [],
   "source": [
    "'''83. Dictionary Sorting: Given a dictionary with names as keys and corresponding ages as values, write a Python program to sort the dictionary based on age in ascending order.'''"
   ]
  },
  {
   "cell_type": "code",
   "execution_count": 5,
   "id": "11a580ca",
   "metadata": {},
   "outputs": [
    {
     "name": "stdout",
     "output_type": "stream",
     "text": [
      "Sorted Dictionary by Age (Ascending Order):\n",
      "Eve : 22\n",
      "Alice : 25\n",
      "Bob : 28\n",
      "John : 30\n"
     ]
    }
   ],
   "source": [
    "names_ages = {\n",
    "    \"John\": 30,\n",
    "    \"Alice\": 25,\n",
    "    \"Bob\": 28,\n",
    "    \"Eve\": 22\n",
    "}\n",
    "\n",
    "sorted_by_age = dict(sorted(names_ages.items(), key=lambda item: item[1]))\n",
    "\n",
    "print(\"Sorted Dictionary by Age (Ascending Order):\")\n",
    "for name, age in sorted_by_age.items():\n",
    "    print(name, \":\", age)"
   ]
  },
  {
   "cell_type": "code",
   "execution_count": null,
   "id": "64542a0e",
   "metadata": {},
   "outputs": [],
   "source": [
    "'''84. Dictionary Frequency Count: Write a Python program that takes a string as input and creates a dictionary containing each character as a key and its frequency as the value.'''"
   ]
  },
  {
   "cell_type": "code",
   "execution_count": 6,
   "id": "0040bffc",
   "metadata": {},
   "outputs": [
    {
     "name": "stdout",
     "output_type": "stream",
     "text": [
      "Enter a string: Minhazul Islam\n",
      "Character Frequency Dictionary:\n",
      "M : 1\n",
      "i : 1\n",
      "n : 1\n",
      "h : 1\n",
      "a : 2\n",
      "z : 1\n",
      "u : 1\n",
      "l : 2\n",
      "  : 1\n",
      "I : 1\n",
      "s : 1\n",
      "m : 1\n"
     ]
    }
   ],
   "source": [
    "from collections import Counter\n",
    "\n",
    "input_string = input(\"Enter a string: \")\n",
    "freq_dict = Counter(input_string)\n",
    "\n",
    "print(\"Character Frequency Dictionary:\")\n",
    "for char, freq in freq_dict.items():\n",
    "    print(char, \":\", freq)\n"
   ]
  },
  {
   "cell_type": "code",
   "execution_count": null,
   "id": "26df6bd4",
   "metadata": {},
   "outputs": [],
   "source": [
    "'''85. Dictionary Comprehension: Given a list of integers, write a Python program to create a dictionary where the keys are the elements from the list, and the values are their squares.'''"
   ]
  },
  {
   "cell_type": "code",
   "execution_count": 7,
   "id": "55201b7e",
   "metadata": {},
   "outputs": [
    {
     "name": "stdout",
     "output_type": "stream",
     "text": [
      "Dictionary with Squares:\n",
      "1 : 1\n",
      "2 : 4\n",
      "3 : 9\n",
      "4 : 16\n",
      "5 : 25\n"
     ]
    }
   ],
   "source": [
    "input_list = [1, 2, 3, 4, 5]\n",
    "\n",
    "squared_dict = {num: num ** 2 for num in input_list}\n",
    "\n",
    "print(\"Dictionary with Squares:\")\n",
    "for num, square in squared_dict.items():\n",
    "    print(num, \":\", square)\n"
   ]
  },
  {
   "cell_type": "code",
   "execution_count": null,
   "id": "6df7dabf",
   "metadata": {},
   "outputs": [],
   "source": [
    "'''86. Dictionary Key Check: Write a Python program that takes a key as input and checks if it exists in a given dictionary. Print “Key Found” if the key is present and “Key Not Found” otherwise.'''"
   ]
  },
  {
   "cell_type": "code",
   "execution_count": 8,
   "id": "14e3133e",
   "metadata": {},
   "outputs": [
    {
     "name": "stdout",
     "output_type": "stream",
     "text": [
      "Enter the key to check: age\n",
      "Key Found\n"
     ]
    }
   ],
   "source": [
    "def check_key(dictionary, key_to_check):\n",
    "    if key_to_check in dictionary:\n",
    "        print(\"Key Found\")\n",
    "    else:\n",
    "        print(\"Key Not Found\")\n",
    "\n",
    "        \n",
    "input_dict = {\n",
    "    \"name\": \"John\",\n",
    "    \"age\": 30,\n",
    "    \"city\": \"New York\"\n",
    "}\n",
    "\n",
    "key_to_search = input(\"Enter the key to check: \")\n",
    "\n",
    "check_key(input_dict, key_to_search)\n"
   ]
  },
  {
   "cell_type": "markdown",
   "id": "64dcfdc9",
   "metadata": {},
   "source": [
    "# Nested Dictionary Problems:"
   ]
  },
  {
   "cell_type": "code",
   "execution_count": null,
   "id": "104d2bd6",
   "metadata": {},
   "outputs": [],
   "source": [
    "'''87. Access Nested Dictionary: Given a nested dictionary containing student details, write a Python program to access and print specific information such as a student’s name, age, and address.'''"
   ]
  },
  {
   "cell_type": "code",
   "execution_count": 10,
   "id": "c8c5aab4",
   "metadata": {},
   "outputs": [
    {
     "name": "stdout",
     "output_type": "stream",
     "text": [
      "Enter the student's name: Martin\n",
      "Student not found.\n"
     ]
    }
   ],
   "source": [
    "\n",
    "student_details = {\n",
    "    \"student1\": {\n",
    "        \"name\": \"John\",\n",
    "        \"age\": 20,\n",
    "        \"address\": \"123 Main St\"\n",
    "    },\n",
    "    \"student2\": {\n",
    "        \"name\": \"Alice\",\n",
    "        \"age\": 22,\n",
    "        \"address\": \"456 Elm St\"\n",
    "    }\n",
    "}\n",
    "\n",
    "student_name = input(\"Enter the student's name: \")\n",
    "\n",
    "if student_name in student_details:\n",
    "    student_info = student_details[student_name]\n",
    "    print(\"Student's Name:\", student_info.get(\"name\", \"N/A\"))\n",
    "    print(\"Student's Age:\", student_info.get(\"age\", \"N/A\"))\n",
    "    print(\"Student's Address:\", student_info.get(\"address\", \"N/A\"))\n",
    "else:\n",
    "    print(\"Student not found.\")\n"
   ]
  },
  {
   "cell_type": "code",
   "execution_count": null,
   "id": "9bfab9cf",
   "metadata": {},
   "outputs": [],
   "source": [
    "'''88. Nested Dictionary Length: Write a Python program to calculate and print the total number of key-value pairs in a nested dictionary.'''"
   ]
  },
  {
   "cell_type": "code",
   "execution_count": 11,
   "id": "4b4cd551",
   "metadata": {},
   "outputs": [
    {
     "name": "stdout",
     "output_type": "stream",
     "text": [
      "Total number of key-value pairs in the nested dictionary: 8\n"
     ]
    }
   ],
   "source": [
    "def count_nested_pairs(dictionary):\n",
    "    count = len(dictionary)\n",
    "    for value in dictionary.values():\n",
    "        if isinstance(value, dict):\n",
    "            count += count_nested_pairs(value)\n",
    "    return count\n",
    "\n",
    "\n",
    "nested_dict = {\n",
    "    \"student1\": {\n",
    "        \"name\": \"John\",\n",
    "        \"age\": 20,\n",
    "        \"address\": \"123 Main St\"\n",
    "    },\n",
    "    \"student2\": {\n",
    "        \"name\": \"Alice\",\n",
    "        \"age\": 22,\n",
    "        \"address\": \"456 Elm St\"\n",
    "    }\n",
    "}\n",
    "\n",
    "total_pairs = count_nested_pairs(nested_dict)\n",
    "print(\"Total number of key-value pairs in the nested dictionary:\", total_pairs)\n"
   ]
  },
  {
   "cell_type": "code",
   "execution_count": null,
   "id": "795483a0",
   "metadata": {},
   "outputs": [],
   "source": [
    "'''89. Nested Dictionary Update: Given a nested dictionary of employee details, write a Python program to update an employee’s salary based on their employee ID.'''"
   ]
  },
  {
   "cell_type": "code",
   "execution_count": 12,
   "id": "bf05b6be",
   "metadata": {},
   "outputs": [
    {
     "name": "stdout",
     "output_type": "stream",
     "text": [
      "Enter the employee's ID: 102\n",
      "Enter the new salary: 57456464\n",
      "Updated salary for Alice (ID: 102) to 57456464.0\n"
     ]
    }
   ],
   "source": [
    "def update_salary(details_dict, employee_id, new_salary):\n",
    "    for employee, details in details_dict.items():\n",
    "        if details.get(\"employee_id\") == employee_id:\n",
    "            details[\"salary\"] = new_salary\n",
    "            print(f\"Updated salary for {details['name']} (ID: {employee_id}) to {new_salary}\")\n",
    "            return\n",
    "    print(f\"Employee with ID {employee_id} not found.\")\n",
    "\n",
    "\n",
    "employee_details = {\n",
    "    \"employee1\": {\n",
    "        \"name\": \"John\",\n",
    "        \"employee_id\": 101,\n",
    "        \"salary\": 50000\n",
    "    },\n",
    "    \"employee2\": {\n",
    "        \"name\": \"Alice\",\n",
    "        \"employee_id\": 102,\n",
    "        \"salary\": 60000\n",
    "    }\n",
    "}\n",
    "\n",
    "employee_id = int(input(\"Enter the employee's ID: \"))\n",
    "new_salary = float(input(\"Enter the new salary: \"))\n",
    "\n",
    "update_salary(employee_details, employee_id, new_salary)\n"
   ]
  },
  {
   "cell_type": "code",
   "execution_count": null,
   "id": "a9b16cb4",
   "metadata": {},
   "outputs": [],
   "source": [
    "'''90. Nested Dictionary Sorting: Given a nested dictionary containing product details (product name, price, and quantity), write a Python program to sort the products based on their prices in ascending order'''"
   ]
  },
  {
   "cell_type": "code",
   "execution_count": 13,
   "id": "51c51563",
   "metadata": {},
   "outputs": [
    {
     "name": "stdout",
     "output_type": "stream",
     "text": [
      "Products Sorted by Price (Ascending Order):\n",
      "product3 : Tablet - Price: 350 - Quantity: 3\n",
      "product2 : Smartphone - Price: 500 - Quantity: 10\n",
      "product1 : Laptop - Price: 800 - Quantity: 5\n"
     ]
    }
   ],
   "source": [
    "def sort_products_by_price(products_dict):\n",
    "    sorted_products = sorted(products_dict.items(), key=lambda item: item[1]['price'])\n",
    "    return dict(sorted_products)\n",
    "\n",
    "\n",
    "products_details = {\n",
    "    \"product1\": {\n",
    "        \"name\": \"Laptop\",\n",
    "        \"price\": 800,\n",
    "        \"quantity\": 5\n",
    "    },\n",
    "    \"product2\": {\n",
    "        \"name\": \"Smartphone\",\n",
    "        \"price\": 500,\n",
    "        \"quantity\": 10\n",
    "    },\n",
    "    \"product3\": {\n",
    "        \"name\": \"Tablet\",\n",
    "        \"price\": 350,\n",
    "        \"quantity\": 3\n",
    "    }\n",
    "}\n",
    "\n",
    "sorted_by_price = sort_products_by_price(products_details)\n",
    "\n",
    "print(\"Products Sorted by Price (Ascending Order):\")\n",
    "for product, details in sorted_by_price.items():\n",
    "    print(product, \":\", details[\"name\"], \"-\", \"Price:\", details[\"price\"], \"-\", \"Quantity:\", details[\"quantity\"])\n"
   ]
  },
  {
   "cell_type": "code",
   "execution_count": null,
   "id": "e6cf72b7",
   "metadata": {},
   "outputs": [],
   "source": [
    "'''91. Nested Dictionary Key Search: Write a Python program that takes a key as input and searches for it in a nested dictionary. If found, print the corresponding value, otherwise, print “Key Not Found.'''"
   ]
  },
  {
   "cell_type": "code",
   "execution_count": 14,
   "id": "7b03427e",
   "metadata": {},
   "outputs": [
    {
     "name": "stdout",
     "output_type": "stream",
     "text": [
      "Enter the key to search for: english\n",
      "Value for key english : 85\n"
     ]
    }
   ],
   "source": [
    "def search_nested_key(dictionary, target_key):\n",
    "    for key, value in dictionary.items():\n",
    "        if key == target_key:\n",
    "            return value\n",
    "        if isinstance(value, dict):\n",
    "            nested_result = search_nested_key(value, target_key)\n",
    "            if nested_result is not None:\n",
    "                return nested_result\n",
    "    return None\n",
    "\n",
    "nested_dict = {\n",
    "    \"info\": {\n",
    "        \"name\": \"John\",\n",
    "        \"age\": 30,\n",
    "        \"address\": \"123 Main St\"\n",
    "    },\n",
    "    \"scores\": {\n",
    "        \"math\": 95,\n",
    "        \"english\": 85,\n",
    "        \"history\": 70\n",
    "    }\n",
    "}\n",
    "\n",
    "target_key = input(\"Enter the key to search for: \")\n",
    "\n",
    "result = search_nested_key(nested_dict, target_key)\n",
    "\n",
    "if result is not None:\n",
    "    print(\"Value for key\", target_key, \":\", result)\n",
    "else:\n",
    "    print(\"Key Not Found.\")\n"
   ]
  },
  {
   "cell_type": "markdown",
   "id": "67374ac9",
   "metadata": {},
   "source": [
    "# Break & Continue: "
   ]
  },
  {
   "cell_type": "code",
   "execution_count": null,
   "id": "4eeb6116",
   "metadata": {},
   "outputs": [],
   "source": [
    "'''92. Prime Number Checker: Write a Python program that takes a number as input and determines if it is a prime number or not. Use a `for` loop to check for factors. If a factor is found, `break` out of the loop.'''"
   ]
  },
  {
   "cell_type": "code",
   "execution_count": 15,
   "id": "e2c53b37",
   "metadata": {},
   "outputs": [
    {
     "name": "stdout",
     "output_type": "stream",
     "text": [
      "Enter a number: 67\n",
      "67 is a prime number.\n"
     ]
    }
   ],
   "source": [
    "def is_prime(number):\n",
    "    if number <= 1:\n",
    "        return False\n",
    "    for i in range(2, int(number ** 0.5) + 1):\n",
    "        if number % i == 0:\n",
    "            return False\n",
    "    return True\n",
    "\n",
    "num = int(input(\"Enter a number: \"))\n",
    "\n",
    "if is_prime(num):\n",
    "    print(num, \"is a prime number.\")\n",
    "else:\n",
    "    print(num, \"is not a prime number.\")\n"
   ]
  },
  {
   "cell_type": "code",
   "execution_count": null,
   "id": "4037ceb5",
   "metadata": {},
   "outputs": [],
   "source": [
    "'''93. Even Number Printer: Write a Python program to print all even numbers from 1 to 20. Use a `for` loop and `continue` to skip odd numbers.'''"
   ]
  },
  {
   "cell_type": "code",
   "execution_count": 16,
   "id": "d44f64e6",
   "metadata": {},
   "outputs": [
    {
     "name": "stdout",
     "output_type": "stream",
     "text": [
      "2\n",
      "4\n",
      "6\n",
      "8\n",
      "10\n",
      "12\n",
      "14\n",
      "16\n",
      "18\n",
      "20\n"
     ]
    }
   ],
   "source": [
    "for num in range(1, 21):\n",
    "    if num % 2 != 0:\n",
    "        continue\n",
    "    print(num)\n"
   ]
  },
  {
   "cell_type": "code",
   "execution_count": null,
   "id": "504c13e3",
   "metadata": {},
   "outputs": [],
   "source": [
    "'''94. Password Validator: Write a Python program that takes a password as input and checks if it meets the following criteria: at least 8 characters long, contains both uppercase and lowercase letters, and has at least one digit. If the password is valid, print “Password accepted.” If not, use `continue` to prompt the user to enter a valid password.'''"
   ]
  },
  {
   "cell_type": "code",
   "execution_count": 17,
   "id": "63994d2c",
   "metadata": {},
   "outputs": [
    {
     "name": "stdout",
     "output_type": "stream",
     "text": [
      "Enter a password: Shakib=74!\n",
      "Password accepted.\n"
     ]
    }
   ],
   "source": [
    "def is_valid_password(password):\n",
    "    if len(password) < 8:\n",
    "        return False\n",
    "    has_upper = any(char.isupper() for char in password)\n",
    "    has_lower = any(char.islower() for char in password)\n",
    "    has_digit = any(char.isdigit() for char in password)\n",
    "    return has_upper and has_lower and has_digit\n",
    "\n",
    "while True:\n",
    "    password = input(\"Enter a password: \")\n",
    "    if is_valid_password(password):\n",
    "        print(\"Password accepted.\")\n",
    "        break\n",
    "    else:\n",
    "        print(\"Invalid password. Please enter a valid password.\")\n"
   ]
  },
  {
   "cell_type": "code",
   "execution_count": null,
   "id": "12e584b2",
   "metadata": {},
   "outputs": [],
   "source": [
    "'''95. Divisible by 3 or 5: Write a Python program to print all numbers from 1 to 50 that are divisible by either 3 or 5. Use a `for` loop and `continue` to skip numbers that are not divisible by either 3 or 5.'''"
   ]
  },
  {
   "cell_type": "code",
   "execution_count": 18,
   "id": "4a0ffbe9",
   "metadata": {},
   "outputs": [
    {
     "name": "stdout",
     "output_type": "stream",
     "text": [
      "3\n",
      "5\n",
      "6\n",
      "9\n",
      "10\n",
      "12\n",
      "15\n",
      "18\n",
      "20\n",
      "21\n",
      "24\n",
      "25\n",
      "27\n",
      "30\n",
      "33\n",
      "35\n",
      "36\n",
      "39\n",
      "40\n",
      "42\n",
      "45\n",
      "48\n",
      "50\n"
     ]
    }
   ],
   "source": [
    "for num in range(1, 51):\n",
    "    if num % 3 != 0 and num % 5 != 0:  \n",
    "        continue\n",
    "    print(num)\n"
   ]
  },
  {
   "cell_type": "code",
   "execution_count": null,
   "id": "60575da2",
   "metadata": {},
   "outputs": [],
   "source": [
    "'''96. Positive Number Sum: Write a Python program that takes positive numbers as input until a negative number is entered. Then, calculate and print the sum of all positive numbers entered. Use a `while` loop and `break` to exit the loop when a negative number is encountered.'''"
   ]
  },
  {
   "cell_type": "code",
   "execution_count": 19,
   "id": "a89cde01",
   "metadata": {},
   "outputs": [
    {
     "name": "stdout",
     "output_type": "stream",
     "text": [
      "Enter a number: 57\n",
      "Enter a number: 34\n",
      "Enter a number: -5\n",
      "Sum of positive numbers entered: 91\n"
     ]
    }
   ],
   "source": [
    "total_sum = 0\n",
    "\n",
    "while True:\n",
    "    num = int(input(\"Enter a number: \"))\n",
    "    if num < 0:\n",
    "        break\n",
    "    total_sum += num\n",
    "\n",
    "print(\"Sum of positive numbers entered:\", total_sum)\n"
   ]
  },
  {
   "cell_type": "code",
   "execution_count": null,
   "id": "9a8903b3",
   "metadata": {},
   "outputs": [],
   "source": [
    "'''97. Word Palindrome Checker: Write a Python program that takes a word as input and checks if it is a palindrome (reads the same forwards and backward). Use `continue` to skip checking the word if its length is less than 3 characters.'''"
   ]
  },
  {
   "cell_type": "code",
   "execution_count": 20,
   "id": "c610b60d",
   "metadata": {},
   "outputs": [
    {
     "name": "stdout",
     "output_type": "stream",
     "text": [
      "Enter a word: nahin\n",
      "The word is not a palindrome.\n"
     ]
    }
   ],
   "source": [
    "def is_palindrome(word):\n",
    "    return word == word[::-1]\n",
    "\n",
    "while True:\n",
    "    input_word = input(\"Enter a word: \")\n",
    "    if len(input_word) < 3:\n",
    "        print(\"Word length should be at least 3 characters. Please enter a longer word.\")\n",
    "        continue\n",
    "    if is_palindrome(input_word):\n",
    "        print(\"The word is a palindrome.\")\n",
    "    else:\n",
    "        print(\"The word is not a palindrome.\")\n",
    "    break\n"
   ]
  },
  {
   "cell_type": "code",
   "execution_count": null,
   "id": "35586c51",
   "metadata": {},
   "outputs": [],
   "source": [
    "'''98. Odd Number Finder: Write a Python program to find the first odd number from a list of integers. Use a `for` loop and `break` to stop the loop when the first odd number is found.'''"
   ]
  },
  {
   "cell_type": "code",
   "execution_count": 21,
   "id": "f3a16f34",
   "metadata": {},
   "outputs": [
    {
     "name": "stdout",
     "output_type": "stream",
     "text": [
      "First odd number found: 9\n"
     ]
    }
   ],
   "source": [
    "numbers = [2, 4, 6, 8, 9, 10, 12, 14]\n",
    "\n",
    "for num in numbers:\n",
    "    if num % 2 != 0:  \n",
    "        print(\"First odd number found:\", num)\n",
    "        break\n"
   ]
  },
  {
   "cell_type": "code",
   "execution_count": null,
   "id": "53cdf16b",
   "metadata": {},
   "outputs": [],
   "source": [
    "'''99. Number Guessing Game: Write a Python program that generates a random number between 1 and 100 and lets the user guess the number. Use a `while` loop, `break` when the correct number is guessed, and `continue` to keep prompting the user until they guess correctly.'''"
   ]
  },
  {
   "cell_type": "code",
   "execution_count": 22,
   "id": "26a7ac72",
   "metadata": {},
   "outputs": [
    {
     "name": "stdout",
     "output_type": "stream",
     "text": [
      "Guess a number between 1 and 100: 57\n",
      "Too low! Try again.\n",
      "The target number was: 98\n"
     ]
    }
   ],
   "source": [
    "import random\n",
    "\n",
    "target_number = random.randint(1, 100)\n",
    "\n",
    "\n",
    "while True:\n",
    "    user_guess = int(input(\"Guess a number between 1 and 100: \"))\n",
    "    \n",
    "    if user_guess < target_number:\n",
    "        print(\"Too low! Try again.\")\n",
    "        break\n",
    "    elif user_guess > target_number:\n",
    "        print(\"Too high! Try again.\")\n",
    "        break\n",
    "    else:\n",
    "        print(\"Congratulations! You guessed the correct number:\", target_number)\n",
    "        break\n",
    "\n",
    "print(\"The target number was:\", target_number)"
   ]
  },
  {
   "cell_type": "code",
   "execution_count": null,
   "id": "c7faead2",
   "metadata": {},
   "outputs": [],
   "source": [
    "'''100. Vowel Counter: Write a Python program that takes a string as input and counts the number of vowels (a, e, i, o, u) in it. Use a `for` loop and `continue` to skip counting non-vowel characters.'''"
   ]
  },
  {
   "cell_type": "code",
   "execution_count": 23,
   "id": "816fcf9c",
   "metadata": {},
   "outputs": [
    {
     "name": "stdout",
     "output_type": "stream",
     "text": [
      "Enter a string: mahin\n",
      "Number of vowels in the string: 2\n"
     ]
    }
   ],
   "source": [
    "input_string = input(\"Enter a string: \")\n",
    "vowel_count = 0\n",
    "\n",
    "for char in input_string:\n",
    "    if char.lower() not in 'aeiou':  \n",
    "        continue\n",
    "    vowel_count += 1\n",
    "\n",
    "print(\"Number of vowels in the string:\", vowel_count)\n"
   ]
  },
  {
   "cell_type": "code",
   "execution_count": null,
   "id": "7c146eb3",
   "metadata": {},
   "outputs": [],
   "source": [
    "'''101. Unique Characters: Write a Python program that takes a string as input and checks if it contains all unique characters (no character repeats). Use a `for` loop and `break` when a character repeats.'''"
   ]
  },
  {
   "cell_type": "code",
   "execution_count": 24,
   "id": "c716dcd8",
   "metadata": {},
   "outputs": [
    {
     "name": "stdout",
     "output_type": "stream",
     "text": [
      "Enter a string: tahir\n",
      "The string contains all unique characters.\n"
     ]
    }
   ],
   "source": [
    "input_string = input(\"Enter a string: \")\n",
    "is_unique = True\n",
    "\n",
    "for char in input_string:\n",
    "    if input_string.count(char) > 1:  \n",
    "        is_unique = False\n",
    "        break\n",
    "\n",
    "if is_unique:\n",
    "    print(\"The string contains all unique characters.\")\n",
    "else:\n",
    "    print(\"The string does not contain all unique characters.\")\n"
   ]
  },
  {
   "cell_type": "markdown",
   "id": "ac236699",
   "metadata": {},
   "source": [
    "# Functions Problems:"
   ]
  },
  {
   "cell_type": "code",
   "execution_count": null,
   "id": "dd361f01",
   "metadata": {},
   "outputs": [],
   "source": [
    "'''102. Factorial Calculator: Write a Python function called `factorial` that takes an integer as input and returns its factorial. Test the function with different values.'''"
   ]
  },
  {
   "cell_type": "code",
   "execution_count": 25,
   "id": "82bfdda9",
   "metadata": {},
   "outputs": [
    {
     "name": "stdout",
     "output_type": "stream",
     "text": [
      "1\n",
      "120\n",
      "3628800\n"
     ]
    }
   ],
   "source": [
    "def factorial(n):\n",
    "    if n == 0:\n",
    "        return 1\n",
    "    else:\n",
    "        return n * factorial(n - 1)\n",
    "\n",
    "print(factorial(0))   \n",
    "print(factorial(5))  \n",
    "print(factorial(10))  \n"
   ]
  },
  {
   "cell_type": "code",
   "execution_count": null,
   "id": "747916ce",
   "metadata": {},
   "outputs": [],
   "source": [
    "'''103. Palindrome Checker: Write a Python function called `is_palindrome` that takes a string as input and returns `True` if it is a palindrome and `False` otherwise. Test the function with different words.'''"
   ]
  },
  {
   "cell_type": "code",
   "execution_count": 26,
   "id": "3c481d29",
   "metadata": {},
   "outputs": [
    {
     "name": "stdout",
     "output_type": "stream",
     "text": [
      "True\n",
      "False\n",
      "True\n",
      "False\n"
     ]
    }
   ],
   "source": [
    "def is_palindrome(word):\n",
    "    return word == word[::-1]\n",
    "\n",
    "\n",
    "print(is_palindrome(\"radar\"))    \n",
    "print(is_palindrome(\"hello\"))   \n",
    "print(is_palindrome(\"level\"))   \n",
    "print(is_palindrome(\"python\"))  \n"
   ]
  },
  {
   "cell_type": "code",
   "execution_count": null,
   "id": "1b2a98f9",
   "metadata": {},
   "outputs": [],
   "source": [
    "'''104. Even or Odd Checker: Write a Python function called `even_or_odd` that takes an integer as input and returns “Even” if the number is even and “Odd” if the number is odd. Test the function with different numbers.'''"
   ]
  },
  {
   "cell_type": "code",
   "execution_count": 27,
   "id": "c70aaf08",
   "metadata": {},
   "outputs": [
    {
     "name": "stdout",
     "output_type": "stream",
     "text": [
      "Even\n",
      "Odd\n",
      "Even\n",
      "Odd\n"
     ]
    }
   ],
   "source": [
    "def even_or_odd(number):\n",
    "    if number % 2 == 0:\n",
    "        return \"Even\"\n",
    "    else:\n",
    "        return \"Odd\"\n",
    "\n",
    "\n",
    "print(even_or_odd(4))   \n",
    "print(even_or_odd(7))  \n",
    "print(even_or_odd(12)) \n",
    "print(even_or_odd(21)) \n"
   ]
  },
  {
   "cell_type": "code",
   "execution_count": null,
   "id": "55f6e473",
   "metadata": {},
   "outputs": [],
   "source": [
    "'''105. List Sum Calculator: Write a Python function called `list_sum` that takes a list of integers as input and returns the sum of all elements in the list. Test the function with different lists.'''"
   ]
  },
  {
   "cell_type": "code",
   "execution_count": 28,
   "id": "a783dc42",
   "metadata": {},
   "outputs": [
    {
     "name": "stdout",
     "output_type": "stream",
     "text": [
      "15\n",
      "50\n",
      "75\n"
     ]
    }
   ],
   "source": [
    "def list_sum(numbers):\n",
    "    total = 0\n",
    "    for num in numbers:\n",
    "        total += num\n",
    "    return total\n",
    "\n",
    "\n",
    "print(list_sum([1, 2, 3, 4, 5]))          \n",
    "print(list_sum([-10, 20, 30, -40, 50]))   \n",
    "print(list_sum([5, 10, 15, 20, 25]))      \n"
   ]
  },
  {
   "cell_type": "code",
   "execution_count": null,
   "id": "aecf41a5",
   "metadata": {},
   "outputs": [],
   "source": [
    "'''106. Greatest Common Divisor (GCD) Calculator: Write a Python function called `gcd` that takes two integers as input and returns their greatest common divisor. Test the function with different pairs of numbers.'''"
   ]
  },
  {
   "cell_type": "code",
   "execution_count": 29,
   "id": "8a1b7097",
   "metadata": {},
   "outputs": [
    {
     "name": "stdout",
     "output_type": "stream",
     "text": [
      "6\n",
      "24\n",
      "7\n"
     ]
    }
   ],
   "source": [
    "def gcd(a, b):\n",
    "    while b:\n",
    "        a, b = b, a % b\n",
    "    return a\n",
    "\n",
    "\n",
    "print(gcd(48, 18))   \n",
    "print(gcd(120, 72))  \n",
    "print(gcd(35, 49))   \n"
   ]
  },
  {
   "cell_type": "code",
   "execution_count": null,
   "id": "cf76b1d3",
   "metadata": {},
   "outputs": [],
   "source": [
    "'''107. Leap Year Checker: Write a Python function called `is_leap_year` that takes a year as input and returns `True` if it is a leap year and `False` otherwise. Test the function with different years.'''"
   ]
  },
  {
   "cell_type": "code",
   "execution_count": 30,
   "id": "00118f45",
   "metadata": {},
   "outputs": [
    {
     "name": "stdout",
     "output_type": "stream",
     "text": [
      "True\n",
      "True\n",
      "False\n",
      "False\n"
     ]
    }
   ],
   "source": [
    "def is_leap_year(year):\n",
    "    if (year % 4 == 0 and year % 100 != 0) or (year % 400 == 0):\n",
    "        return True\n",
    "    else:\n",
    "        return False\n",
    "\n",
    "print(is_leap_year(2000))  \n",
    "print(is_leap_year(2020))  \n",
    "print(is_leap_year(1900)) \n",
    "print(is_leap_year(2022))\n"
   ]
  },
  {
   "cell_type": "markdown",
   "id": "4d5c2d95",
   "metadata": {},
   "source": [
    "# Nested Functions Problems:\n"
   ]
  },
  {
   "cell_type": "code",
   "execution_count": null,
   "id": "8f63ac97",
   "metadata": {},
   "outputs": [],
   "source": [
    "''' 108. Math Operations: Write a Python function called `math_operations` that takes three numbers and a string representing an operation (‘add’, ‘subtract’, ‘multiply’, or ‘divide’). The function should return the result of the specified operation on the three numbers. Implement the math operations as nested functions.'''"
   ]
  },
  {
   "cell_type": "code",
   "execution_count": 31,
   "id": "df3b1508",
   "metadata": {},
   "outputs": [
    {
     "name": "stdout",
     "output_type": "stream",
     "text": [
      "17\n",
      "9\n",
      "120\n",
      "2.5\n"
     ]
    }
   ],
   "source": [
    "def math_operations(a, b, c, operation):\n",
    "    def add(x, y):\n",
    "        return x + y\n",
    "    \n",
    "    def subtract(x, y):\n",
    "        return x - y\n",
    "    \n",
    "    def multiply(x, y):\n",
    "        return x * y\n",
    "    \n",
    "    def divide(x, y):\n",
    "        if y != 0:\n",
    "            return x / y\n",
    "        else:\n",
    "            return \"Cannot divide by zero\"\n",
    "    \n",
    "    if operation == 'add':\n",
    "        return add(a, b) + c\n",
    "    elif operation == 'subtract':\n",
    "        return subtract(a, b) - c\n",
    "    elif operation == 'multiply':\n",
    "        return multiply(a, b) * c\n",
    "    elif operation == 'divide':\n",
    "        return divide(a, b) / c\n",
    "    else:\n",
    "        return \"Invalid operation\"\n",
    "\n",
    "\n",
    "print(math_operations(10, 5, 2, 'add'))    \n",
    "print(math_operations(20, 8, 3, 'subtract')) \n",
    "print(math_operations(4, 6, 5, 'multiply'))   \n",
    "print(math_operations(15, 3, 2, 'divide'))    \n"
   ]
  },
  {
   "cell_type": "code",
   "execution_count": null,
   "id": "adaa676b",
   "metadata": {},
   "outputs": [],
   "source": [
    "'''109. Greeting Generator: Write a Python function called `greeting_generator` that takes a name as input and returns a greeting message using nested functions. The greeting message should be customizable (e.g., “Hello, {name}! How are you today?”)'''"
   ]
  },
  {
   "cell_type": "code",
   "execution_count": 32,
   "id": "bd7e1a74",
   "metadata": {},
   "outputs": [
    {
     "name": "stdout",
     "output_type": "stream",
     "text": [
      "Hello, Alice! How are you today?\n",
      "Hello, Bob! How are you today?\n"
     ]
    }
   ],
   "source": [
    "def greeting_generator(name):\n",
    "    def get_greeting():\n",
    "        return f\"Hello, {name}! How are you today?\"\n",
    "    \n",
    "    return get_greeting()\n",
    "\n",
    "\n",
    "name1 = \"Alice\"\n",
    "name2 = \"Bob\"\n",
    "\n",
    "greeting1 = greeting_generator(name1)\n",
    "greeting2 = greeting_generator(name2)\n",
    "\n",
    "print(greeting1)\n",
    "print(greeting2)\n"
   ]
  },
  {
   "cell_type": "code",
   "execution_count": null,
   "id": "a486eeac",
   "metadata": {},
   "outputs": [],
   "source": [
    "'''110. Temperature Converter: Write a Python function called `temperature_converter` that takes a temperature value and a string representing the scale (‘C’ for Celsius or ‘F’ for Fahrenheit) as input. The function should convert the temperature from one scale to the other using nested functions and return the converted value.'''"
   ]
  },
  {
   "cell_type": "code",
   "execution_count": 33,
   "id": "92557c50",
   "metadata": {},
   "outputs": [
    {
     "name": "stdout",
     "output_type": "stream",
     "text": [
      "0.0\n",
      "37.77777777777778\n",
      "154.4\n",
      "413.6\n"
     ]
    }
   ],
   "source": [
    "def temperature_converter(value, scale):\n",
    "    def celsius_to_fahrenheit(celsius):\n",
    "        return (celsius * 9/5) + 32\n",
    "    \n",
    "    def fahrenheit_to_celsius(fahrenheit):\n",
    "        return (fahrenheit - 32) * 5/9\n",
    "    \n",
    "    if scale == 'C':\n",
    "        return fahrenheit_to_celsius(value)\n",
    "    elif scale == 'F':\n",
    "        return celsius_to_fahrenheit(value)\n",
    "    else:\n",
    "        return \"Invalid scale\"\n",
    "\n",
    "\n",
    "print(temperature_converter(32, 'C'))  \n",
    "print(temperature_converter(100, 'C'))  \n",
    "print(temperature_converter(68, 'F'))   \n",
    "print(temperature_converter(212, 'F'))  \n"
   ]
  },
  {
   "cell_type": "markdown",
   "id": "f47f4d22",
   "metadata": {},
   "source": [
    "# Recursion"
   ]
  },
  {
   "cell_type": "code",
   "execution_count": null,
   "id": "218e79ef",
   "metadata": {},
   "outputs": [],
   "source": [
    "'''111. Factorial Calculation: Write a recursive Python function called `factorial` that takes a non-negative integer as input and returns its factorial.'''"
   ]
  },
  {
   "cell_type": "code",
   "execution_count": 34,
   "id": "81e6d7e2",
   "metadata": {},
   "outputs": [
    {
     "name": "stdout",
     "output_type": "stream",
     "text": [
      "1\n",
      "120\n",
      "3628800\n"
     ]
    }
   ],
   "source": [
    "def factorial(n):\n",
    "    if n == 0 or n == 1:\n",
    "        return 1\n",
    "    else:\n",
    "        return n * factorial(n - 1)\n",
    "\n",
    "print(factorial(0))\n",
    "print(factorial(5))\n",
    "print(factorial(10))\n"
   ]
  },
  {
   "cell_type": "code",
   "execution_count": null,
   "id": "53e72afa",
   "metadata": {},
   "outputs": [],
   "source": [
    "'''112. Fibonacci Series: Write a recursive Python function called `Fibonacci` that takes an integer N as input and returns the Nth number in the Fibonacci series. The Fibonacci series is defined as follows: F(0) = 0, F(1) = 1, and F(n) = F(n-1) + F(n-2) for n > 1.'''"
   ]
  },
  {
   "cell_type": "code",
   "execution_count": 35,
   "id": "58aa8acb",
   "metadata": {},
   "outputs": [
    {
     "name": "stdout",
     "output_type": "stream",
     "text": [
      "0\n",
      "1\n",
      "5\n",
      "55\n"
     ]
    }
   ],
   "source": [
    "def Fibonacci(n):\n",
    "    if n == 0:\n",
    "        return 0\n",
    "    elif n == 1:\n",
    "        return 1\n",
    "    else:\n",
    "        return Fibonacci(n - 1) + Fibonacci(n - 2)\n",
    "\n",
    "print(Fibonacci(0))\n",
    "print(Fibonacci(1))\n",
    "print(Fibonacci(5))\n",
    "print(Fibonacci(10))\n"
   ]
  },
  {
   "cell_type": "code",
   "execution_count": null,
   "id": "940b39a5",
   "metadata": {},
   "outputs": [],
   "source": [
    "'''113. The sum of Digits: Write a recursive Python function called `sum_of_digits` that takes an integer as input and returns the sum of its digits.'''"
   ]
  },
  {
   "cell_type": "code",
   "execution_count": 36,
   "id": "ae58a137",
   "metadata": {},
   "outputs": [
    {
     "name": "stdout",
     "output_type": "stream",
     "text": [
      "15\n",
      "24\n",
      "25\n"
     ]
    }
   ],
   "source": [
    "def sum_of_digits(n):\n",
    "    if n == 0:\n",
    "        return 0\n",
    "    else:\n",
    "        return n % 10 + sum_of_digits(n // 10)\n",
    "\n",
    "print(sum_of_digits(12345))   \n",
    "print(sum_of_digits(987))     \n",
    "print(sum_of_digits(13579))   \n"
   ]
  },
  {
   "cell_type": "code",
   "execution_count": null,
   "id": "bd054d57",
   "metadata": {},
   "outputs": [],
   "source": [
    "'''114. Binary Search: Write a recursive Python function called `binary_search` that takes a sorted list and a target value as input and returns the index of the target value in the list using binary search. If the target value is not in the list, return -1.'''"
   ]
  },
  {
   "cell_type": "code",
   "execution_count": 37,
   "id": "3b10fc5b",
   "metadata": {},
   "outputs": [
    {
     "name": "stdout",
     "output_type": "stream",
     "text": [
      "4\n",
      "7\n",
      "-1\n"
     ]
    }
   ],
   "source": [
    "def binary_search(sorted_list, target, low, high):\n",
    "    if low > high:\n",
    "        return -1\n",
    "    \n",
    "    mid = (low + high) // 2\n",
    "    \n",
    "    if sorted_list[mid] == target:\n",
    "        return mid\n",
    "    elif sorted_list[mid] < target:\n",
    "        return binary_search(sorted_list, target, mid + 1, high)\n",
    "    else:\n",
    "        return binary_search(sorted_list, target, low, mid - 1)\n",
    "\n",
    "sorted_list = [1, 3, 5, 7, 9, 11, 13, 15, 17, 19]\n",
    "print(binary_search(sorted_list, 9, 0, len(sorted_list) - 1))\n",
    "print(binary_search(sorted_list, 15, 0, len(sorted_list) - 1))\n",
    "print(binary_search(sorted_list, 2, 0, len(sorted_list) - 1))\n"
   ]
  },
  {
   "cell_type": "code",
   "execution_count": null,
   "id": "f31d5866",
   "metadata": {},
   "outputs": [],
   "source": [
    "'''115. Power Calculation: Write a recursive Python function called `power` that takes two positive integers, base and exponent, as input and returns the value of base raised to the exponent.'''"
   ]
  },
  {
   "cell_type": "code",
   "execution_count": 38,
   "id": "1cd0d5f4",
   "metadata": {},
   "outputs": [
    {
     "name": "stdout",
     "output_type": "stream",
     "text": [
      "8\n",
      "81\n",
      "25\n"
     ]
    }
   ],
   "source": [
    "def power(base, exponent):\n",
    "    if exponent == 0:\n",
    "        return 1\n",
    "    else:\n",
    "        return base * power(base, exponent - 1)\n",
    "\n",
    "\n",
    "print(power(2, 3)) \n",
    "print(power(3, 4))  \n",
    "print(power(5, 2))   "
   ]
  },
  {
   "cell_type": "code",
   "execution_count": null,
   "id": "53e20850",
   "metadata": {},
   "outputs": [],
   "source": []
  }
 ],
 "metadata": {
  "kernelspec": {
   "display_name": "Python 3 (ipykernel)",
   "language": "python",
   "name": "python3"
  },
  "language_info": {
   "codemirror_mode": {
    "name": "ipython",
    "version": 3
   },
   "file_extension": ".py",
   "mimetype": "text/x-python",
   "name": "python",
   "nbconvert_exporter": "python",
   "pygments_lexer": "ipython3",
   "version": "3.11.1"
  }
 },
 "nbformat": 4,
 "nbformat_minor": 5
}
