{
 "cells": [
  {
   "cell_type": "code",
   "execution_count": 1,
   "metadata": {
    "id": "qAgAEkcgf0nS"
   },
   "outputs": [],
   "source": [
    "import warnings\n",
    "warnings.filterwarnings('ignore')\n",
    "\n",
    "import numpy as np\n",
    "import pandas as pd\n",
    "import matplotlib.pyplot as plt\n",
    "import seaborn as sns\n",
    "\n",
    "from sklearn.model_selection import train_test_split\n",
    "from sklearn.metrics import accuracy_score, precision_score, recall_score, f1_score\n",
    "from sklearn.metrics import confusion_matrix, roc_auc_score, log_loss\n",
    "from sklearn.linear_model import LogisticRegression\n",
    "from sklearn.ensemble import RandomForestClassifier\n",
    "from sklearn.svm import SVC\n",
    "from sklearn.ensemble import GradientBoostingClassifier"
   ]
  },
  {
   "cell_type": "code",
   "execution_count": 2,
   "metadata": {
    "id": "bqTKN7g2gr4F"
   },
   "outputs": [],
   "source": [
    "pd.set_option('display.max_columns', None)"
   ]
  },
  {
   "cell_type": "code",
   "execution_count": 3,
   "metadata": {
    "colab": {
     "base_uri": "https://localhost:8080/",
     "height": 538
    },
    "id": "NdC1RzVIg1xJ",
    "outputId": "6216109d-0099-4069-8c46-0605f7b4163b"
   },
   "outputs": [
    {
     "data": {
      "text/html": [
       "<div>\n",
       "<style scoped>\n",
       "    .dataframe tbody tr th:only-of-type {\n",
       "        vertical-align: middle;\n",
       "    }\n",
       "\n",
       "    .dataframe tbody tr th {\n",
       "        vertical-align: top;\n",
       "    }\n",
       "\n",
       "    .dataframe thead th {\n",
       "        text-align: right;\n",
       "    }\n",
       "</style>\n",
       "<table border=\"1\" class=\"dataframe\">\n",
       "  <thead>\n",
       "    <tr style=\"text-align: right;\">\n",
       "      <th></th>\n",
       "      <th>ID</th>\n",
       "      <th>Customer_ID</th>\n",
       "      <th>Month</th>\n",
       "      <th>Name</th>\n",
       "      <th>Age</th>\n",
       "      <th>SSN</th>\n",
       "      <th>Occupation</th>\n",
       "      <th>Annual_Income</th>\n",
       "      <th>Monthly_Inhand_Salary</th>\n",
       "      <th>Num_Bank_Accounts</th>\n",
       "      <th>Num_Credit_Card</th>\n",
       "      <th>Interest_Rate</th>\n",
       "      <th>Num_of_Loan</th>\n",
       "      <th>Type_of_Loan</th>\n",
       "      <th>Delay_from_due_date</th>\n",
       "      <th>Num_of_Delayed_Payment</th>\n",
       "      <th>Changed_Credit_Limit</th>\n",
       "      <th>Num_Credit_Inquiries</th>\n",
       "      <th>Credit_Mix</th>\n",
       "      <th>Outstanding_Debt</th>\n",
       "      <th>Credit_Utilization_Ratio</th>\n",
       "      <th>Credit_History_Age</th>\n",
       "      <th>Payment_of_Min_Amount</th>\n",
       "      <th>Total_EMI_per_month</th>\n",
       "      <th>Amount_invested_monthly</th>\n",
       "      <th>Payment_Behaviour</th>\n",
       "      <th>Monthly_Balance</th>\n",
       "    </tr>\n",
       "  </thead>\n",
       "  <tbody>\n",
       "    <tr>\n",
       "      <th>0</th>\n",
       "      <td>0x160a</td>\n",
       "      <td>CUS_0xd40</td>\n",
       "      <td>September</td>\n",
       "      <td>Aaron Maashoh</td>\n",
       "      <td>23</td>\n",
       "      <td>821-00-0265</td>\n",
       "      <td>Scientist</td>\n",
       "      <td>19114.12</td>\n",
       "      <td>1824.843333</td>\n",
       "      <td>3</td>\n",
       "      <td>4</td>\n",
       "      <td>3</td>\n",
       "      <td>4</td>\n",
       "      <td>Auto Loan, Credit-Builder Loan, Personal Loan,...</td>\n",
       "      <td>3</td>\n",
       "      <td>7</td>\n",
       "      <td>11.27</td>\n",
       "      <td>2022.0</td>\n",
       "      <td>Good</td>\n",
       "      <td>809.98</td>\n",
       "      <td>35.030402</td>\n",
       "      <td>22 Years and 9 Months</td>\n",
       "      <td>No</td>\n",
       "      <td>49.574949</td>\n",
       "      <td>236.64268203272135</td>\n",
       "      <td>Low_spent_Small_value_payments</td>\n",
       "      <td>186.26670208571772</td>\n",
       "    </tr>\n",
       "    <tr>\n",
       "      <th>1</th>\n",
       "      <td>0x160b</td>\n",
       "      <td>CUS_0xd40</td>\n",
       "      <td>October</td>\n",
       "      <td>Aaron Maashoh</td>\n",
       "      <td>24</td>\n",
       "      <td>821-00-0265</td>\n",
       "      <td>Scientist</td>\n",
       "      <td>19114.12</td>\n",
       "      <td>1824.843333</td>\n",
       "      <td>3</td>\n",
       "      <td>4</td>\n",
       "      <td>3</td>\n",
       "      <td>4</td>\n",
       "      <td>Auto Loan, Credit-Builder Loan, Personal Loan,...</td>\n",
       "      <td>3</td>\n",
       "      <td>9</td>\n",
       "      <td>13.27</td>\n",
       "      <td>4.0</td>\n",
       "      <td>Good</td>\n",
       "      <td>809.98</td>\n",
       "      <td>33.053114</td>\n",
       "      <td>22 Years and 10 Months</td>\n",
       "      <td>No</td>\n",
       "      <td>49.574949</td>\n",
       "      <td>21.465380264657146</td>\n",
       "      <td>High_spent_Medium_value_payments</td>\n",
       "      <td>361.44400385378196</td>\n",
       "    </tr>\n",
       "    <tr>\n",
       "      <th>2</th>\n",
       "      <td>0x160c</td>\n",
       "      <td>CUS_0xd40</td>\n",
       "      <td>November</td>\n",
       "      <td>Aaron Maashoh</td>\n",
       "      <td>24</td>\n",
       "      <td>821-00-0265</td>\n",
       "      <td>Scientist</td>\n",
       "      <td>19114.12</td>\n",
       "      <td>1824.843333</td>\n",
       "      <td>3</td>\n",
       "      <td>4</td>\n",
       "      <td>3</td>\n",
       "      <td>4</td>\n",
       "      <td>Auto Loan, Credit-Builder Loan, Personal Loan,...</td>\n",
       "      <td>-1</td>\n",
       "      <td>4</td>\n",
       "      <td>12.27</td>\n",
       "      <td>4.0</td>\n",
       "      <td>Good</td>\n",
       "      <td>809.98</td>\n",
       "      <td>33.811894</td>\n",
       "      <td>NaN</td>\n",
       "      <td>No</td>\n",
       "      <td>49.574949</td>\n",
       "      <td>148.23393788500925</td>\n",
       "      <td>Low_spent_Medium_value_payments</td>\n",
       "      <td>264.67544623342997</td>\n",
       "    </tr>\n",
       "    <tr>\n",
       "      <th>3</th>\n",
       "      <td>0x160d</td>\n",
       "      <td>CUS_0xd40</td>\n",
       "      <td>December</td>\n",
       "      <td>Aaron Maashoh</td>\n",
       "      <td>24_</td>\n",
       "      <td>821-00-0265</td>\n",
       "      <td>Scientist</td>\n",
       "      <td>19114.12</td>\n",
       "      <td>NaN</td>\n",
       "      <td>3</td>\n",
       "      <td>4</td>\n",
       "      <td>3</td>\n",
       "      <td>4</td>\n",
       "      <td>Auto Loan, Credit-Builder Loan, Personal Loan,...</td>\n",
       "      <td>4</td>\n",
       "      <td>5</td>\n",
       "      <td>11.27</td>\n",
       "      <td>4.0</td>\n",
       "      <td>Good</td>\n",
       "      <td>809.98</td>\n",
       "      <td>32.430559</td>\n",
       "      <td>23 Years and 0 Months</td>\n",
       "      <td>No</td>\n",
       "      <td>49.574949</td>\n",
       "      <td>39.08251089460281</td>\n",
       "      <td>High_spent_Medium_value_payments</td>\n",
       "      <td>343.82687322383634</td>\n",
       "    </tr>\n",
       "    <tr>\n",
       "      <th>4</th>\n",
       "      <td>0x1616</td>\n",
       "      <td>CUS_0x21b1</td>\n",
       "      <td>September</td>\n",
       "      <td>Rick Rothackerj</td>\n",
       "      <td>28</td>\n",
       "      <td>004-07-5839</td>\n",
       "      <td>_______</td>\n",
       "      <td>34847.84</td>\n",
       "      <td>3037.986667</td>\n",
       "      <td>2</td>\n",
       "      <td>4</td>\n",
       "      <td>6</td>\n",
       "      <td>1</td>\n",
       "      <td>Credit-Builder Loan</td>\n",
       "      <td>3</td>\n",
       "      <td>1</td>\n",
       "      <td>5.42</td>\n",
       "      <td>5.0</td>\n",
       "      <td>Good</td>\n",
       "      <td>605.03</td>\n",
       "      <td>25.926822</td>\n",
       "      <td>27 Years and 3 Months</td>\n",
       "      <td>No</td>\n",
       "      <td>18.816215</td>\n",
       "      <td>39.684018417945296</td>\n",
       "      <td>High_spent_Large_value_payments</td>\n",
       "      <td>485.2984336755923</td>\n",
       "    </tr>\n",
       "  </tbody>\n",
       "</table>\n",
       "</div>"
      ],
      "text/plain": [
       "       ID Customer_ID      Month             Name  Age          SSN  \\\n",
       "0  0x160a   CUS_0xd40  September    Aaron Maashoh   23  821-00-0265   \n",
       "1  0x160b   CUS_0xd40    October    Aaron Maashoh   24  821-00-0265   \n",
       "2  0x160c   CUS_0xd40   November    Aaron Maashoh   24  821-00-0265   \n",
       "3  0x160d   CUS_0xd40   December    Aaron Maashoh  24_  821-00-0265   \n",
       "4  0x1616  CUS_0x21b1  September  Rick Rothackerj   28  004-07-5839   \n",
       "\n",
       "  Occupation Annual_Income  Monthly_Inhand_Salary  Num_Bank_Accounts  \\\n",
       "0  Scientist      19114.12            1824.843333                  3   \n",
       "1  Scientist      19114.12            1824.843333                  3   \n",
       "2  Scientist      19114.12            1824.843333                  3   \n",
       "3  Scientist      19114.12                    NaN                  3   \n",
       "4    _______      34847.84            3037.986667                  2   \n",
       "\n",
       "   Num_Credit_Card  Interest_Rate Num_of_Loan  \\\n",
       "0                4              3           4   \n",
       "1                4              3           4   \n",
       "2                4              3           4   \n",
       "3                4              3           4   \n",
       "4                4              6           1   \n",
       "\n",
       "                                        Type_of_Loan  Delay_from_due_date  \\\n",
       "0  Auto Loan, Credit-Builder Loan, Personal Loan,...                    3   \n",
       "1  Auto Loan, Credit-Builder Loan, Personal Loan,...                    3   \n",
       "2  Auto Loan, Credit-Builder Loan, Personal Loan,...                   -1   \n",
       "3  Auto Loan, Credit-Builder Loan, Personal Loan,...                    4   \n",
       "4                                Credit-Builder Loan                    3   \n",
       "\n",
       "  Num_of_Delayed_Payment Changed_Credit_Limit  Num_Credit_Inquiries  \\\n",
       "0                      7                11.27                2022.0   \n",
       "1                      9                13.27                   4.0   \n",
       "2                      4                12.27                   4.0   \n",
       "3                      5                11.27                   4.0   \n",
       "4                      1                 5.42                   5.0   \n",
       "\n",
       "  Credit_Mix Outstanding_Debt  Credit_Utilization_Ratio  \\\n",
       "0       Good           809.98                 35.030402   \n",
       "1       Good           809.98                 33.053114   \n",
       "2       Good           809.98                 33.811894   \n",
       "3       Good           809.98                 32.430559   \n",
       "4       Good           605.03                 25.926822   \n",
       "\n",
       "       Credit_History_Age Payment_of_Min_Amount  Total_EMI_per_month  \\\n",
       "0   22 Years and 9 Months                    No            49.574949   \n",
       "1  22 Years and 10 Months                    No            49.574949   \n",
       "2                     NaN                    No            49.574949   \n",
       "3   23 Years and 0 Months                    No            49.574949   \n",
       "4   27 Years and 3 Months                    No            18.816215   \n",
       "\n",
       "  Amount_invested_monthly                 Payment_Behaviour  \\\n",
       "0      236.64268203272135    Low_spent_Small_value_payments   \n",
       "1      21.465380264657146  High_spent_Medium_value_payments   \n",
       "2      148.23393788500925   Low_spent_Medium_value_payments   \n",
       "3       39.08251089460281  High_spent_Medium_value_payments   \n",
       "4      39.684018417945296   High_spent_Large_value_payments   \n",
       "\n",
       "      Monthly_Balance  \n",
       "0  186.26670208571772  \n",
       "1  361.44400385378196  \n",
       "2  264.67544623342997  \n",
       "3  343.82687322383634  \n",
       "4   485.2984336755923  "
      ]
     },
     "execution_count": 3,
     "metadata": {},
     "output_type": "execute_result"
    }
   ],
   "source": [
    "df = pd.read_csv(\"Bank Data.csv\")\n",
    "df.head()"
   ]
  },
  {
   "cell_type": "code",
   "execution_count": 4,
   "metadata": {
    "colab": {
     "base_uri": "https://localhost:8080/"
    },
    "id": "ik12-revhNeQ",
    "outputId": "2c763d55-c506-4682-a3dd-e486fcab7c4b"
   },
   "outputs": [
    {
     "data": {
      "text/plain": [
       "ID                             0\n",
       "Customer_ID                    0\n",
       "Month                          0\n",
       "Name                        5015\n",
       "Age                            0\n",
       "SSN                            0\n",
       "Occupation                     0\n",
       "Annual_Income                  0\n",
       "Monthly_Inhand_Salary       7498\n",
       "Num_Bank_Accounts              0\n",
       "Num_Credit_Card                0\n",
       "Interest_Rate                  0\n",
       "Num_of_Loan                    0\n",
       "Type_of_Loan                5704\n",
       "Delay_from_due_date            0\n",
       "Num_of_Delayed_Payment      3498\n",
       "Changed_Credit_Limit           0\n",
       "Num_Credit_Inquiries        1035\n",
       "Credit_Mix                     0\n",
       "Outstanding_Debt               0\n",
       "Credit_Utilization_Ratio       0\n",
       "Credit_History_Age          4470\n",
       "Payment_of_Min_Amount          0\n",
       "Total_EMI_per_month            0\n",
       "Amount_invested_monthly     2271\n",
       "Payment_Behaviour              0\n",
       "Monthly_Balance              562\n",
       "dtype: int64"
      ]
     },
     "execution_count": 4,
     "metadata": {},
     "output_type": "execute_result"
    }
   ],
   "source": [
    "df.isnull().sum()"
   ]
  },
  {
   "cell_type": "code",
   "execution_count": 5,
   "metadata": {
    "colab": {
     "base_uri": "https://localhost:8080/",
     "height": 295
    },
    "id": "sEwKEeYWhtJL",
    "outputId": "d3efdbb2-ddd3-4295-823d-12cc0ca2acbe"
   },
   "outputs": [
    {
     "data": {
      "text/html": [
       "<div>\n",
       "<style scoped>\n",
       "    .dataframe tbody tr th:only-of-type {\n",
       "        vertical-align: middle;\n",
       "    }\n",
       "\n",
       "    .dataframe tbody tr th {\n",
       "        vertical-align: top;\n",
       "    }\n",
       "\n",
       "    .dataframe thead th {\n",
       "        text-align: right;\n",
       "    }\n",
       "</style>\n",
       "<table border=\"1\" class=\"dataframe\">\n",
       "  <thead>\n",
       "    <tr style=\"text-align: right;\">\n",
       "      <th></th>\n",
       "      <th>Month</th>\n",
       "      <th>Age</th>\n",
       "      <th>Occupation</th>\n",
       "      <th>Annual_Income</th>\n",
       "      <th>Monthly_Inhand_Salary</th>\n",
       "      <th>Num_Bank_Accounts</th>\n",
       "      <th>Num_Credit_Card</th>\n",
       "      <th>Interest_Rate</th>\n",
       "      <th>Num_of_Loan</th>\n",
       "      <th>Delay_from_due_date</th>\n",
       "      <th>Num_of_Delayed_Payment</th>\n",
       "      <th>Changed_Credit_Limit</th>\n",
       "      <th>Num_Credit_Inquiries</th>\n",
       "      <th>Credit_Mix</th>\n",
       "      <th>Outstanding_Debt</th>\n",
       "      <th>Credit_Utilization_Ratio</th>\n",
       "      <th>Credit_History_Age</th>\n",
       "      <th>Payment_of_Min_Amount</th>\n",
       "      <th>Total_EMI_per_month</th>\n",
       "      <th>Amount_invested_monthly</th>\n",
       "      <th>Monthly_Balance</th>\n",
       "    </tr>\n",
       "  </thead>\n",
       "  <tbody>\n",
       "    <tr>\n",
       "      <th>0</th>\n",
       "      <td>September</td>\n",
       "      <td>23</td>\n",
       "      <td>Scientist</td>\n",
       "      <td>19114.12</td>\n",
       "      <td>1824.843333</td>\n",
       "      <td>3</td>\n",
       "      <td>4</td>\n",
       "      <td>3</td>\n",
       "      <td>4</td>\n",
       "      <td>3</td>\n",
       "      <td>7</td>\n",
       "      <td>11.27</td>\n",
       "      <td>2022.0</td>\n",
       "      <td>Good</td>\n",
       "      <td>809.98</td>\n",
       "      <td>35.030402</td>\n",
       "      <td>22 Years and 9 Months</td>\n",
       "      <td>No</td>\n",
       "      <td>49.574949</td>\n",
       "      <td>236.64268203272135</td>\n",
       "      <td>186.26670208571772</td>\n",
       "    </tr>\n",
       "    <tr>\n",
       "      <th>1</th>\n",
       "      <td>October</td>\n",
       "      <td>24</td>\n",
       "      <td>Scientist</td>\n",
       "      <td>19114.12</td>\n",
       "      <td>1824.843333</td>\n",
       "      <td>3</td>\n",
       "      <td>4</td>\n",
       "      <td>3</td>\n",
       "      <td>4</td>\n",
       "      <td>3</td>\n",
       "      <td>9</td>\n",
       "      <td>13.27</td>\n",
       "      <td>4.0</td>\n",
       "      <td>Good</td>\n",
       "      <td>809.98</td>\n",
       "      <td>33.053114</td>\n",
       "      <td>22 Years and 10 Months</td>\n",
       "      <td>No</td>\n",
       "      <td>49.574949</td>\n",
       "      <td>21.465380264657146</td>\n",
       "      <td>361.44400385378196</td>\n",
       "    </tr>\n",
       "    <tr>\n",
       "      <th>2</th>\n",
       "      <td>November</td>\n",
       "      <td>24</td>\n",
       "      <td>Scientist</td>\n",
       "      <td>19114.12</td>\n",
       "      <td>1824.843333</td>\n",
       "      <td>3</td>\n",
       "      <td>4</td>\n",
       "      <td>3</td>\n",
       "      <td>4</td>\n",
       "      <td>-1</td>\n",
       "      <td>4</td>\n",
       "      <td>12.27</td>\n",
       "      <td>4.0</td>\n",
       "      <td>Good</td>\n",
       "      <td>809.98</td>\n",
       "      <td>33.811894</td>\n",
       "      <td>NaN</td>\n",
       "      <td>No</td>\n",
       "      <td>49.574949</td>\n",
       "      <td>148.23393788500925</td>\n",
       "      <td>264.67544623342997</td>\n",
       "    </tr>\n",
       "    <tr>\n",
       "      <th>3</th>\n",
       "      <td>December</td>\n",
       "      <td>24_</td>\n",
       "      <td>Scientist</td>\n",
       "      <td>19114.12</td>\n",
       "      <td>NaN</td>\n",
       "      <td>3</td>\n",
       "      <td>4</td>\n",
       "      <td>3</td>\n",
       "      <td>4</td>\n",
       "      <td>4</td>\n",
       "      <td>5</td>\n",
       "      <td>11.27</td>\n",
       "      <td>4.0</td>\n",
       "      <td>Good</td>\n",
       "      <td>809.98</td>\n",
       "      <td>32.430559</td>\n",
       "      <td>23 Years and 0 Months</td>\n",
       "      <td>No</td>\n",
       "      <td>49.574949</td>\n",
       "      <td>39.08251089460281</td>\n",
       "      <td>343.82687322383634</td>\n",
       "    </tr>\n",
       "    <tr>\n",
       "      <th>4</th>\n",
       "      <td>September</td>\n",
       "      <td>28</td>\n",
       "      <td>_______</td>\n",
       "      <td>34847.84</td>\n",
       "      <td>3037.986667</td>\n",
       "      <td>2</td>\n",
       "      <td>4</td>\n",
       "      <td>6</td>\n",
       "      <td>1</td>\n",
       "      <td>3</td>\n",
       "      <td>1</td>\n",
       "      <td>5.42</td>\n",
       "      <td>5.0</td>\n",
       "      <td>Good</td>\n",
       "      <td>605.03</td>\n",
       "      <td>25.926822</td>\n",
       "      <td>27 Years and 3 Months</td>\n",
       "      <td>No</td>\n",
       "      <td>18.816215</td>\n",
       "      <td>39.684018417945296</td>\n",
       "      <td>485.2984336755923</td>\n",
       "    </tr>\n",
       "  </tbody>\n",
       "</table>\n",
       "</div>"
      ],
      "text/plain": [
       "       Month  Age Occupation Annual_Income  Monthly_Inhand_Salary  \\\n",
       "0  September   23  Scientist      19114.12            1824.843333   \n",
       "1    October   24  Scientist      19114.12            1824.843333   \n",
       "2   November   24  Scientist      19114.12            1824.843333   \n",
       "3   December  24_  Scientist      19114.12                    NaN   \n",
       "4  September   28    _______      34847.84            3037.986667   \n",
       "\n",
       "   Num_Bank_Accounts  Num_Credit_Card  Interest_Rate Num_of_Loan  \\\n",
       "0                  3                4              3           4   \n",
       "1                  3                4              3           4   \n",
       "2                  3                4              3           4   \n",
       "3                  3                4              3           4   \n",
       "4                  2                4              6           1   \n",
       "\n",
       "   Delay_from_due_date Num_of_Delayed_Payment Changed_Credit_Limit  \\\n",
       "0                    3                      7                11.27   \n",
       "1                    3                      9                13.27   \n",
       "2                   -1                      4                12.27   \n",
       "3                    4                      5                11.27   \n",
       "4                    3                      1                 5.42   \n",
       "\n",
       "   Num_Credit_Inquiries Credit_Mix Outstanding_Debt  Credit_Utilization_Ratio  \\\n",
       "0                2022.0       Good           809.98                 35.030402   \n",
       "1                   4.0       Good           809.98                 33.053114   \n",
       "2                   4.0       Good           809.98                 33.811894   \n",
       "3                   4.0       Good           809.98                 32.430559   \n",
       "4                   5.0       Good           605.03                 25.926822   \n",
       "\n",
       "       Credit_History_Age Payment_of_Min_Amount  Total_EMI_per_month  \\\n",
       "0   22 Years and 9 Months                    No            49.574949   \n",
       "1  22 Years and 10 Months                    No            49.574949   \n",
       "2                     NaN                    No            49.574949   \n",
       "3   23 Years and 0 Months                    No            49.574949   \n",
       "4   27 Years and 3 Months                    No            18.816215   \n",
       "\n",
       "  Amount_invested_monthly     Monthly_Balance  \n",
       "0      236.64268203272135  186.26670208571772  \n",
       "1      21.465380264657146  361.44400385378196  \n",
       "2      148.23393788500925  264.67544623342997  \n",
       "3       39.08251089460281  343.82687322383634  \n",
       "4      39.684018417945296   485.2984336755923  "
      ]
     },
     "execution_count": 5,
     "metadata": {},
     "output_type": "execute_result"
    }
   ],
   "source": [
    "df.drop(columns=['ID','Customer_ID','SSN','Name','Type_of_Loan','Payment_Behaviour'],inplace=True)\n",
    "df.head()"
   ]
  },
  {
   "cell_type": "code",
   "execution_count": 6,
   "metadata": {
    "colab": {
     "base_uri": "https://localhost:8080/"
    },
    "id": "9o6AEPlPi4Um",
    "outputId": "49dfc95a-dd85-45b2-8cd6-8fbf35de07bd"
   },
   "outputs": [
    {
     "data": {
      "text/plain": [
       "(50000, 21)"
      ]
     },
     "execution_count": 6,
     "metadata": {},
     "output_type": "execute_result"
    }
   ],
   "source": [
    "df.shape"
   ]
  },
  {
   "cell_type": "code",
   "execution_count": 7,
   "metadata": {
    "colab": {
     "base_uri": "https://localhost:8080/"
    },
    "id": "oAMcMOjYAzyg",
    "outputId": "43804b63-fc1e-4382-dd01-c4b97f5294a7"
   },
   "outputs": [
    {
     "data": {
      "text/plain": [
       "Standard    18379\n",
       "Good        12260\n",
       "_            9805\n",
       "Bad          9556\n",
       "Name: Credit_Mix, dtype: int64"
      ]
     },
     "execution_count": 7,
     "metadata": {},
     "output_type": "execute_result"
    }
   ],
   "source": [
    "df.Credit_Mix.value_counts().head(10)"
   ]
  },
  {
   "cell_type": "code",
   "execution_count": 8,
   "metadata": {
    "id": "SK6QIWq9DbFL"
   },
   "outputs": [],
   "source": [
    "# Assuming df is your DataFrame\n",
    "df['Credit_Mix'].replace('_', 'neutral', inplace=True)\n",
    "df['Credit_Mix'].fillna('neutral', inplace=True)\n"
   ]
  },
  {
   "cell_type": "code",
   "execution_count": 9,
   "metadata": {
    "colab": {
     "base_uri": "https://localhost:8080/"
    },
    "id": "ZeAAejTCDhrx",
    "outputId": "fdaec3a2-e14e-4bb0-91fc-fe92ddff5560"
   },
   "outputs": [
    {
     "data": {
      "text/plain": [
       "Standard    18379\n",
       "Good        12260\n",
       "neutral      9805\n",
       "Bad          9556\n",
       "Name: Credit_Mix, dtype: int64"
      ]
     },
     "execution_count": 9,
     "metadata": {},
     "output_type": "execute_result"
    }
   ],
   "source": [
    "df.Credit_Mix.value_counts().head(10)"
   ]
  },
  {
   "cell_type": "code",
   "execution_count": 10,
   "metadata": {
    "colab": {
     "base_uri": "https://localhost:8080/"
    },
    "id": "Ch11qhHLjH22",
    "outputId": "8c56c773-e9de-472d-8643-207778672a52"
   },
   "outputs": [
    {
     "data": {
      "text/plain": [
       "Month                          0\n",
       "Age                            0\n",
       "Occupation                     0\n",
       "Annual_Income                  0\n",
       "Monthly_Inhand_Salary       7498\n",
       "Num_Bank_Accounts              0\n",
       "Num_Credit_Card                0\n",
       "Interest_Rate                  0\n",
       "Num_of_Loan                    0\n",
       "Delay_from_due_date            0\n",
       "Num_of_Delayed_Payment      3498\n",
       "Changed_Credit_Limit           0\n",
       "Num_Credit_Inquiries        1035\n",
       "Credit_Mix                     0\n",
       "Outstanding_Debt               0\n",
       "Credit_Utilization_Ratio       0\n",
       "Credit_History_Age          4470\n",
       "Payment_of_Min_Amount          0\n",
       "Total_EMI_per_month            0\n",
       "Amount_invested_monthly     2271\n",
       "Monthly_Balance              562\n",
       "dtype: int64"
      ]
     },
     "execution_count": 10,
     "metadata": {},
     "output_type": "execute_result"
    }
   ],
   "source": [
    "df.isnull().sum()"
   ]
  },
  {
   "cell_type": "code",
   "execution_count": 11,
   "metadata": {
    "colab": {
     "base_uri": "https://localhost:8080/"
    },
    "id": "g-7uTawJ7gu2",
    "outputId": "c51ff12e-c9c2-4b58-8e38-13eef8b45a99"
   },
   "outputs": [
    {
     "data": {
      "text/plain": [
       " 49     269\n",
       " 1      668\n",
       "-3       59\n",
       "-5       18\n",
       " 37     267\n",
       " 58     282\n",
       " 38     306\n",
       " 20    1300\n",
       " 2      669\n",
       " 21    1230\n",
       "-4       49\n",
       " 34     320\n",
       " 12    1625\n",
       " 10    1645\n",
       " 67       7\n",
       " 15    1759\n",
       " 60     259\n",
       " 51     248\n",
       " 19    1310\n",
       " 48     363\n",
       " 32     402\n",
       " 63      21\n",
       "-2       71\n",
       " 0      626\n",
       " 14    1636\n",
       " 25    1289\n",
       " 6     1584\n",
       " 59     250\n",
       " 8     1680\n",
       " 47     321\n",
       "-1      101\n",
       " 61     271\n",
       " 66      12\n",
       " 53     291\n",
       " 30    1115\n",
       " 54     308\n",
       " 45     269\n",
       " 9     1656\n",
       " 50     270\n",
       " 4      825\n",
       "Name: Delay_from_due_date, dtype: int64"
      ]
     },
     "execution_count": 11,
     "metadata": {},
     "output_type": "execute_result"
    }
   ],
   "source": [
    "df.Delay_from_due_date.value_counts().sample(40)"
   ]
  },
  {
   "cell_type": "markdown",
   "metadata": {
    "id": "w1ShWWPHZlr6"
   },
   "source": [
    "**Convert String to Float of Credit_History_Age column also fill the null value with it's mean**"
   ]
  },
  {
   "cell_type": "markdown",
   "metadata": {
    "id": "Cuo8850pTCU9"
   },
   "source": [
    "*After doing a lot of analyis I have found all 'Credit_History_Age\t' null cause I have to convert all of str to float/int value. For this operation 'Credit_History_Age' columns became null. But I need this column. So that I'm do it preprocessing. I have taken only integer value from this columns that would be standard*"
   ]
  },
  {
   "cell_type": "code",
   "execution_count": 12,
   "metadata": {
    "id": "s0EIVZ58TwWw"
   },
   "outputs": [],
   "source": [
    "def extract_age(row):\n",
    "    if isinstance(row, str):\n",
    "        years, months = 0, 0\n",
    "        if 'Years' in row:\n",
    "            years = int(row.split(' Years')[0])\n",
    "        if 'Months' in row:\n",
    "            months = int(row.split('and ')[1].split(' Months')[0])\n",
    "        return years + months / 12\n",
    "    else:\n",
    "        return np.nan\n",
    "\n",
    "df['Credit_History_Age'] = df['Credit_History_Age'].apply(extract_age)\n",
    "\n",
    "# Fill missing values with the mean\n",
    "mean_age = df['Credit_History_Age'].mean()\n",
    "df['Credit_History_Age'].fillna(mean_age, inplace=True)"
   ]
  },
  {
   "cell_type": "code",
   "execution_count": 13,
   "metadata": {
    "colab": {
     "base_uri": "https://localhost:8080/",
     "height": 226
    },
    "id": "z9X08oSiU37y",
    "outputId": "ec20688b-0e52-4ec6-cadc-1ef536f9ffa3"
   },
   "outputs": [
    {
     "data": {
      "text/html": [
       "<div>\n",
       "<style scoped>\n",
       "    .dataframe tbody tr th:only-of-type {\n",
       "        vertical-align: middle;\n",
       "    }\n",
       "\n",
       "    .dataframe tbody tr th {\n",
       "        vertical-align: top;\n",
       "    }\n",
       "\n",
       "    .dataframe thead th {\n",
       "        text-align: right;\n",
       "    }\n",
       "</style>\n",
       "<table border=\"1\" class=\"dataframe\">\n",
       "  <thead>\n",
       "    <tr style=\"text-align: right;\">\n",
       "      <th></th>\n",
       "      <th>Month</th>\n",
       "      <th>Age</th>\n",
       "      <th>Occupation</th>\n",
       "      <th>Annual_Income</th>\n",
       "      <th>Monthly_Inhand_Salary</th>\n",
       "      <th>Num_Bank_Accounts</th>\n",
       "      <th>Num_Credit_Card</th>\n",
       "      <th>Interest_Rate</th>\n",
       "      <th>Num_of_Loan</th>\n",
       "      <th>Delay_from_due_date</th>\n",
       "      <th>Num_of_Delayed_Payment</th>\n",
       "      <th>Changed_Credit_Limit</th>\n",
       "      <th>Num_Credit_Inquiries</th>\n",
       "      <th>Credit_Mix</th>\n",
       "      <th>Outstanding_Debt</th>\n",
       "      <th>Credit_Utilization_Ratio</th>\n",
       "      <th>Credit_History_Age</th>\n",
       "      <th>Payment_of_Min_Amount</th>\n",
       "      <th>Total_EMI_per_month</th>\n",
       "      <th>Amount_invested_monthly</th>\n",
       "      <th>Monthly_Balance</th>\n",
       "    </tr>\n",
       "  </thead>\n",
       "  <tbody>\n",
       "    <tr>\n",
       "      <th>0</th>\n",
       "      <td>September</td>\n",
       "      <td>23</td>\n",
       "      <td>Scientist</td>\n",
       "      <td>19114.12</td>\n",
       "      <td>1824.843333</td>\n",
       "      <td>3</td>\n",
       "      <td>4</td>\n",
       "      <td>3</td>\n",
       "      <td>4</td>\n",
       "      <td>3</td>\n",
       "      <td>7</td>\n",
       "      <td>11.27</td>\n",
       "      <td>2022.0</td>\n",
       "      <td>Good</td>\n",
       "      <td>809.98</td>\n",
       "      <td>35.030402</td>\n",
       "      <td>22.750000</td>\n",
       "      <td>No</td>\n",
       "      <td>49.574949</td>\n",
       "      <td>236.64268203272135</td>\n",
       "      <td>186.26670208571772</td>\n",
       "    </tr>\n",
       "    <tr>\n",
       "      <th>1</th>\n",
       "      <td>October</td>\n",
       "      <td>24</td>\n",
       "      <td>Scientist</td>\n",
       "      <td>19114.12</td>\n",
       "      <td>1824.843333</td>\n",
       "      <td>3</td>\n",
       "      <td>4</td>\n",
       "      <td>3</td>\n",
       "      <td>4</td>\n",
       "      <td>3</td>\n",
       "      <td>9</td>\n",
       "      <td>13.27</td>\n",
       "      <td>4.0</td>\n",
       "      <td>Good</td>\n",
       "      <td>809.98</td>\n",
       "      <td>33.053114</td>\n",
       "      <td>22.833333</td>\n",
       "      <td>No</td>\n",
       "      <td>49.574949</td>\n",
       "      <td>21.465380264657146</td>\n",
       "      <td>361.44400385378196</td>\n",
       "    </tr>\n",
       "    <tr>\n",
       "      <th>2</th>\n",
       "      <td>November</td>\n",
       "      <td>24</td>\n",
       "      <td>Scientist</td>\n",
       "      <td>19114.12</td>\n",
       "      <td>1824.843333</td>\n",
       "      <td>3</td>\n",
       "      <td>4</td>\n",
       "      <td>3</td>\n",
       "      <td>4</td>\n",
       "      <td>-1</td>\n",
       "      <td>4</td>\n",
       "      <td>12.27</td>\n",
       "      <td>4.0</td>\n",
       "      <td>Good</td>\n",
       "      <td>809.98</td>\n",
       "      <td>33.811894</td>\n",
       "      <td>18.937598</td>\n",
       "      <td>No</td>\n",
       "      <td>49.574949</td>\n",
       "      <td>148.23393788500925</td>\n",
       "      <td>264.67544623342997</td>\n",
       "    </tr>\n",
       "    <tr>\n",
       "      <th>3</th>\n",
       "      <td>December</td>\n",
       "      <td>24_</td>\n",
       "      <td>Scientist</td>\n",
       "      <td>19114.12</td>\n",
       "      <td>NaN</td>\n",
       "      <td>3</td>\n",
       "      <td>4</td>\n",
       "      <td>3</td>\n",
       "      <td>4</td>\n",
       "      <td>4</td>\n",
       "      <td>5</td>\n",
       "      <td>11.27</td>\n",
       "      <td>4.0</td>\n",
       "      <td>Good</td>\n",
       "      <td>809.98</td>\n",
       "      <td>32.430559</td>\n",
       "      <td>23.000000</td>\n",
       "      <td>No</td>\n",
       "      <td>49.574949</td>\n",
       "      <td>39.08251089460281</td>\n",
       "      <td>343.82687322383634</td>\n",
       "    </tr>\n",
       "    <tr>\n",
       "      <th>4</th>\n",
       "      <td>September</td>\n",
       "      <td>28</td>\n",
       "      <td>_______</td>\n",
       "      <td>34847.84</td>\n",
       "      <td>3037.986667</td>\n",
       "      <td>2</td>\n",
       "      <td>4</td>\n",
       "      <td>6</td>\n",
       "      <td>1</td>\n",
       "      <td>3</td>\n",
       "      <td>1</td>\n",
       "      <td>5.42</td>\n",
       "      <td>5.0</td>\n",
       "      <td>Good</td>\n",
       "      <td>605.03</td>\n",
       "      <td>25.926822</td>\n",
       "      <td>27.250000</td>\n",
       "      <td>No</td>\n",
       "      <td>18.816215</td>\n",
       "      <td>39.684018417945296</td>\n",
       "      <td>485.2984336755923</td>\n",
       "    </tr>\n",
       "  </tbody>\n",
       "</table>\n",
       "</div>"
      ],
      "text/plain": [
       "       Month  Age Occupation Annual_Income  Monthly_Inhand_Salary  \\\n",
       "0  September   23  Scientist      19114.12            1824.843333   \n",
       "1    October   24  Scientist      19114.12            1824.843333   \n",
       "2   November   24  Scientist      19114.12            1824.843333   \n",
       "3   December  24_  Scientist      19114.12                    NaN   \n",
       "4  September   28    _______      34847.84            3037.986667   \n",
       "\n",
       "   Num_Bank_Accounts  Num_Credit_Card  Interest_Rate Num_of_Loan  \\\n",
       "0                  3                4              3           4   \n",
       "1                  3                4              3           4   \n",
       "2                  3                4              3           4   \n",
       "3                  3                4              3           4   \n",
       "4                  2                4              6           1   \n",
       "\n",
       "   Delay_from_due_date Num_of_Delayed_Payment Changed_Credit_Limit  \\\n",
       "0                    3                      7                11.27   \n",
       "1                    3                      9                13.27   \n",
       "2                   -1                      4                12.27   \n",
       "3                    4                      5                11.27   \n",
       "4                    3                      1                 5.42   \n",
       "\n",
       "   Num_Credit_Inquiries Credit_Mix Outstanding_Debt  Credit_Utilization_Ratio  \\\n",
       "0                2022.0       Good           809.98                 35.030402   \n",
       "1                   4.0       Good           809.98                 33.053114   \n",
       "2                   4.0       Good           809.98                 33.811894   \n",
       "3                   4.0       Good           809.98                 32.430559   \n",
       "4                   5.0       Good           605.03                 25.926822   \n",
       "\n",
       "   Credit_History_Age Payment_of_Min_Amount  Total_EMI_per_month  \\\n",
       "0           22.750000                    No            49.574949   \n",
       "1           22.833333                    No            49.574949   \n",
       "2           18.937598                    No            49.574949   \n",
       "3           23.000000                    No            49.574949   \n",
       "4           27.250000                    No            18.816215   \n",
       "\n",
       "  Amount_invested_monthly     Monthly_Balance  \n",
       "0      236.64268203272135  186.26670208571772  \n",
       "1      21.465380264657146  361.44400385378196  \n",
       "2      148.23393788500925  264.67544623342997  \n",
       "3       39.08251089460281  343.82687322383634  \n",
       "4      39.684018417945296   485.2984336755923  "
      ]
     },
     "execution_count": 13,
     "metadata": {},
     "output_type": "execute_result"
    }
   ],
   "source": [
    "df.head(5)"
   ]
  },
  {
   "cell_type": "code",
   "execution_count": 14,
   "metadata": {
    "colab": {
     "base_uri": "https://localhost:8080/"
    },
    "id": "uCnwnKhJpfv3",
    "outputId": "3c5461f0-6c10-4241-a391-643fb703e90f"
   },
   "outputs": [
    {
     "data": {
      "text/plain": [
       "Yes    26158\n",
       "No     17849\n",
       "NM      5993\n",
       "Name: Payment_of_Min_Amount, dtype: int64"
      ]
     },
     "execution_count": 14,
     "metadata": {},
     "output_type": "execute_result"
    }
   ],
   "source": [
    "df.Payment_of_Min_Amount.value_counts()"
   ]
  },
  {
   "cell_type": "code",
   "execution_count": 15,
   "metadata": {
    "colab": {
     "base_uri": "https://localhost:8080/"
    },
    "id": "KXuxtBJMktbu",
    "outputId": "6458db96-b6e2-416f-8b16-c064e7ee1fd2"
   },
   "outputs": [
    {
     "data": {
      "text/plain": [
       "_______          3438\n",
       "Lawyer           3324\n",
       "Engineer         3212\n",
       "Architect        3195\n",
       "Mechanic         3168\n",
       "Developer        3146\n",
       "Accountant       3133\n",
       "Media_Manager    3130\n",
       "Scientist        3104\n",
       "Teacher          3103\n",
       "Entrepreneur     3103\n",
       "Journalist       3037\n",
       "Doctor           3027\n",
       "Manager          3000\n",
       "Musician         2947\n",
       "Writer           2933\n",
       "Name: Occupation, dtype: int64"
      ]
     },
     "execution_count": 15,
     "metadata": {},
     "output_type": "execute_result"
    }
   ],
   "source": [
    "df.Occupation.value_counts()"
   ]
  },
  {
   "cell_type": "code",
   "execution_count": 16,
   "metadata": {
    "id": "qHnyGtryLd4X"
   },
   "outputs": [],
   "source": [
    "import numpy as np\n",
    "\n",
    "# Replace \"_______\" with NaN\n",
    "df['Occupation'].replace(\"_______\", np.nan, inplace=True)\n",
    "\n",
    "# Get the list of occupations\n",
    "occupations_list = [\"Lawyer\", \"Engineer\", \"Architect\", \"Mechanic\", \"Developer\", \"Accountant\",\n",
    "                    \"Media_Manager\", \"Scientist\", \"Teacher\", \"Entrepreneur\", \"Journalist\",\n",
    "                    \"Doctor\", \"Manager\", \"Musician\", \"Writer\"]\n",
    "\n",
    "# Replace NaN values with random values from the list\n",
    "nan_mask = df['Occupation'].isnull()\n",
    "df.loc[nan_mask, 'Occupation'] = np.random.choice(occupations_list, size=nan_mask.sum())\n"
   ]
  },
  {
   "cell_type": "code",
   "execution_count": 17,
   "metadata": {
    "colab": {
     "base_uri": "https://localhost:8080/"
    },
    "id": "kHM846ZylX08",
    "outputId": "31ba6e7c-9acd-4e62-f612-c2f9be1cffff"
   },
   "outputs": [
    {
     "data": {
      "text/plain": [
       "Lawyer           3548\n",
       "Engineer         3436\n",
       "Mechanic         3417\n",
       "Architect        3413\n",
       "Developer        3376\n",
       "Accountant       3372\n",
       "Media_Manager    3359\n",
       "Entrepreneur     3334\n",
       "Scientist        3330\n",
       "Teacher          3322\n",
       "Journalist       3285\n",
       "Doctor           3248\n",
       "Manager          3229\n",
       "Musician         3172\n",
       "Writer           3159\n",
       "Name: Occupation, dtype: int64"
      ]
     },
     "execution_count": 17,
     "metadata": {},
     "output_type": "execute_result"
    }
   ],
   "source": [
    "df.Occupation.value_counts()"
   ]
  },
  {
   "cell_type": "code",
   "execution_count": 18,
   "metadata": {
    "colab": {
     "base_uri": "https://localhost:8080/"
    },
    "id": "Cr3HMfFDVQ-w",
    "outputId": "e0a66520-f414-451c-8d44-b8e8a6848f61"
   },
   "outputs": [
    {
     "data": {
      "text/plain": [
       "Month                          0\n",
       "Age                            0\n",
       "Occupation                     0\n",
       "Annual_Income                  0\n",
       "Monthly_Inhand_Salary       7498\n",
       "Num_Bank_Accounts              0\n",
       "Num_Credit_Card                0\n",
       "Interest_Rate                  0\n",
       "Num_of_Loan                    0\n",
       "Delay_from_due_date            0\n",
       "Num_of_Delayed_Payment      3498\n",
       "Changed_Credit_Limit           0\n",
       "Num_Credit_Inquiries        1035\n",
       "Credit_Mix                     0\n",
       "Outstanding_Debt               0\n",
       "Credit_Utilization_Ratio       0\n",
       "Credit_History_Age             0\n",
       "Payment_of_Min_Amount          0\n",
       "Total_EMI_per_month            0\n",
       "Amount_invested_monthly     2271\n",
       "Monthly_Balance              562\n",
       "dtype: int64"
      ]
     },
     "execution_count": 18,
     "metadata": {},
     "output_type": "execute_result"
    }
   ],
   "source": [
    "df.isnull().sum()"
   ]
  },
  {
   "cell_type": "code",
   "execution_count": 19,
   "metadata": {
    "colab": {
     "base_uri": "https://localhost:8080/"
    },
    "id": "vQSzhV7uhGVT",
    "outputId": "ff666244-0345-454a-8bc5-563e7224c3e7"
   },
   "outputs": [
    {
     "data": {
      "text/plain": [
       "(50000, 21)"
      ]
     },
     "execution_count": 19,
     "metadata": {},
     "output_type": "execute_result"
    }
   ],
   "source": [
    "df.shape\n"
   ]
  },
  {
   "cell_type": "code",
   "execution_count": 20,
   "metadata": {
    "colab": {
     "base_uri": "https://localhost:8080/"
    },
    "id": "I8aX4XIIG_gs",
    "outputId": "e711a097-fb13-41fd-b5b8-fd9ea0ed6b8f"
   },
   "outputs": [
    {
     "name": "stdout",
     "output_type": "stream",
     "text": [
      "<class 'pandas.core.frame.DataFrame'>\n",
      "RangeIndex: 50000 entries, 0 to 49999\n",
      "Data columns (total 21 columns):\n",
      " #   Column                    Non-Null Count  Dtype  \n",
      "---  ------                    --------------  -----  \n",
      " 0   Month                     50000 non-null  object \n",
      " 1   Age                       50000 non-null  object \n",
      " 2   Occupation                50000 non-null  object \n",
      " 3   Annual_Income             50000 non-null  object \n",
      " 4   Monthly_Inhand_Salary     42502 non-null  float64\n",
      " 5   Num_Bank_Accounts         50000 non-null  int64  \n",
      " 6   Num_Credit_Card           50000 non-null  int64  \n",
      " 7   Interest_Rate             50000 non-null  int64  \n",
      " 8   Num_of_Loan               50000 non-null  object \n",
      " 9   Delay_from_due_date       50000 non-null  int64  \n",
      " 10  Num_of_Delayed_Payment    46502 non-null  object \n",
      " 11  Changed_Credit_Limit      50000 non-null  object \n",
      " 12  Num_Credit_Inquiries      48965 non-null  float64\n",
      " 13  Credit_Mix                50000 non-null  object \n",
      " 14  Outstanding_Debt          50000 non-null  object \n",
      " 15  Credit_Utilization_Ratio  50000 non-null  float64\n",
      " 16  Credit_History_Age        50000 non-null  float64\n",
      " 17  Payment_of_Min_Amount     50000 non-null  object \n",
      " 18  Total_EMI_per_month       50000 non-null  float64\n",
      " 19  Amount_invested_monthly   47729 non-null  object \n",
      " 20  Monthly_Balance           49438 non-null  object \n",
      "dtypes: float64(5), int64(4), object(12)\n",
      "memory usage: 8.0+ MB\n"
     ]
    }
   ],
   "source": [
    "df.info()"
   ]
  },
  {
   "cell_type": "markdown",
   "metadata": {
    "id": "WEuvJjxDaCLy"
   },
   "source": [
    "**Those columns shoud be numerical values but it has as string now I'm converting them**"
   ]
  },
  {
   "cell_type": "code",
   "execution_count": 21,
   "metadata": {
    "colab": {
     "base_uri": "https://localhost:8080/"
    },
    "id": "_YQxJ-IUHBVq",
    "outputId": "29a7ca8e-e7db-4fd2-a7fc-f08af3827dc8"
   },
   "outputs": [
    {
     "name": "stdout",
     "output_type": "stream",
     "text": [
      "Month                        object\n",
      "Age                         float64\n",
      "Occupation                   object\n",
      "Annual_Income               float64\n",
      "Monthly_Inhand_Salary       float64\n",
      "Num_Bank_Accounts             int64\n",
      "Num_Credit_Card               int64\n",
      "Interest_Rate                 int64\n",
      "Num_of_Loan                 float64\n",
      "Delay_from_due_date           int64\n",
      "Num_of_Delayed_Payment      float64\n",
      "Changed_Credit_Limit        float64\n",
      "Num_Credit_Inquiries        float64\n",
      "Credit_Mix                   object\n",
      "Outstanding_Debt            float64\n",
      "Credit_Utilization_Ratio    float64\n",
      "Credit_History_Age          float64\n",
      "Payment_of_Min_Amount        object\n",
      "Total_EMI_per_month         float64\n",
      "Amount_invested_monthly     float64\n",
      "Monthly_Balance             float64\n",
      "dtype: object\n"
     ]
    }
   ],
   "source": [
    "# Assuming our DataFrame is named 'df'\n",
    "columns_to_convert = ['Age', 'Annual_Income','Num_of_Loan', 'Delay_from_due_date', 'Num_of_Delayed_Payment',\n",
    "                       'Changed_Credit_Limit','Outstanding_Debt', 'Amount_invested_monthly', 'Monthly_Balance']\n",
    "\n",
    "# Convert selected columns to numeric types\n",
    "df[columns_to_convert] = df[columns_to_convert].apply(pd.to_numeric, errors='coerce')\n",
    "\n",
    "# Check the data types after conversion\n",
    "print(df.dtypes)\n"
   ]
  },
  {
   "cell_type": "code",
   "execution_count": 22,
   "metadata": {
    "colab": {
     "base_uri": "https://localhost:8080/"
    },
    "id": "0Z2kdvm7hLYT",
    "outputId": "9049b0e5-9ddb-43c6-8939-48f4d58fba1b"
   },
   "outputs": [
    {
     "data": {
      "text/plain": [
       "Month                          0\n",
       "Age                         2477\n",
       "Occupation                     0\n",
       "Annual_Income               3520\n",
       "Monthly_Inhand_Salary       7498\n",
       "Num_Bank_Accounts              0\n",
       "Num_Credit_Card                0\n",
       "Interest_Rate                  0\n",
       "Num_of_Loan                 2436\n",
       "Delay_from_due_date            0\n",
       "Num_of_Delayed_Payment      4925\n",
       "Changed_Credit_Limit        1059\n",
       "Num_Credit_Inquiries        1035\n",
       "Credit_Mix                     0\n",
       "Outstanding_Debt             491\n",
       "Credit_Utilization_Ratio       0\n",
       "Credit_History_Age             0\n",
       "Payment_of_Min_Amount          0\n",
       "Total_EMI_per_month            0\n",
       "Amount_invested_monthly     4446\n",
       "Monthly_Balance              568\n",
       "dtype: int64"
      ]
     },
     "execution_count": 22,
     "metadata": {},
     "output_type": "execute_result"
    }
   ],
   "source": [
    "df.isnull().sum()"
   ]
  },
  {
   "cell_type": "markdown",
   "metadata": {
    "id": "6maB7gfuaTz-"
   },
   "source": [
    "**Work wiht Monthly_Inhand_Salary columns and fill all missing rows by it's mean**"
   ]
  },
  {
   "cell_type": "code",
   "execution_count": 23,
   "metadata": {
    "colab": {
     "base_uri": "https://localhost:8080/"
    },
    "id": "briw6YylMaUO",
    "outputId": "97daf590-7898-4641-a744-978d513fb0d1"
   },
   "outputs": [
    {
     "data": {
      "text/plain": [
       "1792.315000     1\n",
       "1916.121667     1\n",
       "1966.027083     1\n",
       "6617.557500     1\n",
       "3158.531385     1\n",
       "2714.053557     1\n",
       "9477.328612     1\n",
       "7405.809676     1\n",
       "3303.945000     1\n",
       "7005.635000     1\n",
       "873.865417      1\n",
       "8343.470000     1\n",
       "6765.796667     1\n",
       "6204.196083     1\n",
       "1158.442083     1\n",
       "8188.211724     1\n",
       "3750.272500     1\n",
       "2836.380833     1\n",
       "8717.732500     1\n",
       "7823.998705     1\n",
       "12318.281290    1\n",
       "2438.323333     1\n",
       "1801.474167     1\n",
       "1497.882500     1\n",
       "926.473333      1\n",
       "3312.502174     1\n",
       "14241.603333    1\n",
       "8437.365531     1\n",
       "887.077917      1\n",
       "1488.550000     1\n",
       "5708.490000     1\n",
       "4473.288333     1\n",
       "3792.167500     1\n",
       "1183.864167     1\n",
       "11643.130049    1\n",
       "6107.183333     1\n",
       "683.253333      1\n",
       "1039.349084     1\n",
       "689.187083      1\n",
       "1652.952966     1\n",
       "12386.966240    1\n",
       "5993.870000     1\n",
       "6763.330000     1\n",
       "7729.695181     1\n",
       "2312.785000     1\n",
       "Name: Monthly_Inhand_Salary, dtype: int64"
      ]
     },
     "execution_count": 23,
     "metadata": {},
     "output_type": "execute_result"
    }
   ],
   "source": [
    "df['Monthly_Inhand_Salary'].value_counts().tail(45)"
   ]
  },
  {
   "cell_type": "code",
   "execution_count": 24,
   "metadata": {
    "colab": {
     "base_uri": "https://localhost:8080/"
    },
    "id": "T4rlkQWzMVmP",
    "outputId": "798622df-bbbf-43e7-a427-1022a6459328"
   },
   "outputs": [
    {
     "data": {
      "text/plain": [
       "Month                          0\n",
       "Age                         2477\n",
       "Occupation                     0\n",
       "Annual_Income               3520\n",
       "Monthly_Inhand_Salary          0\n",
       "Num_Bank_Accounts              0\n",
       "Num_Credit_Card                0\n",
       "Interest_Rate                  0\n",
       "Num_of_Loan                 2436\n",
       "Delay_from_due_date            0\n",
       "Num_of_Delayed_Payment      4925\n",
       "Changed_Credit_Limit        1059\n",
       "Num_Credit_Inquiries        1035\n",
       "Credit_Mix                     0\n",
       "Outstanding_Debt             491\n",
       "Credit_Utilization_Ratio       0\n",
       "Credit_History_Age             0\n",
       "Payment_of_Min_Amount          0\n",
       "Total_EMI_per_month            0\n",
       "Amount_invested_monthly     4446\n",
       "Monthly_Balance              568\n",
       "dtype: int64"
      ]
     },
     "execution_count": 24,
     "metadata": {},
     "output_type": "execute_result"
    }
   ],
   "source": [
    "\n",
    "average_monthly_salary = df['Monthly_Inhand_Salary'].mean()\n",
    "df['Monthly_Inhand_Salary'].fillna(value=average_monthly_salary, inplace=True)\n",
    "\n",
    "df.isnull().sum()\n"
   ]
  },
  {
   "cell_type": "markdown",
   "metadata": {
    "id": "nD4qifVeamU8"
   },
   "source": [
    "**Age never could be negative so that I remove all negative valuse and fill it's by it's mean**"
   ]
  },
  {
   "cell_type": "code",
   "execution_count": 25,
   "metadata": {
    "colab": {
     "base_uri": "https://localhost:8080/"
    },
    "id": "HyvHACCeKkkQ",
    "outputId": "a9833eb6-c0f0-4ee3-d528-a1a6987b03d1"
   },
   "outputs": [
    {
     "data": {
      "text/plain": [
       " 39.0      1493\n",
       " 32.0      1440\n",
       " 44.0      1428\n",
       " 22.0      1422\n",
       " 35.0      1414\n",
       " 37.0      1397\n",
       " 27.0      1382\n",
       " 20.0      1374\n",
       " 29.0      1368\n",
       " 26.0      1348\n",
       " 28.0      1344\n",
       " 30.0      1341\n",
       " 41.0      1338\n",
       " 25.0      1325\n",
       " 36.0      1318\n",
       " 24.0      1318\n",
       " 33.0      1280\n",
       " 42.0      1277\n",
       " 19.0      1277\n",
       " 38.0      1266\n",
       " 31.0      1265\n",
       " 21.0      1260\n",
       " 34.0      1236\n",
       " 23.0      1213\n",
       " 45.0      1208\n",
       " 40.0      1196\n",
       " 43.0      1193\n",
       " 46.0      1127\n",
       " 18.0       796\n",
       " 15.0       744\n",
       " 16.0       731\n",
       " 17.0       720\n",
       " 53.0       657\n",
       " 50.0       653\n",
       " 55.0       647\n",
       " 49.0       644\n",
       " 47.0       624\n",
       " 54.0       623\n",
       " 51.0       610\n",
       " 52.0       593\n",
       " 48.0       593\n",
       " 56.0       498\n",
       "-500.0      464\n",
       " 14.0       181\n",
       " 3287.0       2\n",
       "Name: Age, dtype: int64"
      ]
     },
     "execution_count": 25,
     "metadata": {},
     "output_type": "execute_result"
    }
   ],
   "source": [
    "df['Age'].value_counts().head(45)"
   ]
  },
  {
   "cell_type": "code",
   "execution_count": 26,
   "metadata": {
    "colab": {
     "base_uri": "https://localhost:8080/"
    },
    "id": "fyFoo_oTLac0",
    "outputId": "56243d75-6aa3-4ba0-ce76-d0c2271f9adb"
   },
   "outputs": [
    {
     "data": {
      "text/plain": [
       "Month                          0\n",
       "Age                            0\n",
       "Occupation                     0\n",
       "Annual_Income               3520\n",
       "Monthly_Inhand_Salary          0\n",
       "Num_Bank_Accounts              0\n",
       "Num_Credit_Card                0\n",
       "Interest_Rate                  0\n",
       "Num_of_Loan                 2436\n",
       "Delay_from_due_date            0\n",
       "Num_of_Delayed_Payment      4925\n",
       "Changed_Credit_Limit        1059\n",
       "Num_Credit_Inquiries        1035\n",
       "Credit_Mix                     0\n",
       "Outstanding_Debt             491\n",
       "Credit_Utilization_Ratio       0\n",
       "Credit_History_Age             0\n",
       "Payment_of_Min_Amount          0\n",
       "Total_EMI_per_month            0\n",
       "Amount_invested_monthly     4446\n",
       "Monthly_Balance              568\n",
       "dtype: int64"
      ]
     },
     "execution_count": 26,
     "metadata": {},
     "output_type": "execute_result"
    }
   ],
   "source": [
    "df['Age'] = df['Age'].apply(lambda x: x if (x >= 0 and x <= 100) else np.nan)\n",
    "mean_age = df['Age'].mean()\n",
    "df['Age'].fillna(mean_age, inplace=True)\n",
    "\n",
    "df.isnull().sum()\n"
   ]
  },
  {
   "cell_type": "markdown",
   "metadata": {
    "id": "mWIxiOh8a1TC"
   },
   "source": [
    "**Working wiht Annual_Income Column**"
   ]
  },
  {
   "cell_type": "code",
   "execution_count": 27,
   "metadata": {
    "colab": {
     "base_uri": "https://localhost:8080/"
    },
    "id": "q4WfJSpgNEjz",
    "outputId": "b6c14ea4-4edf-4045-f0d0-d094842bf1be"
   },
   "outputs": [
    {
     "data": {
      "text/plain": [
       "109945.320    8\n",
       "17816.750     8\n",
       "9141.630      8\n",
       "36585.120     8\n",
       "72524.200     8\n",
       "95596.350     8\n",
       "22434.160     8\n",
       "33029.660     7\n",
       "20867.670     7\n",
       "40341.160     7\n",
       "17273.830     6\n",
       "32543.380     5\n",
       "43790.400     4\n",
       "28431.060     4\n",
       "43268.790     4\n",
       "108638.760    4\n",
       "32198.230     4\n",
       "138920.840    4\n",
       "56784.540     4\n",
       "7577.175      4\n",
       "50807.440     4\n",
       "13864.835     4\n",
       "145932.040    4\n",
       "19183.530     4\n",
       "68948.320     4\n",
       "24778.800     4\n",
       "66189.240     4\n",
       "20560.130     4\n",
       "14226.810     4\n",
       "83552.120     4\n",
       "37353.580     4\n",
       "151437.080    4\n",
       "13000.735     4\n",
       "14888.915     4\n",
       "100465.140    4\n",
       "16697.830     4\n",
       "20090.020     4\n",
       "94256.480     4\n",
       "7295.715      4\n",
       "18500.540     4\n",
       "35317.810     4\n",
       "25703.340     4\n",
       "70973.320     4\n",
       "121233.510    4\n",
       "71518.920     4\n",
       "Name: Annual_Income, dtype: int64"
      ]
     },
     "execution_count": 27,
     "metadata": {},
     "output_type": "execute_result"
    }
   ],
   "source": [
    "df['Annual_Income'].value_counts().head(45)"
   ]
  },
  {
   "cell_type": "code",
   "execution_count": 28,
   "metadata": {
    "colab": {
     "base_uri": "https://localhost:8080/"
    },
    "id": "rdoDsgQWNcDo",
    "outputId": "ef57c61f-8de0-4eab-8908-322ea93f2ea8"
   },
   "outputs": [
    {
     "data": {
      "text/plain": [
       "Month                          0\n",
       "Age                            0\n",
       "Occupation                     0\n",
       "Annual_Income                  0\n",
       "Monthly_Inhand_Salary          0\n",
       "Num_Bank_Accounts              0\n",
       "Num_Credit_Card                0\n",
       "Interest_Rate                  0\n",
       "Num_of_Loan                 2436\n",
       "Delay_from_due_date            0\n",
       "Num_of_Delayed_Payment      4925\n",
       "Changed_Credit_Limit        1059\n",
       "Num_Credit_Inquiries        1035\n",
       "Credit_Mix                     0\n",
       "Outstanding_Debt             491\n",
       "Credit_Utilization_Ratio       0\n",
       "Credit_History_Age             0\n",
       "Payment_of_Min_Amount          0\n",
       "Total_EMI_per_month            0\n",
       "Amount_invested_monthly     4446\n",
       "Monthly_Balance              568\n",
       "dtype: int64"
      ]
     },
     "execution_count": 28,
     "metadata": {},
     "output_type": "execute_result"
    }
   ],
   "source": [
    "# Calculate the mean of the 'Annual_Income' column\n",
    "mean_annual_income = df['Annual_Income'].mean()\n",
    "\n",
    "# Fill missing values with the mean\n",
    "df['Annual_Income'].fillna(mean_annual_income, inplace=True)\n",
    "df.isnull().sum()"
   ]
  },
  {
   "cell_type": "code",
   "execution_count": 29,
   "metadata": {
    "colab": {
     "base_uri": "https://localhost:8080/"
    },
    "id": "NXSAfG11n0A8",
    "outputId": "e4f44f96-2238-4847-83d0-0b8830497586"
   },
   "outputs": [
    {
     "data": {
      "text/plain": [
       "Month                          0\n",
       "Age                            0\n",
       "Occupation                     0\n",
       "Annual_Income                  0\n",
       "Monthly_Inhand_Salary          0\n",
       "Num_Bank_Accounts              0\n",
       "Num_Credit_Card                0\n",
       "Interest_Rate                  0\n",
       "Num_of_Loan                 2436\n",
       "Delay_from_due_date            0\n",
       "Num_of_Delayed_Payment      4925\n",
       "Changed_Credit_Limit        1059\n",
       "Num_Credit_Inquiries        1035\n",
       "Credit_Mix                     0\n",
       "Outstanding_Debt             491\n",
       "Credit_Utilization_Ratio       0\n",
       "Credit_History_Age             0\n",
       "Payment_of_Min_Amount          0\n",
       "Total_EMI_per_month            0\n",
       "Amount_invested_monthly     4446\n",
       "Monthly_Balance              568\n",
       "dtype: int64"
      ]
     },
     "execution_count": 29,
     "metadata": {},
     "output_type": "execute_result"
    }
   ],
   "source": [
    "\n",
    "average_monthly_salary = df['Monthly_Inhand_Salary'].mean()\n",
    "df['Monthly_Inhand_Salary'].fillna(value=average_monthly_salary, inplace=True)\n",
    "\n",
    "df.isnull().sum()\n"
   ]
  },
  {
   "cell_type": "markdown",
   "metadata": {
    "id": "8W1eeyiCbOXJ"
   },
   "source": [
    "****Working wiht Number_of_Delayed_payment columns and fill it's missing rows with it's random vlaues those values are has most frequently in this columns****"
   ]
  },
  {
   "cell_type": "code",
   "execution_count": 30,
   "metadata": {
    "colab": {
     "base_uri": "https://localhost:8080/"
    },
    "id": "KQe8cOmQhtfc",
    "outputId": "05a3d14e-58db-498b-a368-b24ea79796d3"
   },
   "outputs": [
    {
     "data": {
      "text/plain": [
       " 19.0      2622\n",
       " 15.0      2594\n",
       " 18.0      2570\n",
       " 16.0      2548\n",
       " 17.0      2545\n",
       " 10.0      2517\n",
       " 12.0      2483\n",
       " 11.0      2440\n",
       " 20.0      2422\n",
       " 9.0       2365\n",
       " 8.0       2352\n",
       " 14.0      2007\n",
       " 13.0      2000\n",
       " 21.0      1315\n",
       " 7.0       1140\n",
       " 22.0      1116\n",
       " 6.0       1076\n",
       " 5.0       1036\n",
       " 23.0      1011\n",
       " 3.0        939\n",
       " 4.0        887\n",
       " 2.0        872\n",
       " 24.0       836\n",
       " 1.0        814\n",
       " 25.0       813\n",
       " 0.0        784\n",
       " 26.0       147\n",
       "-1.0        123\n",
       " 27.0       104\n",
       "-2.0        103\n",
       " 28.0        64\n",
       "-3.0         49\n",
       " 2606.0       3\n",
       " 538.0        2\n",
       " 265.0        2\n",
       " 549.0        2\n",
       " 688.0        2\n",
       " 2583.0       2\n",
       " 3064.0       2\n",
       " 1377.0       2\n",
       " 2649.0       2\n",
       " 762.0        2\n",
       " 2608.0       2\n",
       " 861.0        2\n",
       " 3425.0       2\n",
       " 2595.0       2\n",
       " 3666.0       1\n",
       " 1718.0       1\n",
       " 1344.0       1\n",
       " 4206.0       1\n",
       "Name: Num_of_Delayed_Payment, dtype: int64"
      ]
     },
     "execution_count": 30,
     "metadata": {},
     "output_type": "execute_result"
    }
   ],
   "source": [
    "df['Num_of_Delayed_Payment'].value_counts().head(50)"
   ]
  },
  {
   "cell_type": "code",
   "execution_count": 31,
   "metadata": {
    "id": "ROuTpkpMhyJM"
   },
   "outputs": [],
   "source": [
    "\n",
    "# Create a list of the top most common values\n",
    "top_values = [19, 15, 18, 16, 17, 10, 11, 12, 20, 9, 8, 14, 13, 21, 7, 22, 6, 5, 23, 3, 4, 2, 24, 1, 25, 0]\n",
    "\n",
    "# Replace negative numbers with NaN\n",
    "df['Num_of_Delayed_Payment'] = df['Num_of_Delayed_Payment'].apply(lambda x: x if x >= 0 else np.nan)\n",
    "\n",
    "# Replace missing values with the top values\n",
    "missing_indices = df['Num_of_Delayed_Payment'].isnull()\n",
    "df.loc[missing_indices, 'Num_of_Delayed_Payment'] = np.random.choice(top_values, size=missing_indices.sum())\n"
   ]
  },
  {
   "cell_type": "markdown",
   "metadata": {
    "id": "-yfo4WPqbnon"
   },
   "source": [
    "**Working wiht Num_of_Loan columns and fill it's missing rows with it's random vlaues those values are has most frequently in this columns**"
   ]
  },
  {
   "cell_type": "code",
   "execution_count": 32,
   "metadata": {
    "colab": {
     "base_uri": "https://localhost:8080/"
    },
    "id": "yw9HYt-Zh4P8",
    "outputId": "82e6009a-2b50-4341-b892-d8f065b9315a"
   },
   "outputs": [
    {
     "data": {
      "text/plain": [
       "Month                          0\n",
       "Age                            0\n",
       "Occupation                     0\n",
       "Annual_Income                  0\n",
       "Monthly_Inhand_Salary          0\n",
       "Num_Bank_Accounts              0\n",
       "Num_Credit_Card                0\n",
       "Interest_Rate                  0\n",
       "Num_of_Loan                 2436\n",
       "Delay_from_due_date            0\n",
       "Num_of_Delayed_Payment         0\n",
       "Changed_Credit_Limit        1059\n",
       "Num_Credit_Inquiries        1035\n",
       "Credit_Mix                     0\n",
       "Outstanding_Debt             491\n",
       "Credit_Utilization_Ratio       0\n",
       "Credit_History_Age             0\n",
       "Payment_of_Min_Amount          0\n",
       "Total_EMI_per_month            0\n",
       "Amount_invested_monthly     4446\n",
       "Monthly_Balance              568\n",
       "dtype: int64"
      ]
     },
     "execution_count": 32,
     "metadata": {},
     "output_type": "execute_result"
    }
   ],
   "source": [
    "df.isnull().sum()"
   ]
  },
  {
   "cell_type": "code",
   "execution_count": 33,
   "metadata": {
    "colab": {
     "base_uri": "https://localhost:8080/"
    },
    "id": "ErAdgYumO3t8",
    "outputId": "ed5eed75-66ae-4a13-9134-e0727ba4c911"
   },
   "outputs": [
    {
     "data": {
      "text/plain": [
       " 2.0       7173\n",
       " 3.0       7114\n",
       " 4.0       6982\n",
       " 0.0       5163\n",
       " 1.0       5029\n",
       " 6.0       3707\n",
       " 7.0       3483\n",
       " 5.0       3437\n",
       "-100.0     1974\n",
       " 9.0       1746\n",
       " 8.0       1506\n",
       " 1237.0       2\n",
       " 463.0        2\n",
       " 452.0        2\n",
       " 505.0        2\n",
       " 286.0        2\n",
       " 1475.0       2\n",
       " 1024.0       2\n",
       " 1445.0       2\n",
       " 106.0        2\n",
       " 198.0        2\n",
       " 385.0        2\n",
       " 602.0        2\n",
       " 140.0        2\n",
       " 263.0        2\n",
       "Name: Num_of_Loan, dtype: int64"
      ]
     },
     "execution_count": 33,
     "metadata": {},
     "output_type": "execute_result"
    }
   ],
   "source": [
    "df.Num_of_Loan.value_counts().head(25)"
   ]
  },
  {
   "cell_type": "code",
   "execution_count": 34,
   "metadata": {
    "colab": {
     "base_uri": "https://localhost:8080/"
    },
    "id": "q_LUSHtiPfFu",
    "outputId": "e915301d-182f-4216-dd71-9150638bf01f"
   },
   "outputs": [
    {
     "data": {
      "text/plain": [
       "Month                          0\n",
       "Age                            0\n",
       "Occupation                     0\n",
       "Annual_Income                  0\n",
       "Monthly_Inhand_Salary          0\n",
       "Num_Bank_Accounts              0\n",
       "Num_Credit_Card                0\n",
       "Interest_Rate                  0\n",
       "Num_of_Loan                    0\n",
       "Delay_from_due_date            0\n",
       "Num_of_Delayed_Payment         0\n",
       "Changed_Credit_Limit        1059\n",
       "Num_Credit_Inquiries        1035\n",
       "Credit_Mix                     0\n",
       "Outstanding_Debt             491\n",
       "Credit_Utilization_Ratio       0\n",
       "Credit_History_Age             0\n",
       "Payment_of_Min_Amount          0\n",
       "Total_EMI_per_month            0\n",
       "Amount_invested_monthly     4446\n",
       "Monthly_Balance              568\n",
       "dtype: int64"
      ]
     },
     "execution_count": 34,
     "metadata": {},
     "output_type": "execute_result"
    }
   ],
   "source": [
    "\n",
    "# Replace negative numbers with NaN\n",
    "df['Num_of_Loan'] = df['Num_of_Loan'].apply(lambda x: x if x >= 0 else np.nan)\n",
    "\n",
    "# Create a list of the top most common values\n",
    "top_values = [2.0, 3.0, 4.0, 0.0, 1.0, 6.0, 7.0, 5.0, 9.0, 8.0]\n",
    "\n",
    "# Replace missing values with the top values\n",
    "missing_indices = df['Num_of_Loan'].isnull()\n",
    "df.loc[missing_indices, 'Num_of_Loan'] = np.random.choice(top_values, size=missing_indices.sum())\n",
    "\n",
    "df.isnull().sum()\n"
   ]
  },
  {
   "cell_type": "markdown",
   "metadata": {
    "id": "5FdTgm9RcS6r"
   },
   "source": [
    "**working with Changed_Credite_Limint column**"
   ]
  },
  {
   "cell_type": "code",
   "execution_count": 35,
   "metadata": {
    "colab": {
     "base_uri": "https://localhost:8080/"
    },
    "id": "rCSoP22-QXiK",
    "outputId": "e9f668a1-7249-4bc3-da7e-2d78e392be29"
   },
   "outputs": [
    {
     "name": "stdout",
     "output_type": "stream",
     "text": [
      "-4.08    5\n",
      "-0.79    5\n",
      "-2.50    5\n",
      "-2.03    5\n",
      "-1.41    5\n",
      "-0.60    4\n",
      "-1.46    4\n",
      "-3.22    4\n",
      "-0.67    4\n",
      "-0.99    4\n",
      "Name: Changed_Credit_Limit, dtype: int64\n"
     ]
    }
   ],
   "source": [
    "negative_changed_limit = df[df['Changed_Credit_Limit'] < 0]\n",
    "print(negative_changed_limit['Changed_Credit_Limit'].value_counts().head(10))\n"
   ]
  },
  {
   "cell_type": "markdown",
   "metadata": {
    "id": "TeqVeO41RhJj"
   },
   "source": [
    "In a financial context, a negative value for \"Changed_Credit_Limit\" might represent a reduction or decrease in the credit limit. In some cases, financial institutions or credit card companies may decrease a person's credit limit based on various factors such as changes in creditworthiness, missed payments, or other risk-related considerations."
   ]
  },
  {
   "cell_type": "code",
   "execution_count": 36,
   "metadata": {
    "colab": {
     "base_uri": "https://localhost:8080/"
    },
    "id": "W4nxT2cXRkzz",
    "outputId": "18a94f9a-0245-4ee2-b497-5de532535b63"
   },
   "outputs": [
    {
     "data": {
      "text/plain": [
       "Month                          0\n",
       "Age                            0\n",
       "Occupation                     0\n",
       "Annual_Income                  0\n",
       "Monthly_Inhand_Salary          0\n",
       "Num_Bank_Accounts              0\n",
       "Num_Credit_Card                0\n",
       "Interest_Rate                  0\n",
       "Num_of_Loan                    0\n",
       "Delay_from_due_date            0\n",
       "Num_of_Delayed_Payment         0\n",
       "Changed_Credit_Limit           0\n",
       "Num_Credit_Inquiries        1035\n",
       "Credit_Mix                     0\n",
       "Outstanding_Debt             491\n",
       "Credit_Utilization_Ratio       0\n",
       "Credit_History_Age             0\n",
       "Payment_of_Min_Amount          0\n",
       "Total_EMI_per_month            0\n",
       "Amount_invested_monthly     4446\n",
       "Monthly_Balance              568\n",
       "dtype: int64"
      ]
     },
     "execution_count": 36,
     "metadata": {},
     "output_type": "execute_result"
    }
   ],
   "source": [
    "mean_credit_limit = df['Changed_Credit_Limit'].mean()\n",
    "\n",
    "# Fill missing values with the mean\n",
    "df['Changed_Credit_Limit'].fillna(mean_credit_limit, inplace=True)\n",
    "df.isnull().sum()"
   ]
  },
  {
   "cell_type": "markdown",
   "metadata": {
    "id": "3arWGgArcpph"
   },
   "source": [
    "**Working with Num_Credit_Inquiries column**"
   ]
  },
  {
   "cell_type": "code",
   "execution_count": 37,
   "metadata": {
    "colab": {
     "base_uri": "https://localhost:8080/"
    },
    "id": "hj6T9X8_iAe-",
    "outputId": "f6116c27-3d0a-4167-860a-0f3a3ee5be81"
   },
   "outputs": [
    {
     "data": {
      "text/plain": [
       "5.0       4709\n",
       "4.0       4402\n",
       "6.0       4375\n",
       "7.0       4295\n",
       "8.0       3922\n",
       "9.0       3523\n",
       "3.0       3466\n",
       "11.0      2996\n",
       "10.0      2982\n",
       "12.0      2585\n",
       "2.0       2454\n",
       "13.0      2065\n",
       "1.0       1747\n",
       "14.0      1394\n",
       "0.0       1102\n",
       "15.0      1063\n",
       "16.0       651\n",
       "17.0       388\n",
       "2326.0       3\n",
       "2338.0       3\n",
       "1431.0       3\n",
       "1823.0       3\n",
       "2019.0       3\n",
       "1856.0       3\n",
       "1785.0       3\n",
       "2179.0       2\n",
       "1984.0       2\n",
       "1902.0       2\n",
       "824.0        2\n",
       "1990.0       2\n",
       "2013.0       2\n",
       "1808.0       2\n",
       "951.0        2\n",
       "593.0        2\n",
       "881.0        2\n",
       "396.0        2\n",
       "1879.0       2\n",
       "695.0        2\n",
       "1551.0       2\n",
       "323.0        2\n",
       "151.0        2\n",
       "2034.0       2\n",
       "140.0        2\n",
       "1138.0       2\n",
       "2328.0       2\n",
       "801.0        2\n",
       "1228.0       2\n",
       "1694.0       2\n",
       "2292.0       2\n",
       "1416.0       2\n",
       "Name: Num_Credit_Inquiries, dtype: int64"
      ]
     },
     "execution_count": 37,
     "metadata": {},
     "output_type": "execute_result"
    }
   ],
   "source": [
    "df['Num_Credit_Inquiries'].value_counts().head(50)"
   ]
  },
  {
   "cell_type": "code",
   "execution_count": 38,
   "metadata": {
    "id": "V5rf4H8LiEbn"
   },
   "outputs": [],
   "source": [
    "# Set the number of rows to fill\n",
    "num_rows_to_fill = 1035\n",
    "\n",
    "# Generate random values between 1 and 20\n",
    "random_values = np.random.randint(1, 21, size=num_rows_to_fill)\n",
    "\n",
    "# Find the indices of missing values in 'Num_Credit_Inquiries'\n",
    "missing_indices = df['Num_Credit_Inquiries'].isnull()\n",
    "\n",
    "# Replace missing values with random values\n",
    "df.loc[missing_indices, 'Num_Credit_Inquiries'] = random_values"
   ]
  },
  {
   "cell_type": "code",
   "execution_count": 39,
   "metadata": {
    "colab": {
     "base_uri": "https://localhost:8080/"
    },
    "id": "Bgpgifl7iIkV",
    "outputId": "4ee00a61-6138-4e53-eaf6-e78b5238bfbc"
   },
   "outputs": [
    {
     "data": {
      "text/plain": [
       "Month                          0\n",
       "Age                            0\n",
       "Occupation                     0\n",
       "Annual_Income                  0\n",
       "Monthly_Inhand_Salary          0\n",
       "Num_Bank_Accounts              0\n",
       "Num_Credit_Card                0\n",
       "Interest_Rate                  0\n",
       "Num_of_Loan                    0\n",
       "Delay_from_due_date            0\n",
       "Num_of_Delayed_Payment         0\n",
       "Changed_Credit_Limit           0\n",
       "Num_Credit_Inquiries           0\n",
       "Credit_Mix                     0\n",
       "Outstanding_Debt             491\n",
       "Credit_Utilization_Ratio       0\n",
       "Credit_History_Age             0\n",
       "Payment_of_Min_Amount          0\n",
       "Total_EMI_per_month            0\n",
       "Amount_invested_monthly     4446\n",
       "Monthly_Balance              568\n",
       "dtype: int64"
      ]
     },
     "execution_count": 39,
     "metadata": {},
     "output_type": "execute_result"
    }
   ],
   "source": [
    "df.isnull().sum()"
   ]
  },
  {
   "cell_type": "markdown",
   "metadata": {
    "id": "SOsNrL1qdqND"
   },
   "source": [
    "**Working wiht Amount_invested_monthly column**"
   ]
  },
  {
   "cell_type": "code",
   "execution_count": 40,
   "metadata": {
    "colab": {
     "base_uri": "https://localhost:8080/"
    },
    "id": "uu-S7uAvih1c",
    "outputId": "aada867c-2074-4675-c253-d95c08c82654"
   },
   "outputs": [
    {
     "data": {
      "text/plain": [
       "793.597186    1\n",
       "109.524179    1\n",
       "82.571977     1\n",
       "102.658023    1\n",
       "79.782635     1\n",
       "285.343947    1\n",
       "57.534533     1\n",
       "748.625498    1\n",
       "49.893509     1\n",
       "63.272686     1\n",
       "221.333884    1\n",
       "36.952274     1\n",
       "18.184504     1\n",
       "13.825182     1\n",
       "17.913243     1\n",
       "42.322310     1\n",
       "158.080629    1\n",
       "11.908091     1\n",
       "188.822031    1\n",
       "445.518708    1\n",
       "257.173563    1\n",
       "352.895283    1\n",
       "188.628242    1\n",
       "262.440115    1\n",
       "168.210066    1\n",
       "77.923151     1\n",
       "92.694694     1\n",
       "49.231406     1\n",
       "40.952555     1\n",
       "74.746469     1\n",
       "735.175586    1\n",
       "130.785144    1\n",
       "390.765481    1\n",
       "192.343397    1\n",
       "409.051633    1\n",
       "610.385627    1\n",
       "687.238659    1\n",
       "793.371509    1\n",
       "189.034767    1\n",
       "54.865397     1\n",
       "41.622649     1\n",
       "247.478334    1\n",
       "183.951614    1\n",
       "147.419348    1\n",
       "592.143969    1\n",
       "197.217131    1\n",
       "366.231484    1\n",
       "34.899406     1\n",
       "256.908305    1\n",
       "220.457878    1\n",
       "Name: Amount_invested_monthly, dtype: int64"
      ]
     },
     "execution_count": 40,
     "metadata": {},
     "output_type": "execute_result"
    }
   ],
   "source": [
    "df['Amount_invested_monthly'].value_counts().tail(50)"
   ]
  },
  {
   "cell_type": "code",
   "execution_count": 41,
   "metadata": {
    "id": "C38wOUrgil08"
   },
   "outputs": [],
   "source": [
    "# Convert 'Amount_invested_monthly' to numeric, handling errors with 'coerce'\n",
    "#df['Amount_invested_monthly'] = pd.to_numeric(df['Amount_invested_monthly'], errors='coerce')\n",
    "\n",
    "# Calculate the mean after converting to numeric\n",
    "mean_amount_invested = df['Amount_invested_monthly'].mean()\n",
    "\n",
    "# Fill missing values with the mean\n",
    "df['Amount_invested_monthly'].fillna(value=mean_amount_invested, inplace=True)\n"
   ]
  },
  {
   "cell_type": "code",
   "execution_count": 42,
   "metadata": {
    "colab": {
     "base_uri": "https://localhost:8080/"
    },
    "id": "ZjOzE-G9ipNs",
    "outputId": "bb41633f-7254-48f0-d794-f9bd31d849ab"
   },
   "outputs": [
    {
     "data": {
      "text/plain": [
       "Month                         0\n",
       "Age                           0\n",
       "Occupation                    0\n",
       "Annual_Income                 0\n",
       "Monthly_Inhand_Salary         0\n",
       "Num_Bank_Accounts             0\n",
       "Num_Credit_Card               0\n",
       "Interest_Rate                 0\n",
       "Num_of_Loan                   0\n",
       "Delay_from_due_date           0\n",
       "Num_of_Delayed_Payment        0\n",
       "Changed_Credit_Limit          0\n",
       "Num_Credit_Inquiries          0\n",
       "Credit_Mix                    0\n",
       "Outstanding_Debt            491\n",
       "Credit_Utilization_Ratio      0\n",
       "Credit_History_Age            0\n",
       "Payment_of_Min_Amount         0\n",
       "Total_EMI_per_month           0\n",
       "Amount_invested_monthly       0\n",
       "Monthly_Balance             568\n",
       "dtype: int64"
      ]
     },
     "execution_count": 42,
     "metadata": {},
     "output_type": "execute_result"
    }
   ],
   "source": [
    "df.isnull().sum()"
   ]
  },
  {
   "cell_type": "markdown",
   "metadata": {
    "id": "xRFdhlDhdzuy"
   },
   "source": [
    "**Working wiht Outstanding_Debt column**"
   ]
  },
  {
   "cell_type": "code",
   "execution_count": 43,
   "metadata": {
    "colab": {
     "base_uri": "https://localhost:8080/"
    },
    "id": "E8FnYfBFd-b7",
    "outputId": "3b443d3f-3688-45cc-bcab-e14defe3c802"
   },
   "outputs": [
    {
     "data": {
      "text/plain": [
       "1360.45    12\n",
       "460.46     12\n",
       "1109.03    12\n",
       "1151.70    12\n",
       "1170.58     8\n",
       "2196.59     8\n",
       "1466.97     8\n",
       "1286.07     8\n",
       "2538.06     8\n",
       "255.82      8\n",
       "2536.84     8\n",
       "852.74      8\n",
       "380.09      8\n",
       "557.78      8\n",
       "630.24      8\n",
       "434.36      8\n",
       "1334.09     8\n",
       "1004.26     8\n",
       "146.68      8\n",
       "248.84      8\n",
       "157.62      8\n",
       "795.69      8\n",
       "713.33      8\n",
       "Name: Outstanding_Debt, dtype: int64"
      ]
     },
     "execution_count": 43,
     "metadata": {},
     "output_type": "execute_result"
    }
   ],
   "source": [
    "df['Outstanding_Debt'].value_counts().head(23)"
   ]
  },
  {
   "cell_type": "code",
   "execution_count": 44,
   "metadata": {
    "colab": {
     "base_uri": "https://localhost:8080/"
    },
    "id": "4f0jgocdefA_",
    "outputId": "02f31a3c-83d0-474b-f03b-fff5decae979"
   },
   "outputs": [
    {
     "data": {
      "text/plain": [
       "Month                         0\n",
       "Age                           0\n",
       "Occupation                    0\n",
       "Annual_Income                 0\n",
       "Monthly_Inhand_Salary         0\n",
       "Num_Bank_Accounts             0\n",
       "Num_Credit_Card               0\n",
       "Interest_Rate                 0\n",
       "Num_of_Loan                   0\n",
       "Delay_from_due_date           0\n",
       "Num_of_Delayed_Payment        0\n",
       "Changed_Credit_Limit          0\n",
       "Num_Credit_Inquiries          0\n",
       "Credit_Mix                    0\n",
       "Outstanding_Debt              0\n",
       "Credit_Utilization_Ratio      0\n",
       "Credit_History_Age            0\n",
       "Payment_of_Min_Amount         0\n",
       "Total_EMI_per_month           0\n",
       "Amount_invested_monthly       0\n",
       "Monthly_Balance             568\n",
       "dtype: int64"
      ]
     },
     "execution_count": 44,
     "metadata": {},
     "output_type": "execute_result"
    }
   ],
   "source": [
    "# Calculate the mean of 'Outstanding_Debt' excluding negative values\n",
    "mean_outstanding_debt = df[df['Outstanding_Debt'] >= 0]['Outstanding_Debt'].mean()\n",
    "\n",
    "# Replace negative values with NaN\n",
    "#df.loc[df['Outstanding_Debt'] < 0, 'Outstanding_Debt'] = np.nan\n",
    "\n",
    "# Fill missing values with the mean\n",
    "df['Outstanding_Debt'].fillna(mean_outstanding_debt, inplace=True)\n",
    "\n",
    "df.isnull().sum()"
   ]
  },
  {
   "cell_type": "markdown",
   "metadata": {
    "id": "fRn4zLqIdgGt"
   },
   "source": [
    "**Working with Monthly_Balance column**"
   ]
  },
  {
   "cell_type": "code",
   "execution_count": 45,
   "metadata": {
    "colab": {
     "base_uri": "https://localhost:8080/"
    },
    "id": "OZrZkMdnisaL",
    "outputId": "94f2c1b4-b7cc-457e-e2b5-d949f30cad83"
   },
   "outputs": [
    {
     "data": {
      "text/plain": [
       "309.018217     1\n",
       "297.306387     1\n",
       "264.115247     1\n",
       "497.239036     1\n",
       "348.316192     1\n",
       "500.080325     1\n",
       "107.975602     1\n",
       "237.140456     1\n",
       "464.756428     1\n",
       "150.258368     1\n",
       "539.171255     1\n",
       "318.821835     1\n",
       "427.251224     1\n",
       "655.869218     1\n",
       "441.107224     1\n",
       "347.694807     1\n",
       "501.884773     1\n",
       "211.449605     1\n",
       "302.924152     1\n",
       "206.564616     1\n",
       "415.647079     1\n",
       "242.468094     1\n",
       "453.956823     1\n",
       "323.156706     1\n",
       "859.353275     1\n",
       "493.660595     1\n",
       "315.314409     1\n",
       "246.225591     1\n",
       "265.345781     1\n",
       "263.245688     1\n",
       "291.990314     1\n",
       "399.335144     1\n",
       "347.456027     1\n",
       "235.695312     1\n",
       "241.305033     1\n",
       "293.812192     1\n",
       "338.163779     1\n",
       "706.610291     1\n",
       "358.322191     1\n",
       "496.851976     1\n",
       "453.314243     1\n",
       "421.932681     1\n",
       "441.051237     1\n",
       "285.066136     1\n",
       "274.053313     1\n",
       "372.242652     1\n",
       "298.071402     1\n",
       "1330.968413    1\n",
       "301.233645     1\n",
       "1005.402565    1\n",
       "Name: Monthly_Balance, dtype: int64"
      ]
     },
     "execution_count": 45,
     "metadata": {},
     "output_type": "execute_result"
    }
   ],
   "source": [
    "df['Monthly_Balance'].value_counts().sample(50)"
   ]
  },
  {
   "cell_type": "code",
   "execution_count": 46,
   "metadata": {
    "colab": {
     "base_uri": "https://localhost:8080/"
    },
    "id": "v5b0LmtfuDtc",
    "outputId": "b5cafe70-edbd-4a11-cbe1-dd8d06a2f6ca"
   },
   "outputs": [
    {
     "data": {
      "text/plain": [
       "403.0662568630411"
      ]
     },
     "execution_count": 46,
     "metadata": {},
     "output_type": "execute_result"
    }
   ],
   "source": [
    "mean_monthly_balance = df['Monthly_Balance'].mean()\n",
    "mean_monthly_balance"
   ]
  },
  {
   "cell_type": "code",
   "execution_count": 47,
   "metadata": {
    "colab": {
     "base_uri": "https://localhost:8080/"
    },
    "id": "xaOEfFwDi8NN",
    "outputId": "4fcc75c7-5e22-40a6-9d7f-85b72fd1280a"
   },
   "outputs": [
    {
     "data": {
      "text/plain": [
       "Month                       0\n",
       "Age                         0\n",
       "Occupation                  0\n",
       "Annual_Income               0\n",
       "Monthly_Inhand_Salary       0\n",
       "Num_Bank_Accounts           0\n",
       "Num_Credit_Card             0\n",
       "Interest_Rate               0\n",
       "Num_of_Loan                 0\n",
       "Delay_from_due_date         0\n",
       "Num_of_Delayed_Payment      0\n",
       "Changed_Credit_Limit        0\n",
       "Num_Credit_Inquiries        0\n",
       "Credit_Mix                  0\n",
       "Outstanding_Debt            0\n",
       "Credit_Utilization_Ratio    0\n",
       "Credit_History_Age          0\n",
       "Payment_of_Min_Amount       0\n",
       "Total_EMI_per_month         0\n",
       "Amount_invested_monthly     0\n",
       "Monthly_Balance             0\n",
       "dtype: int64"
      ]
     },
     "execution_count": 47,
     "metadata": {},
     "output_type": "execute_result"
    }
   ],
   "source": [
    "df['Monthly_Balance'].fillna(value=mean_monthly_balance, inplace=True)\n",
    "df.isnull().sum()"
   ]
  },
  {
   "cell_type": "code",
   "execution_count": 48,
   "metadata": {
    "colab": {
     "base_uri": "https://localhost:8080/"
    },
    "id": "dP6zpB8Ji_7S",
    "outputId": "aa1b4fd4-48c8-4647-847d-c9eae855bf2c"
   },
   "outputs": [
    {
     "data": {
      "text/plain": [
       "(50000, 21)"
      ]
     },
     "execution_count": 48,
     "metadata": {},
     "output_type": "execute_result"
    }
   ],
   "source": [
    "df.shape"
   ]
  },
  {
   "cell_type": "markdown",
   "metadata": {
    "id": "uGAfDHpvj3sN"
   },
   "source": [
    "I have taken a lot of random values, so that there is hight possibility it'll affected on my result. Cause from every run I would get different reuslt. So that I create a new dataset where has no misssing value. And That would be stable and not updated for each run time, It's also help me to get stable result, That I desire most."
   ]
  },
  {
   "cell_type": "code",
   "execution_count": 49,
   "metadata": {
    "id": "_bxkh8n_j7u9"
   },
   "outputs": [],
   "source": [
    "df.to_csv('new_data.csv', index=False)"
   ]
  },
  {
   "cell_type": "code",
   "execution_count": 50,
   "metadata": {
    "colab": {
     "base_uri": "https://localhost:8080/",
     "height": 696
    },
    "id": "Q-EfuE8ikBTk",
    "outputId": "6c720094-205f-41d3-b7cb-60b6f35c342f"
   },
   "outputs": [
    {
     "data": {
      "text/html": [
       "<div>\n",
       "<style scoped>\n",
       "    .dataframe tbody tr th:only-of-type {\n",
       "        vertical-align: middle;\n",
       "    }\n",
       "\n",
       "    .dataframe tbody tr th {\n",
       "        vertical-align: top;\n",
       "    }\n",
       "\n",
       "    .dataframe thead th {\n",
       "        text-align: right;\n",
       "    }\n",
       "</style>\n",
       "<table border=\"1\" class=\"dataframe\">\n",
       "  <thead>\n",
       "    <tr style=\"text-align: right;\">\n",
       "      <th></th>\n",
       "      <th>Month</th>\n",
       "      <th>Age</th>\n",
       "      <th>Occupation</th>\n",
       "      <th>Annual_Income</th>\n",
       "      <th>Monthly_Inhand_Salary</th>\n",
       "      <th>Num_Bank_Accounts</th>\n",
       "      <th>Num_Credit_Card</th>\n",
       "      <th>Interest_Rate</th>\n",
       "      <th>Num_of_Loan</th>\n",
       "      <th>Delay_from_due_date</th>\n",
       "      <th>Num_of_Delayed_Payment</th>\n",
       "      <th>Changed_Credit_Limit</th>\n",
       "      <th>Num_Credit_Inquiries</th>\n",
       "      <th>Credit_Mix</th>\n",
       "      <th>Outstanding_Debt</th>\n",
       "      <th>Credit_Utilization_Ratio</th>\n",
       "      <th>Credit_History_Age</th>\n",
       "      <th>Payment_of_Min_Amount</th>\n",
       "      <th>Total_EMI_per_month</th>\n",
       "      <th>Amount_invested_monthly</th>\n",
       "      <th>Monthly_Balance</th>\n",
       "    </tr>\n",
       "  </thead>\n",
       "  <tbody>\n",
       "    <tr>\n",
       "      <th>14188</th>\n",
       "      <td>September</td>\n",
       "      <td>36.0</td>\n",
       "      <td>Writer</td>\n",
       "      <td>67845.560000</td>\n",
       "      <td>5177.606477</td>\n",
       "      <td>3</td>\n",
       "      <td>5</td>\n",
       "      <td>20</td>\n",
       "      <td>4.0</td>\n",
       "      <td>21</td>\n",
       "      <td>17.0</td>\n",
       "      <td>19.63</td>\n",
       "      <td>13.0</td>\n",
       "      <td>Standard</td>\n",
       "      <td>1478.49</td>\n",
       "      <td>31.368789</td>\n",
       "      <td>19.083333</td>\n",
       "      <td>Yes</td>\n",
       "      <td>767.630749</td>\n",
       "      <td>238.060655</td>\n",
       "      <td>464.078452</td>\n",
       "    </tr>\n",
       "    <tr>\n",
       "      <th>5501</th>\n",
       "      <td>October</td>\n",
       "      <td>40.0</td>\n",
       "      <td>Entrepreneur</td>\n",
       "      <td>165116.921762</td>\n",
       "      <td>761.806667</td>\n",
       "      <td>7</td>\n",
       "      <td>6</td>\n",
       "      <td>16</td>\n",
       "      <td>8.0</td>\n",
       "      <td>42</td>\n",
       "      <td>17.0</td>\n",
       "      <td>4.61</td>\n",
       "      <td>14.0</td>\n",
       "      <td>Bad</td>\n",
       "      <td>2712.98</td>\n",
       "      <td>32.623990</td>\n",
       "      <td>8.500000</td>\n",
       "      <td>Yes</td>\n",
       "      <td>50.888038</td>\n",
       "      <td>15.043188</td>\n",
       "      <td>260.249441</td>\n",
       "    </tr>\n",
       "    <tr>\n",
       "      <th>39794</th>\n",
       "      <td>November</td>\n",
       "      <td>20.0</td>\n",
       "      <td>Accountant</td>\n",
       "      <td>34230.000000</td>\n",
       "      <td>2902.500000</td>\n",
       "      <td>10</td>\n",
       "      <td>9</td>\n",
       "      <td>29</td>\n",
       "      <td>8.0</td>\n",
       "      <td>17</td>\n",
       "      <td>15.0</td>\n",
       "      <td>25.49</td>\n",
       "      <td>11.0</td>\n",
       "      <td>Bad</td>\n",
       "      <td>3362.10</td>\n",
       "      <td>26.262651</td>\n",
       "      <td>6.666667</td>\n",
       "      <td>Yes</td>\n",
       "      <td>151.070865</td>\n",
       "      <td>386.549699</td>\n",
       "      <td>42.629437</td>\n",
       "    </tr>\n",
       "    <tr>\n",
       "      <th>5525</th>\n",
       "      <td>October</td>\n",
       "      <td>39.0</td>\n",
       "      <td>Writer</td>\n",
       "      <td>109110.570000</td>\n",
       "      <td>4182.004291</td>\n",
       "      <td>0</td>\n",
       "      <td>1</td>\n",
       "      <td>4</td>\n",
       "      <td>4.0</td>\n",
       "      <td>5</td>\n",
       "      <td>18.0</td>\n",
       "      <td>1.76</td>\n",
       "      <td>2.0</td>\n",
       "      <td>Good</td>\n",
       "      <td>411.96</td>\n",
       "      <td>27.505255</td>\n",
       "      <td>16.416667</td>\n",
       "      <td>NM</td>\n",
       "      <td>257.232289</td>\n",
       "      <td>194.835617</td>\n",
       "      <td>627.685686</td>\n",
       "    </tr>\n",
       "    <tr>\n",
       "      <th>22857</th>\n",
       "      <td>October</td>\n",
       "      <td>19.0</td>\n",
       "      <td>Architect</td>\n",
       "      <td>84738.630000</td>\n",
       "      <td>7292.552500</td>\n",
       "      <td>6</td>\n",
       "      <td>7</td>\n",
       "      <td>6</td>\n",
       "      <td>1.0</td>\n",
       "      <td>10</td>\n",
       "      <td>12.0</td>\n",
       "      <td>13.72</td>\n",
       "      <td>10.0</td>\n",
       "      <td>Standard</td>\n",
       "      <td>381.11</td>\n",
       "      <td>39.867830</td>\n",
       "      <td>19.083333</td>\n",
       "      <td>Yes</td>\n",
       "      <td>38.364191</td>\n",
       "      <td>702.715040</td>\n",
       "      <td>278.176020</td>\n",
       "    </tr>\n",
       "    <tr>\n",
       "      <th>1358</th>\n",
       "      <td>November</td>\n",
       "      <td>23.0</td>\n",
       "      <td>Doctor</td>\n",
       "      <td>69933.980000</td>\n",
       "      <td>4182.004291</td>\n",
       "      <td>8</td>\n",
       "      <td>7</td>\n",
       "      <td>5</td>\n",
       "      <td>2.0</td>\n",
       "      <td>11</td>\n",
       "      <td>7.0</td>\n",
       "      <td>8.11</td>\n",
       "      <td>5.0</td>\n",
       "      <td>neutral</td>\n",
       "      <td>1446.37</td>\n",
       "      <td>37.689035</td>\n",
       "      <td>18.937598</td>\n",
       "      <td>Yes</td>\n",
       "      <td>86.401158</td>\n",
       "      <td>194.835617</td>\n",
       "      <td>422.790736</td>\n",
       "    </tr>\n",
       "    <tr>\n",
       "      <th>45404</th>\n",
       "      <td>September</td>\n",
       "      <td>45.0</td>\n",
       "      <td>Scientist</td>\n",
       "      <td>62877.920000</td>\n",
       "      <td>5071.826667</td>\n",
       "      <td>9</td>\n",
       "      <td>10</td>\n",
       "      <td>21</td>\n",
       "      <td>3.0</td>\n",
       "      <td>40</td>\n",
       "      <td>14.0</td>\n",
       "      <td>11.07</td>\n",
       "      <td>6.0</td>\n",
       "      <td>Standard</td>\n",
       "      <td>2698.89</td>\n",
       "      <td>24.069835</td>\n",
       "      <td>12.833333</td>\n",
       "      <td>Yes</td>\n",
       "      <td>95.204067</td>\n",
       "      <td>194.835617</td>\n",
       "      <td>462.206801</td>\n",
       "    </tr>\n",
       "    <tr>\n",
       "      <th>13846</th>\n",
       "      <td>November</td>\n",
       "      <td>40.0</td>\n",
       "      <td>Writer</td>\n",
       "      <td>9500.235000</td>\n",
       "      <td>947.686250</td>\n",
       "      <td>4</td>\n",
       "      <td>3</td>\n",
       "      <td>11</td>\n",
       "      <td>3.0</td>\n",
       "      <td>20</td>\n",
       "      <td>6.0</td>\n",
       "      <td>-4.70</td>\n",
       "      <td>4.0</td>\n",
       "      <td>Good</td>\n",
       "      <td>459.49</td>\n",
       "      <td>22.217173</td>\n",
       "      <td>31.500000</td>\n",
       "      <td>No</td>\n",
       "      <td>17.716996</td>\n",
       "      <td>194.835617</td>\n",
       "      <td>265.531199</td>\n",
       "    </tr>\n",
       "    <tr>\n",
       "      <th>5545</th>\n",
       "      <td>October</td>\n",
       "      <td>31.0</td>\n",
       "      <td>Engineer</td>\n",
       "      <td>12025.045000</td>\n",
       "      <td>1263.087083</td>\n",
       "      <td>5</td>\n",
       "      <td>4</td>\n",
       "      <td>17</td>\n",
       "      <td>4.0</td>\n",
       "      <td>17</td>\n",
       "      <td>14.0</td>\n",
       "      <td>12.89</td>\n",
       "      <td>9.0</td>\n",
       "      <td>neutral</td>\n",
       "      <td>843.67</td>\n",
       "      <td>27.331362</td>\n",
       "      <td>21.666667</td>\n",
       "      <td>Yes</td>\n",
       "      <td>27.775905</td>\n",
       "      <td>55.452674</td>\n",
       "      <td>333.080129</td>\n",
       "    </tr>\n",
       "    <tr>\n",
       "      <th>6942</th>\n",
       "      <td>November</td>\n",
       "      <td>43.0</td>\n",
       "      <td>Journalist</td>\n",
       "      <td>70078.820000</td>\n",
       "      <td>5727.901667</td>\n",
       "      <td>7</td>\n",
       "      <td>6</td>\n",
       "      <td>13</td>\n",
       "      <td>2.0</td>\n",
       "      <td>10</td>\n",
       "      <td>10.0</td>\n",
       "      <td>1.25</td>\n",
       "      <td>4.0</td>\n",
       "      <td>Standard</td>\n",
       "      <td>1169.99</td>\n",
       "      <td>26.957369</td>\n",
       "      <td>24.166667</td>\n",
       "      <td>No</td>\n",
       "      <td>71.668822</td>\n",
       "      <td>215.902580</td>\n",
       "      <td>535.218765</td>\n",
       "    </tr>\n",
       "    <tr>\n",
       "      <th>6997</th>\n",
       "      <td>October</td>\n",
       "      <td>36.0</td>\n",
       "      <td>Musician</td>\n",
       "      <td>19213.830000</td>\n",
       "      <td>1750.152500</td>\n",
       "      <td>9</td>\n",
       "      <td>10</td>\n",
       "      <td>20</td>\n",
       "      <td>8.0</td>\n",
       "      <td>32</td>\n",
       "      <td>25.0</td>\n",
       "      <td>18.67</td>\n",
       "      <td>10.0</td>\n",
       "      <td>Bad</td>\n",
       "      <td>4992.25</td>\n",
       "      <td>26.438480</td>\n",
       "      <td>1.083333</td>\n",
       "      <td>Yes</td>\n",
       "      <td>105.267277</td>\n",
       "      <td>107.011849</td>\n",
       "      <td>232.736125</td>\n",
       "    </tr>\n",
       "    <tr>\n",
       "      <th>3847</th>\n",
       "      <td>December</td>\n",
       "      <td>51.0</td>\n",
       "      <td>Entrepreneur</td>\n",
       "      <td>169141.600000</td>\n",
       "      <td>14373.133333</td>\n",
       "      <td>3</td>\n",
       "      <td>6</td>\n",
       "      <td>6</td>\n",
       "      <td>1.0</td>\n",
       "      <td>1</td>\n",
       "      <td>4.0</td>\n",
       "      <td>8.04</td>\n",
       "      <td>6.0</td>\n",
       "      <td>neutral</td>\n",
       "      <td>242.61</td>\n",
       "      <td>38.894542</td>\n",
       "      <td>23.250000</td>\n",
       "      <td>No</td>\n",
       "      <td>102.461424</td>\n",
       "      <td>780.500812</td>\n",
       "      <td>834.351098</td>\n",
       "    </tr>\n",
       "    <tr>\n",
       "      <th>2328</th>\n",
       "      <td>September</td>\n",
       "      <td>37.0</td>\n",
       "      <td>Accountant</td>\n",
       "      <td>10299.565000</td>\n",
       "      <td>4182.004291</td>\n",
       "      <td>5</td>\n",
       "      <td>9</td>\n",
       "      <td>28</td>\n",
       "      <td>2.0</td>\n",
       "      <td>27</td>\n",
       "      <td>16.0</td>\n",
       "      <td>8.50</td>\n",
       "      <td>10.0</td>\n",
       "      <td>Standard</td>\n",
       "      <td>1710.58</td>\n",
       "      <td>30.956512</td>\n",
       "      <td>15.250000</td>\n",
       "      <td>Yes</td>\n",
       "      <td>8.724971</td>\n",
       "      <td>58.882630</td>\n",
       "      <td>293.622108</td>\n",
       "    </tr>\n",
       "    <tr>\n",
       "      <th>22340</th>\n",
       "      <td>September</td>\n",
       "      <td>32.0</td>\n",
       "      <td>Developer</td>\n",
       "      <td>78339.660000</td>\n",
       "      <td>6562.305000</td>\n",
       "      <td>3</td>\n",
       "      <td>4</td>\n",
       "      <td>18</td>\n",
       "      <td>2.0</td>\n",
       "      <td>23</td>\n",
       "      <td>16.0</td>\n",
       "      <td>6.66</td>\n",
       "      <td>6.0</td>\n",
       "      <td>Standard</td>\n",
       "      <td>285.36</td>\n",
       "      <td>30.921215</td>\n",
       "      <td>19.500000</td>\n",
       "      <td>No</td>\n",
       "      <td>87.234208</td>\n",
       "      <td>194.835617</td>\n",
       "      <td>540.727010</td>\n",
       "    </tr>\n",
       "    <tr>\n",
       "      <th>41217</th>\n",
       "      <td>October</td>\n",
       "      <td>34.0</td>\n",
       "      <td>Developer</td>\n",
       "      <td>76992.720000</td>\n",
       "      <td>6558.060000</td>\n",
       "      <td>6</td>\n",
       "      <td>7</td>\n",
       "      <td>33</td>\n",
       "      <td>5.0</td>\n",
       "      <td>12</td>\n",
       "      <td>20.0</td>\n",
       "      <td>9.48</td>\n",
       "      <td>9.0</td>\n",
       "      <td>neutral</td>\n",
       "      <td>1594.50</td>\n",
       "      <td>29.809687</td>\n",
       "      <td>18.937598</td>\n",
       "      <td>Yes</td>\n",
       "      <td>284.942804</td>\n",
       "      <td>49.342543</td>\n",
       "      <td>561.520653</td>\n",
       "    </tr>\n",
       "    <tr>\n",
       "      <th>44786</th>\n",
       "      <td>November</td>\n",
       "      <td>37.0</td>\n",
       "      <td>Lawyer</td>\n",
       "      <td>36875.140000</td>\n",
       "      <td>2845.928333</td>\n",
       "      <td>6</td>\n",
       "      <td>4</td>\n",
       "      <td>13</td>\n",
       "      <td>4.0</td>\n",
       "      <td>29</td>\n",
       "      <td>16.0</td>\n",
       "      <td>18.42</td>\n",
       "      <td>3.0</td>\n",
       "      <td>Standard</td>\n",
       "      <td>473.60</td>\n",
       "      <td>39.272157</td>\n",
       "      <td>16.500000</td>\n",
       "      <td>Yes</td>\n",
       "      <td>109.894387</td>\n",
       "      <td>108.777072</td>\n",
       "      <td>325.921374</td>\n",
       "    </tr>\n",
       "    <tr>\n",
       "      <th>10567</th>\n",
       "      <td>December</td>\n",
       "      <td>22.0</td>\n",
       "      <td>Writer</td>\n",
       "      <td>21156.880000</td>\n",
       "      <td>1643.073333</td>\n",
       "      <td>5</td>\n",
       "      <td>6</td>\n",
       "      <td>13</td>\n",
       "      <td>0.0</td>\n",
       "      <td>27</td>\n",
       "      <td>11.0</td>\n",
       "      <td>11.12</td>\n",
       "      <td>8.0</td>\n",
       "      <td>Standard</td>\n",
       "      <td>386.38</td>\n",
       "      <td>33.141462</td>\n",
       "      <td>17.083333</td>\n",
       "      <td>Yes</td>\n",
       "      <td>0.000000</td>\n",
       "      <td>84.968287</td>\n",
       "      <td>349.339047</td>\n",
       "    </tr>\n",
       "    <tr>\n",
       "      <th>22884</th>\n",
       "      <td>September</td>\n",
       "      <td>18.0</td>\n",
       "      <td>Entrepreneur</td>\n",
       "      <td>62717.240000</td>\n",
       "      <td>4182.004291</td>\n",
       "      <td>6</td>\n",
       "      <td>6</td>\n",
       "      <td>29</td>\n",
       "      <td>9.0</td>\n",
       "      <td>54</td>\n",
       "      <td>23.0</td>\n",
       "      <td>0.82</td>\n",
       "      <td>7.0</td>\n",
       "      <td>Bad</td>\n",
       "      <td>2590.63</td>\n",
       "      <td>38.728857</td>\n",
       "      <td>18.333333</td>\n",
       "      <td>Yes</td>\n",
       "      <td>370.021946</td>\n",
       "      <td>104.149288</td>\n",
       "      <td>279.372433</td>\n",
       "    </tr>\n",
       "    <tr>\n",
       "      <th>4332</th>\n",
       "      <td>September</td>\n",
       "      <td>50.0</td>\n",
       "      <td>Musician</td>\n",
       "      <td>29365.120000</td>\n",
       "      <td>2524.093333</td>\n",
       "      <td>5</td>\n",
       "      <td>5</td>\n",
       "      <td>12</td>\n",
       "      <td>1.0</td>\n",
       "      <td>10</td>\n",
       "      <td>11.0</td>\n",
       "      <td>7.04</td>\n",
       "      <td>5.0</td>\n",
       "      <td>Good</td>\n",
       "      <td>463.57</td>\n",
       "      <td>36.996008</td>\n",
       "      <td>26.416667</td>\n",
       "      <td>No</td>\n",
       "      <td>21.521584</td>\n",
       "      <td>267.193615</td>\n",
       "      <td>253.694134</td>\n",
       "    </tr>\n",
       "    <tr>\n",
       "      <th>11852</th>\n",
       "      <td>September</td>\n",
       "      <td>36.0</td>\n",
       "      <td>Architect</td>\n",
       "      <td>81815.020000</td>\n",
       "      <td>6884.918333</td>\n",
       "      <td>0</td>\n",
       "      <td>5</td>\n",
       "      <td>4</td>\n",
       "      <td>1.0</td>\n",
       "      <td>2</td>\n",
       "      <td>2.0</td>\n",
       "      <td>5.18</td>\n",
       "      <td>5.0</td>\n",
       "      <td>Good</td>\n",
       "      <td>1434.75</td>\n",
       "      <td>26.942782</td>\n",
       "      <td>33.500000</td>\n",
       "      <td>No</td>\n",
       "      <td>53.927786</td>\n",
       "      <td>828.466671</td>\n",
       "      <td>96.097377</td>\n",
       "    </tr>\n",
       "  </tbody>\n",
       "</table>\n",
       "</div>"
      ],
      "text/plain": [
       "           Month   Age    Occupation  Annual_Income  Monthly_Inhand_Salary  \\\n",
       "14188  September  36.0        Writer   67845.560000            5177.606477   \n",
       "5501     October  40.0  Entrepreneur  165116.921762             761.806667   \n",
       "39794   November  20.0    Accountant   34230.000000            2902.500000   \n",
       "5525     October  39.0        Writer  109110.570000            4182.004291   \n",
       "22857    October  19.0     Architect   84738.630000            7292.552500   \n",
       "1358    November  23.0        Doctor   69933.980000            4182.004291   \n",
       "45404  September  45.0     Scientist   62877.920000            5071.826667   \n",
       "13846   November  40.0        Writer    9500.235000             947.686250   \n",
       "5545     October  31.0      Engineer   12025.045000            1263.087083   \n",
       "6942    November  43.0    Journalist   70078.820000            5727.901667   \n",
       "6997     October  36.0      Musician   19213.830000            1750.152500   \n",
       "3847    December  51.0  Entrepreneur  169141.600000           14373.133333   \n",
       "2328   September  37.0    Accountant   10299.565000            4182.004291   \n",
       "22340  September  32.0     Developer   78339.660000            6562.305000   \n",
       "41217    October  34.0     Developer   76992.720000            6558.060000   \n",
       "44786   November  37.0        Lawyer   36875.140000            2845.928333   \n",
       "10567   December  22.0        Writer   21156.880000            1643.073333   \n",
       "22884  September  18.0  Entrepreneur   62717.240000            4182.004291   \n",
       "4332   September  50.0      Musician   29365.120000            2524.093333   \n",
       "11852  September  36.0     Architect   81815.020000            6884.918333   \n",
       "\n",
       "       Num_Bank_Accounts  Num_Credit_Card  Interest_Rate  Num_of_Loan  \\\n",
       "14188                  3                5             20          4.0   \n",
       "5501                   7                6             16          8.0   \n",
       "39794                 10                9             29          8.0   \n",
       "5525                   0                1              4          4.0   \n",
       "22857                  6                7              6          1.0   \n",
       "1358                   8                7              5          2.0   \n",
       "45404                  9               10             21          3.0   \n",
       "13846                  4                3             11          3.0   \n",
       "5545                   5                4             17          4.0   \n",
       "6942                   7                6             13          2.0   \n",
       "6997                   9               10             20          8.0   \n",
       "3847                   3                6              6          1.0   \n",
       "2328                   5                9             28          2.0   \n",
       "22340                  3                4             18          2.0   \n",
       "41217                  6                7             33          5.0   \n",
       "44786                  6                4             13          4.0   \n",
       "10567                  5                6             13          0.0   \n",
       "22884                  6                6             29          9.0   \n",
       "4332                   5                5             12          1.0   \n",
       "11852                  0                5              4          1.0   \n",
       "\n",
       "       Delay_from_due_date  Num_of_Delayed_Payment  Changed_Credit_Limit  \\\n",
       "14188                   21                    17.0                 19.63   \n",
       "5501                    42                    17.0                  4.61   \n",
       "39794                   17                    15.0                 25.49   \n",
       "5525                     5                    18.0                  1.76   \n",
       "22857                   10                    12.0                 13.72   \n",
       "1358                    11                     7.0                  8.11   \n",
       "45404                   40                    14.0                 11.07   \n",
       "13846                   20                     6.0                 -4.70   \n",
       "5545                    17                    14.0                 12.89   \n",
       "6942                    10                    10.0                  1.25   \n",
       "6997                    32                    25.0                 18.67   \n",
       "3847                     1                     4.0                  8.04   \n",
       "2328                    27                    16.0                  8.50   \n",
       "22340                   23                    16.0                  6.66   \n",
       "41217                   12                    20.0                  9.48   \n",
       "44786                   29                    16.0                 18.42   \n",
       "10567                   27                    11.0                 11.12   \n",
       "22884                   54                    23.0                  0.82   \n",
       "4332                    10                    11.0                  7.04   \n",
       "11852                    2                     2.0                  5.18   \n",
       "\n",
       "       Num_Credit_Inquiries Credit_Mix  Outstanding_Debt  \\\n",
       "14188                  13.0   Standard           1478.49   \n",
       "5501                   14.0        Bad           2712.98   \n",
       "39794                  11.0        Bad           3362.10   \n",
       "5525                    2.0       Good            411.96   \n",
       "22857                  10.0   Standard            381.11   \n",
       "1358                    5.0    neutral           1446.37   \n",
       "45404                   6.0   Standard           2698.89   \n",
       "13846                   4.0       Good            459.49   \n",
       "5545                    9.0    neutral            843.67   \n",
       "6942                    4.0   Standard           1169.99   \n",
       "6997                   10.0        Bad           4992.25   \n",
       "3847                    6.0    neutral            242.61   \n",
       "2328                   10.0   Standard           1710.58   \n",
       "22340                   6.0   Standard            285.36   \n",
       "41217                   9.0    neutral           1594.50   \n",
       "44786                   3.0   Standard            473.60   \n",
       "10567                   8.0   Standard            386.38   \n",
       "22884                   7.0        Bad           2590.63   \n",
       "4332                    5.0       Good            463.57   \n",
       "11852                   5.0       Good           1434.75   \n",
       "\n",
       "       Credit_Utilization_Ratio  Credit_History_Age Payment_of_Min_Amount  \\\n",
       "14188                 31.368789           19.083333                   Yes   \n",
       "5501                  32.623990            8.500000                   Yes   \n",
       "39794                 26.262651            6.666667                   Yes   \n",
       "5525                  27.505255           16.416667                    NM   \n",
       "22857                 39.867830           19.083333                   Yes   \n",
       "1358                  37.689035           18.937598                   Yes   \n",
       "45404                 24.069835           12.833333                   Yes   \n",
       "13846                 22.217173           31.500000                    No   \n",
       "5545                  27.331362           21.666667                   Yes   \n",
       "6942                  26.957369           24.166667                    No   \n",
       "6997                  26.438480            1.083333                   Yes   \n",
       "3847                  38.894542           23.250000                    No   \n",
       "2328                  30.956512           15.250000                   Yes   \n",
       "22340                 30.921215           19.500000                    No   \n",
       "41217                 29.809687           18.937598                   Yes   \n",
       "44786                 39.272157           16.500000                   Yes   \n",
       "10567                 33.141462           17.083333                   Yes   \n",
       "22884                 38.728857           18.333333                   Yes   \n",
       "4332                  36.996008           26.416667                    No   \n",
       "11852                 26.942782           33.500000                    No   \n",
       "\n",
       "       Total_EMI_per_month  Amount_invested_monthly  Monthly_Balance  \n",
       "14188           767.630749               238.060655       464.078452  \n",
       "5501             50.888038                15.043188       260.249441  \n",
       "39794           151.070865               386.549699        42.629437  \n",
       "5525            257.232289               194.835617       627.685686  \n",
       "22857            38.364191               702.715040       278.176020  \n",
       "1358             86.401158               194.835617       422.790736  \n",
       "45404            95.204067               194.835617       462.206801  \n",
       "13846            17.716996               194.835617       265.531199  \n",
       "5545             27.775905                55.452674       333.080129  \n",
       "6942             71.668822               215.902580       535.218765  \n",
       "6997            105.267277               107.011849       232.736125  \n",
       "3847            102.461424               780.500812       834.351098  \n",
       "2328              8.724971                58.882630       293.622108  \n",
       "22340            87.234208               194.835617       540.727010  \n",
       "41217           284.942804                49.342543       561.520653  \n",
       "44786           109.894387               108.777072       325.921374  \n",
       "10567             0.000000                84.968287       349.339047  \n",
       "22884           370.021946               104.149288       279.372433  \n",
       "4332             21.521584               267.193615       253.694134  \n",
       "11852            53.927786               828.466671        96.097377  "
      ]
     },
     "execution_count": 50,
     "metadata": {},
     "output_type": "execute_result"
    }
   ],
   "source": [
    "df = pd.read_csv('new_data.csv')\n",
    "df.sample(20)"
   ]
  },
  {
   "cell_type": "markdown",
   "metadata": {
    "id": "L9TAiqLVkVe6"
   },
   "source": [
    "****"
   ]
  },
  {
   "cell_type": "markdown",
   "metadata": {
    "id": "z7ViSmTGkNBl"
   },
   "source": [
    "**EDA & Preprocessing**"
   ]
  },
  {
   "cell_type": "code",
   "execution_count": null,
   "metadata": {
    "colab": {
     "base_uri": "https://localhost:8080/",
     "height": 918,
     "referenced_widgets": [
      "ea86d98baf904fba80dd3e30219151ef",
      "e0d0ff9c1e8a49d794454f549a40ddd3",
      "7b514dc2c50047a3bdd6ba5357780e28",
      "b309f9acca3c487aaecc55926aa59b4a",
      "854614735c2c43be83683e34cdb9c0d0",
      "7365d366675b429c8031d82fd850b335",
      "0273442766e24af2bd6da23ef2661bd9",
      "2d309e5ab95d44b69d4cb062b20d7d55",
      "4137f26f3ebb43c28be8d9bccd632144",
      "61a8dd03d5fd46459a838351c6541529",
      "754d7b00bd9748498d3f23be44df82c0",
      "f73adcbb76e540fd889bcc74d6baf534",
      "49042fc2067f4945b97e2955d20b33e8",
      "14c6db37398a46d5a1282ce1f0ffd1bf",
      "312dd0f73a094147a03c8c88553a01e0",
      "0f91da20def84887b8a78704a512b7f1",
      "929b6adde7f549a08a0bd9154f4e1317",
      "38701dadd9d14754aa715b97b17f6268",
      "e097936e09204b26bf18be0213fcb3eb",
      "7d6eac99bbbe4c38b3d5f4f6dd2c3029",
      "55dd724f9dea4acdb92f2e948464674e",
      "23d1606411d44aecb7533e5817e35109",
      "cd3acf83126b40f49e5ad8e6aded81ed",
      "c58ff8a227b24a5184782b4174f07352",
      "efa18516cbcc44f199fa7660e84f7255",
      "227f696b99504931a84410bb8482409f",
      "722457895136400081672115542058e8",
      "605c62bf21494495afc6775c4b3e6577",
      "6a571cb9b9dd431599cd47298bd612e6",
      "beaf00b86e334556bad5f2b2ca7e3975",
      "b363070f247c43f4b56aa221ec0102b6",
      "4bfcb0b88f8f456f8a842e4b920391cc",
      "f2ebcb1262e7440583ee889544e8755e"
     ]
    },
    "id": "QOcHBYzIlrVN",
    "outputId": "d5a6c310-2985-4447-adda-7377139c0e76"
   },
   "outputs": [
    {
     "data": {
      "application/vnd.jupyter.widget-view+json": {
       "model_id": "ea2342af45f14c8598ce60310dc1c868",
       "version_major": 2,
       "version_minor": 0
      },
      "text/plain": [
       "Summarize dataset:   0%|          | 0/5 [00:00<?, ?it/s]"
      ]
     },
     "metadata": {},
     "output_type": "display_data"
    }
   ],
   "source": [
    "import ydata_profiling as ydp\n",
    "\n",
    "\n",
    "eda_analysis = ydp.ProfileReport(df, title=\"EDA Analysis of Bank Dataset\")\n",
    "\n",
    "eda_analysis\n",
    "\n"
   ]
  },
  {
   "cell_type": "code",
   "execution_count": null,
   "metadata": {
    "colab": {
     "base_uri": "https://localhost:8080/"
    },
    "id": "0qgRO7fjn4jY",
    "outputId": "c794cbe0-5036-442e-bcd8-64b0b9553e0f"
   },
   "outputs": [],
   "source": [
    "# Display data types of each column\n",
    "data_types = df.dtypes\n",
    "print(data_types)\n",
    "\n",
    "# Identify categorical columns\n",
    "categorical_columns = df.select_dtypes(include=['object']).columns\n",
    "print(\"Categorical Columns:\", categorical_columns)\n"
   ]
  },
  {
   "cell_type": "markdown",
   "metadata": {
    "id": "jPYe0BY-oDcX"
   },
   "source": [
    "***Target Variable*** is 'Credit_Mix'\n",
    "\n",
    "***Ordinal Variables:***\n",
    " 'Payment_of_Min_Amount' is ordinal variable. Since It has a meaningful order, we can use ordinal encoding.\n",
    "\n",
    "***Nominal Variables:***\n",
    " 'Month', 'Occupation', 'Payment_Behaviour' are nominal variables. For these, we can use one-hot encoding.\n",
    "\n",
    "\n"
   ]
  },
  {
   "cell_type": "code",
   "execution_count": null,
   "metadata": {
    "colab": {
     "base_uri": "https://localhost:8080/",
     "height": 383
    },
    "id": "ea9_57UhoXJW",
    "outputId": "0e498873-ded5-4b01-d0d5-ab9d806d8cf9"
   },
   "outputs": [],
   "source": [
    "from sklearn.preprocessing import OrdinalEncoder, OneHotEncoder\n",
    "\n",
    "# Define columns for ordinal encoding\n",
    "ordinal_columns = ['Payment_of_Min_Amount']\n",
    "ordinal_encoder = OrdinalEncoder()\n",
    "df[ordinal_columns] = ordinal_encoder.fit_transform(df[ordinal_columns])\n",
    "df.sample(10)\n"
   ]
  },
  {
   "cell_type": "code",
   "execution_count": null,
   "metadata": {
    "colab": {
     "base_uri": "https://localhost:8080/"
    },
    "id": "8vl-CX-gob3K",
    "outputId": "364887a2-a403-417d-e073-7dfab783606c"
   },
   "outputs": [],
   "source": [
    "df['Month'].value_counts()"
   ]
  },
  {
   "cell_type": "code",
   "execution_count": null,
   "metadata": {
    "colab": {
     "base_uri": "https://localhost:8080/",
     "height": 510
    },
    "id": "UymqXKywovej",
    "outputId": "9ba24c62-a166-42af-e7c1-87f58da915ab"
   },
   "outputs": [],
   "source": [
    "df['Month'].value_counts().plot(kind='bar')"
   ]
  },
  {
   "cell_type": "code",
   "execution_count": null,
   "metadata": {
    "colab": {
     "base_uri": "https://localhost:8080/"
    },
    "id": "r0Av_m5WoyJk",
    "outputId": "89bb4e9c-67eb-477d-9980-721cc8d24cdc"
   },
   "outputs": [],
   "source": [
    "df['Occupation'].value_counts()"
   ]
  },
  {
   "cell_type": "code",
   "execution_count": null,
   "metadata": {
    "colab": {
     "base_uri": "https://localhost:8080/",
     "height": 543
    },
    "id": "84pIploNpGca",
    "outputId": "aec634e1-255e-4ace-c3d7-595890134585"
   },
   "outputs": [],
   "source": [
    "df['Occupation'].value_counts().plot(kind='bar')"
   ]
  },
  {
   "cell_type": "code",
   "execution_count": null,
   "metadata": {
    "id": "IZesmpaTpLkC"
   },
   "outputs": [],
   "source": [
    "#df['Payment_Behaviour'].value_counts()"
   ]
  },
  {
   "cell_type": "markdown",
   "metadata": {
    "id": "xbQxx-KWp1P3"
   },
   "source": [
    "# **Check Outliers**"
   ]
  },
  {
   "cell_type": "markdown",
   "metadata": {
    "id": "1iQ9yxjhW9bK"
   },
   "source": [
    "**apply Z-score for:** Normal Distribution\n",
    "\n",
    "**apply Interquartile-rules for:** Skew Distribution\n",
    "\n",
    "**apply Percentile-base(Winsorizing) approche for:** Others Distribution\n",
    "\n",
    "**using domain knowledge apply:** Box-Cox Transformation and Robust Scaling and log-transformations"
   ]
  },
  {
   "cell_type": "code",
   "execution_count": null,
   "metadata": {
    "colab": {
     "base_uri": "https://localhost:8080/",
     "height": 444
    },
    "id": "lyUCvhmzi8zB",
    "outputId": "76647c66-bb9a-4b37-8f57-b031d5323a00"
   },
   "outputs": [],
   "source": [
    "# Visualize 'Age'\n",
    "fig, axes = plt.subplots(nrows=1, ncols=2, figsize=(16, 5))\n",
    "fig.suptitle('Distribution and Boxplot of Age', fontsize=16)\n",
    "sns.histplot(df['Age'], ax=axes[0], kde=True, color='skyblue', stat=\"density\", common_norm=False)\n",
    "axes[0].set_title('Distribution of Age')\n",
    "axes[0].set_xlabel(\"\")\n",
    "sns.boxplot(x=df['Age'], ax=axes[1], color='salmon')\n",
    "axes[1].set_title('Boxplot of Age')\n",
    "plt.tight_layout(rect=[0, 0.03, 1, 0.9])\n",
    "plt.show()\n"
   ]
  },
  {
   "cell_type": "markdown",
   "metadata": {
    "id": "V9y0yHaqXWuh"
   },
   "source": [
    "**Removing outliers from Age column**"
   ]
  },
  {
   "cell_type": "code",
   "execution_count": null,
   "metadata": {
    "id": "VNB8jK42XdAJ"
   },
   "outputs": [],
   "source": [
    "upper_limit = df['Age'].mean() + 3 * df['Age'].std()\n",
    "lower_limit = df['Age'].mean() - 3 * df['Age'].std()\n",
    "\n",
    "#apply z-score\n",
    "\n",
    "df['Age'] = np.where(\n",
    "   df.Age > upper_limit,\n",
    "   upper_limit,\n",
    "   np.where(\n",
    "       df.Age < lower_limit,\n",
    "       lower_limit,\n",
    "       df.Age\n",
    "   )\n",
    ")"
   ]
  },
  {
   "cell_type": "code",
   "execution_count": null,
   "metadata": {
    "colab": {
     "base_uri": "https://localhost:8080/",
     "height": 444
    },
    "id": "DlT9u5u0XuBn",
    "outputId": "a3b5677c-9998-4047-9c8d-ce0841b59c7f"
   },
   "outputs": [],
   "source": [
    "# Visualize 'Age'\n",
    "fig, axes = plt.subplots(nrows=1, ncols=2, figsize=(16, 5))\n",
    "fig.suptitle('Distribution and Boxplot of Ag after removing outliers', fontsize=16)\n",
    "sns.histplot(df['Age'], ax=axes[0], kde=True, color='skyblue', stat=\"density\", common_norm=False)\n",
    "axes[0].set_title('Distribution of Age after removing outliers')\n",
    "axes[0].set_xlabel(\"\")\n",
    "sns.boxplot(x=df['Age'], ax=axes[1], color='salmon')\n",
    "axes[1].set_title('Boxplot of Age')\n",
    "plt.tight_layout(rect=[0, 0.03, 1, 0.9])\n",
    "plt.show()\n"
   ]
  },
  {
   "cell_type": "code",
   "execution_count": null,
   "metadata": {
    "colab": {
     "base_uri": "https://localhost:8080/",
     "height": 444
    },
    "id": "fL-xDYPejon9",
    "outputId": "85d28341-8576-4651-db64-7eb96a88ac61"
   },
   "outputs": [],
   "source": [
    "# Visualize 'Annual_Income'\n",
    "pd.set_option('display.float_format', lambda x: '%.3f' % x)\n",
    "fig, axes = plt.subplots(nrows=1, ncols=2, figsize=(16, 5))\n",
    "fig.suptitle('Distribution and Boxplot of Annual_Income', fontsize=16)\n",
    "sns.histplot(df['Annual_Income'], ax=axes[0], kde=True, color='skyblue', stat=\"density\", common_norm=False)\n",
    "axes[0].set_title('Distribution of Annual_Income')\n",
    "axes[0].set_xlabel(\"\")\n",
    "sns.boxplot(x=df['Annual_Income'], ax=axes[1], color='salmon')\n",
    "axes[1].set_title('Boxplot of Annual_Income')\n",
    "plt.tight_layout(rect=[0, 0.03, 1, 0.9])\n",
    "plt.show()\n"
   ]
  },
  {
   "cell_type": "markdown",
   "metadata": {
    "id": "cP_r9kYrH_6W"
   },
   "source": [
    "**Removing Outliers from Annual Income column**"
   ]
  },
  {
   "cell_type": "code",
   "execution_count": null,
   "metadata": {
    "id": "Yd4GRrL2IIuR"
   },
   "outputs": [],
   "source": [
    "upper_limit = df.Annual_Income.quantile(0.99)\n",
    "lower_limit = df.Annual_Income.quantile(0.01)\n",
    "\n",
    "#apply percentile\n",
    "\n",
    "df['Annual_Income'] = np.where(\n",
    "        df.Annual_Income >= upper_limit,\n",
    "        upper_limit,\n",
    "        np.where(df.Annual_Income <= lower_limit,\n",
    "        lower_limit,\n",
    "        df.Annual_Income)\n",
    "        )"
   ]
  },
  {
   "cell_type": "code",
   "execution_count": null,
   "metadata": {
    "id": "_gmqjamkgDo1"
   },
   "outputs": [],
   "source": [
    "df['Annual_Income'] = np.log1p(df['Annual_Income']) #apply log-transformations"
   ]
  },
  {
   "cell_type": "code",
   "execution_count": null,
   "metadata": {
    "colab": {
     "base_uri": "https://localhost:8080/"
    },
    "id": "rtY-HQxRcVPR",
    "outputId": "1f0ab61d-d668-42f7-eaf1-61a9c9146ae3"
   },
   "outputs": [],
   "source": [
    "df.Annual_Income.describe()"
   ]
  },
  {
   "cell_type": "code",
   "execution_count": null,
   "metadata": {
    "colab": {
     "base_uri": "https://localhost:8080/",
     "height": 444
    },
    "id": "d-S85LG_cZqw",
    "outputId": "4d5c1afd-faa0-4330-ef84-bac89f7ff666"
   },
   "outputs": [],
   "source": [
    "# Visualize 'Annual_Income'\n",
    "pd.set_option('display.float_format', lambda x: '%.3f' % x)\n",
    "fig, axes = plt.subplots(nrows=1, ncols=2, figsize=(16, 5))\n",
    "fig.suptitle('Distribution and Boxplot of Annual_Income after removing outliers', fontsize=16)\n",
    "sns.histplot(df['Annual_Income'], ax=axes[0], kde=True, color='skyblue', stat=\"density\", common_norm=False)\n",
    "axes[0].set_title('Distribution of Annual_Income')\n",
    "axes[0].set_xlabel(\"\")\n",
    "sns.boxplot(x=df['Annual_Income'], ax=axes[1], color='salmon')\n",
    "axes[1].set_title('Boxplot of Annual_Income')\n",
    "plt.tight_layout(rect=[0, 0.03, 1, 0.9])\n",
    "plt.show()\n"
   ]
  },
  {
   "cell_type": "code",
   "execution_count": null,
   "metadata": {
    "colab": {
     "base_uri": "https://localhost:8080/",
     "height": 444
    },
    "id": "Og69YhUCsiC3",
    "outputId": "06f2b822-e1de-46a8-c321-6eb205ad09b8"
   },
   "outputs": [],
   "source": [
    "# Visualize 'Monthly_Inhand_Salary'\n",
    "fig, axes = plt.subplots(nrows=1, ncols=2, figsize=(16, 5))\n",
    "fig.suptitle('Distribution and Boxplot of Monthly_Inhand_Salary', fontsize=16)\n",
    "sns.histplot(df['Monthly_Inhand_Salary'], ax=axes[0], kde=True, color='skyblue', stat=\"density\", common_norm=False)\n",
    "axes[0].set_title('Distribution of Monthly_Inhand_Salary')\n",
    "axes[0].set_xlabel(\"\")\n",
    "sns.boxplot(x=df['Monthly_Inhand_Salary'], ax=axes[1], color='salmon')\n",
    "axes[1].set_title('Boxplot of Monthly_Inhand_Salary')\n",
    "plt.tight_layout(rect=[0, 0.03, 1, 0.9])\n",
    "plt.show()\n"
   ]
  },
  {
   "cell_type": "markdown",
   "metadata": {
    "id": "C3C7Wru3kROy"
   },
   "source": [
    "**Removing outliers from Monthly_Inhand_Salary using Interquadile**"
   ]
  },
  {
   "cell_type": "code",
   "execution_count": null,
   "metadata": {
    "id": "6Eczj5aPkg3H"
   },
   "outputs": [],
   "source": [
    "percentile25 = df.Monthly_Inhand_Salary.quantile(0.25)\n",
    "percentile75 = df.Monthly_Inhand_Salary.quantile(0.75)\n",
    "\n",
    "#apply Interquartile\n",
    "\n",
    "iqr = percentile75 - percentile25\n",
    "\n",
    "upper_limit = percentile75 + 1.5 * iqr\n",
    "lower_limit = percentile25 - 1.5 * iqr\n",
    "\n",
    "df['Monthly_Inhand_Salary'] = np.where(\n",
    "    df.Monthly_Inhand_Salary > upper_limit,\n",
    "    upper_limit,\n",
    "    np.where(\n",
    "        df.Monthly_Inhand_Salary < lower_limit,\n",
    "        lower_limit,\n",
    "        df.Monthly_Inhand_Salary\n",
    "    )\n",
    ")"
   ]
  },
  {
   "cell_type": "code",
   "execution_count": null,
   "metadata": {
    "colab": {
     "base_uri": "https://localhost:8080/"
    },
    "id": "gJgSWuj2mM74",
    "outputId": "9cf985ad-ba04-49a5-bb83-bc26be048f48"
   },
   "outputs": [],
   "source": [
    "df.Monthly_Inhand_Salary.describe()"
   ]
  },
  {
   "cell_type": "code",
   "execution_count": null,
   "metadata": {
    "colab": {
     "base_uri": "https://localhost:8080/",
     "height": 444
    },
    "id": "LcuOnGTlmUPQ",
    "outputId": "25919b3a-fc22-4107-e464-3e6614ab0ffb"
   },
   "outputs": [],
   "source": [
    "# Visualize 'Monthly_Inhand_Salary'\n",
    "fig, axes = plt.subplots(nrows=1, ncols=2, figsize=(16, 5))\n",
    "fig.suptitle('Distribution and Boxplot of Monthly_Inhand_Salary after removing', fontsize=16)\n",
    "sns.histplot(df['Monthly_Inhand_Salary'], ax=axes[0], kde=True, color='skyblue', stat=\"density\", common_norm=False)\n",
    "axes[0].set_title('Distribution of Monthly_Inhand_Salary')\n",
    "axes[0].set_xlabel(\"\")\n",
    "sns.boxplot(x=df['Monthly_Inhand_Salary'], ax=axes[1], color='salmon')\n",
    "axes[1].set_title('Boxplot of Monthly_Inhand_Salary')\n",
    "plt.tight_layout(rect=[0, 0.03, 1, 0.9])\n",
    "plt.show()"
   ]
  },
  {
   "cell_type": "markdown",
   "metadata": {
    "id": "H5SA35h7kXvC"
   },
   "source": []
  },
  {
   "cell_type": "code",
   "execution_count": null,
   "metadata": {
    "colab": {
     "base_uri": "https://localhost:8080/",
     "height": 444
    },
    "id": "17f9CCf0sjcl",
    "outputId": "7c6525ed-5bb7-4e6b-dd88-a127f679633e"
   },
   "outputs": [],
   "source": [
    "# Visualize 'Num_Bank_Accounts'\n",
    "fig, axes = plt.subplots(nrows=1, ncols=2, figsize=(16, 5))\n",
    "fig.suptitle('Distribution and Boxplot of Num_Bank_Accounts', fontsize=16)\n",
    "sns.histplot(df['Num_Bank_Accounts'], ax=axes[0], kde=True, color='skyblue', stat=\"density\", common_norm=False)\n",
    "axes[0].set_title('Distribution of Num_Bank_Accounts')\n",
    "axes[0].set_xlabel(\"\")\n",
    "sns.boxplot(x=df['Num_Bank_Accounts'], ax=axes[1], color='salmon')\n",
    "axes[1].set_title('Boxplot of Num_Bank_Accounts')\n",
    "plt.tight_layout(rect=[0, 0.03, 1, 0.9])\n",
    "plt.show()\n"
   ]
  },
  {
   "cell_type": "markdown",
   "metadata": {
    "id": "1e3Li1Oqh6u1"
   },
   "source": [
    "**Apply log Transformer**"
   ]
  },
  {
   "cell_type": "code",
   "execution_count": null,
   "metadata": {
    "colab": {
     "base_uri": "https://localhost:8080/"
    },
    "id": "HHT-Kaz-hCUg",
    "outputId": "573742a8-d588-4614-9083-c5592d5572eb"
   },
   "outputs": [],
   "source": [
    "\n",
    "\n",
    "#removing negative values\n",
    "df['Num_Bank_Accounts'] = df['Num_Bank_Accounts'] + abs(df['Num_Bank_Accounts'].min()) + 1\n",
    "\n",
    "df.Num_Bank_Accounts.describe()"
   ]
  },
  {
   "cell_type": "code",
   "execution_count": null,
   "metadata": {
    "colab": {
     "base_uri": "https://localhost:8080/"
    },
    "id": "xN152BQ7jucC",
    "outputId": "455a4320-ed80-479a-eb82-6b5a965866c1"
   },
   "outputs": [],
   "source": [
    "# Apply log transformation\n",
    "df['Num_Bank_Accounts'] = np.log1p(df['Num_Bank_Accounts'])\n",
    "\n",
    "# Display summary statistics\n",
    "print(df['Num_Bank_Accounts'].describe())\n"
   ]
  },
  {
   "cell_type": "code",
   "execution_count": null,
   "metadata": {
    "colab": {
     "base_uri": "https://localhost:8080/",
     "height": 444
    },
    "id": "RYlP2HBOpnC0",
    "outputId": "3ca5d0c8-6546-4312-a5c2-24df9df7a49c"
   },
   "outputs": [],
   "source": [
    "# Visualize 'Num_Bank_Accounts'\n",
    "fig, axes = plt.subplots(nrows=1, ncols=2, figsize=(16, 5))\n",
    "fig.suptitle('Distribution and Boxplot of Num_Bank_Accounts After Romoving outliers', fontsize=16)\n",
    "sns.histplot(df['Num_Bank_Accounts'], ax=axes[0], kde=True, color='skyblue', stat=\"density\", common_norm=False)\n",
    "axes[0].set_title('Distribution of Num_Bank_Accounts')\n",
    "axes[0].set_xlabel(\"\")\n",
    "sns.boxplot(x=df['Num_Bank_Accounts'], ax=axes[1], color='salmon')\n",
    "axes[1].set_title('Boxplot of Num_Bank_Accounts')\n",
    "plt.tight_layout(rect=[0, 0.03, 1, 0.9])\n",
    "plt.show()"
   ]
  },
  {
   "cell_type": "code",
   "execution_count": null,
   "metadata": {
    "colab": {
     "base_uri": "https://localhost:8080/",
     "height": 444
    },
    "id": "fBOWxQV3svld",
    "outputId": "1011ae2e-52a1-4c25-9c08-e87a095f71cc"
   },
   "outputs": [],
   "source": [
    "# Visualize 'Num_Credit_Card'\n",
    "fig, axes = plt.subplots(nrows=1, ncols=2, figsize=(16, 5))\n",
    "fig.suptitle('Distribution and Boxplot of Num_Credit_Card', fontsize=16)\n",
    "sns.histplot(df['Num_Credit_Card'], ax=axes[0], kde=True, color='skyblue', stat=\"density\", common_norm=False)\n",
    "axes[0].set_title('Distribution of Num_Credit_Card')\n",
    "axes[0].set_xlabel(\"\")\n",
    "sns.boxplot(x=df['Num_Credit_Card'], ax=axes[1], color='salmon')\n",
    "axes[1].set_title('Boxplot of Num_Credit_Card')\n",
    "plt.tight_layout(rect=[0, 0.03, 1, 0.9])\n",
    "plt.show()\n"
   ]
  },
  {
   "cell_type": "markdown",
   "metadata": {
    "id": "Ol8oELfiq_Xc"
   },
   "source": [
    "**Num_Credit_Card for this column I don't understand it's distribution that's why I'm using Box-Cox transformation**"
   ]
  },
  {
   "cell_type": "code",
   "execution_count": null,
   "metadata": {
    "colab": {
     "base_uri": "https://localhost:8080/"
    },
    "id": "jyRiLGInqLcd",
    "outputId": "13196733-84fc-4ec4-e8cd-c9c97ab7ae58"
   },
   "outputs": [],
   "source": [
    "#removing negative values\n",
    "df['Num_Credit_Card'] = df['Num_Credit_Card'] + abs(df['Num_Credit_Card'].min()) + 1\n",
    "df['Num_Bank_Accounts'] = np.log1p(df['Num_Bank_Accounts'])\n",
    "\n",
    "df.Num_Credit_Card.describe()"
   ]
  },
  {
   "cell_type": "code",
   "execution_count": null,
   "metadata": {
    "colab": {
     "base_uri": "https://localhost:8080/",
     "height": 444
    },
    "id": "jue8zZ_HsxPT",
    "outputId": "84a79d6f-c499-4baf-d071-9931b82bf6b3"
   },
   "outputs": [],
   "source": [
    "# Visualize 'Interest_Rate'\n",
    "fig, axes = plt.subplots(nrows=1, ncols=2, figsize=(16, 5))\n",
    "fig.suptitle('Distribution and Boxplot of Interest_Rate', fontsize=16)\n",
    "sns.histplot(df['Interest_Rate'], ax=axes[0], kde=True, color='skyblue', stat=\"density\", common_norm=False)\n",
    "axes[0].set_title('Distribution of Interest_Rate')\n",
    "axes[0].set_xlabel(\"\")\n",
    "sns.boxplot(x=df['Interest_Rate'], ax=axes[1], color='salmon')\n",
    "axes[1].set_title('Boxplot of Interest_Rate')\n",
    "plt.tight_layout(rect=[0, 0.03, 1, 0.9])\n",
    "plt.show()\n"
   ]
  },
  {
   "cell_type": "code",
   "execution_count": null,
   "metadata": {
    "colab": {
     "base_uri": "https://localhost:8080/"
    },
    "id": "Qpm0lOZIumbr",
    "outputId": "aea67c8d-9e25-4699-d69a-2114c7d5f59e"
   },
   "outputs": [],
   "source": [
    "from scipy.stats import boxcox\n",
    "\n",
    "transformed_data, lambda_value = boxcox(df['Interest_Rate'], lmbda=None)\n",
    "\n",
    "df['Interest_Rate'] = np.power((transformed_data * lambda_value) + 1, 1 / lambda_value)\n",
    "\n",
    "df.Interest_Rate.describe()"
   ]
  },
  {
   "cell_type": "code",
   "execution_count": null,
   "metadata": {
    "colab": {
     "base_uri": "https://localhost:8080/",
     "height": 444
    },
    "id": "x2UtUlWfu0Uf",
    "outputId": "1b8eec4d-5f6a-41a1-c82e-a6414efdc22a"
   },
   "outputs": [],
   "source": [
    "# Visualize 'Interest_Rate'\n",
    "fig, axes = plt.subplots(nrows=1, ncols=2, figsize=(16, 5))\n",
    "fig.suptitle('Distribution and Boxplot of Interest_Rate after removing outliers', fontsize=16)\n",
    "sns.histplot(df['Interest_Rate'], ax=axes[0], kde=True, color='skyblue', stat=\"density\", common_norm=False)\n",
    "axes[0].set_title('Distribution of Interest_Rate')\n",
    "axes[0].set_xlabel(\"\")\n",
    "sns.boxplot(x=df['Interest_Rate'], ax=axes[1], color='salmon')\n",
    "axes[1].set_title('Boxplot of Interest_Rate')\n",
    "plt.tight_layout(rect=[0, 0.03, 1, 0.9])\n",
    "plt.show()"
   ]
  },
  {
   "cell_type": "code",
   "execution_count": null,
   "metadata": {
    "colab": {
     "base_uri": "https://localhost:8080/",
     "height": 444
    },
    "id": "cR14Yl2ls7bl",
    "outputId": "e277a60a-ee68-4ea6-9459-a7ef9ade15b7"
   },
   "outputs": [],
   "source": [
    "# Visualize 'Num_of_Loan'\n",
    "fig, axes = plt.subplots(nrows=1, ncols=2, figsize=(16, 5))\n",
    "fig.suptitle('Distribution and Boxplot of Num_of_Loan', fontsize=16)\n",
    "sns.histplot(df['Num_of_Loan'], ax=axes[0], kde=True, color='skyblue', stat=\"density\", common_norm=False)\n",
    "axes[0].set_title('Distribution of Num_of_Loan')\n",
    "axes[0].set_xlabel(\"\")\n",
    "sns.boxplot(x=df['Num_of_Loan'], ax=axes[1], color='salmon')\n",
    "axes[1].set_title('Boxplot of Num_of_Loan')\n",
    "plt.tight_layout(rect=[0, 0.03, 1, 0.9])\n",
    "plt.show()\n"
   ]
  },
  {
   "cell_type": "code",
   "execution_count": null,
   "metadata": {
    "colab": {
     "base_uri": "https://localhost:8080/"
    },
    "id": "OzY6HEkgv32q",
    "outputId": "7b5e9fcd-fe08-4adb-a7da-edd50d6d0f4a"
   },
   "outputs": [],
   "source": [
    "#removing negative values\n",
    "df['Num_of_Loan'] = df['Num_of_Loan'] + abs(df['Num_of_Loan'].min()) + 1\n",
    "\n",
    "df['Num_of_Loan'] = np.log1p(df['Num_of_Loan'])\n",
    "\n",
    "df.Num_of_Loan.describe()"
   ]
  },
  {
   "cell_type": "code",
   "execution_count": null,
   "metadata": {
    "colab": {
     "base_uri": "https://localhost:8080/",
     "height": 444
    },
    "id": "p-mK290CwOto",
    "outputId": "4ce04607-162b-4827-be18-9c88d0b34833"
   },
   "outputs": [],
   "source": [
    "# Visualize 'Num_of_Loan'\n",
    "fig, axes = plt.subplots(nrows=1, ncols=2, figsize=(16, 5))\n",
    "fig.suptitle('Distribution and Boxplot of Num_of_Loan after removing outliers', fontsize=16)\n",
    "sns.histplot(df['Num_of_Loan'], ax=axes[0], kde=True, color='skyblue', stat=\"density\", common_norm=False)\n",
    "axes[0].set_title('Distribution of Num_of_Loan')\n",
    "axes[0].set_xlabel(\"\")\n",
    "sns.boxplot(x=df['Num_of_Loan'], ax=axes[1], color='salmon')\n",
    "axes[1].set_title('Boxplot of Num_of_Loan')\n",
    "plt.tight_layout(rect=[0, 0.03, 1, 0.9])\n",
    "plt.show()"
   ]
  },
  {
   "cell_type": "code",
   "execution_count": null,
   "metadata": {
    "colab": {
     "base_uri": "https://localhost:8080/",
     "height": 444
    },
    "id": "OQRQ66lus8z7",
    "outputId": "63813892-effc-42a2-e6ea-497edf9a067e"
   },
   "outputs": [],
   "source": [
    "# Visualize 'Delay_from_due_date'\n",
    "fig, axes = plt.subplots(nrows=1, ncols=2, figsize=(16, 5))\n",
    "fig.suptitle('Distribution and Boxplot of Delay_from_due_date', fontsize=16)\n",
    "sns.histplot(df['Delay_from_due_date'], ax=axes[0], kde=True, color='skyblue', stat=\"density\", common_norm=False)\n",
    "axes[0].set_title('Distribution of Delay_from_due_date')\n",
    "axes[0].set_xlabel(\"\")\n",
    "sns.boxplot(x=df['Delay_from_due_date'], ax=axes[1], color='salmon')\n",
    "axes[1].set_title('Boxplot of Delay_from_due_date')\n",
    "plt.tight_layout(rect=[0, 0.03, 1, 0.9])\n",
    "plt.show()\n"
   ]
  },
  {
   "cell_type": "markdown",
   "metadata": {
    "id": "fMgCXpLLmx5l"
   },
   "source": [
    "**Removing outliers from Delay_from_due_date column**"
   ]
  },
  {
   "cell_type": "code",
   "execution_count": null,
   "metadata": {
    "id": "-nBmBof-m5MT"
   },
   "outputs": [],
   "source": [
    "percentile25 = df.Delay_from_due_date.quantile(0.25)\n",
    "percentile75 = df.Delay_from_due_date.quantile(0.75)\n",
    "\n",
    "iqr = percentile75 - percentile25\n",
    "\n",
    "upper_limit = percentile75 + 1.5 * iqr\n",
    "lower_limit = percentile25 - 1.5 * iqr\n",
    "\n",
    "df['Delay_from_due_date'] = np.where(\n",
    "    df.Delay_from_due_date > upper_limit,\n",
    "    upper_limit,\n",
    "    np.where(\n",
    "        df.Delay_from_due_date < lower_limit,\n",
    "        lower_limit,\n",
    "        df.Delay_from_due_date\n",
    "    )\n",
    ")"
   ]
  },
  {
   "cell_type": "code",
   "execution_count": null,
   "metadata": {
    "colab": {
     "base_uri": "https://localhost:8080/",
     "height": 444
    },
    "id": "NtT8B-4hnLWC",
    "outputId": "2be6cee4-5f14-4fee-e70e-57fcf36c9f0a"
   },
   "outputs": [],
   "source": [
    "# Visualize 'Delay_from_due_date'\n",
    "fig, axes = plt.subplots(nrows=1, ncols=2, figsize=(16, 5))\n",
    "fig.suptitle('Distribution and Boxplot of Delay_from_due_date after removing outliers', fontsize=16)\n",
    "sns.histplot(df['Delay_from_due_date'], ax=axes[0], kde=True, color='skyblue', stat=\"density\", common_norm=False)\n",
    "axes[0].set_title('Distribution of Delay_from_due_date')\n",
    "axes[0].set_xlabel(\"\")\n",
    "sns.boxplot(x=df['Delay_from_due_date'], ax=axes[1], color='salmon')\n",
    "axes[1].set_title('Boxplot of Delay_from_due_date')\n",
    "plt.tight_layout(rect=[0, 0.03, 1, 0.9])\n",
    "plt.show()\n"
   ]
  },
  {
   "cell_type": "code",
   "execution_count": null,
   "metadata": {
    "colab": {
     "base_uri": "https://localhost:8080/",
     "height": 444
    },
    "id": "SJRU_Dq5tPc5",
    "outputId": "708e450a-2a17-46ba-f640-dd3f589bbab0"
   },
   "outputs": [],
   "source": [
    "# Visualize 'Num_Credit_Card'\n",
    "fig, axes = plt.subplots(nrows=1, ncols=2, figsize=(16, 5))\n",
    "fig.suptitle('Distribution and Boxplot of Num_Credit_Card', fontsize=16)\n",
    "sns.histplot(df['Num_Credit_Card'], ax=axes[0], kde=True, color='skyblue', stat=\"density\", common_norm=False)\n",
    "axes[0].set_title('Distribution of Num_Credit_Card')\n",
    "axes[0].set_xlabel(\"\")\n",
    "sns.boxplot(x=df['Num_Credit_Card'], ax=axes[1], color='salmon')\n",
    "axes[1].set_title('Boxplot of Num_Credit_Card')\n",
    "plt.tight_layout(rect=[0, 0.03, 1, 0.9])\n",
    "plt.show()\n"
   ]
  },
  {
   "cell_type": "code",
   "execution_count": null,
   "metadata": {
    "colab": {
     "base_uri": "https://localhost:8080/"
    },
    "id": "xtKN4DyFxBOm",
    "outputId": "2d2352f6-bdc1-48e1-cdf4-fbb7e44e28a2"
   },
   "outputs": [],
   "source": [
    "df['Num_Credit_Card'] = np.log1p(df['Num_Credit_Card'])\n",
    "\n",
    "df.Num_Credit_Card.describe()"
   ]
  },
  {
   "cell_type": "code",
   "execution_count": null,
   "metadata": {
    "colab": {
     "base_uri": "https://localhost:8080/",
     "height": 444
    },
    "id": "XU5Rjc-0xRpk",
    "outputId": "264d9718-bde7-4b95-a3a7-a0ed47698a70"
   },
   "outputs": [],
   "source": [
    "# Visualize 'Num_Credit_Card'\n",
    "fig, axes = plt.subplots(nrows=1, ncols=2, figsize=(16, 5))\n",
    "fig.suptitle('Distribution and Boxplot of Num_Credit_Card after removing outliers', fontsize=16)\n",
    "sns.histplot(df['Num_Credit_Card'], ax=axes[0], kde=True, color='skyblue', stat=\"density\", common_norm=False)\n",
    "axes[0].set_title('Distribution of Num_Credit_Card')\n",
    "axes[0].set_xlabel(\"\")\n",
    "sns.boxplot(x=df['Num_Credit_Card'], ax=axes[1], color='salmon')\n",
    "axes[1].set_title('Boxplot of Num_Credit_Card')\n",
    "plt.tight_layout(rect=[0, 0.03, 1, 0.9])\n",
    "plt.show()\n"
   ]
  },
  {
   "cell_type": "code",
   "execution_count": null,
   "metadata": {
    "colab": {
     "base_uri": "https://localhost:8080/",
     "height": 444
    },
    "id": "Bct_wf-6tW1v",
    "outputId": "a360be28-5c3f-419d-c2bc-870b43d2b3f8"
   },
   "outputs": [],
   "source": [
    "# Visualize 'Num_Credit_Inquiries'\n",
    "fig, axes = plt.subplots(nrows=1, ncols=2, figsize=(16, 5))\n",
    "fig.suptitle('Distribution and Boxplot of Num_Credit_Inquiries', fontsize=16)\n",
    "sns.histplot(df['Num_Credit_Inquiries'], ax=axes[0], kde=True, color='skyblue', stat=\"density\", common_norm=False)\n",
    "axes[0].set_title('Distribution of Num_Credit_Inquiries')\n",
    "axes[0].set_xlabel(\"\")\n",
    "sns.boxplot(x=df['Num_Credit_Inquiries'], ax=axes[1], color='salmon')\n",
    "axes[1].set_title('Boxplot of Num_Credit_Inquiries')\n",
    "plt.tight_layout(rect=[0, 0.03, 1, 0.9])\n",
    "plt.show()\n"
   ]
  },
  {
   "cell_type": "code",
   "execution_count": null,
   "metadata": {
    "colab": {
     "base_uri": "https://localhost:8080/"
    },
    "id": "WvuWnLIwxh4q",
    "outputId": "1fb2676e-e3dd-4613-ea9a-ea34ebfe00ee"
   },
   "outputs": [],
   "source": [
    "from scipy.stats import boxcox\n",
    "\n",
    "#removing negative values\n",
    "df['Num_Credit_Inquiries'] = df['Num_Credit_Inquiries'] + abs(df['Num_Credit_Inquiries'].min()) + 1\n",
    "\n",
    "transformed_data, lambda_value = boxcox(df['Num_Credit_Inquiries'], lmbda=None)\n",
    "\n",
    "df['Num_Credit_Inquiries'] = np.power((transformed_data * lambda_value) + 1, 1 / lambda_value)\n",
    "\n",
    "\n",
    "df.Num_Credit_Inquiries.describe()"
   ]
  },
  {
   "cell_type": "code",
   "execution_count": null,
   "metadata": {
    "colab": {
     "base_uri": "https://localhost:8080/",
     "height": 444
    },
    "id": "qPQ8Kl9bx_wx",
    "outputId": "a32b747d-ace3-4b14-ff8a-82b39a757d70"
   },
   "outputs": [],
   "source": [
    "# Visualize 'Num_Credit_Inquiries'\n",
    "fig, axes = plt.subplots(nrows=1, ncols=2, figsize=(16, 5))\n",
    "fig.suptitle('Distribution and Boxplot of Num_Credit_Inquiries after removing outliers', fontsize=16)\n",
    "sns.histplot(df['Num_Credit_Inquiries'], ax=axes[0], kde=True, color='skyblue', stat=\"density\", common_norm=False)\n",
    "axes[0].set_title('Distribution of Num_Credit_Inquiries')\n",
    "axes[0].set_xlabel(\"\")\n",
    "sns.boxplot(x=df['Num_Credit_Inquiries'], ax=axes[1], color='salmon')\n",
    "axes[1].set_title('Boxplot of Num_Credit_Inquiries')\n",
    "plt.tight_layout(rect=[0, 0.03, 1, 0.9])\n",
    "plt.show()\n"
   ]
  },
  {
   "cell_type": "code",
   "execution_count": null,
   "metadata": {
    "colab": {
     "base_uri": "https://localhost:8080/",
     "height": 444
    },
    "id": "BVqM52fktW-a",
    "outputId": "c21abbaa-503f-4e4e-834c-2cd596287ee0"
   },
   "outputs": [],
   "source": [
    "# Visualize 'Outstanding_Debt'\n",
    "fig, axes = plt.subplots(nrows=1, ncols=2, figsize=(16, 5))\n",
    "fig.suptitle('Distribution and Boxplot of Outstanding_Debt', fontsize=16)\n",
    "sns.histplot(df['Outstanding_Debt'], ax=axes[0], kde=True, color='skyblue', stat=\"density\", common_norm=False)\n",
    "axes[0].set_title('Distribution of Outstanding_Debt')\n",
    "axes[0].set_xlabel(\"\")\n",
    "sns.boxplot(x=df['Outstanding_Debt'], ax=axes[1], color='salmon')\n",
    "axes[1].set_title('Boxplot of Outstanding_Debt')\n",
    "plt.tight_layout(rect=[0, 0.03, 1, 0.9])\n",
    "plt.show()"
   ]
  },
  {
   "cell_type": "markdown",
   "metadata": {
    "id": "dqoYbMpWncrZ"
   },
   "source": [
    "**Removing outliers from Outstanding_Debt column**"
   ]
  },
  {
   "cell_type": "code",
   "execution_count": null,
   "metadata": {
    "id": "qVklmi_mnjRr"
   },
   "outputs": [],
   "source": [
    "percentile25 = df.Outstanding_Debt.quantile(0.25)\n",
    "percentile75 = df.Outstanding_Debt.quantile(0.75)\n",
    "\n",
    "iqr = percentile75 - percentile25\n",
    "\n",
    "upper_limit = percentile75 + 1.5 * iqr\n",
    "lower_limit = percentile25 - 1.5 * iqr\n",
    "\n",
    "df['Delay_from_due_date'] = np.where(\n",
    "    df.Outstanding_Debt > upper_limit,\n",
    "    upper_limit,\n",
    "    np.where(\n",
    "        df.Outstanding_Debt < lower_limit,\n",
    "        lower_limit,\n",
    "        df.Outstanding_Debt\n",
    "    )\n",
    ")"
   ]
  },
  {
   "cell_type": "code",
   "execution_count": null,
   "metadata": {
    "colab": {
     "base_uri": "https://localhost:8080/",
     "height": 444
    },
    "id": "ACT6xT1on2Rw",
    "outputId": "ca909c76-e28e-4a6c-ab8f-ab29579545ab"
   },
   "outputs": [],
   "source": [
    "# Visualize 'Outstanding_Debt'\n",
    "fig, axes = plt.subplots(nrows=1, ncols=2, figsize=(16, 5))\n",
    "fig.suptitle('Distribution and Boxplot of Outstanding_Debt', fontsize=16)\n",
    "sns.histplot(df['Outstanding_Debt'], ax=axes[0], kde=True, color='skyblue', stat=\"density\", common_norm=False)\n",
    "axes[0].set_title('Distribution of Outstanding_Debt')\n",
    "axes[0].set_xlabel(\"\")\n",
    "sns.boxplot(x=df['Outstanding_Debt'], ax=axes[1], color='salmon')\n",
    "axes[1].set_title('Boxplot of Outstanding_Debt')\n",
    "plt.tight_layout(rect=[0, 0.03, 1, 0.9])\n",
    "plt.show()"
   ]
  },
  {
   "cell_type": "code",
   "execution_count": null,
   "metadata": {
    "colab": {
     "base_uri": "https://localhost:8080/",
     "height": 444
    },
    "id": "P-oPA5emuNgg",
    "outputId": "d32c4b0a-5cca-4866-a0d9-6e04fb6707b8"
   },
   "outputs": [],
   "source": [
    "# Visualize 'Credit_Utilization_Ratio'\n",
    "fig, axes = plt.subplots(nrows=1, ncols=2, figsize=(16, 5))\n",
    "fig.suptitle('Distribution and Boxplot of Credit_Utilization_Ratio', fontsize=16)\n",
    "sns.histplot(df['Credit_Utilization_Ratio'], ax=axes[0], kde=True, color='skyblue', stat=\"density\", common_norm=False)\n",
    "axes[0].set_title('Distribution of Credit_Utilization_Ratio')\n",
    "axes[0].set_xlabel(\"\")\n",
    "sns.boxplot(x=df['Credit_Utilization_Ratio'], ax=axes[1], color='salmon')\n",
    "axes[1].set_title('Boxplot of Credit_Utilization_Ratio')\n",
    "plt.tight_layout(rect=[0, 0.03, 1, 0.9])\n",
    "plt.show()"
   ]
  },
  {
   "cell_type": "code",
   "execution_count": null,
   "metadata": {
    "colab": {
     "base_uri": "https://localhost:8080/",
     "height": 444
    },
    "id": "1WfckV-buPct",
    "outputId": "3cc0bb97-5c11-4f50-9d66-c28086345cae"
   },
   "outputs": [],
   "source": [
    "# Visualize 'Credit_History_Age'\n",
    "fig, axes = plt.subplots(nrows=1, ncols=2, figsize=(16, 5))\n",
    "fig.suptitle('Distribution and Boxplot of Credit_History_Age', fontsize=16)\n",
    "sns.histplot(df['Credit_History_Age'], ax=axes[0], kde=True, color='skyblue', stat=\"density\", common_norm=False)\n",
    "axes[0].set_title('Distribution of Credit_History_Age')\n",
    "axes[0].set_xlabel(\"\")\n",
    "sns.boxplot(x=df['Credit_History_Age'], ax=axes[1], color='salmon')\n",
    "axes[1].set_title('Boxplot of Credit_History_Age')\n",
    "plt.tight_layout(rect=[0, 0.03, 1, 0.9])\n",
    "plt.show()"
   ]
  },
  {
   "cell_type": "code",
   "execution_count": null,
   "metadata": {
    "colab": {
     "base_uri": "https://localhost:8080/",
     "height": 444
    },
    "id": "6nNUBnZuuT4U",
    "outputId": "491609b5-6a6c-4d03-cfcb-8c1a9b002937"
   },
   "outputs": [],
   "source": [
    "# Visualize 'Payment_of_Min_Amount'\n",
    "fig, axes = plt.subplots(nrows=1, ncols=2, figsize=(16, 5))\n",
    "fig.suptitle('Distribution and Boxplot of Payment_of_Min_Amount', fontsize=16)\n",
    "sns.histplot(df['Payment_of_Min_Amount'], ax=axes[0], kde=True, color='skyblue', stat=\"density\", common_norm=False)\n",
    "axes[0].set_title('Distribution of Payment_of_Min_Amount')\n",
    "axes[0].set_xlabel(\"\")\n",
    "sns.boxplot(x=df['Payment_of_Min_Amount'], ax=axes[1], color='salmon')\n",
    "axes[1].set_title('Boxplot of Payment_of_Min_Amount')\n",
    "plt.tight_layout(rect=[0, 0.03, 1, 0.9])\n",
    "plt.show()"
   ]
  },
  {
   "cell_type": "code",
   "execution_count": null,
   "metadata": {
    "colab": {
     "base_uri": "https://localhost:8080/",
     "height": 444
    },
    "id": "4zcunOJsuXFo",
    "outputId": "ce47c34e-3fab-417e-e16e-7c6478a3d967"
   },
   "outputs": [],
   "source": [
    "# Visualize 'Total_EMI_per_month'\n",
    "fig, axes = plt.subplots(nrows=1, ncols=2, figsize=(16, 5))\n",
    "fig.suptitle('Distribution and Boxplot of Total_EMI_per_month', fontsize=16)\n",
    "sns.histplot(df['Total_EMI_per_month'], ax=axes[0], kde=True, color='skyblue', stat=\"density\", common_norm=False)\n",
    "axes[0].set_title('Distribution of Total_EMI_per_month')\n",
    "axes[0].set_xlabel(\"\")\n",
    "sns.boxplot(x=df['Total_EMI_per_month'], ax=axes[1], color='salmon')\n",
    "axes[1].set_title('Boxplot of Total_EMI_per_month')\n",
    "plt.tight_layout(rect=[0, 0.03, 1, 0.9])\n",
    "plt.show()"
   ]
  },
  {
   "cell_type": "code",
   "execution_count": null,
   "metadata": {
    "colab": {
     "base_uri": "https://localhost:8080/"
    },
    "id": "LD7Otnj_ySLr",
    "outputId": "9d343660-c7ad-4a1c-ddee-6941659645b9"
   },
   "outputs": [],
   "source": [
    "df['Total_EMI_per_month'] = np.log1p(df['Total_EMI_per_month'])\n",
    "\n",
    "df.Total_EMI_per_month.describe()"
   ]
  },
  {
   "cell_type": "code",
   "execution_count": null,
   "metadata": {
    "colab": {
     "base_uri": "https://localhost:8080/",
     "height": 444
    },
    "id": "mh6iND2ayfRm",
    "outputId": "29a294e7-a1ac-40aa-af4b-8280fe192573"
   },
   "outputs": [],
   "source": [
    "# Visualize 'Total_EMI_per_month'\n",
    "fig, axes = plt.subplots(nrows=1, ncols=2, figsize=(16, 5))\n",
    "fig.suptitle('Distribution and Boxplot of Total_EMI_per_month after removing outliers', fontsize=16)\n",
    "sns.histplot(df['Total_EMI_per_month'], ax=axes[0], kde=True, color='skyblue', stat=\"density\", common_norm=False)\n",
    "axes[0].set_title('Distribution of Total_EMI_per_month')\n",
    "axes[0].set_xlabel(\"\")\n",
    "sns.boxplot(x=df['Total_EMI_per_month'], ax=axes[1], color='salmon')\n",
    "axes[1].set_title('Boxplot of Total_EMI_per_month')\n",
    "plt.tight_layout(rect=[0, 0.03, 1, 0.9])\n",
    "plt.show()"
   ]
  },
  {
   "cell_type": "code",
   "execution_count": null,
   "metadata": {
    "colab": {
     "base_uri": "https://localhost:8080/",
     "height": 444
    },
    "id": "CIceURL8uipD",
    "outputId": "d8461abd-05a1-4547-c377-bc9fe655136e"
   },
   "outputs": [],
   "source": [
    "# Visualize 'Amount_invested_monthly'\n",
    "fig, axes = plt.subplots(nrows=1, ncols=2, figsize=(16, 5))\n",
    "fig.suptitle('Distribution and Boxplot of Amount_invested_monthly', fontsize=16)\n",
    "sns.histplot(df['Amount_invested_monthly'], ax=axes[0], kde=True, color='skyblue', stat=\"density\", common_norm=False)\n",
    "axes[0].set_title('Distribution of Amount_invested_monthly')\n",
    "axes[0].set_xlabel(\"\")\n",
    "sns.boxplot(x=df['Amount_invested_monthly'], ax=axes[1], color='salmon')\n",
    "axes[1].set_title('Boxplot of Amount_invested_monthly')\n",
    "plt.tight_layout(rect=[0, 0.03, 1, 0.9])\n",
    "plt.show()"
   ]
  },
  {
   "cell_type": "code",
   "execution_count": null,
   "metadata": {
    "id": "Fez3rirGy8yr"
   },
   "outputs": [],
   "source": [
    "percentile25 = df.Amount_invested_monthly.quantile(0.25)\n",
    "percentile75 = df.Amount_invested_monthly.quantile(0.75)\n",
    "\n",
    "iqr = percentile75 - percentile25\n",
    "\n",
    "upper_limit = percentile75 + 1.5 * iqr\n",
    "lower_limit = percentile25 - 1.5 * iqr\n",
    "\n",
    "df['Amount_invested_monthly'] = np.where(\n",
    "    df.Amount_invested_monthly > upper_limit,\n",
    "    upper_limit,\n",
    "    np.where(\n",
    "        df.Amount_invested_monthly < lower_limit,\n",
    "        lower_limit,\n",
    "        df.Amount_invested_monthly\n",
    "    )\n",
    ")"
   ]
  },
  {
   "cell_type": "code",
   "execution_count": null,
   "metadata": {
    "colab": {
     "base_uri": "https://localhost:8080/",
     "height": 444
    },
    "id": "VOCjfZgxzKFJ",
    "outputId": "3648825e-b4cd-4814-bcf1-e90fe87246eb"
   },
   "outputs": [],
   "source": [
    "# Visualize 'Amount_invested_monthly'\n",
    "fig, axes = plt.subplots(nrows=1, ncols=2, figsize=(16, 5))\n",
    "fig.suptitle('Distribution and Boxplot of Amount_invested_monthly after removing outliers', fontsize=16)\n",
    "sns.histplot(df['Amount_invested_monthly'], ax=axes[0], kde=True, color='skyblue', stat=\"density\", common_norm=False)\n",
    "axes[0].set_title('Distribution of Amount_invested_monthly')\n",
    "axes[0].set_xlabel(\"\")\n",
    "sns.boxplot(x=df['Amount_invested_monthly'], ax=axes[1], color='salmon')\n",
    "axes[1].set_title('Boxplot of Amount_invested_monthly')\n",
    "plt.tight_layout(rect=[0, 0.03, 1, 0.9])\n",
    "plt.show()"
   ]
  },
  {
   "cell_type": "code",
   "execution_count": null,
   "metadata": {
    "colab": {
     "base_uri": "https://localhost:8080/",
     "height": 444
    },
    "id": "jyNkXgExulCj",
    "outputId": "845fe7fa-ce22-4844-ca69-3340fe2d1dbb"
   },
   "outputs": [],
   "source": [
    "# Visualize 'Monthly_Balance'\n",
    "fig, axes = plt.subplots(nrows=1, ncols=2, figsize=(16, 5))\n",
    "fig.suptitle('Distribution and Boxplot of Monthly_Balance', fontsize=16)\n",
    "sns.histplot(df['Monthly_Balance'], ax=axes[0], kde=True, color='skyblue', stat=\"density\", common_norm=False)\n",
    "axes[0].set_title('Distribution of Monthly_Balance')\n",
    "axes[0].set_xlabel(\"\")\n",
    "sns.boxplot(x=df['Monthly_Balance'], ax=axes[1], color='salmon')\n",
    "axes[1].set_title('Boxplot of Monthly_Balance')\n",
    "plt.tight_layout(rect=[0, 0.03, 1, 0.9])\n",
    "plt.show()"
   ]
  },
  {
   "cell_type": "code",
   "execution_count": null,
   "metadata": {
    "colab": {
     "base_uri": "https://localhost:8080/"
    },
    "id": "0QJPmjDlzV67",
    "outputId": "d78cf183-714e-4aa8-8342-f46264b2c5cb"
   },
   "outputs": [],
   "source": [
    "percentile25 = df.Monthly_Balance.quantile(0.25)\n",
    "percentile75 = df.Monthly_Balance.quantile(0.75)\n",
    "\n",
    "iqr = percentile75 - percentile25\n",
    "\n",
    "upper_limit = percentile75 + 1.5 * iqr\n",
    "lower_limit = percentile25 - 1.5 * iqr\n",
    "\n",
    "df['Monthly_Balance'] = np.where(\n",
    "    df.Monthly_Balance > upper_limit,\n",
    "    upper_limit,\n",
    "    np.where(\n",
    "        df.Monthly_Balance < lower_limit,\n",
    "        lower_limit,\n",
    "        df.Monthly_Balance\n",
    "    )\n",
    ")\n",
    "\n",
    "df.Monthly_Balance.describe()"
   ]
  },
  {
   "cell_type": "code",
   "execution_count": null,
   "metadata": {
    "colab": {
     "base_uri": "https://localhost:8080/",
     "height": 444
    },
    "id": "FYwdm3s9zngg",
    "outputId": "56f26a1a-a161-4293-d954-88cd3ad2bab4"
   },
   "outputs": [],
   "source": [
    "# Visualize 'Monthly_Balance'\n",
    "fig, axes = plt.subplots(nrows=1, ncols=2, figsize=(16, 5))\n",
    "fig.suptitle('Distribution and Boxplot of Monthly_Balance after removing outliers', fontsize=16)\n",
    "sns.histplot(df['Monthly_Balance'], ax=axes[0], kde=True, color='skyblue', stat=\"density\", common_norm=False)\n",
    "axes[0].set_title('Distribution of Monthly_Balance')\n",
    "axes[0].set_xlabel(\"\")\n",
    "sns.boxplot(x=df['Monthly_Balance'], ax=axes[1], color='salmon')\n",
    "axes[1].set_title('Boxplot of Monthly_Balance')\n",
    "plt.tight_layout(rect=[0, 0.03, 1, 0.9])\n",
    "plt.show()"
   ]
  },
  {
   "cell_type": "markdown",
   "metadata": {
    "id": "NALKbubpyKIL"
   },
   "source": [
    "# **Choosing Target Variable**"
   ]
  },
  {
   "cell_type": "markdown",
   "metadata": {
    "id": "tCPcW31dzjRb"
   },
   "source": [
    "\"Monthly Balance\" can have different meanings depending on the context, but here are the two most likely interpretations:\n",
    "\n",
    "**1. Financial Account Balance:** This is the most common meaning. It refers to the amount of money remaining in your bank account at the end of each month. This applies to checking accounts, savings accounts, credit card accounts, or any other type of financial account.\n",
    "\n",
    "**2. Budget Tracking:** In budgeting, \"Monthly Balance\" refers to the money left after paying all your bills and expenses for the month. This helps track progress towards financial goals like saving for a house or paying off debt."
   ]
  },
  {
   "cell_type": "code",
   "execution_count": null,
   "metadata": {
    "id": "qKNEh_HqFgmH"
   },
   "outputs": [],
   "source": [
    "X = df.drop('Credit_Mix', axis=1)\n",
    "y = df['Credit_Mix']"
   ]
  },
  {
   "cell_type": "code",
   "execution_count": null,
   "metadata": {
    "colab": {
     "base_uri": "https://localhost:8080/"
    },
    "id": "wWFiFFigBlL_",
    "outputId": "436d7165-9d82-4af2-e94c-09da55e9e252"
   },
   "outputs": [],
   "source": [
    "y.value_counts()"
   ]
  },
  {
   "cell_type": "markdown",
   "metadata": {
    "id": "65WA53ejIJdN"
   },
   "source": [
    "# **Imbalanced data Handle**"
   ]
  },
  {
   "cell_type": "code",
   "execution_count": null,
   "metadata": {
    "colab": {
     "base_uri": "https://localhost:8080/"
    },
    "id": "xOyc48gaB_8S",
    "outputId": "7fb0c8a5-cb26-494c-c714-021dd48d0348"
   },
   "outputs": [],
   "source": [
    "standard = (18379/(18379+12260+9805+9556)) *100\n",
    "good = (12260/(18379+12260+9805+9556)) *100\n",
    "neutral = (9805/(18379+12260+9805+9556)) *100\n",
    "bad = (9556/(18379+12260+9805+9556)) *100\n",
    "\n",
    "print('Standard {} percent of total Credit Mix'.format(standard))\n",
    "print('Good {} percent of total Credit Mix'.format(good))\n",
    "print('Neutral {} percent of total Credit Mix'.format(neutral))\n",
    "print('Bad {} percent of total Credit Mix'.format(bad))"
   ]
  },
  {
   "cell_type": "code",
   "execution_count": null,
   "metadata": {
    "colab": {
     "base_uri": "https://localhost:8080/"
    },
    "id": "uviqCZFbFCrj",
    "outputId": "8c275257-24c2-4887-9360-d7aad0c2066d"
   },
   "outputs": [],
   "source": [
    "from imblearn.over_sampling import RandomOverSampler\n",
    "\n",
    "over = RandomOverSampler(random_state=100)\n",
    "\n",
    "X_new , y_new = over.fit_resample(X,y)\n",
    "\n",
    "X_new.shape, y_new.shape"
   ]
  },
  {
   "cell_type": "code",
   "execution_count": null,
   "metadata": {
    "colab": {
     "base_uri": "https://localhost:8080/"
    },
    "id": "NTxTCnD2HK4r",
    "outputId": "f2d0bbad-af6e-4235-affb-393afee4b840"
   },
   "outputs": [],
   "source": [
    "y_new.value_counts()"
   ]
  },
  {
   "cell_type": "code",
   "execution_count": null,
   "metadata": {
    "colab": {
     "base_uri": "https://localhost:8080/",
     "height": 226
    },
    "id": "vRnVFYWQ90gy",
    "outputId": "ad929824-26a9-4ddd-f7a1-ce3f598a3499"
   },
   "outputs": [],
   "source": [
    "X_new.head()"
   ]
  },
  {
   "cell_type": "markdown",
   "metadata": {
    "id": "ghzpWJs-4lmD"
   },
   "source": [
    "**Apply MinMax() for Numberical Columns and oneHOt of categorical columns and then apply PCA**"
   ]
  },
  {
   "cell_type": "code",
   "execution_count": null,
   "metadata": {
    "colab": {
     "base_uri": "https://localhost:8080/",
     "height": 383
    },
    "id": "Gjmf6cRHcvJ4",
    "outputId": "d61fd57f-b924-4441-fed0-27ab8d07cd77"
   },
   "outputs": [],
   "source": [
    "columns_to_onehot = ['Month', 'Occupation'] #'Payment_Behaviour'\n",
    "\n",
    "# Apply one-hot encoding to the specified columns\n",
    "X_new = pd.get_dummies(X_new, columns=columns_to_onehot)\n",
    "X_new.sample(10)"
   ]
  },
  {
   "cell_type": "markdown",
   "metadata": {
    "id": "PDlZhddSWSWW"
   },
   "source": [
    "**Split Dataset**"
   ]
  },
  {
   "cell_type": "code",
   "execution_count": null,
   "metadata": {
    "colab": {
     "base_uri": "https://localhost:8080/"
    },
    "id": "Ue00pCMnWRdO",
    "outputId": "4aa4666f-fcd8-4845-af5a-6396adff0160"
   },
   "outputs": [],
   "source": [
    "from sklearn.model_selection import train_test_split\n",
    "\n",
    "\n",
    "X_train, X_test, y_train, y_test = train_test_split(X_new, y_new, test_size=0.2, random_state=42)\n",
    "\n",
    "\n",
    "X_train.shape, X_test.shape, y_train.shape, y_test.shape\n"
   ]
  },
  {
   "cell_type": "markdown",
   "metadata": {
    "id": "4DjwGjm5W4fN"
   },
   "source": [
    "**Apply MinMax**"
   ]
  },
  {
   "cell_type": "code",
   "execution_count": null,
   "metadata": {
    "id": "sZVAxnhgW0fe"
   },
   "outputs": [],
   "source": [
    "from sklearn.preprocessing import MinMaxScaler\n",
    "from sklearn.preprocessing import StandardScaler\n",
    "\n",
    "\n",
    "scaler = StandardScaler()\n",
    "\n",
    "X_train_scaled = scaler.fit_transform(X_train)\n",
    "X_test_scaled = scaler.transform(X_test)\n",
    "\n",
    "X_train_scaled_df = pd.DataFrame(X_train_scaled)\n",
    "X_test_scaled_df = pd.DataFrame(X_test_scaled)\n"
   ]
  },
  {
   "cell_type": "code",
   "execution_count": null,
   "metadata": {
    "colab": {
     "base_uri": "https://localhost:8080/",
     "height": 226
    },
    "id": "w4sJu8ljmWiV",
    "outputId": "e2973beb-42d8-4870-e413-409d6f893698"
   },
   "outputs": [],
   "source": [
    "X_train_scaled_df.head()"
   ]
  },
  {
   "cell_type": "code",
   "execution_count": null,
   "metadata": {
    "colab": {
     "base_uri": "https://localhost:8080/"
    },
    "id": "HlYNoXcrXCst",
    "outputId": "9ea0cc90-4d8a-4209-f2a5-f6083a0f69d1"
   },
   "outputs": [],
   "source": [
    "X_train_scaled_df.shape, X_test_scaled_df.shape"
   ]
  },
  {
   "cell_type": "markdown",
   "metadata": {
    "id": "PCDB30AKhX5G"
   },
   "source": [
    "**Apply PCA**"
   ]
  },
  {
   "cell_type": "code",
   "execution_count": null,
   "metadata": {
    "id": "-erbY62_hTHB"
   },
   "outputs": [],
   "source": [
    "from sklearn.decomposition import PCA\n",
    "\n",
    "pca = PCA(n_components=3)  # Adjust the number of components as needed\n",
    "\n",
    "X_train_pca = pca.fit_transform(X_train_scaled_df)\n",
    "X_test_pca = pca.transform(X_test_scaled_df)\n",
    "\n",
    "X_train_pca_df = pd.DataFrame(X_train_pca, columns=[f'pca_{i+1}' for i in range(3)])\n",
    "X_test_pca_df = pd.DataFrame(X_test_pca, columns=[f'pca_{i+1}' for i in range(3)])\n"
   ]
  },
  {
   "cell_type": "code",
   "execution_count": null,
   "metadata": {
    "colab": {
     "base_uri": "https://localhost:8080/",
     "height": 206
    },
    "id": "M9ou-oX3l57q",
    "outputId": "26831ac1-ebe6-43fb-d58f-d297e608131f"
   },
   "outputs": [],
   "source": [
    "X_train_pca_df.head()"
   ]
  },
  {
   "cell_type": "code",
   "execution_count": null,
   "metadata": {
    "colab": {
     "base_uri": "https://localhost:8080/",
     "height": 206
    },
    "id": "S5oKA0bi3R5C",
    "outputId": "bacdfb68-4f89-4a9a-d0c4-0ac77d8b9ca9"
   },
   "outputs": [],
   "source": [
    "X_test_pca_df.head()"
   ]
  },
  {
   "cell_type": "code",
   "execution_count": null,
   "metadata": {
    "colab": {
     "base_uri": "https://localhost:8080/"
    },
    "id": "i5OdrkRqmG9x",
    "outputId": "61e05073-d3c8-4cee-bfcf-320194b1981e"
   },
   "outputs": [],
   "source": [
    "X_train_pca_df.shape"
   ]
  },
  {
   "cell_type": "code",
   "execution_count": null,
   "metadata": {
    "colab": {
     "base_uri": "https://localhost:8080/",
     "height": 542
    },
    "id": "IExzv5jm1mSK",
    "outputId": "24a31ac4-4378-4e4d-ba07-5214bd92eb36"
   },
   "outputs": [],
   "source": [
    "import plotly.express as px\n",
    "\n",
    "fig = px.scatter_3d(X_train_pca_df, x='pca_1', y='pca_2', z='pca_3', color=y_train)\n",
    "\n",
    "fig.update_layout(scene=dict(\n",
    "                    xaxis_title='PC1',\n",
    "                    yaxis_title='PC2',\n",
    "                    zaxis_title='PC3'),\n",
    "                    title='3D Visualization of Training Data after PCA')\n",
    "\n",
    "fig.show()\n"
   ]
  },
  {
   "cell_type": "code",
   "execution_count": null,
   "metadata": {
    "colab": {
     "base_uri": "https://localhost:8080/",
     "height": 542
    },
    "id": "PzXof2OF3FSq",
    "outputId": "8894f791-e879-4da6-a687-13bceeff2f82"
   },
   "outputs": [],
   "source": [
    "import plotly.express as px\n",
    "\n",
    "fig = px.scatter_3d(X_test_pca_df, x='pca_1', y='pca_2', z='pca_3', color=y_test)\n",
    "\n",
    "fig.update_layout(\n",
    "    scene=dict(\n",
    "        xaxis_title='PC1',\n",
    "        yaxis_title='PC2',\n",
    "        zaxis_title='PC3'\n",
    "    ),\n",
    "    title='3D Visualization of Test Data after PCA'\n",
    ")\n",
    "\n",
    "fig.show()\n"
   ]
  },
  {
   "cell_type": "markdown",
   "metadata": {
    "id": "AHbUWI6d3xNH"
   },
   "source": [
    "# **3. Model Selection:**"
   ]
  },
  {
   "cell_type": "markdown",
   "metadata": {
    "id": "-nwlWiiD5mjm"
   },
   "source": [
    "**Logistic Regression**"
   ]
  },
  {
   "cell_type": "code",
   "execution_count": null,
   "metadata": {
    "colab": {
     "base_uri": "https://localhost:8080/"
    },
    "id": "aa-7tiCI3wf_",
    "outputId": "46786bc5-5537-4844-9500-ba31d690859f"
   },
   "outputs": [],
   "source": [
    "from sklearn.linear_model import LogisticRegression\n",
    "from sklearn.metrics import accuracy_score, precision_score, recall_score, f1_score, confusion_matrix\n",
    "\n",
    "\n",
    "# Initialize logistic regression model\n",
    "logreg = LogisticRegression(random_state=42)\n",
    "\n",
    "# Fit the model on the training data\n",
    "logreg.fit(X_train_pca_df, y_train)\n",
    "\n",
    "# Make predictions on the testing data\n",
    "y_pred = logreg.predict(X_test_pca_df)\n",
    "\n",
    "# Evaluate the model\n",
    "accuracy = accuracy_score(y_test, y_pred)\n",
    "precision = precision_score(y_test, y_pred, average='weighted')\n",
    "recall = recall_score(y_test, y_pred, average='weighted')\n",
    "f1 = f1_score(y_test, y_pred, average='weighted')\n",
    "conf_matrix = confusion_matrix(y_test, y_pred)\n",
    "\n",
    "print(f\"Accuracy: {accuracy:.4f}\")\n",
    "print(f\"Precision: {precision:.4f}\")\n",
    "print(f\"Recall: {recall:.4f}\")\n",
    "print(f\"F1 Score: {f1:.4f}\")\n",
    "\n",
    "print(\"Confusion Matrix:\")\n",
    "print(conf_matrix)\n",
    "\n"
   ]
  },
  {
   "cell_type": "markdown",
   "metadata": {
    "id": "LBvGY85iINqi"
   },
   "source": [
    "**Apply RandomForestClassifier**"
   ]
  },
  {
   "cell_type": "code",
   "execution_count": null,
   "metadata": {
    "colab": {
     "base_uri": "https://localhost:8080/"
    },
    "id": "hU0xzSFMHz9d",
    "outputId": "b0a0f46d-759d-4265-bd5c-f8bce73ea1eb"
   },
   "outputs": [],
   "source": [
    "from sklearn.ensemble import RandomForestClassifier\n",
    "\n",
    "\n",
    "# Initialize Random Forest Classifier\n",
    "rf_classifier = RandomForestClassifier(random_state=42)\n",
    "\n",
    "# Fit the model on the training data\n",
    "rf_classifier.fit(X_train_pca_df, y_train)\n",
    "\n",
    "# Make predictions on the testing data\n",
    "y_pred = rf_classifier.predict(X_test_pca_df)\n",
    "\n",
    "# Evaluate the model\n",
    "accuracy = accuracy_score(y_test, y_pred)\n",
    "precision = precision_score(y_test, y_pred, average='weighted')\n",
    "recall = recall_score(y_test, y_pred, average='weighted')\n",
    "f1 = f1_score(y_test, y_pred, average='weighted')\n",
    "conf_matrix = confusion_matrix(y_test, y_pred)\n",
    "\n",
    "# Print the evaluation metrics\n",
    "print(f\"Accuracy: {accuracy:.4f}\")\n",
    "print(f\"Precision: {precision:.4f}\")\n",
    "print(f\"Recall: {recall:.4f}\")\n",
    "print(f\"F1 Score: {f1:.4f}\")\n",
    "\n",
    "# Display the confusion matrix\n",
    "print(\"Confusion Matrix:\")\n",
    "print(conf_matrix)\n"
   ]
  },
  {
   "cell_type": "markdown",
   "metadata": {
    "id": "I0vIMHDbJmdb"
   },
   "source": [
    "**Support Vector Machine Classifier**"
   ]
  },
  {
   "cell_type": "code",
   "execution_count": null,
   "metadata": {
    "colab": {
     "base_uri": "https://localhost:8080/"
    },
    "id": "BSAedXPcILkj",
    "outputId": "1ddaf267-e297-484d-f354-f1e4536dfe7e"
   },
   "outputs": [],
   "source": [
    "from sklearn.svm import SVC\n",
    "\n",
    "\n",
    "# Initialize Support Vector Machine Classifier\n",
    "svm_classifier = SVC(random_state=42)\n",
    "\n",
    "# Fit the model on the training data\n",
    "svm_classifier.fit(X_train_pca_df, y_train)\n",
    "\n",
    "# Make predictions on the testing data\n",
    "y_pred_svm = svm_classifier.predict(X_test_pca_df)\n",
    "\n",
    "# Evaluate the model\n",
    "accuracy_svm = accuracy_score(y_test, y_pred_svm)\n",
    "precision_svm = precision_score(y_test, y_pred_svm, average='weighted')\n",
    "recall_svm = recall_score(y_test, y_pred_svm, average='weighted')\n",
    "f1_svm = f1_score(y_test, y_pred_svm, average='weighted')\n",
    "conf_matrix_svm = confusion_matrix(y_test, y_pred_svm)\n",
    "\n",
    "# Print the evaluation metrics for SVM\n",
    "print(\"Support Vector Machine (SVM) Metrics:\")\n",
    "print(f\"Accuracy: {accuracy_svm:.4f}\")\n",
    "print(f\"Precision: {precision_svm:.4f}\")\n",
    "print(f\"Recall: {recall_svm:.4f}\")\n",
    "print(f\"F1 Score: {f1_svm:.4f}\")\n",
    "\n",
    "# Display the confusion matrix for SVM\n",
    "print(\"Confusion Matrix:\")\n",
    "print(conf_matrix_svm)\n"
   ]
  },
  {
   "cell_type": "markdown",
   "metadata": {
    "id": "K6omyuZAJ6_7"
   },
   "source": [
    "**Gradient Boosting Classifier (e.g., XGBoost)**"
   ]
  },
  {
   "cell_type": "markdown",
   "metadata": {
    "id": "9u_hMJbnLRIS"
   },
   "source": [
    "\n",
    "\n",
    "**Logistic Regression, Random Forest Classifier, and SVM often handle categorical labels directly without the need for encoding.**\n",
    "\n",
    "**XGBoost requires label encoding for categorical labels.**\n"
   ]
  },
  {
   "cell_type": "code",
   "execution_count": null,
   "metadata": {
    "colab": {
     "base_uri": "https://localhost:8080/"
    },
    "id": "l4GoGunkJwmZ",
    "outputId": "cbfbb2b5-f100-49ab-d10b-1bbb0127ecf3"
   },
   "outputs": [],
   "source": [
    "from sklearn.preprocessing import LabelEncoder\n",
    "from xgboost import XGBClassifier\n",
    "\n",
    "# Convert class labels to integers\n",
    "label_encoder = LabelEncoder()\n",
    "y_train_encoded = label_encoder.fit_transform(y_train)\n",
    "\n",
    "# Initialize XGBoost Classifier\n",
    "xgb_classifier = XGBClassifier(random_state=42)\n",
    "\n",
    "# Fit the model on the training data\n",
    "xgb_classifier.fit(X_train_pca_df, y_train_encoded)\n",
    "\n",
    "# Make predictions on the testing data\n",
    "y_test_encoded = label_encoder.transform(y_test)\n",
    "y_pred_xgb = xgb_classifier.predict(X_test_pca_df)\n",
    "\n",
    "# Evaluate the model\n",
    "accuracy_xgb = accuracy_score(y_test_encoded, y_pred_xgb)\n",
    "precision_xgb = precision_score(y_test_encoded, y_pred_xgb, average='weighted')\n",
    "recall_xgb = recall_score(y_test_encoded, y_pred_xgb, average='weighted')\n",
    "f1_xgb = f1_score(y_test_encoded, y_pred_xgb, average='weighted')\n",
    "conf_matrix_xgb = confusion_matrix(y_test_encoded, y_pred_xgb)\n",
    "\n",
    "# Print the evaluation metrics for XGBoost\n",
    "print(\"XGBoost Metrics:\")\n",
    "print(f\"Accuracy: {accuracy_xgb:.4f}\")\n",
    "print(f\"Precision: {precision_xgb:.4f}\")\n",
    "print(f\"Recall: {recall_xgb:.4f}\")\n",
    "print(f\"F1 Score: {f1_xgb:.4f}\")\n",
    "\n",
    "# Display the confusion matrix for XGBoost\n",
    "print(\"Confusion Matrix:\")\n",
    "print(conf_matrix_xgb)\n"
   ]
  },
  {
   "cell_type": "markdown",
   "metadata": {
    "id": "FpcV6scMYwTq"
   },
   "source": [
    "**I will apply Hyperparameter Tuning on RandomForestClassifier and XGBClassifier Because I got best  'Accuracy'  from them.**"
   ]
  },
  {
   "cell_type": "markdown",
   "metadata": {
    "id": "4p3SzEV0LsL4"
   },
   "source": [
    "# **5. Hyperparameter Tuning:**"
   ]
  },
  {
   "cell_type": "markdown",
   "metadata": {
    "id": "YuUhWJegMmbj"
   },
   "source": [
    "**Grid Search for Gradient Boosting Classifier (e.g., XGBoost)**"
   ]
  },
  {
   "cell_type": "code",
   "execution_count": null,
   "metadata": {
    "colab": {
     "base_uri": "https://localhost:8080/"
    },
    "id": "Kd3sUgyCMqCD",
    "outputId": "2ab1b9b3-b83b-496e-f609-adbba3ebf169"
   },
   "outputs": [],
   "source": [
    "from sklearn.model_selection import GridSearchCV\n",
    "\n",
    "# Assuming X_train_pca_df, X_test_pca_df, y_train_encoded, y_test_encoded are defined\n",
    "\n",
    "# Initialize XGBoost Classifier\n",
    "xgb_classifier = XGBClassifier(random_state=42)\n",
    "\n",
    "# Define the parameter grid for Grid Search\n",
    "param_grid = {\n",
    "    'n_estimators': [200],\n",
    "    'max_depth': [7],\n",
    "    'learning_rate': [0.2],\n",
    "    'subsample': [0.8],\n",
    "    'colsample_bytree': [1.0],\n",
    "    'min_child_weight': [1, 3, 5]\n",
    "}\n",
    "\n",
    "\n",
    "# Initialize Grid Search\n",
    "grid_search = GridSearchCV(xgb_classifier, param_grid, cv=3, scoring='accuracy', n_jobs=-1)\n",
    "\n",
    "# Fit the Grid Search on the training data\n",
    "grid_search.fit(X_train_pca_df, y_train_encoded)\n",
    "\n",
    "# Print the best parameters found by Grid Search\n",
    "print(\"Best Parameters:\", grid_search.best_params_)\n",
    "\n",
    "# Make predictions on the testing data using the best model\n",
    "y_pred_grid_search = grid_search.best_estimator_.predict(X_test_pca_df)\n",
    "\n",
    "# Evaluate the model after Grid Search\n",
    "accuracy_grid_search = accuracy_score(y_test_encoded, y_pred_grid_search)\n",
    "precision_grid_search = precision_score(y_test_encoded, y_pred_grid_search, average='weighted')\n",
    "recall_grid_search = recall_score(y_test_encoded, y_pred_grid_search, average='weighted')\n",
    "f1_grid_search = f1_score(y_test_encoded, y_pred_grid_search, average='weighted')\n",
    "conf_matrix_grid_search = confusion_matrix(y_test_encoded, y_pred_grid_search)\n",
    "\n",
    "# Print the evaluation metrics after Grid Search\n",
    "print(\"Metrics after Grid Search:\")\n",
    "print(f\"Accuracy: {accuracy_grid_search:.4f}\")\n",
    "print(f\"Precision: {precision_grid_search:.4f}\")\n",
    "print(f\"Recall: {recall_grid_search:.4f}\")\n",
    "print(f\"F1 Score: {f1_grid_search:.4f}\")\n",
    "print(\"Confusion Matrix:\")\n",
    "print(conf_matrix_grid_search)\n"
   ]
  },
  {
   "cell_type": "markdown",
   "metadata": {
    "id": "ApgJPXNWMuJq"
   },
   "source": [
    "**Random Search for  Gradient Boosting Classifier (e.g., XGBoost)**"
   ]
  },
  {
   "cell_type": "code",
   "execution_count": null,
   "metadata": {
    "colab": {
     "base_uri": "https://localhost:8080/"
    },
    "id": "T8aKuJbyM3lR",
    "outputId": "e876ccfb-17c9-43a6-d5c2-b64e5a473d37"
   },
   "outputs": [],
   "source": [
    "from sklearn.model_selection import RandomizedSearchCV\n",
    "\n",
    "# Assuming X_train_pca_df, X_test_pca_df, y_train_encoded, y_test_encoded are defined\n",
    "\n",
    "# Initialize XGBoost Classifier\n",
    "xgb_classifier = XGBClassifier(random_state=42)\n",
    "\n",
    "# Define the parameter distribution for Random Search\n",
    "param_dist = {\n",
    "    'n_estimators': [100],\n",
    "    'max_depth': [7],\n",
    "    'learning_rate': [0.2],\n",
    "    'subsample': [0.8],\n",
    "    'colsample_bytree': [1.0],\n",
    "    'min_child_weight': [1],\n",
    "    'gamma': [0.2],\n",
    "    'reg_alpha': [0],\n",
    "    'reg_lambda': [1.0]\n",
    "}\n",
    "\n",
    "\n",
    "# Initialize Random Search\n",
    "random_search = RandomizedSearchCV(xgb_classifier, param_distributions=param_dist, n_iter=10, cv=3, scoring='accuracy', n_jobs=-1, random_state=42)\n",
    "\n",
    "# Fit the Random Search on the training data\n",
    "random_search.fit(X_train_pca_df, y_train_encoded)\n",
    "\n",
    "# Print the best parameters found by Random Search\n",
    "print(\"Best Parameters:\", random_search.best_params_)\n",
    "\n",
    "# Make predictions on the testing data using the best model\n",
    "y_pred_random_search = random_search.best_estimator_.predict(X_test_pca_df)\n",
    "\n",
    "# Evaluate the model after Random Search\n",
    "accuracy_random_search = accuracy_score(y_test_encoded, y_pred_random_search)\n",
    "precision_random_search = precision_score(y_test_encoded, y_pred_random_search, average='weighted')\n",
    "recall_random_search = recall_score(y_test_encoded, y_pred_random_search, average='weighted')\n",
    "f1_random_search = f1_score(y_test_encoded, y_pred_random_search, average='weighted')\n",
    "conf_matrix_random_search = confusion_matrix(y_test_encoded, y_pred_random_search)\n",
    "\n",
    "# Print the evaluation metrics after Random Search\n",
    "print(\"Metrics after Random Search:\")\n",
    "print(f\"Accuracy: {accuracy_random_search:.4f}\")\n",
    "print(f\"Precision: {precision_random_search:.4f}\")\n",
    "print(f\"Recall: {recall_random_search:.4f}\")\n",
    "print(f\"F1 Score: {f1_random_search:.4f}\")\n",
    "print(\"Confusion Matrix:\")\n",
    "print(conf_matrix_random_search)\n"
   ]
  },
  {
   "cell_type": "markdown",
   "metadata": {
    "id": "rB4-Az6NO_aB"
   },
   "source": [
    "**Random Forest Classifier:\n",
    "Grid Search:**"
   ]
  },
  {
   "cell_type": "code",
   "execution_count": null,
   "metadata": {
    "colab": {
     "base_uri": "https://localhost:8080/"
    },
    "id": "hwwgfRiFO-8v",
    "outputId": "04d1792c-2c3d-46f8-84b7-fa4e85f05612"
   },
   "outputs": [],
   "source": [
    "\n",
    "from sklearn.model_selection import GridSearchCV\n",
    "\n",
    "\n",
    "# Initialize Random Forest Classifier\n",
    "rf_classifier = RandomForestClassifier(random_state=42)\n",
    "\n",
    "# Define the parameter grid for Grid Search\n",
    "param_grid_rf = {\n",
    "    'n_estimators': [100],\n",
    "    'max_depth': [None],\n",
    "    'min_samples_split': [2],\n",
    "    'min_samples_leaf': [1],\n",
    "    'bootstrap': [True],\n",
    "    'max_features': ['auto'],\n",
    "    'criterion': ['entropy']\n",
    "}\n",
    "\n",
    "\n",
    "# Initialize Grid Search\n",
    "grid_search_rf = GridSearchCV(rf_classifier, param_grid_rf, cv=3, scoring='accuracy', n_jobs=-1)\n",
    "\n",
    "# Fit the Grid Search on the training data\n",
    "grid_search_rf.fit(X_train_pca_df, y_train)\n",
    "\n",
    "# Print the best parameters found by Grid Search\n",
    "print(\"Best Parameters (Random Forest):\", grid_search_rf.best_params_)\n",
    "\n",
    "# Make predictions on the testing data using the best model\n",
    "y_pred_grid_search_rf = grid_search_rf.best_estimator_.predict(X_test_pca_df)\n",
    "\n",
    "# Evaluate the model after Grid Search\n",
    "accuracy_grid_search_rf = accuracy_score(y_test, y_pred_grid_search_rf)\n",
    "precision_grid_search_rf = precision_score(y_test, y_pred_grid_search_rf, average='weighted')\n",
    "recall_grid_search_rf = recall_score(y_test, y_pred_grid_search_rf, average='weighted')\n",
    "f1_grid_search_rf = f1_score(y_test, y_pred_grid_search_rf, average='weighted')\n",
    "conf_matrix_grid_search_rf = confusion_matrix(y_test, y_pred_grid_search_rf)\n",
    "\n",
    "# Print the evaluation metrics after Grid Search\n",
    "print(\"Metrics after Grid Search (Random Forest):\")\n",
    "print(f\"Accuracy: {accuracy_grid_search_rf:.4f}\")\n",
    "print(f\"Precision: {precision_grid_search_rf:.4f}\")\n",
    "print(f\"Recall: {recall_grid_search_rf:.4f}\")\n",
    "print(f\"F1 Score: {f1_grid_search_rf:.4f}\")\n",
    "print(\"Confusion Matrix:\")\n",
    "print(conf_matrix_grid_search_rf)\n"
   ]
  },
  {
   "cell_type": "markdown",
   "metadata": {
    "id": "AYgakO4YPLLR"
   },
   "source": [
    "**Random Forest Classifier: Random Search:**\n",
    "\n"
   ]
  },
  {
   "cell_type": "code",
   "execution_count": null,
   "metadata": {
    "colab": {
     "base_uri": "https://localhost:8080/"
    },
    "id": "Q98U-Tb32v_5",
    "outputId": "9dd1e93a-9d24-40c8-9c2f-4ff789a1f33f"
   },
   "outputs": [],
   "source": [
    "from sklearn.ensemble import RandomForestClassifier\n",
    "from sklearn.model_selection import RandomizedSearchCV\n",
    "from sklearn.metrics import accuracy_score, precision_score, recall_score, f1_score, confusion_matrix\n",
    "import numpy as np\n",
    "\n",
    "# Assuming X_train_pca_df, X_test_pca_df, y_train, y_test are defined\n",
    "\n",
    "# Initialize Random Forest Classifier\n",
    "rf_classifier = RandomForestClassifier(random_state=42)\n",
    "\n",
    "# Define the parameter distribution for Random Search\n",
    "param_dist_rf = {\n",
    "    'n_estimators': [100],\n",
    "    'max_depth': [20],\n",
    "    'min_samples_split': [5],\n",
    "    'min_samples_leaf': [4],\n",
    "    'bootstrap': [True],\n",
    "    'max_features': ['log2'],\n",
    "    'criterion': ['entropy'],\n",
    "    'max_samples': [0.9],\n",
    "    'min_weight_fraction_leaf': [0.0]\n",
    "}\n",
    "\n",
    "\n",
    "# Initialize Random Search\n",
    "random_search_rf = RandomizedSearchCV(rf_classifier, param_distributions=param_dist_rf, n_iter=10, cv=3, scoring='accuracy', n_jobs=-1, random_state=42)\n",
    "\n",
    "# Fit the Random Search on the training data\n",
    "random_search_rf.fit(X_train_pca_df, y_train)\n",
    "\n",
    "# Print the best parameters found by Random Search\n",
    "print(\"Best Parameters (Random Forest):\", random_search_rf.best_params_)\n",
    "\n",
    "# Make predictions on the testing data using the best model\n",
    "y_pred_random_search_rf = random_search_rf.best_estimator_.predict(X_test_pca_df)\n",
    "\n",
    "# Evaluate the model after Random Search\n",
    "accuracy_random_search_rf = accuracy_score(y_test, y_pred_random_search_rf)\n",
    "precision_random_search_rf = precision_score(y_test, y_pred_random_search_rf, average='weighted')\n",
    "recall_random_search_rf = recall_score(y_test, y_pred_random_search_rf, average='weighted')\n",
    "f1_random_search_rf = f1_score(y_test, y_pred_random_search_rf, average='weighted')\n",
    "conf_matrix_random_search_rf = confusion_matrix(y_test, y_pred_random_search_rf)\n",
    "\n",
    "# Print the evaluation metrics after Random Search\n",
    "print(\"Metrics after Random Search (Random Forest):\")\n",
    "print(f\"Accuracy: {accuracy_random_search_rf:.4f}\")\n",
    "print(f\"Precision: {precision_random_search_rf:.4f}\")\n",
    "print(f\"Recall: {recall_random_search_rf:.4f}\")\n",
    "print(f\"F1 Score: {f1_random_search_rf:.4f}\")\n",
    "print(\"Confusion Matrix:\")\n",
    "print(conf_matrix_random_search_rf)"
   ]
  },
  {
   "cell_type": "markdown",
   "metadata": {
    "id": "Bwd0o1Mq6HEp"
   },
   "source": [
    "# **Model Evaluation:**"
   ]
  },
  {
   "cell_type": "markdown",
   "metadata": {
    "id": "zRp7dryX6Piw"
   },
   "source": [
    "# **Logistic Regression:**\n",
    "**Strengths:**\n",
    "\n",
    "*Interpretability*: Logistic Regression provides interpretable coefficients, allowing you to understand the impact of each feature on the credit mix classification.\n",
    "\n",
    "*Efficiency:* It is computationally efficient and may perform well if the relationship between features and credit mix is predominantly linear.\n",
    "\n",
    "**Limitations:**\n",
    "*Linear Decision Boundary:* Assumes a linear relationship between features and the target, which might not capture complex patterns in credit mix data.\n",
    "\n",
    "*Sensitivity to Outliers:* Logistic Regression can be sensitive to outliers, which may exist in credit-related datasets.\n",
    "\n",
    "# **Random Forest:**\n",
    "**Strengths:**\n",
    "\n",
    "*Non-Linearity:* Random Forest can capture non-linear relationships, which may be crucial if the relationship between features and credit mix is complex.\n",
    "\n",
    "*Robustness:* Handles outliers and noisy data well, making it suitable for real-world credit-related datasets.\n",
    "\n",
    "**Limitations:**\n",
    "\n",
    "*Complexity:* The ensemble nature can make it challenging to interpret the model's decision-making process, which might be important in credit analysis.\n",
    "\n",
    "*Potential Overfitting:* While Random Forests are less prone to overfitting, they can still be sensitive to noise in the data.\n",
    "\n",
    "# **Support Vector Machine (SVM):**\n",
    "**Strengths:**\n",
    "\n",
    "*Non-Linearity:* SVMs can model non-linear relationships, providing flexibility in capturing intricate patterns in credit mix data.\n",
    "\n",
    "**Limitations:**\n",
    "\n",
    "*Computational Intensity:* SVMs can be computationally intensive, which may be a concern for large credit-related datasets.\n",
    "\n",
    "*Sensitivity to Parameters:* The performance of SVMs depends on parameter tuning, and finding the right parameters might require experimentation.\n",
    "\n",
    "#**XGBoost:**\n",
    "\n",
    "**Strengths:**\n",
    "\n",
    "*High Performance:* XGBoost often performs well on various tasks, including classification, and might capture complex relationships in credit mix data.\n",
    "\n",
    "*Handling Missing Values:* XGBoost can handle missing values internally, which may be beneficial if your dataset has missing information.\n",
    "\n",
    "**Limitations:**\n",
    "\n",
    "*Complexity:* The complexity of XGBoost models can make them challenging to interpret, potentially limiting their explainability.\n",
    "\n",
    "*Parameter Tuning:* Effective use of XGBoost may require careful tuning of hyperparameters, which can be an iterative process.\n",
    "\n",
    "#**Model Evaluation Considerations:**\n",
    "\n",
    "**Imbalanced Data:** If the credit mix classes are imbalanced, consider using evaluation metrics like precision, recall, and F1 score in addition to accuracy.\n",
    "\n",
    "**Interpretability:** Consider the interpretability of the models, especially if stakeholders require transparency in credit-related decisions.\n",
    "\n",
    "**Domain Knowledge:** Leverage domain knowledge to interpret model results and guide feature engineering."
   ]
  },
  {
   "cell_type": "markdown",
   "metadata": {
    "id": "qkM11yDJ9Awi"
   },
   "source": [
    "# **Interpretability**"
   ]
  },
  {
   "cell_type": "markdown",
   "metadata": {
    "id": "qVWqQpWIN9Z9"
   },
   "source": [
    "# **Logistic Regression:**\n",
    "**Results:**\n",
    "\n",
    "Accuracy: 0.5212\n",
    "\n",
    "Precision: 0.4836\n",
    "\n",
    "Recall: 0.5212\n",
    "\n",
    "F1 Score: 0.4896\n",
    "\n",
    "**Interpretability:**\n",
    "\n",
    "Coefficients of logistic regression provide direct insights into the impact of each feature on the target variable.\n",
    "\n",
    "#**Random Forest:**\n",
    "**Results (After Hyperparameter Tuning):**\n",
    "\n",
    "Accuracy: 0.6970\n",
    "\n",
    "Precision: 0.6960\n",
    "\n",
    "Recall: 0.6970\n",
    "\n",
    "F1 Score: 0.6893\n",
    "\n",
    "**Interpretability:**\n",
    "\n",
    "Feature importances can highlight which features are more influential in the model's decisions.\n",
    "SHAP values can provide insights into the impact of individual features on specific predictions.\n",
    "\n",
    "#**Support Vector Machine (SVM):**\n",
    "\n",
    "**Results:**\n",
    "\n",
    "Accuracy: 0.5578\n",
    "\n",
    "Precision: 0.4140\n",
    "\n",
    "Recall: 0.5578\n",
    "\n",
    "F1 Score: 0.4683\n",
    "\n",
    "**Interpretability:**\n",
    "\n",
    "SVMs, in general, are less interpretable compared to some other models.\n",
    "\n",
    "#**XGBoost:**\n",
    "\n",
    "**Results (After Hyperparameter Tuning):**\n",
    "\n",
    "Accuracy: 0.5760\n",
    "\n",
    "Precision: 0.5579\n",
    "\n",
    "Recall: 0.5760\n",
    "\n",
    "F1 Score: 0.5401\n",
    "\n",
    "**Interpretability:**\n",
    "\n",
    "Feature importances can provide insights into the most relevant features.\n",
    "SHAP values can offer a more detailed understanding of feature contributions.\n",
    "\n",
    "**Interpretability Considerations:**\n",
    "\n",
    "**Logistic Regression:**\n",
    "\n",
    "Provides direct interpretability through coefficients.\n",
    "Limited to linear relationships.\n",
    "\n",
    "**Random Forest:**\n",
    "\n",
    "Offers good performance and interpretability through feature importances.\n",
    "Handles non-linear relationships well.\n",
    "\n",
    "**Support Vector Machine (SVM):**\n",
    "\n",
    "Less interpretable compared to tree-based models.\n",
    "May not be the best choice if interpretability is a priority.\n",
    "\n",
    "**XGBoost:**\n",
    "\n",
    "Combines strong performance with interpretability through feature importances and SHAP values.\n",
    "Handles non-linear relationships well.\n",
    "#**Conclusion:**\n",
    "Considering both performance and interpretability, Random Forest and XGBoost are strong contenders. If interpretability is a top priority, and the performance is satisfactory, Random Forest might be a good choice. If we value a balance between performance and interpretability, XGBoost with hyperparameter tuning could be preferred.\n",
    "\n",
    "However, the final decision should also consider the specific requirements of our task and the domain knowledge. If model interpretability is crucial, Random Forest or logistic regression might be more suitable. If predictive performance is paramount, XGBoost with tuned hyperparameters might be preferred"
   ]
  }
 ],
 "metadata": {
  "colab": {
   "provenance": []
  },
  "kernelspec": {
   "display_name": "Python 3 (ipykernel)",
   "language": "python",
   "name": "python3"
  },
  "language_info": {
   "codemirror_mode": {
    "name": "ipython",
    "version": 3
   },
   "file_extension": ".py",
   "mimetype": "text/x-python",
   "name": "python",
   "nbconvert_exporter": "python",
   "pygments_lexer": "ipython3",
   "version": "3.11.4"
  },
  "widgets": {
   "application/vnd.jupyter.widget-state+json": {
    "0273442766e24af2bd6da23ef2661bd9": {
     "model_module": "@jupyter-widgets/controls",
     "model_module_version": "1.5.0",
     "model_name": "DescriptionStyleModel",
     "state": {
      "_model_module": "@jupyter-widgets/controls",
      "_model_module_version": "1.5.0",
      "_model_name": "DescriptionStyleModel",
      "_view_count": null,
      "_view_module": "@jupyter-widgets/base",
      "_view_module_version": "1.2.0",
      "_view_name": "StyleView",
      "description_width": ""
     }
    },
    "0f91da20def84887b8a78704a512b7f1": {
     "model_module": "@jupyter-widgets/base",
     "model_module_version": "1.2.0",
     "model_name": "LayoutModel",
     "state": {
      "_model_module": "@jupyter-widgets/base",
      "_model_module_version": "1.2.0",
      "_model_name": "LayoutModel",
      "_view_count": null,
      "_view_module": "@jupyter-widgets/base",
      "_view_module_version": "1.2.0",
      "_view_name": "LayoutView",
      "align_content": null,
      "align_items": null,
      "align_self": null,
      "border": null,
      "bottom": null,
      "display": null,
      "flex": null,
      "flex_flow": null,
      "grid_area": null,
      "grid_auto_columns": null,
      "grid_auto_flow": null,
      "grid_auto_rows": null,
      "grid_column": null,
      "grid_gap": null,
      "grid_row": null,
      "grid_template_areas": null,
      "grid_template_columns": null,
      "grid_template_rows": null,
      "height": null,
      "justify_content": null,
      "justify_items": null,
      "left": null,
      "margin": null,
      "max_height": null,
      "max_width": null,
      "min_height": null,
      "min_width": null,
      "object_fit": null,
      "object_position": null,
      "order": null,
      "overflow": null,
      "overflow_x": null,
      "overflow_y": null,
      "padding": null,
      "right": null,
      "top": null,
      "visibility": null,
      "width": null
     }
    },
    "14c6db37398a46d5a1282ce1f0ffd1bf": {
     "model_module": "@jupyter-widgets/controls",
     "model_module_version": "1.5.0",
     "model_name": "FloatProgressModel",
     "state": {
      "_dom_classes": [],
      "_model_module": "@jupyter-widgets/controls",
      "_model_module_version": "1.5.0",
      "_model_name": "FloatProgressModel",
      "_view_count": null,
      "_view_module": "@jupyter-widgets/controls",
      "_view_module_version": "1.5.0",
      "_view_name": "ProgressView",
      "bar_style": "success",
      "description": "",
      "description_tooltip": null,
      "layout": "IPY_MODEL_e097936e09204b26bf18be0213fcb3eb",
      "max": 1,
      "min": 0,
      "orientation": "horizontal",
      "style": "IPY_MODEL_7d6eac99bbbe4c38b3d5f4f6dd2c3029",
      "value": 1
     }
    },
    "227f696b99504931a84410bb8482409f": {
     "model_module": "@jupyter-widgets/controls",
     "model_module_version": "1.5.0",
     "model_name": "HTMLModel",
     "state": {
      "_dom_classes": [],
      "_model_module": "@jupyter-widgets/controls",
      "_model_module_version": "1.5.0",
      "_model_name": "HTMLModel",
      "_view_count": null,
      "_view_module": "@jupyter-widgets/controls",
      "_view_module_version": "1.5.0",
      "_view_name": "HTMLView",
      "description": "",
      "description_tooltip": null,
      "layout": "IPY_MODEL_4bfcb0b88f8f456f8a842e4b920391cc",
      "placeholder": "​",
      "style": "IPY_MODEL_f2ebcb1262e7440583ee889544e8755e",
      "value": " 1/1 [00:11&lt;00:00, 11.34s/it]"
     }
    },
    "23d1606411d44aecb7533e5817e35109": {
     "model_module": "@jupyter-widgets/controls",
     "model_module_version": "1.5.0",
     "model_name": "DescriptionStyleModel",
     "state": {
      "_model_module": "@jupyter-widgets/controls",
      "_model_module_version": "1.5.0",
      "_model_name": "DescriptionStyleModel",
      "_view_count": null,
      "_view_module": "@jupyter-widgets/base",
      "_view_module_version": "1.2.0",
      "_view_name": "StyleView",
      "description_width": ""
     }
    },
    "2d309e5ab95d44b69d4cb062b20d7d55": {
     "model_module": "@jupyter-widgets/base",
     "model_module_version": "1.2.0",
     "model_name": "LayoutModel",
     "state": {
      "_model_module": "@jupyter-widgets/base",
      "_model_module_version": "1.2.0",
      "_model_name": "LayoutModel",
      "_view_count": null,
      "_view_module": "@jupyter-widgets/base",
      "_view_module_version": "1.2.0",
      "_view_name": "LayoutView",
      "align_content": null,
      "align_items": null,
      "align_self": null,
      "border": null,
      "bottom": null,
      "display": null,
      "flex": null,
      "flex_flow": null,
      "grid_area": null,
      "grid_auto_columns": null,
      "grid_auto_flow": null,
      "grid_auto_rows": null,
      "grid_column": null,
      "grid_gap": null,
      "grid_row": null,
      "grid_template_areas": null,
      "grid_template_columns": null,
      "grid_template_rows": null,
      "height": null,
      "justify_content": null,
      "justify_items": null,
      "left": null,
      "margin": null,
      "max_height": null,
      "max_width": null,
      "min_height": null,
      "min_width": null,
      "object_fit": null,
      "object_position": null,
      "order": null,
      "overflow": null,
      "overflow_x": null,
      "overflow_y": null,
      "padding": null,
      "right": null,
      "top": null,
      "visibility": null,
      "width": null
     }
    },
    "312dd0f73a094147a03c8c88553a01e0": {
     "model_module": "@jupyter-widgets/controls",
     "model_module_version": "1.5.0",
     "model_name": "HTMLModel",
     "state": {
      "_dom_classes": [],
      "_model_module": "@jupyter-widgets/controls",
      "_model_module_version": "1.5.0",
      "_model_name": "HTMLModel",
      "_view_count": null,
      "_view_module": "@jupyter-widgets/controls",
      "_view_module_version": "1.5.0",
      "_view_name": "HTMLView",
      "description": "",
      "description_tooltip": null,
      "layout": "IPY_MODEL_55dd724f9dea4acdb92f2e948464674e",
      "placeholder": "​",
      "style": "IPY_MODEL_23d1606411d44aecb7533e5817e35109",
      "value": " 1/1 [00:15&lt;00:00, 15.00s/it]"
     }
    },
    "38701dadd9d14754aa715b97b17f6268": {
     "model_module": "@jupyter-widgets/controls",
     "model_module_version": "1.5.0",
     "model_name": "DescriptionStyleModel",
     "state": {
      "_model_module": "@jupyter-widgets/controls",
      "_model_module_version": "1.5.0",
      "_model_name": "DescriptionStyleModel",
      "_view_count": null,
      "_view_module": "@jupyter-widgets/base",
      "_view_module_version": "1.2.0",
      "_view_name": "StyleView",
      "description_width": ""
     }
    },
    "4137f26f3ebb43c28be8d9bccd632144": {
     "model_module": "@jupyter-widgets/controls",
     "model_module_version": "1.5.0",
     "model_name": "ProgressStyleModel",
     "state": {
      "_model_module": "@jupyter-widgets/controls",
      "_model_module_version": "1.5.0",
      "_model_name": "ProgressStyleModel",
      "_view_count": null,
      "_view_module": "@jupyter-widgets/base",
      "_view_module_version": "1.2.0",
      "_view_name": "StyleView",
      "bar_color": null,
      "description_width": ""
     }
    },
    "49042fc2067f4945b97e2955d20b33e8": {
     "model_module": "@jupyter-widgets/controls",
     "model_module_version": "1.5.0",
     "model_name": "HTMLModel",
     "state": {
      "_dom_classes": [],
      "_model_module": "@jupyter-widgets/controls",
      "_model_module_version": "1.5.0",
      "_model_name": "HTMLModel",
      "_view_count": null,
      "_view_module": "@jupyter-widgets/controls",
      "_view_module_version": "1.5.0",
      "_view_name": "HTMLView",
      "description": "",
      "description_tooltip": null,
      "layout": "IPY_MODEL_929b6adde7f549a08a0bd9154f4e1317",
      "placeholder": "​",
      "style": "IPY_MODEL_38701dadd9d14754aa715b97b17f6268",
      "value": "Generate report structure: 100%"
     }
    },
    "4bfcb0b88f8f456f8a842e4b920391cc": {
     "model_module": "@jupyter-widgets/base",
     "model_module_version": "1.2.0",
     "model_name": "LayoutModel",
     "state": {
      "_model_module": "@jupyter-widgets/base",
      "_model_module_version": "1.2.0",
      "_model_name": "LayoutModel",
      "_view_count": null,
      "_view_module": "@jupyter-widgets/base",
      "_view_module_version": "1.2.0",
      "_view_name": "LayoutView",
      "align_content": null,
      "align_items": null,
      "align_self": null,
      "border": null,
      "bottom": null,
      "display": null,
      "flex": null,
      "flex_flow": null,
      "grid_area": null,
      "grid_auto_columns": null,
      "grid_auto_flow": null,
      "grid_auto_rows": null,
      "grid_column": null,
      "grid_gap": null,
      "grid_row": null,
      "grid_template_areas": null,
      "grid_template_columns": null,
      "grid_template_rows": null,
      "height": null,
      "justify_content": null,
      "justify_items": null,
      "left": null,
      "margin": null,
      "max_height": null,
      "max_width": null,
      "min_height": null,
      "min_width": null,
      "object_fit": null,
      "object_position": null,
      "order": null,
      "overflow": null,
      "overflow_x": null,
      "overflow_y": null,
      "padding": null,
      "right": null,
      "top": null,
      "visibility": null,
      "width": null
     }
    },
    "55dd724f9dea4acdb92f2e948464674e": {
     "model_module": "@jupyter-widgets/base",
     "model_module_version": "1.2.0",
     "model_name": "LayoutModel",
     "state": {
      "_model_module": "@jupyter-widgets/base",
      "_model_module_version": "1.2.0",
      "_model_name": "LayoutModel",
      "_view_count": null,
      "_view_module": "@jupyter-widgets/base",
      "_view_module_version": "1.2.0",
      "_view_name": "LayoutView",
      "align_content": null,
      "align_items": null,
      "align_self": null,
      "border": null,
      "bottom": null,
      "display": null,
      "flex": null,
      "flex_flow": null,
      "grid_area": null,
      "grid_auto_columns": null,
      "grid_auto_flow": null,
      "grid_auto_rows": null,
      "grid_column": null,
      "grid_gap": null,
      "grid_row": null,
      "grid_template_areas": null,
      "grid_template_columns": null,
      "grid_template_rows": null,
      "height": null,
      "justify_content": null,
      "justify_items": null,
      "left": null,
      "margin": null,
      "max_height": null,
      "max_width": null,
      "min_height": null,
      "min_width": null,
      "object_fit": null,
      "object_position": null,
      "order": null,
      "overflow": null,
      "overflow_x": null,
      "overflow_y": null,
      "padding": null,
      "right": null,
      "top": null,
      "visibility": null,
      "width": null
     }
    },
    "605c62bf21494495afc6775c4b3e6577": {
     "model_module": "@jupyter-widgets/base",
     "model_module_version": "1.2.0",
     "model_name": "LayoutModel",
     "state": {
      "_model_module": "@jupyter-widgets/base",
      "_model_module_version": "1.2.0",
      "_model_name": "LayoutModel",
      "_view_count": null,
      "_view_module": "@jupyter-widgets/base",
      "_view_module_version": "1.2.0",
      "_view_name": "LayoutView",
      "align_content": null,
      "align_items": null,
      "align_self": null,
      "border": null,
      "bottom": null,
      "display": null,
      "flex": null,
      "flex_flow": null,
      "grid_area": null,
      "grid_auto_columns": null,
      "grid_auto_flow": null,
      "grid_auto_rows": null,
      "grid_column": null,
      "grid_gap": null,
      "grid_row": null,
      "grid_template_areas": null,
      "grid_template_columns": null,
      "grid_template_rows": null,
      "height": null,
      "justify_content": null,
      "justify_items": null,
      "left": null,
      "margin": null,
      "max_height": null,
      "max_width": null,
      "min_height": null,
      "min_width": null,
      "object_fit": null,
      "object_position": null,
      "order": null,
      "overflow": null,
      "overflow_x": null,
      "overflow_y": null,
      "padding": null,
      "right": null,
      "top": null,
      "visibility": null,
      "width": null
     }
    },
    "61a8dd03d5fd46459a838351c6541529": {
     "model_module": "@jupyter-widgets/base",
     "model_module_version": "1.2.0",
     "model_name": "LayoutModel",
     "state": {
      "_model_module": "@jupyter-widgets/base",
      "_model_module_version": "1.2.0",
      "_model_name": "LayoutModel",
      "_view_count": null,
      "_view_module": "@jupyter-widgets/base",
      "_view_module_version": "1.2.0",
      "_view_name": "LayoutView",
      "align_content": null,
      "align_items": null,
      "align_self": null,
      "border": null,
      "bottom": null,
      "display": null,
      "flex": null,
      "flex_flow": null,
      "grid_area": null,
      "grid_auto_columns": null,
      "grid_auto_flow": null,
      "grid_auto_rows": null,
      "grid_column": null,
      "grid_gap": null,
      "grid_row": null,
      "grid_template_areas": null,
      "grid_template_columns": null,
      "grid_template_rows": null,
      "height": null,
      "justify_content": null,
      "justify_items": null,
      "left": null,
      "margin": null,
      "max_height": null,
      "max_width": null,
      "min_height": null,
      "min_width": null,
      "object_fit": null,
      "object_position": null,
      "order": null,
      "overflow": null,
      "overflow_x": null,
      "overflow_y": null,
      "padding": null,
      "right": null,
      "top": null,
      "visibility": null,
      "width": null
     }
    },
    "6a571cb9b9dd431599cd47298bd612e6": {
     "model_module": "@jupyter-widgets/controls",
     "model_module_version": "1.5.0",
     "model_name": "DescriptionStyleModel",
     "state": {
      "_model_module": "@jupyter-widgets/controls",
      "_model_module_version": "1.5.0",
      "_model_name": "DescriptionStyleModel",
      "_view_count": null,
      "_view_module": "@jupyter-widgets/base",
      "_view_module_version": "1.2.0",
      "_view_name": "StyleView",
      "description_width": ""
     }
    },
    "722457895136400081672115542058e8": {
     "model_module": "@jupyter-widgets/base",
     "model_module_version": "1.2.0",
     "model_name": "LayoutModel",
     "state": {
      "_model_module": "@jupyter-widgets/base",
      "_model_module_version": "1.2.0",
      "_model_name": "LayoutModel",
      "_view_count": null,
      "_view_module": "@jupyter-widgets/base",
      "_view_module_version": "1.2.0",
      "_view_name": "LayoutView",
      "align_content": null,
      "align_items": null,
      "align_self": null,
      "border": null,
      "bottom": null,
      "display": null,
      "flex": null,
      "flex_flow": null,
      "grid_area": null,
      "grid_auto_columns": null,
      "grid_auto_flow": null,
      "grid_auto_rows": null,
      "grid_column": null,
      "grid_gap": null,
      "grid_row": null,
      "grid_template_areas": null,
      "grid_template_columns": null,
      "grid_template_rows": null,
      "height": null,
      "justify_content": null,
      "justify_items": null,
      "left": null,
      "margin": null,
      "max_height": null,
      "max_width": null,
      "min_height": null,
      "min_width": null,
      "object_fit": null,
      "object_position": null,
      "order": null,
      "overflow": null,
      "overflow_x": null,
      "overflow_y": null,
      "padding": null,
      "right": null,
      "top": null,
      "visibility": null,
      "width": null
     }
    },
    "7365d366675b429c8031d82fd850b335": {
     "model_module": "@jupyter-widgets/base",
     "model_module_version": "1.2.0",
     "model_name": "LayoutModel",
     "state": {
      "_model_module": "@jupyter-widgets/base",
      "_model_module_version": "1.2.0",
      "_model_name": "LayoutModel",
      "_view_count": null,
      "_view_module": "@jupyter-widgets/base",
      "_view_module_version": "1.2.0",
      "_view_name": "LayoutView",
      "align_content": null,
      "align_items": null,
      "align_self": null,
      "border": null,
      "bottom": null,
      "display": null,
      "flex": null,
      "flex_flow": null,
      "grid_area": null,
      "grid_auto_columns": null,
      "grid_auto_flow": null,
      "grid_auto_rows": null,
      "grid_column": null,
      "grid_gap": null,
      "grid_row": null,
      "grid_template_areas": null,
      "grid_template_columns": null,
      "grid_template_rows": null,
      "height": null,
      "justify_content": null,
      "justify_items": null,
      "left": null,
      "margin": null,
      "max_height": null,
      "max_width": null,
      "min_height": null,
      "min_width": null,
      "object_fit": null,
      "object_position": null,
      "order": null,
      "overflow": null,
      "overflow_x": null,
      "overflow_y": null,
      "padding": null,
      "right": null,
      "top": null,
      "visibility": null,
      "width": null
     }
    },
    "754d7b00bd9748498d3f23be44df82c0": {
     "model_module": "@jupyter-widgets/controls",
     "model_module_version": "1.5.0",
     "model_name": "DescriptionStyleModel",
     "state": {
      "_model_module": "@jupyter-widgets/controls",
      "_model_module_version": "1.5.0",
      "_model_name": "DescriptionStyleModel",
      "_view_count": null,
      "_view_module": "@jupyter-widgets/base",
      "_view_module_version": "1.2.0",
      "_view_name": "StyleView",
      "description_width": ""
     }
    },
    "7b514dc2c50047a3bdd6ba5357780e28": {
     "model_module": "@jupyter-widgets/controls",
     "model_module_version": "1.5.0",
     "model_name": "FloatProgressModel",
     "state": {
      "_dom_classes": [],
      "_model_module": "@jupyter-widgets/controls",
      "_model_module_version": "1.5.0",
      "_model_name": "FloatProgressModel",
      "_view_count": null,
      "_view_module": "@jupyter-widgets/controls",
      "_view_module_version": "1.5.0",
      "_view_name": "ProgressView",
      "bar_style": "success",
      "description": "",
      "description_tooltip": null,
      "layout": "IPY_MODEL_2d309e5ab95d44b69d4cb062b20d7d55",
      "max": 5,
      "min": 0,
      "orientation": "horizontal",
      "style": "IPY_MODEL_4137f26f3ebb43c28be8d9bccd632144",
      "value": 5
     }
    },
    "7d6eac99bbbe4c38b3d5f4f6dd2c3029": {
     "model_module": "@jupyter-widgets/controls",
     "model_module_version": "1.5.0",
     "model_name": "ProgressStyleModel",
     "state": {
      "_model_module": "@jupyter-widgets/controls",
      "_model_module_version": "1.5.0",
      "_model_name": "ProgressStyleModel",
      "_view_count": null,
      "_view_module": "@jupyter-widgets/base",
      "_view_module_version": "1.2.0",
      "_view_name": "StyleView",
      "bar_color": null,
      "description_width": ""
     }
    },
    "854614735c2c43be83683e34cdb9c0d0": {
     "model_module": "@jupyter-widgets/base",
     "model_module_version": "1.2.0",
     "model_name": "LayoutModel",
     "state": {
      "_model_module": "@jupyter-widgets/base",
      "_model_module_version": "1.2.0",
      "_model_name": "LayoutModel",
      "_view_count": null,
      "_view_module": "@jupyter-widgets/base",
      "_view_module_version": "1.2.0",
      "_view_name": "LayoutView",
      "align_content": null,
      "align_items": null,
      "align_self": null,
      "border": null,
      "bottom": null,
      "display": null,
      "flex": null,
      "flex_flow": null,
      "grid_area": null,
      "grid_auto_columns": null,
      "grid_auto_flow": null,
      "grid_auto_rows": null,
      "grid_column": null,
      "grid_gap": null,
      "grid_row": null,
      "grid_template_areas": null,
      "grid_template_columns": null,
      "grid_template_rows": null,
      "height": null,
      "justify_content": null,
      "justify_items": null,
      "left": null,
      "margin": null,
      "max_height": null,
      "max_width": null,
      "min_height": null,
      "min_width": null,
      "object_fit": null,
      "object_position": null,
      "order": null,
      "overflow": null,
      "overflow_x": null,
      "overflow_y": null,
      "padding": null,
      "right": null,
      "top": null,
      "visibility": null,
      "width": null
     }
    },
    "929b6adde7f549a08a0bd9154f4e1317": {
     "model_module": "@jupyter-widgets/base",
     "model_module_version": "1.2.0",
     "model_name": "LayoutModel",
     "state": {
      "_model_module": "@jupyter-widgets/base",
      "_model_module_version": "1.2.0",
      "_model_name": "LayoutModel",
      "_view_count": null,
      "_view_module": "@jupyter-widgets/base",
      "_view_module_version": "1.2.0",
      "_view_name": "LayoutView",
      "align_content": null,
      "align_items": null,
      "align_self": null,
      "border": null,
      "bottom": null,
      "display": null,
      "flex": null,
      "flex_flow": null,
      "grid_area": null,
      "grid_auto_columns": null,
      "grid_auto_flow": null,
      "grid_auto_rows": null,
      "grid_column": null,
      "grid_gap": null,
      "grid_row": null,
      "grid_template_areas": null,
      "grid_template_columns": null,
      "grid_template_rows": null,
      "height": null,
      "justify_content": null,
      "justify_items": null,
      "left": null,
      "margin": null,
      "max_height": null,
      "max_width": null,
      "min_height": null,
      "min_width": null,
      "object_fit": null,
      "object_position": null,
      "order": null,
      "overflow": null,
      "overflow_x": null,
      "overflow_y": null,
      "padding": null,
      "right": null,
      "top": null,
      "visibility": null,
      "width": null
     }
    },
    "b309f9acca3c487aaecc55926aa59b4a": {
     "model_module": "@jupyter-widgets/controls",
     "model_module_version": "1.5.0",
     "model_name": "HTMLModel",
     "state": {
      "_dom_classes": [],
      "_model_module": "@jupyter-widgets/controls",
      "_model_module_version": "1.5.0",
      "_model_name": "HTMLModel",
      "_view_count": null,
      "_view_module": "@jupyter-widgets/controls",
      "_view_module_version": "1.5.0",
      "_view_name": "HTMLView",
      "description": "",
      "description_tooltip": null,
      "layout": "IPY_MODEL_61a8dd03d5fd46459a838351c6541529",
      "placeholder": "​",
      "style": "IPY_MODEL_754d7b00bd9748498d3f23be44df82c0",
      "value": " 319/319 [02:12&lt;00:00,  2.00it/s, Completed]"
     }
    },
    "b363070f247c43f4b56aa221ec0102b6": {
     "model_module": "@jupyter-widgets/controls",
     "model_module_version": "1.5.0",
     "model_name": "ProgressStyleModel",
     "state": {
      "_model_module": "@jupyter-widgets/controls",
      "_model_module_version": "1.5.0",
      "_model_name": "ProgressStyleModel",
      "_view_count": null,
      "_view_module": "@jupyter-widgets/base",
      "_view_module_version": "1.2.0",
      "_view_name": "StyleView",
      "bar_color": null,
      "description_width": ""
     }
    },
    "beaf00b86e334556bad5f2b2ca7e3975": {
     "model_module": "@jupyter-widgets/base",
     "model_module_version": "1.2.0",
     "model_name": "LayoutModel",
     "state": {
      "_model_module": "@jupyter-widgets/base",
      "_model_module_version": "1.2.0",
      "_model_name": "LayoutModel",
      "_view_count": null,
      "_view_module": "@jupyter-widgets/base",
      "_view_module_version": "1.2.0",
      "_view_name": "LayoutView",
      "align_content": null,
      "align_items": null,
      "align_self": null,
      "border": null,
      "bottom": null,
      "display": null,
      "flex": null,
      "flex_flow": null,
      "grid_area": null,
      "grid_auto_columns": null,
      "grid_auto_flow": null,
      "grid_auto_rows": null,
      "grid_column": null,
      "grid_gap": null,
      "grid_row": null,
      "grid_template_areas": null,
      "grid_template_columns": null,
      "grid_template_rows": null,
      "height": null,
      "justify_content": null,
      "justify_items": null,
      "left": null,
      "margin": null,
      "max_height": null,
      "max_width": null,
      "min_height": null,
      "min_width": null,
      "object_fit": null,
      "object_position": null,
      "order": null,
      "overflow": null,
      "overflow_x": null,
      "overflow_y": null,
      "padding": null,
      "right": null,
      "top": null,
      "visibility": null,
      "width": null
     }
    },
    "c58ff8a227b24a5184782b4174f07352": {
     "model_module": "@jupyter-widgets/controls",
     "model_module_version": "1.5.0",
     "model_name": "HTMLModel",
     "state": {
      "_dom_classes": [],
      "_model_module": "@jupyter-widgets/controls",
      "_model_module_version": "1.5.0",
      "_model_name": "HTMLModel",
      "_view_count": null,
      "_view_module": "@jupyter-widgets/controls",
      "_view_module_version": "1.5.0",
      "_view_name": "HTMLView",
      "description": "",
      "description_tooltip": null,
      "layout": "IPY_MODEL_605c62bf21494495afc6775c4b3e6577",
      "placeholder": "​",
      "style": "IPY_MODEL_6a571cb9b9dd431599cd47298bd612e6",
      "value": "Render HTML: 100%"
     }
    },
    "cd3acf83126b40f49e5ad8e6aded81ed": {
     "model_module": "@jupyter-widgets/controls",
     "model_module_version": "1.5.0",
     "model_name": "HBoxModel",
     "state": {
      "_dom_classes": [],
      "_model_module": "@jupyter-widgets/controls",
      "_model_module_version": "1.5.0",
      "_model_name": "HBoxModel",
      "_view_count": null,
      "_view_module": "@jupyter-widgets/controls",
      "_view_module_version": "1.5.0",
      "_view_name": "HBoxView",
      "box_style": "",
      "children": [
       "IPY_MODEL_c58ff8a227b24a5184782b4174f07352",
       "IPY_MODEL_efa18516cbcc44f199fa7660e84f7255",
       "IPY_MODEL_227f696b99504931a84410bb8482409f"
      ],
      "layout": "IPY_MODEL_722457895136400081672115542058e8"
     }
    },
    "e097936e09204b26bf18be0213fcb3eb": {
     "model_module": "@jupyter-widgets/base",
     "model_module_version": "1.2.0",
     "model_name": "LayoutModel",
     "state": {
      "_model_module": "@jupyter-widgets/base",
      "_model_module_version": "1.2.0",
      "_model_name": "LayoutModel",
      "_view_count": null,
      "_view_module": "@jupyter-widgets/base",
      "_view_module_version": "1.2.0",
      "_view_name": "LayoutView",
      "align_content": null,
      "align_items": null,
      "align_self": null,
      "border": null,
      "bottom": null,
      "display": null,
      "flex": null,
      "flex_flow": null,
      "grid_area": null,
      "grid_auto_columns": null,
      "grid_auto_flow": null,
      "grid_auto_rows": null,
      "grid_column": null,
      "grid_gap": null,
      "grid_row": null,
      "grid_template_areas": null,
      "grid_template_columns": null,
      "grid_template_rows": null,
      "height": null,
      "justify_content": null,
      "justify_items": null,
      "left": null,
      "margin": null,
      "max_height": null,
      "max_width": null,
      "min_height": null,
      "min_width": null,
      "object_fit": null,
      "object_position": null,
      "order": null,
      "overflow": null,
      "overflow_x": null,
      "overflow_y": null,
      "padding": null,
      "right": null,
      "top": null,
      "visibility": null,
      "width": null
     }
    },
    "e0d0ff9c1e8a49d794454f549a40ddd3": {
     "model_module": "@jupyter-widgets/controls",
     "model_module_version": "1.5.0",
     "model_name": "HTMLModel",
     "state": {
      "_dom_classes": [],
      "_model_module": "@jupyter-widgets/controls",
      "_model_module_version": "1.5.0",
      "_model_name": "HTMLModel",
      "_view_count": null,
      "_view_module": "@jupyter-widgets/controls",
      "_view_module_version": "1.5.0",
      "_view_name": "HTMLView",
      "description": "",
      "description_tooltip": null,
      "layout": "IPY_MODEL_7365d366675b429c8031d82fd850b335",
      "placeholder": "​",
      "style": "IPY_MODEL_0273442766e24af2bd6da23ef2661bd9",
      "value": "Summarize dataset: 100%"
     }
    },
    "ea86d98baf904fba80dd3e30219151ef": {
     "model_module": "@jupyter-widgets/controls",
     "model_module_version": "1.5.0",
     "model_name": "HBoxModel",
     "state": {
      "_dom_classes": [],
      "_model_module": "@jupyter-widgets/controls",
      "_model_module_version": "1.5.0",
      "_model_name": "HBoxModel",
      "_view_count": null,
      "_view_module": "@jupyter-widgets/controls",
      "_view_module_version": "1.5.0",
      "_view_name": "HBoxView",
      "box_style": "",
      "children": [
       "IPY_MODEL_e0d0ff9c1e8a49d794454f549a40ddd3",
       "IPY_MODEL_7b514dc2c50047a3bdd6ba5357780e28",
       "IPY_MODEL_b309f9acca3c487aaecc55926aa59b4a"
      ],
      "layout": "IPY_MODEL_854614735c2c43be83683e34cdb9c0d0"
     }
    },
    "efa18516cbcc44f199fa7660e84f7255": {
     "model_module": "@jupyter-widgets/controls",
     "model_module_version": "1.5.0",
     "model_name": "FloatProgressModel",
     "state": {
      "_dom_classes": [],
      "_model_module": "@jupyter-widgets/controls",
      "_model_module_version": "1.5.0",
      "_model_name": "FloatProgressModel",
      "_view_count": null,
      "_view_module": "@jupyter-widgets/controls",
      "_view_module_version": "1.5.0",
      "_view_name": "ProgressView",
      "bar_style": "success",
      "description": "",
      "description_tooltip": null,
      "layout": "IPY_MODEL_beaf00b86e334556bad5f2b2ca7e3975",
      "max": 1,
      "min": 0,
      "orientation": "horizontal",
      "style": "IPY_MODEL_b363070f247c43f4b56aa221ec0102b6",
      "value": 1
     }
    },
    "f2ebcb1262e7440583ee889544e8755e": {
     "model_module": "@jupyter-widgets/controls",
     "model_module_version": "1.5.0",
     "model_name": "DescriptionStyleModel",
     "state": {
      "_model_module": "@jupyter-widgets/controls",
      "_model_module_version": "1.5.0",
      "_model_name": "DescriptionStyleModel",
      "_view_count": null,
      "_view_module": "@jupyter-widgets/base",
      "_view_module_version": "1.2.0",
      "_view_name": "StyleView",
      "description_width": ""
     }
    },
    "f73adcbb76e540fd889bcc74d6baf534": {
     "model_module": "@jupyter-widgets/controls",
     "model_module_version": "1.5.0",
     "model_name": "HBoxModel",
     "state": {
      "_dom_classes": [],
      "_model_module": "@jupyter-widgets/controls",
      "_model_module_version": "1.5.0",
      "_model_name": "HBoxModel",
      "_view_count": null,
      "_view_module": "@jupyter-widgets/controls",
      "_view_module_version": "1.5.0",
      "_view_name": "HBoxView",
      "box_style": "",
      "children": [
       "IPY_MODEL_49042fc2067f4945b97e2955d20b33e8",
       "IPY_MODEL_14c6db37398a46d5a1282ce1f0ffd1bf",
       "IPY_MODEL_312dd0f73a094147a03c8c88553a01e0"
      ],
      "layout": "IPY_MODEL_0f91da20def84887b8a78704a512b7f1"
     }
    }
   }
  }
 },
 "nbformat": 4,
 "nbformat_minor": 1
}
