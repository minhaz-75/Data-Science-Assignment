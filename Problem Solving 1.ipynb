{
 "cells": [
  {
   "cell_type": "raw",
   "id": "041d4987",
   "metadata": {},
   "source": [
    "# Q1: Take values of the length & breadth of a rectangle from user input and check if it is square or not."
   ]
  },
  {
   "cell_type": "code",
   "execution_count": 2,
   "id": "30974f20",
   "metadata": {},
   "outputs": [
    {
     "name": "stdout",
     "output_type": "stream",
     "text": [
      "Enter the length of the rectangle: 78\n",
      "Enter the breadth of the rectangle:78\n",
      "It is a Square.\n"
     ]
    }
   ],
   "source": [
    "def is_square(length, breadth):\n",
    "    return length == breadth\n",
    "\n",
    "def main():\n",
    "    length = float(input(\"Enter the length of the rectangle: \"))\n",
    "    breadth = float(input(\"Enter the breadth of the rectangle:\"))\n",
    "    \n",
    "    if is_square(length, breadth):\n",
    "        print(\"It is a Square.\")\n",
    "    else:\n",
    "        print(\"It is not a Square\")\n",
    "        \n",
    "if __name__== '__main__':\n",
    "    main()"
   ]
  },
  {
   "cell_type": "raw",
   "id": "782bd177",
   "metadata": {},
   "source": [
    "Q2: Take three integer values from the user and print the greatest among them."
   ]
  },
  {
   "cell_type": "code",
   "execution_count": 3,
   "id": "f5ce196b",
   "metadata": {},
   "outputs": [
    {
     "name": "stdout",
     "output_type": "stream",
     "text": [
      "Enter the first number: 56\n",
      "Enter the second number: 78\n",
      "Enter the 3rd number: 32\n",
      "The greater number is: 78\n"
     ]
    }
   ],
   "source": [
    "x = int(input(\"Enter the first number: \"))\n",
    "y = int(input('Enter the second number: '))\n",
    "z = int(input('Enter the 3rd number: '))\n",
    "\n",
    "if x > y and x > z:\n",
    "    print('The greater number is:', x)\n",
    "elif y > z and y > x:\n",
    "    print('The greater number is:', y)\n",
    "else:\n",
    "    print('The greater number is:', z)"
   ]
  },
  {
   "cell_type": "raw",
   "id": "aa3d0b31",
   "metadata": {},
   "source": [
    "Q3: A student will not be allowed to sit in an exam if his/her attendance is less than 75%."
   ]
  },
  {
   "cell_type": "code",
   "execution_count": 4,
   "id": "a79d0baa",
   "metadata": {},
   "outputs": [
    {
     "name": "stdout",
     "output_type": "stream",
     "text": [
      "Enter the Student's attendance percentage:90\n",
      "The student is allowed to sit in the examination\n"
     ]
    }
   ],
   "source": [
    "def check_attendance(attendance_percentage):\n",
    "    if attendance_percentage >= 75:\n",
    "        return True\n",
    "    else:\n",
    "        return False\n",
    "\n",
    "def main():\n",
    "    try:\n",
    "        attendance_percentage = float(input(\"Enter the Student's attendance percentage:\"))\n",
    "        if attendance_percentage < 0 or attendance_percentage > 100:\n",
    "            print('Invalid Input. Please enter a valid attendace between 0 to 100')\n",
    "            return\n",
    "        if check_attendance(attendance_percentage):\n",
    "            print(\"The student is allowed to sit in the examination\")\n",
    "        else:\n",
    "            print(\"The student is not allowed to sit int the examination\")\n",
    "    except ValueError:\n",
    "        print(\"Invalid Input. Please enter a valid attendance percentage.\")\n",
    "\n",
    "if __name__ == main():\n",
    "    main()"
   ]
  },
  {
   "cell_type": "raw",
   "id": "a01e0859",
   "metadata": {},
   "source": [
    "Q4: A school has the following rules for the grading system:\n",
    "Below 25 – F, 25 to 44 – E, 45 to 49 – D, 50 to 59 – C, 60 to 79 – B, 80 to 89 - A, Above 90 - A+\n",
    "Now, Ask the user to enter marks and print the corresponding grade."
   ]
  },
  {
   "cell_type": "code",
   "execution_count": 5,
   "id": "cc20b272",
   "metadata": {},
   "outputs": [
    {
     "name": "stdout",
     "output_type": "stream",
     "text": [
      "Enter the marks:91\n",
      "The grade is: A+\n"
     ]
    }
   ],
   "source": [
    "def get_grade(marks):\n",
    "    if marks < 25:\n",
    "        return 'F'\n",
    "    elif marks < 45:\n",
    "        return 'E'\n",
    "    elif marks < 50:\n",
    "        return 'D'\n",
    "    elif marks < 60:\n",
    "        return 'C'\n",
    "    elif marks < 80:\n",
    "        return 'B'\n",
    "    elif marks < 90:\n",
    "        return 'A'\n",
    "    else:\n",
    "        return 'A+'\n",
    "\n",
    "def main():\n",
    "    try:\n",
    "        marks = int(input('Enter the marks:'))\n",
    "\n",
    "        if marks < 0 or marks > 100:\n",
    "            print('Invalid input. Pleas enter the input between 0 to 100.')\n",
    "            return\n",
    "        grade = get_grade(marks)\n",
    "        print('The grade is:', grade)\n",
    "\n",
    "    except ValueError:\n",
    "        print('Invalid Input. Please enter the valid numerical marks')\n",
    "\n",
    "if __name__ == main():\n",
    "    main()"
   ]
  },
  {
   "cell_type": "raw",
   "id": "2d63ac50",
   "metadata": {},
   "source": [
    "Q5: Print the following pattern using for and while loop.\n",
    "1 2 3 4 5 6 7\n",
    "1 2 3 4 5 6\n",
    "1 2 3 4 5\n",
    "1 2 3 4"
   ]
  },
  {
   "cell_type": "raw",
   "id": "c2c875db",
   "metadata": {},
   "source": [
    "for loop:"
   ]
  },
  {
   "cell_type": "code",
   "execution_count": 7,
   "id": "fa499bdf",
   "metadata": {},
   "outputs": [
    {
     "name": "stdout",
     "output_type": "stream",
     "text": [
      "1 2 3 4 5 6 7 \n",
      "1 2 3 4 5 6 \n",
      "1 2 3 4 5 \n",
      "1 2 3 4 \n",
      "1 2 3 \n",
      "1 2 \n",
      "1 \n"
     ]
    }
   ],
   "source": [
    "def print_pattern(n):\n",
    "    for i in range(n,0,-1):\n",
    "        for j in range(1,i+1):\n",
    "            print(j, end=' ')\n",
    "        print()\n",
    "        \n",
    "def main():\n",
    "    n = 7\n",
    "    print_pattern(n)\n",
    "\n",
    "if __name__== main():\n",
    "    main()"
   ]
  },
  {
   "cell_type": "raw",
   "id": "da52cc77",
   "metadata": {},
   "source": [
    "while loop:"
   ]
  },
  {
   "cell_type": "code",
   "execution_count": 10,
   "id": "de60672b",
   "metadata": {},
   "outputs": [
    {
     "name": "stdout",
     "output_type": "stream",
     "text": [
      "1 2 3 4 5 6 7 \n",
      "1 2 3 4 5 6 \n",
      "1 2 3 4 5 \n",
      "1 2 3 4 \n",
      "1 2 3 \n",
      "1 2 \n",
      "1 \n"
     ]
    }
   ],
   "source": [
    "def print_pattern(n):\n",
    "                  \n",
    "    i = n\n",
    "                  \n",
    "    while i > 0:\n",
    "        j = 1\n",
    "        while j <= i:\n",
    "                  print(j, end=' ')\n",
    "                  j += 1\n",
    "        print()\n",
    "        i -= 1\n",
    "def main():\n",
    "    n = 7\n",
    "    print_pattern(n)\n",
    "\n",
    "if __name__== main():\n",
    "    main()\n",
    "        "
   ]
  },
  {
   "cell_type": "raw",
   "id": "b55d8ac0",
   "metadata": {},
   "source": [
    "Q6: Display numbers from -100 to -10 using for loop."
   ]
  },
  {
   "cell_type": "code",
   "execution_count": 11,
   "id": "a22e42dd",
   "metadata": {},
   "outputs": [
    {
     "name": "stdout",
     "output_type": "stream",
     "text": [
      "-100 -99 -98 -97 -96 -95 -94 -93 -92 -91 -90 -89 -88 -87 -86 -85 -84 -83 -82 -81 -80 -79 -78 -77 -76 -75 -74 -73 -72 -71 -70 -69 -68 -67 -66 -65 -64 -63 -62 -61 -60 -59 -58 -57 -56 -55 -54 -53 -52 -51 -50 -49 -48 -47 -46 -45 -44 -43 -42 -41 -40 -39 -38 -37 -36 -35 -34 -33 -32 -31 -30 -29 -28 -27 -26 -25 -24 -23 -22 -21 -20 -19 -18 -17 -16 -15 -14 -13 -12 -11 -10 "
     ]
    }
   ],
   "source": [
    "for numbers in range(-100, -9):\n",
    "    print(numbers, end=' ')"
   ]
  },
  {
   "cell_type": "raw",
   "id": "ab1ffa0d",
   "metadata": {},
   "source": [
    "Q7: Write a program to sum all prime numbers within a range of 10 to 1000."
   ]
  },
  {
   "cell_type": "code",
   "execution_count": 12,
   "id": "fa971e61",
   "metadata": {},
   "outputs": [
    {
     "name": "stdout",
     "output_type": "stream",
     "text": [
      "Sum of prime numbers between 10 and 1000 is: 76110\n"
     ]
    }
   ],
   "source": [
    "def is_prime(num):\n",
    "    if num < 2:\n",
    "        return False\n",
    "    for i in range(2, num):\n",
    "        if num % i == 0:\n",
    "            return False\n",
    "    return True\n",
    "\n",
    "def sum_primes(start, end):\n",
    "    prime_sum = 0\n",
    "    for num in range(start, end + 1):\n",
    "        if is_prime(num):\n",
    "            prime_sum += num\n",
    "    return prime_sum\n",
    "\n",
    "def main():\n",
    "    start_range = 10\n",
    "    end_range = 1000\n",
    "\n",
    "    total_sum = sum_primes(start_range, end_range)\n",
    "    print(\"Sum of prime numbers between\", start_range, \"and\", end_range, \"is:\", total_sum)\n",
    "\n",
    "if __name__ == \"__main__\":\n",
    "    main()\n",
    "\n"
   ]
  },
  {
   "cell_type": "raw",
   "id": "474ae226",
   "metadata": {},
   "source": [
    "Q8: Find the factorial of an n! (Hint, n=7: 7*6*5*4*3*2*1)."
   ]
  },
  {
   "cell_type": "code",
   "execution_count": 13,
   "id": "ff07f260",
   "metadata": {},
   "outputs": [
    {
     "name": "stdout",
     "output_type": "stream",
     "text": [
      "The factorial of 7 is: 5040\n"
     ]
    }
   ],
   "source": [
    "def factorial(n):\n",
    "    result = 1\n",
    "    for i in range(1, n + 1):\n",
    "        result *= i\n",
    "    return result\n",
    "\n",
    "n = 7\n",
    "factorial_of_n = factorial(n)\n",
    "print(f\"The factorial of {n} is: {factorial_of_n}\")\n"
   ]
  },
  {
   "cell_type": "raw",
   "id": "687ce179",
   "metadata": {},
   "source": [
    "Q9: Reverse a given integer number 27956240710."
   ]
  },
  {
   "cell_type": "code",
   "execution_count": 14,
   "id": "104ffdce",
   "metadata": {},
   "outputs": [
    {
     "name": "stdout",
     "output_type": "stream",
     "text": [
      "Reversed number: 01704265972\n"
     ]
    }
   ],
   "source": [
    "def reverse_integer(number):\n",
    "    reversed_str = str(number)[::-1]\n",
    "    return reversed_str\n",
    "\n",
    "given_number = 27956240710\n",
    "reversed_number = reverse_integer(given_number)\n",
    "print(\"Reversed number:\", reversed_number)\n"
   ]
  },
  {
   "cell_type": "raw",
   "id": "c646d915",
   "metadata": {},
   "source": [
    "Q10: Print the following pattern using for and while loop.\n",
    "# # #\n",
    "# # # #\n",
    "# # #\n",
    "# #"
   ]
  },
  {
   "cell_type": "raw",
   "id": "fbd3f043",
   "metadata": {},
   "source": [
    "foo loop:"
   ]
  },
  {
   "cell_type": "code",
   "execution_count": 4,
   "id": "5cdc2e37",
   "metadata": {},
   "outputs": [
    {
     "name": "stdout",
     "output_type": "stream",
     "text": [
      "* \n",
      "* * \n",
      "* * \n",
      "* \n"
     ]
    }
   ],
   "source": [
    "\n"
   ]
  },
  {
   "cell_type": "raw",
   "id": "9f0e2ad5",
   "metadata": {},
   "source": [
    "while loop:"
   ]
  },
  {
   "cell_type": "code",
   "execution_count": null,
   "id": "1f612098",
   "metadata": {},
   "outputs": [],
   "source": []
  },
  {
   "cell_type": "raw",
   "id": "da9c2f6c",
   "metadata": {},
   "source": [
    "Q11: Display the Fibonacci series of 15 elements using the for and while loop."
   ]
  },
  {
   "cell_type": "raw",
   "id": "823b2a6e",
   "metadata": {},
   "source": [
    "for loop:"
   ]
  },
  {
   "cell_type": "code",
   "execution_count": 2,
   "id": "9acec2e0",
   "metadata": {},
   "outputs": [
    {
     "name": "stdout",
     "output_type": "stream",
     "text": [
      "[0, 1, 1, 2, 3, 5, 8, 13, 21, 34, 55, 89, 144, 233, 377]\n"
     ]
    }
   ],
   "source": [
    "fibonacci_series = [0, 1]\n",
    "\n",
    "for i in range(2, 15):\n",
    "    next_number = fibonacci_series[-1] + fibonacci_series[-2]\n",
    "    fibonacci_series.append(next_number)\n",
    "\n",
    "print(fibonacci_series)\n"
   ]
  },
  {
   "cell_type": "raw",
   "id": "0e7a086c",
   "metadata": {},
   "source": [
    "while loop:"
   ]
  },
  {
   "cell_type": "code",
   "execution_count": 3,
   "id": "a0c371e2",
   "metadata": {},
   "outputs": [
    {
     "name": "stdout",
     "output_type": "stream",
     "text": [
      "[0, 1, 1, 2, 3, 5, 8, 13, 21, 34, 55, 89, 144, 233, 377]\n"
     ]
    }
   ],
   "source": [
    "fibonacci_series = [0, 1]\n",
    "\n",
    "while len(fibonacci_series) < 15:\n",
    "    next_number = fibonacci_series[-1] + fibonacci_series[-2]\n",
    "    fibonacci_series.append(next_number)\n",
    "\n",
    "print(fibonacci_series)"
   ]
  },
  {
   "cell_type": "markdown",
   "id": "405da673",
   "metadata": {},
   "source": [
    "# Python Inbuilt Data Structure"
   ]
  },
  {
   "cell_type": "raw",
   "id": "6efd1f93",
   "metadata": {},
   "source": [
    "Q12: Remove 2 and add 3 to the list and replace True with False.\n",
    "Li = [1,3,5, [2,3], True]\n",
    "Output = [1,3,5, [3,3], False]"
   ]
  },
  {
   "cell_type": "code",
   "execution_count": 4,
   "id": "83ba865d",
   "metadata": {},
   "outputs": [
    {
     "name": "stdout",
     "output_type": "stream",
     "text": [
      "[1, 3, 5, [3, 3], False]\n"
     ]
    }
   ],
   "source": [
    "Li = [1, 3, 5, [2, 3], True]\n",
    "\n",
    "Li[3][0] = 3\n",
    "\n",
    "Li[-1] = False\n",
    "\n",
    "print(Li)\n"
   ]
  },
  {
   "cell_type": "raw",
   "id": "35b4e3c2",
   "metadata": {},
   "source": [
    "Q13: Find the intersection (common) of two sets.\n",
    "S1 = {1,4,6,8}\n",
    "S2 = {True, 1,2,10}"
   ]
  },
  {
   "cell_type": "code",
   "execution_count": 5,
   "id": "41a17827",
   "metadata": {},
   "outputs": [
    {
     "name": "stdout",
     "output_type": "stream",
     "text": [
      "{True}\n"
     ]
    }
   ],
   "source": [
    "S1 = {1, 4, 6, 8}\n",
    "S2 = {True, 1, 2, 10}\n",
    "\n",
    "intersection_set = S1.intersection(S2)\n",
    "print(intersection_set)\n",
    "\n"
   ]
  },
  {
   "cell_type": "raw",
   "id": "a7f0b173",
   "metadata": {},
   "source": [
    "Q14: Input a list from the user then Remove duplicates from a list and create a set and find the max\n",
    "number. User_input = [1,9,3,4,5,200,54]"
   ]
  },
  {
   "cell_type": "code",
   "execution_count": 6,
   "id": "6c67aa09",
   "metadata": {},
   "outputs": [
    {
     "name": "stdout",
     "output_type": "stream",
     "text": [
      "Enter a list of numbers separated by spaces: 1 2 2 33 44 55 67 67 89 90 10\n",
      "List with duplicates removed: {1, 2, 33, 67, 10, 44, 55, 89, 90}\n",
      "Maximum number: 90\n"
     ]
    }
   ],
   "source": [
    "\n",
    "user_input_str = input(\"Enter a list of numbers separated by spaces: \")\n",
    "\n",
    "# Convert the input string to a list of integers\n",
    "user_input_list = [int(num) for num in user_input_str.split()]\n",
    "\n",
    "# Remove duplicates by converting the list to a set\n",
    "unique_set = set(user_input_list)\n",
    "\n",
    "max_number = max(unique_set)\n",
    "\n",
    "print(\"List with duplicates removed:\", unique_set)\n",
    "print(\"Maximum number:\", max_number)\n"
   ]
  },
  {
   "cell_type": "raw",
   "id": "a8a55e18",
   "metadata": {},
   "source": [
    "Q15: Rename the key of a dictionary.\n",
    "Dict = { \"name\": \"Shakil\", \"age\":27, \"city\": “Berlin”, \"country\": \"Germany\" }\n",
    "Write a program to rename a key ‘country’ to a ‘region’ in the following dictionary."
   ]
  },
  {
   "cell_type": "code",
   "execution_count": 7,
   "id": "cda01f87",
   "metadata": {},
   "outputs": [
    {
     "name": "stdout",
     "output_type": "stream",
     "text": [
      "{'name': 'Shakil', 'age': 27, 'city': 'Berlin', 'region': 'Germany'}\n"
     ]
    }
   ],
   "source": [
    "def rename_key(dictionary, old_key, new_key):\n",
    "    if old_key in dictionary:\n",
    "        dictionary[new_key] = dictionary.pop(old_key)\n",
    "\n",
    "Dict = {\"name\": \"Shakil\", \"age\": 27, \"city\": \"Berlin\", \"country\": \"Germany\"}\n",
    "\n",
    "\n",
    "rename_key(Dict, 'country', 'region')\n",
    "\n",
    "print(Dict)\n"
   ]
  },
  {
   "cell_type": "raw",
   "id": "82fb157b",
   "metadata": {},
   "source": [
    "Q16: Creating a data frame using the list.\n",
    "num = [10,100,300] (column name is number)"
   ]
  },
  {
   "cell_type": "code",
   "execution_count": 3,
   "id": "d8153a04",
   "metadata": {},
   "outputs": [
    {
     "name": "stdout",
     "output_type": "stream",
     "text": [
      "Requirement already satisfied: pandas in c:\\users\\hp\\appdata\\local\\programs\\python\\python311\\lib\\site-packages (2.0.3)\n",
      "Requirement already satisfied: python-dateutil>=2.8.2 in c:\\users\\hp\\appdata\\local\\programs\\python\\python311\\lib\\site-packages (from pandas) (2.8.2)\n",
      "Requirement already satisfied: pytz>=2020.1 in c:\\users\\hp\\appdata\\local\\programs\\python\\python311\\lib\\site-packages (from pandas) (2023.3)\n",
      "Requirement already satisfied: tzdata>=2022.1 in c:\\users\\hp\\appdata\\local\\programs\\python\\python311\\lib\\site-packages (from pandas) (2023.3)\n",
      "Requirement already satisfied: numpy>=1.21.0 in c:\\users\\hp\\appdata\\local\\programs\\python\\python311\\lib\\site-packages (from pandas) (1.24.1)\n",
      "Requirement already satisfied: six>=1.5 in c:\\users\\hp\\appdata\\local\\programs\\python\\python311\\lib\\site-packages (from python-dateutil>=2.8.2->pandas) (1.16.0)\n"
     ]
    },
    {
     "name": "stderr",
     "output_type": "stream",
     "text": [
      "\n",
      "[notice] A new release of pip is available: 23.2 -> 23.2.1\n",
      "[notice] To update, run: python.exe -m pip install --upgrade pip\n"
     ]
    }
   ],
   "source": [
    "!pip install pandas"
   ]
  },
  {
   "cell_type": "code",
   "execution_count": 2,
   "id": "2415233b",
   "metadata": {},
   "outputs": [
    {
     "name": "stdout",
     "output_type": "stream",
     "text": [
      "   number\n",
      "0      10\n",
      "1     100\n",
      "2     300\n"
     ]
    }
   ],
   "source": [
    "import pandas as pd\n",
    "\n",
    "num = [10, 100, 300]\n",
    "df = pd.DataFrame({'number': num})\n",
    "\n",
    "print(df)\n"
   ]
  },
  {
   "cell_type": "raw",
   "id": "00229c2f",
   "metadata": {},
   "source": [
    "Q17: Change the value of a key in a given dictionary.\n",
    "Write a Python program to change ‘age’ to 28 in the following dictionary.\n",
    "Dict = { \"name\": \"Shakil\", \"age\":27, \"city\": “Berlin”, \"country\": \"Germany\" }"
   ]
  },
  {
   "cell_type": "code",
   "execution_count": 15,
   "id": "808c72ae",
   "metadata": {},
   "outputs": [
    {
     "name": "stdout",
     "output_type": "stream",
     "text": [
      "{'name': 'Shakil', 'age': 28, 'city': 'Berlin', 'country': 'Germany'}\n"
     ]
    }
   ],
   "source": [
    "Dict = {\"name\": \"Shakil\", \"age\": 27, \"city\": \"Berlin\", \"country\": \"Germany\"}\n",
    "\n",
    "Dict['age'] = 28\n",
    "print(Dict)\n"
   ]
  },
  {
   "cell_type": "code",
   "execution_count": null,
   "id": "1de38292",
   "metadata": {},
   "outputs": [],
   "source": []
  }
 ],
 "metadata": {
  "kernelspec": {
   "display_name": "Python 3 (ipykernel)",
   "language": "python",
   "name": "python3"
  },
  "language_info": {
   "codemirror_mode": {
    "name": "ipython",
    "version": 3
   },
   "file_extension": ".py",
   "mimetype": "text/x-python",
   "name": "python",
   "nbconvert_exporter": "python",
   "pygments_lexer": "ipython3",
   "version": "3.11.1"
  }
 },
 "nbformat": 4,
 "nbformat_minor": 5
}
